{
 "cells": [
  {
   "cell_type": "code",
   "execution_count": 3,
   "id": "2c126174-c858-4715-8af5-c16b1302b728",
   "metadata": {},
   "outputs": [
    {
     "data": {
      "text/plain": [
       "99"
      ]
     },
     "execution_count": 3,
     "metadata": {},
     "output_type": "execute_result"
    }
   ],
   "source": [
    "n = [10, 20, 4, 45, 99]\n",
    "maxi=0\n",
    "for i in n:\n",
    "    if i >maxi:\n",
    "        maxi=i\n",
    "maxi"
   ]
  },
  {
   "cell_type": "code",
   "execution_count": 4,
   "id": "c2b0eb1e-8562-42e6-9069-7dae87e00532",
   "metadata": {},
   "outputs": [
    {
     "data": {
      "text/plain": [
       "100"
      ]
     },
     "execution_count": 4,
     "metadata": {},
     "output_type": "execute_result"
    }
   ],
   "source": [
    "n = [10, 20, 30, 40]\n",
    "sum=0\n",
    "for i in n:\n",
    "    sum+=i\n",
    "sum"
   ]
  },
  {
   "cell_type": "code",
   "execution_count": 6,
   "id": "1d23b63e-76e9-4048-907e-ab8ef491dc10",
   "metadata": {},
   "outputs": [
    {
     "data": {
      "text/plain": [
       "[5, 4, 3, 2, 1]"
      ]
     },
     "execution_count": 6,
     "metadata": {},
     "output_type": "execute_result"
    }
   ],
   "source": [
    "n = [1, 2, 3, 4, 5]\n",
    "li=[]\n",
    "for i in range(len(n)-1,-1,-1):\n",
    "    li.append(n[i])\n",
    "li"
   ]
  },
  {
   "cell_type": "code",
   "execution_count": 7,
   "id": "21f556c0-a623-4e2e-9562-be46bac56df1",
   "metadata": {},
   "outputs": [
    {
     "data": {
      "text/plain": [
       "[5, 4, 3, 2, 1]"
      ]
     },
     "execution_count": 7,
     "metadata": {},
     "output_type": "execute_result"
    }
   ],
   "source": [
    "n = [1, 2, 3, 4, 5]\n",
    "for i in range(0,len(n)):\n",
    "    for j in range(i+1,len(n)):\n",
    "        if n[i]<n[j]:\n",
    "            n[i],n[j]=n[j],n[i]\n",
    "n"
   ]
  },
  {
   "cell_type": "code",
   "execution_count": 8,
   "id": "3a9f9ccb-3a92-49e1-9593-ecc14388100d",
   "metadata": {},
   "outputs": [
    {
     "name": "stdout",
     "output_type": "stream",
     "text": [
      "['A', 'c', 'e', 'C', 'r', 'e', 'I', 'm']\n"
     ]
    }
   ],
   "source": [
    "s = \"IceCreAm\"\n",
    "s=list(s)\n",
    "vowel=\"aeiouAEIOU\"\n",
    "i=0\n",
    "j=len(s)-1\n",
    "while i<j:\n",
    "    if s[i] not in vowel:\n",
    "        i+=1\n",
    "    elif s[j] not in vowel:\n",
    "        j-=1\n",
    "    elif s[i] in vowel and s[j] in vowel:\n",
    "        s[i],s[j]=s[j],s[i]\n",
    "        i+=1\n",
    "        j-=1\n",
    "print(s)"
   ]
  },
  {
   "cell_type": "code",
   "execution_count": 9,
   "id": "7940d434-9686-4386-add7-e213242d8024",
   "metadata": {},
   "outputs": [
    {
     "data": {
      "text/plain": [
       "[1, 3, 12, 0, 0]"
      ]
     },
     "execution_count": 9,
     "metadata": {},
     "output_type": "execute_result"
    }
   ],
   "source": [
    "nums = [0,1,0,3,12]\n",
    "i=0\n",
    "for j in range(0,len(nums)):\n",
    "    if nums[j]!=0:\n",
    "        nums[i],nums[j]=nums[j],nums[i]\n",
    "        i+=1\n",
    "nums"
   ]
  },
  {
   "cell_type": "code",
   "execution_count": 10,
   "id": "b9973343-cd4d-487a-b7ee-febb23fe7050",
   "metadata": {},
   "outputs": [
    {
     "name": "stdout",
     "output_type": "stream",
     "text": [
      "2\n"
     ]
    }
   ],
   "source": [
    "nums = [3,0,1]\n",
    "for i in range(0,len(nums)+1):\n",
    "    if i not in nums:\n",
    "        print(i)"
   ]
  },
  {
   "cell_type": "code",
   "execution_count": 11,
   "id": "fc2d7af8-15f2-42be-9dc2-7bf150a7a3e8",
   "metadata": {},
   "outputs": [
    {
     "name": "stdout",
     "output_type": "stream",
     "text": [
      "true\n"
     ]
    }
   ],
   "source": [
    "s = \"anagram\"\n",
    "t = \"nagaram\"\n",
    "di={}\n",
    "di1={}\n",
    "for i in s:\n",
    "    if i not in di:\n",
    "        di[i]=1\n",
    "    else:\n",
    "        di[i]=di[i]+1\n",
    "for j in t:\n",
    "    if j not in di1:\n",
    "        di1[j]=1\n",
    "    else:\n",
    "        di1[j]=di1[j]+1\n",
    "if di==di1:\n",
    "    print(\"true\")\n",
    "else:\n",
    "    print(\"false\")"
   ]
  },
  {
   "cell_type": "code",
   "execution_count": 12,
   "id": "a95aef99-cb4c-476c-9c1d-fd39e889c3aa",
   "metadata": {},
   "outputs": [
    {
     "data": {
      "text/plain": [
       "[5, 6, 7, 1, 2, 3, 4]"
      ]
     },
     "execution_count": 12,
     "metadata": {},
     "output_type": "execute_result"
    }
   ],
   "source": [
    "nums = [1,2,3,4,5,6,7]\n",
    "k = 3\n",
    "size1=len(nums)\n",
    "k=k%size1\n",
    "myarr=[0]*size1\n",
    "for i in range(0,len(nums)):\n",
    "    pos=(i+k)%size1\n",
    "    myarr[pos]=nums[i]\n",
    "nums[:]=myarr\n",
    "nums"
   ]
  },
  {
   "cell_type": "code",
   "execution_count": 13,
   "id": "ee94531d-fd9f-4641-bf1e-28d13d15cb30",
   "metadata": {},
   "outputs": [
    {
     "data": {
      "text/plain": [
       "5"
      ]
     },
     "execution_count": 13,
     "metadata": {},
     "output_type": "execute_result"
    }
   ],
   "source": [
    "prices = [7,1,5,3,6,4]\n",
    "buy=0\n",
    "sell=1\n",
    "maxi=0\n",
    "days=len(prices)\n",
    "while sell<days:\n",
    "    if prices[buy]<prices[sell]:\n",
    "        profit=prices[sell]-prices[buy]\n",
    "        if profit>maxi:\n",
    "            maxi=profit\n",
    "    else:\n",
    "        buy=sell\n",
    "    sell+=1\n",
    "maxi"
   ]
  },
  {
   "cell_type": "code",
   "execution_count": 14,
   "id": "8552ee09-1732-4a2d-ba48-4e0e4cac0d3d",
   "metadata": {},
   "outputs": [
    {
     "data": {
      "text/plain": [
       "[[], [1], [2], [1, 2], [3], [1, 3], [2, 3], [1, 2, 3]]"
      ]
     },
     "execution_count": 14,
     "metadata": {},
     "output_type": "execute_result"
    }
   ],
   "source": [
    "li=[1,2,3]\n",
    "li1=[[]]\n",
    "for i in li:\n",
    "    li1+=[j+[i] for j in li1]\n",
    "li1"
   ]
  },
  {
   "cell_type": "code",
   "execution_count": null,
   "id": "87ef15c8-adee-47fa-8d32-4cea44e44e95",
   "metadata": {},
   "outputs": [],
   "source": [
    "num = 3749\n",
    "di={ 1000:\"M\",900:\"CM\",500:\"D\",400:\"CD\",100:\"C\",90:\"XC\",50:\"L\",40:\"XL\",10:\"X\",   9:\"IX\",5:\"V\",4:\"IV\",1:\"I\"}\n",
    "so=''\n",
    "for i in di:\n",
    "    while num>="
   ]
  }
 ],
 "metadata": {
  "kernelspec": {
   "display_name": "Python 3 (ipykernel)",
   "language": "python",
   "name": "python3"
  },
  "language_info": {
   "codemirror_mode": {
    "name": "ipython",
    "version": 3
   },
   "file_extension": ".py",
   "mimetype": "text/x-python",
   "name": "python",
   "nbconvert_exporter": "python",
   "pygments_lexer": "ipython3",
   "version": "3.11.7"
  }
 },
 "nbformat": 4,
 "nbformat_minor": 5
}
