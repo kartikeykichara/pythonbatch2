{
 "cells": [
  {
   "cell_type": "code",
   "execution_count": 3,
   "id": "be4eb455-102a-46e4-9375-83398fb08755",
   "metadata": {},
   "outputs": [
    {
     "name": "stdout",
     "output_type": "stream",
     "text": [
      "medical record for rohan.\n",
      "medical record for rohan.\n",
      "medical history for rohan:['2024: flu', '2024: blood']\n"
     ]
    }
   ],
   "source": [
    "#health care system\n",
    "# problem.Develop a system for managing patient records in a hospital where:\n",
    "# Patient details(name , age ,medical history)should be private.\n",
    "# only authorized methods can retieve or update medical history\n",
    "class patient:\n",
    "    def __init__(self,name,age):\n",
    "        self.__name=name\n",
    "        self.__age=age\n",
    "        self.__medical_history=[]\n",
    "    def medical_record(self,record):\n",
    "        self.__medical_history.append(record)\n",
    "        return f\"medical record for {self.__name}.\"\n",
    "    def get_medical_history(self):\n",
    "        return f\"medical history for {self.__name}:{self.__medical_history}\"\n",
    "pati=patient(\"rohan\",30)\n",
    "print(pati.medical_record(\"2024: flu\"))\n",
    "print(pati.medical_record(\"2024: blood\"))\n",
    "print(pati.get_medical_history())"
   ]
  },
  {
   "cell_type": "code",
   "execution_count": 7,
   "id": "66b98c27-cf96-4c3b-b83b-6a5f934d13ae",
   "metadata": {},
   "outputs": [
    {
     "name": "stdout",
     "output_type": "stream",
     "text": [
      "score added for math:54\n",
      "score added for science:45\n",
      "scores for sam:[{'subject': 'math', 'score': 54}, {'subject': 'science', 'score': 45}]\n",
      " average score:49.50\n"
     ]
    }
   ],
   "source": [
    "# problem: create a system for online examinations where:\n",
    "# student scores are private and cannot be accessed directly.\n",
    "# scores can only be added or retrieved using specific methods\n",
    "# implement a feature to calculate the AVERAGE score of the student\n",
    "class Exam:\n",
    "    def __init__(self,student_name):\n",
    "        self.__student_name=student_name\n",
    "        self.__scores=[]\n",
    "    def add_score(self,subject,score):\n",
    "        if 0<= score<=100:\n",
    "            self.__scores.append({\"subject\":subject,\"score\":score})\n",
    "            return f\"score added for {subject}:{score}\"\n",
    "        return \"invalid score! must be between 0 and 100.\"\n",
    "    def get_scores(self):\n",
    "        return f\"scores for {self.__student_name}:{self.__scores}\"\n",
    "    def calculate_average(self):\n",
    "        if not self.__scores:\n",
    "            return \"no scores available\"\n",
    "        total = sum(item[\"score\"]for item in self.__scores)\n",
    "        return f\" average score:{total/len(self.__scores):.2f}\"\n",
    "exam=Exam(\"sam\")\n",
    "print(exam.add_score(\"math\",54))\n",
    "print(exam.add_score(\"science\",45))\n",
    "print(exam.get_scores())\n",
    "print(exam.calculate_average())"
   ]
  },
  {
   "cell_type": "markdown",
   "id": "65f405b4-8d2b-49f1-9b5d-dc997ffc1b62",
   "metadata": {},
   "source": [
    "inheritance in oops\n",
    "inheritance is a fundamental concept in oops that allows a class(child class) to inherit a attributes and methods from another class  (parent class) and this promotes code reusuability and modularity\n",
    "<!-- key benefits of inheritance -->\n",
    "1. code reusability=> the child class can reuse the code in the parent class\n",
    "2. extensibility= the child class can add or modify functionalites of the parent class\n",
    "3. heirarchical structure=> relationships between classes are more organised\n",
    "<!-- type of in heritance -->\n",
    "1.single inheritance=> a child class inherits from one parent class\n",
    "2.multiple inheritance=> a child class inherits from two or more parent classes\n",
    "3.multilevele inheritance=> a child class inherits from a parent class  and a parent class also inheerits from another parent class\n"
   ]
  },
  {
   "cell_type": "code",
   "execution_count": 8,
   "id": "31872710-16e2-4834-9387-29e13470e51f",
   "metadata": {},
   "outputs": [
    {
     "name": "stdout",
     "output_type": "stream",
     "text": [
      "engine started\n",
      "wheels are rotating.\n",
      "Car is driving\n"
     ]
    }
   ],
   "source": [
    "# example=> multiple imheritance\n",
    "class Engine:\n",
    "    def start_engine(self):\n",
    "        print(\"engine started\")\n",
    "class Wheels:\n",
    "    def rotate_wheels(self):\n",
    "        print(\"wheels are rotating.\")\n",
    "class Car(Engine,Wheels):\n",
    "    def drive(self):\n",
    "        print(\"Car is driving\")\n",
    "myCar=Car()\n",
    "myCar.start_engine()\n",
    "myCar.rotate_wheels()\n",
    "myCar.drive()"
   ]
  },
  {
   "cell_type": "code",
   "execution_count": 9,
   "id": "dc32bafe-6746-4a10-be91-c18fe0425a5e",
   "metadata": {},
   "outputs": [
    {
     "name": "stdout",
     "output_type": "stream",
     "text": [
      "Animal isaeating\n",
      "Dog is barking\n",
      "Puppy is weeping\n"
     ]
    }
   ],
   "source": [
    "#multilevel inheritance example\n",
    "class Animal:\n",
    "    def eat(self):\n",
    "        print(\"Animal isaeating\")\n",
    "class Dog(Animal):\n",
    "    def bark(self):\n",
    "        print(\"Dog is barking\")\n",
    "class Puppy(Dog):\n",
    "    def weep(self):\n",
    "        print(\"Puppy is weeping\")\n",
    "puppy=Puppy()\n",
    "puppy.eat()\n",
    "puppy.bark()\n",
    "puppy.weep()"
   ]
  },
  {
   "cell_type": "code",
   "execution_count": 3,
   "id": "37e7afd4-c21a-4595-a217-38ba3eb7025c",
   "metadata": {},
   "outputs": [
    {
     "data": {
      "text/plain": [
       "'kk : 68515456 :iphone :500000'"
      ]
     },
     "execution_count": 3,
     "metadata": {},
     "output_type": "execute_result"
    }
   ],
   "source": [
    "# # e commerce order manager\n",
    "# customer class(with name and contact details)\n",
    "# prduct class(with name and price)\n",
    "# order class(that inherits customer and product to manage customer orders)\n",
    "class Customer:\n",
    "    def customer(self,name,contact):\n",
    "        self.name=name\n",
    "        self.contact=contact\n",
    "    # def display_details(self):\n",
    "    #     print(f\" {self.name}: {self.contact}\")\n",
    "class Product(Customer):\n",
    "    def product(self,product,price):\n",
    "        self.product=product\n",
    "        self.price=price\n",
    "class Order(Product,Customer):\n",
    "    def order(self):\n",
    "        return f\"{self.name} : {self.contact} :{self.product} :{self.price}\"\n",
    "cust=Order()\n",
    "cust.customer(\"kk\",68515456)\n",
    "cust.product(\"iphone\",500000)\n",
    "cust.order()"
   ]
  },
  {
   "cell_type": "code",
   "execution_count": null,
   "id": "96ee74d0-0e63-4fbf-a6e0-443bdbb21026",
   "metadata": {},
   "outputs": [],
   "source": [
    "\n"
   ]
  },
  {
   "cell_type": "code",
   "execution_count": null,
   "id": "0f502873-2c2c-4484-8018-6f8c0ce16455",
   "metadata": {},
   "outputs": [],
   "source": []
  },
  {
   "cell_type": "code",
   "execution_count": 42,
   "id": "1dfb306b-76a5-4b84-aeda-3d23bd6aabce",
   "metadata": {},
   "outputs": [
    {
     "name": "stdout",
     "output_type": "stream",
     "text": [
      "Vehicle is start\n",
      "ac is on\n",
      "battery not fully \n"
     ]
    }
   ],
   "source": [
    "class Vehicle:\n",
    "  def vehicle(self,speed,fuel):\n",
    "    self.speed = speed\n",
    "    self.fuel = fuel\n",
    "\n",
    "  def start(self):\n",
    "    return \"Vehicle is start\"\n",
    "  def stop(self):\n",
    "    return \"Vehicle is stop\"    \n",
    "\n",
    "class Car(Vehicle):\n",
    "  def __init__(self,air_conditioning=False):\n",
    "    self.air_conditioning=air_conditioning\n",
    "\n",
    "  def ac_on(self):\n",
    "      self.air_conditioning==True\n",
    "      return \"ac is on\"\n",
    "  def ac_off(self):\n",
    "    self.air_conditioning== False\n",
    "    return \"ac is off\"\n",
    "     \n",
    "\n",
    "class Electric_Car(Car):\n",
    "  def Electric_Car(self,battery=70):\n",
    "    self.battery=battery\n",
    "\n",
    "    if battery==100:\n",
    "      return \"battery is fully\"\n",
    "    elif battery<100:\n",
    "        return \"battery not fully \"\n",
    "\n",
    "car1=Electric_Car()\n",
    "print(car1.start())\n",
    "print(car1.ac_on())\n",
    "print(car1.Electric_Car())"
   ]
  },
  {
   "cell_type": "code",
   "execution_count": null,
   "id": "33e306b1-d1a7-4895-96a5-5faaa7043e9c",
   "metadata": {},
   "outputs": [],
   "source": []
  }
 ],
 "metadata": {
  "kernelspec": {
   "display_name": "Python 3 (ipykernel)",
   "language": "python",
   "name": "python3"
  },
  "language_info": {
   "codemirror_mode": {
    "name": "ipython",
    "version": 3
   },
   "file_extension": ".py",
   "mimetype": "text/x-python",
   "name": "python",
   "nbconvert_exporter": "python",
   "pygments_lexer": "ipython3",
   "version": "3.11.7"
  }
 },
 "nbformat": 4,
 "nbformat_minor": 5
}
