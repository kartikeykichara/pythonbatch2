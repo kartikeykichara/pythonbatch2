{
 "cells": [
  {
   "cell_type": "code",
   "execution_count": 12,
   "id": "2f20ccb8-d848-4fb5-83ab-cec2e514f4f6",
   "metadata": {},
   "outputs": [
    {
     "data": {
      "text/plain": [
       "23"
      ]
     },
     "execution_count": 12,
     "metadata": {},
     "output_type": "execute_result"
    }
   ],
   "source": [
    "s=\"aaAbCbccbdd\"\n",
    "c=set(s)\n",
    "count+=1\n",
    "for i in c:\n",
    "    if i.islower():\n",
    "        if i.upper() in c:\n",
    "            count+=1\n",
    "count"
   ]
  },
  {
   "cell_type": "code",
   "execution_count": 15,
   "id": "0bd1d789-2563-4463-94cc-7c9e6a4b9f06",
   "metadata": {},
   "outputs": [
    {
     "data": {
      "text/plain": [
       "2"
      ]
     },
     "execution_count": 15,
     "metadata": {},
     "output_type": "execute_result"
    }
   ],
   "source": [
    "s=\"aaAbCbccbdd\"\n",
    "c=set(s)\n",
    "count=0\n",
    "for i in c:\n",
    "    if i.islower():\n",
    "        if i.upper() in c:\n",
    "            count+=1\n",
    "count"
   ]
  },
  {
   "cell_type": "code",
   "execution_count": 24,
   "id": "a7ab4119-7178-4666-b6b9-f45f931b4a1a",
   "metadata": {},
   "outputs": [
    {
     "data": {
      "text/plain": [
       "'bad'"
      ]
     },
     "execution_count": 24,
     "metadata": {},
     "output_type": "execute_result"
    }
   ],
   "source": [
    "s = \"babad\"\n",
    "r=\"\"\n",
    "for i in s:\n",
    "    if i not in r:\n",
    "        r+=i\n",
    "r"
   ]
  },
  {
   "cell_type": "code",
   "execution_count": 20,
   "id": "7ba6ba1c-e418-40c9-aca0-869c9e7da79a",
   "metadata": {},
   "outputs": [
    {
     "name": "stdout",
     "output_type": "stream",
     "text": [
      "true\n"
     ]
    }
   ],
   "source": [
    "s = \"A man, a plan, a canal: Panama\"\n",
    "s=s.lower()\n",
    "res=''\n",
    "for i in s:\n",
    "    if i.isalnum():\n",
    "        res+=i\n",
    "if res==res[::-1]:\n",
    "    print(\"true\")\n",
    "else:\n",
    "    print(\"false\")"
   ]
  },
  {
   "cell_type": "code",
   "execution_count": 8,
   "id": "4d839a62-eed9-4a96-8f11-f7c7891126b8",
   "metadata": {},
   "outputs": [
    {
     "data": {
      "text/plain": [
       "2216"
      ]
     },
     "execution_count": 8,
     "metadata": {},
     "output_type": "execute_result"
    }
   ],
   "source": [
    "a=\"MCMXCIV\"\n",
    "mydic={\"I\":1,\"IV\":4,\"V\":5,\"IX\":9,\"X\":10,\"L\":50,\"XC\":90,\"C\":100,\"D\":500,\"CM\":900,\"M\":1000}\n",
    "num=0\n",
    "for i in a:\n",
    "    if i in mydic:\n",
    "        num=num+mydic[i]\n",
    "num\n",
    "    "
   ]
  },
  {
   "cell_type": "code",
   "execution_count": null,
   "id": "d194d533-f77d-4fb1-bfc4-f9b2e5a4b65f",
   "metadata": {},
   "outputs": [],
   "source": []
  }
 ],
 "metadata": {
  "kernelspec": {
   "display_name": "Python [conda env:base] *",
   "language": "python",
   "name": "conda-base-py"
  },
  "language_info": {
   "codemirror_mode": {
    "name": "ipython",
    "version": 3
   },
   "file_extension": ".py",
   "mimetype": "text/x-python",
   "name": "python",
   "nbconvert_exporter": "python",
   "pygments_lexer": "ipython3",
   "version": "3.13.5"
  }
 },
 "nbformat": 4,
 "nbformat_minor": 5
}
