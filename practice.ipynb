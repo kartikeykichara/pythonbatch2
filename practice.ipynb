{
 "cells": [
  {
   "cell_type": "code",
   "execution_count": 23,
   "id": "b8646200-cfbe-4de9-9b18-dd2e4268a8ad",
   "metadata": {},
   "outputs": [],
   "source": [
    "a={\n",
    "    \"Student_Id\" :[1,2,3,4,5,6,7,8,9,10],\n",
    "    \"Student_Name\" :[\"Ajay\",\"Rohan\",\"Sohan\",\"Raju\",\"Kartikey\",\"Arpit\",\"Ashish\",\"Mohit\",\"Anshul\",\"Abhay\"],\n",
    "    \"Roll_No\" :[21,22,23,24,25,26,27,28,29,30],\n",
    "    \"Section\" :[\"A\",\"A\",\"B\",\"B\",\"C\",\"D\",\"E\",\"D\",\"E\",\"C\"],\n",
    "    \"Batch\":[\"A1\",\"A1\",\"A2\",\"A2\",\"A3\",\"A1\",\"A2\",\"A4\",\"A4\",\"A3\"],\n",
    "    \"Domain\" :[\"AWS\",\"PYTHON DJANGO\",\"AWS\",\"DATA SCIENCE\",\"DATA ENGINEERING \",\"JAVA FULL STACK\",\"DATA SCIENCE\",\"DATA ENGINEERING\",\"DATA ANALYST\",\"C++\"]\n",
    "}"
   ]
  },
  {
   "cell_type": "code",
   "execution_count": 24,
   "id": "7db92de6-def4-4805-90e8-2bb602872752",
   "metadata": {},
   "outputs": [
    {
     "data": {
      "text/plain": [
       "dict"
      ]
     },
     "execution_count": 24,
     "metadata": {},
     "output_type": "execute_result"
    }
   ],
   "source": [
    "type(a)"
   ]
  },
  {
   "cell_type": "code",
   "execution_count": 25,
   "id": "41fd9f91-a362-49ca-bc87-762af60d73d1",
   "metadata": {},
   "outputs": [],
   "source": [
    "import pandas as pd"
   ]
  },
  {
   "cell_type": "code",
   "execution_count": 26,
   "id": "f2f6234f-20eb-4391-8721-14052cdb34c6",
   "metadata": {},
   "outputs": [
    {
     "data": {
      "text/html": [
       "<div>\n",
       "<style scoped>\n",
       "    .dataframe tbody tr th:only-of-type {\n",
       "        vertical-align: middle;\n",
       "    }\n",
       "\n",
       "    .dataframe tbody tr th {\n",
       "        vertical-align: top;\n",
       "    }\n",
       "\n",
       "    .dataframe thead th {\n",
       "        text-align: right;\n",
       "    }\n",
       "</style>\n",
       "<table border=\"1\" class=\"dataframe\">\n",
       "  <thead>\n",
       "    <tr style=\"text-align: right;\">\n",
       "      <th></th>\n",
       "      <th>Student_Id</th>\n",
       "      <th>Student_Name</th>\n",
       "      <th>Roll_No</th>\n",
       "      <th>Section</th>\n",
       "      <th>Batch</th>\n",
       "      <th>Domain</th>\n",
       "    </tr>\n",
       "  </thead>\n",
       "  <tbody>\n",
       "    <tr>\n",
       "      <th>0</th>\n",
       "      <td>1</td>\n",
       "      <td>Ajay</td>\n",
       "      <td>21</td>\n",
       "      <td>A</td>\n",
       "      <td>A1</td>\n",
       "      <td>AWS</td>\n",
       "    </tr>\n",
       "    <tr>\n",
       "      <th>1</th>\n",
       "      <td>2</td>\n",
       "      <td>Rohan</td>\n",
       "      <td>22</td>\n",
       "      <td>A</td>\n",
       "      <td>A1</td>\n",
       "      <td>PYTHON DJANGO</td>\n",
       "    </tr>\n",
       "    <tr>\n",
       "      <th>2</th>\n",
       "      <td>3</td>\n",
       "      <td>Sohan</td>\n",
       "      <td>23</td>\n",
       "      <td>B</td>\n",
       "      <td>A2</td>\n",
       "      <td>AWS</td>\n",
       "    </tr>\n",
       "    <tr>\n",
       "      <th>3</th>\n",
       "      <td>4</td>\n",
       "      <td>Raju</td>\n",
       "      <td>24</td>\n",
       "      <td>B</td>\n",
       "      <td>A2</td>\n",
       "      <td>DATA SCIENCE</td>\n",
       "    </tr>\n",
       "    <tr>\n",
       "      <th>4</th>\n",
       "      <td>5</td>\n",
       "      <td>Kartikey</td>\n",
       "      <td>25</td>\n",
       "      <td>C</td>\n",
       "      <td>A3</td>\n",
       "      <td>DATA ENGINEERING</td>\n",
       "    </tr>\n",
       "    <tr>\n",
       "      <th>5</th>\n",
       "      <td>6</td>\n",
       "      <td>Arpit</td>\n",
       "      <td>26</td>\n",
       "      <td>D</td>\n",
       "      <td>A1</td>\n",
       "      <td>JAVA FULL STACK</td>\n",
       "    </tr>\n",
       "    <tr>\n",
       "      <th>6</th>\n",
       "      <td>7</td>\n",
       "      <td>Ashish</td>\n",
       "      <td>27</td>\n",
       "      <td>E</td>\n",
       "      <td>A2</td>\n",
       "      <td>DATA SCIENCE</td>\n",
       "    </tr>\n",
       "    <tr>\n",
       "      <th>7</th>\n",
       "      <td>8</td>\n",
       "      <td>Mohit</td>\n",
       "      <td>28</td>\n",
       "      <td>D</td>\n",
       "      <td>A4</td>\n",
       "      <td>DATA ENGINEERING</td>\n",
       "    </tr>\n",
       "    <tr>\n",
       "      <th>8</th>\n",
       "      <td>9</td>\n",
       "      <td>Anshul</td>\n",
       "      <td>29</td>\n",
       "      <td>E</td>\n",
       "      <td>A4</td>\n",
       "      <td>DATA ANALYST</td>\n",
       "    </tr>\n",
       "    <tr>\n",
       "      <th>9</th>\n",
       "      <td>10</td>\n",
       "      <td>Abhay</td>\n",
       "      <td>30</td>\n",
       "      <td>C</td>\n",
       "      <td>A3</td>\n",
       "      <td>C++</td>\n",
       "    </tr>\n",
       "  </tbody>\n",
       "</table>\n",
       "</div>"
      ],
      "text/plain": [
       "   Student_Id Student_Name  Roll_No Section Batch             Domain\n",
       "0           1         Ajay       21       A    A1                AWS\n",
       "1           2        Rohan       22       A    A1      PYTHON DJANGO\n",
       "2           3        Sohan       23       B    A2                AWS\n",
       "3           4         Raju       24       B    A2       DATA SCIENCE\n",
       "4           5     Kartikey       25       C    A3  DATA ENGINEERING \n",
       "5           6        Arpit       26       D    A1    JAVA FULL STACK\n",
       "6           7       Ashish       27       E    A2       DATA SCIENCE\n",
       "7           8        Mohit       28       D    A4   DATA ENGINEERING\n",
       "8           9       Anshul       29       E    A4       DATA ANALYST\n",
       "9          10        Abhay       30       C    A3                C++"
      ]
     },
     "execution_count": 26,
     "metadata": {},
     "output_type": "execute_result"
    }
   ],
   "source": [
    "df= pd.DataFrame(a)\n",
    "df"
   ]
  },
  {
   "cell_type": "code",
   "execution_count": 8,
   "id": "ddeea8a8-4bf7-4312-8fc9-1008895fb5a7",
   "metadata": {},
   "outputs": [],
   "source": []
  },
  {
   "cell_type": "code",
   "execution_count": 27,
   "id": "50a5cf3b-9404-4776-94ed-8356ffae4636",
   "metadata": {},
   "outputs": [],
   "source": [
    "df.to_csv(\"C:\\\\Users\\\\anski\\\\Desktop\\\\kartikey_kichara\\\\student_data.csv\",index=False)"
   ]
  },
  {
   "cell_type": "code",
   "execution_count": 30,
   "id": "9351e1d5-2acc-456a-8bd8-25078546be04",
   "metadata": {},
   "outputs": [],
   "source": [
    "import pandas as pd"
   ]
  },
  {
   "cell_type": "code",
   "execution_count": 32,
   "id": "97771160-37a4-4254-9fba-f3bb120e0dc0",
   "metadata": {},
   "outputs": [
    {
     "data": {
      "text/html": [
       "<div>\n",
       "<style scoped>\n",
       "    .dataframe tbody tr th:only-of-type {\n",
       "        vertical-align: middle;\n",
       "    }\n",
       "\n",
       "    .dataframe tbody tr th {\n",
       "        vertical-align: top;\n",
       "    }\n",
       "\n",
       "    .dataframe thead th {\n",
       "        text-align: right;\n",
       "    }\n",
       "</style>\n",
       "<table border=\"1\" class=\"dataframe\">\n",
       "  <thead>\n",
       "    <tr style=\"text-align: right;\">\n",
       "      <th></th>\n",
       "      <th>Student_Id</th>\n",
       "      <th>Student_Name</th>\n",
       "      <th>Roll_No</th>\n",
       "      <th>Section</th>\n",
       "      <th>Batch</th>\n",
       "      <th>Domain</th>\n",
       "    </tr>\n",
       "  </thead>\n",
       "  <tbody>\n",
       "    <tr>\n",
       "      <th>0</th>\n",
       "      <td>1</td>\n",
       "      <td>Ajay</td>\n",
       "      <td>21</td>\n",
       "      <td>A</td>\n",
       "      <td>A1</td>\n",
       "      <td>AWS</td>\n",
       "    </tr>\n",
       "    <tr>\n",
       "      <th>1</th>\n",
       "      <td>2</td>\n",
       "      <td>Rohan</td>\n",
       "      <td>22</td>\n",
       "      <td>A</td>\n",
       "      <td>A1</td>\n",
       "      <td>PYTHON DJANGO</td>\n",
       "    </tr>\n",
       "    <tr>\n",
       "      <th>2</th>\n",
       "      <td>3</td>\n",
       "      <td>Sohan</td>\n",
       "      <td>23</td>\n",
       "      <td>B</td>\n",
       "      <td>A2</td>\n",
       "      <td>AWS</td>\n",
       "    </tr>\n",
       "    <tr>\n",
       "      <th>3</th>\n",
       "      <td>4</td>\n",
       "      <td>Raju</td>\n",
       "      <td>24</td>\n",
       "      <td>B</td>\n",
       "      <td>A2</td>\n",
       "      <td>DATA SCIENCE</td>\n",
       "    </tr>\n",
       "    <tr>\n",
       "      <th>4</th>\n",
       "      <td>5</td>\n",
       "      <td>Kartikey</td>\n",
       "      <td>25</td>\n",
       "      <td>C</td>\n",
       "      <td>A3</td>\n",
       "      <td>DATA ENGINEERING</td>\n",
       "    </tr>\n",
       "    <tr>\n",
       "      <th>5</th>\n",
       "      <td>6</td>\n",
       "      <td>Arpit</td>\n",
       "      <td>26</td>\n",
       "      <td>D</td>\n",
       "      <td>A1</td>\n",
       "      <td>JAVA FULL STACK</td>\n",
       "    </tr>\n",
       "    <tr>\n",
       "      <th>6</th>\n",
       "      <td>7</td>\n",
       "      <td>Ashish</td>\n",
       "      <td>27</td>\n",
       "      <td>E</td>\n",
       "      <td>A2</td>\n",
       "      <td>DATA SCIENCE</td>\n",
       "    </tr>\n",
       "    <tr>\n",
       "      <th>7</th>\n",
       "      <td>8</td>\n",
       "      <td>Mohit</td>\n",
       "      <td>28</td>\n",
       "      <td>D</td>\n",
       "      <td>A4</td>\n",
       "      <td>DATA ENGINEERING</td>\n",
       "    </tr>\n",
       "    <tr>\n",
       "      <th>8</th>\n",
       "      <td>9</td>\n",
       "      <td>Anshul</td>\n",
       "      <td>29</td>\n",
       "      <td>E</td>\n",
       "      <td>A4</td>\n",
       "      <td>DATA ANALYST</td>\n",
       "    </tr>\n",
       "    <tr>\n",
       "      <th>9</th>\n",
       "      <td>10</td>\n",
       "      <td>Abhay</td>\n",
       "      <td>30</td>\n",
       "      <td>C</td>\n",
       "      <td>A3</td>\n",
       "      <td>C++</td>\n",
       "    </tr>\n",
       "  </tbody>\n",
       "</table>\n",
       "</div>"
      ],
      "text/plain": [
       "   Student_Id Student_Name  Roll_No Section Batch             Domain\n",
       "0           1         Ajay       21       A    A1                AWS\n",
       "1           2        Rohan       22       A    A1      PYTHON DJANGO\n",
       "2           3        Sohan       23       B    A2                AWS\n",
       "3           4         Raju       24       B    A2       DATA SCIENCE\n",
       "4           5     Kartikey       25       C    A3  DATA ENGINEERING \n",
       "5           6        Arpit       26       D    A1    JAVA FULL STACK\n",
       "6           7       Ashish       27       E    A2       DATA SCIENCE\n",
       "7           8        Mohit       28       D    A4   DATA ENGINEERING\n",
       "8           9       Anshul       29       E    A4       DATA ANALYST\n",
       "9          10        Abhay       30       C    A3                C++"
      ]
     },
     "execution_count": 32,
     "metadata": {},
     "output_type": "execute_result"
    }
   ],
   "source": [
    "df2= pd.read_csv(\"C:\\\\Users\\\\anski\\\\Desktop\\\\kartikey_kichara\\\\student_data.csv\")\n",
    "df2"
   ]
  },
  {
   "cell_type": "code",
   "execution_count": 2,
   "id": "761d70d7-7920-4fca-a8df-b39683ccabea",
   "metadata": {},
   "outputs": [],
   "source": [
    "a=[1,24,6]"
   ]
  },
  {
   "cell_type": "code",
   "execution_count": 3,
   "id": "5622a117-4fc2-46aa-875f-5bbda92255b7",
   "metadata": {},
   "outputs": [
    {
     "data": {
      "text/plain": [
       "list"
      ]
     },
     "execution_count": 3,
     "metadata": {},
     "output_type": "execute_result"
    }
   ],
   "source": [
    "type(a)"
   ]
  },
  {
   "cell_type": "code",
   "execution_count": 4,
   "id": "7d77c853-b618-44e9-afbf-044bf52a6902",
   "metadata": {},
   "outputs": [],
   "source": [
    "import numpy as np"
   ]
  },
  {
   "cell_type": "code",
   "execution_count": 5,
   "id": "41e74c8b-578d-4f66-8507-268e5a5ef6ca",
   "metadata": {},
   "outputs": [],
   "source": [
    "a=[12,2,3]\n"
   ]
  },
  {
   "cell_type": "code",
   "execution_count": 6,
   "id": "0c0cff4f-ba72-492d-a618-03862251ac9a",
   "metadata": {},
   "outputs": [
    {
     "data": {
      "text/plain": [
       "array([12,  2,  3])"
      ]
     },
     "execution_count": 6,
     "metadata": {},
     "output_type": "execute_result"
    }
   ],
   "source": [
    "arr=np.array(a)\n",
    "arr"
   ]
  },
  {
   "cell_type": "code",
   "execution_count": 8,
   "id": "294e92ca-ba7d-4d14-a890-0a0ef01e4d29",
   "metadata": {},
   "outputs": [
    {
     "data": {
      "text/plain": [
       "array([[1, 2, 3],\n",
       "       [4, 5, 6],\n",
       "       [7, 8, 9]])"
      ]
     },
     "execution_count": 8,
     "metadata": {},
     "output_type": "execute_result"
    }
   ],
   "source": [
    "a=[[1,2,3],[4,5,6],[7,8,9]]\n",
    "b=np.array(a)\n",
    "b"
   ]
  },
  {
   "cell_type": "code",
   "execution_count": 11,
   "id": "de0c3d27-f72b-4267-a411-9285fe71036e",
   "metadata": {},
   "outputs": [
    {
     "name": "stdout",
     "output_type": "stream",
     "text": [
      "total rows and column (3, 3)\n",
      "total element 9\n",
      "dimension of the array 2\n"
     ]
    }
   ],
   "source": [
    "print(\"total rows and column\",b.shape)\n",
    "print(\"total element\", b.size)\n",
    "print(\"dimension of the array\",b.ndim)"
   ]
  },
  {
   "cell_type": "code",
   "execution_count": 12,
   "id": "96cac893-a0eb-426f-a71a-1c4002b2c3e6",
   "metadata": {},
   "outputs": [
    {
     "name": "stdin",
     "output_type": "stream",
     "text": [
      "enter the size 3\n",
      "enter the value 45\n",
      "enter the value 52\n",
      "enter the value 12\n"
     ]
    },
    {
     "data": {
      "text/plain": [
       "array([45, 52, 12])"
      ]
     },
     "execution_count": 12,
     "metadata": {},
     "output_type": "execute_result"
    }
   ],
   "source": [
    "a=[]\n",
    "size=int(input(\"enter the size\"))\n",
    "for i in range(size):\n",
    "    val=int(input(\"enter the value\"))\n",
    "    a.append(val)\n",
    "b=np.array(a)\n",
    "b"
   ]
  },
  {
   "cell_type": "code",
   "execution_count": null,
   "id": "28d40bee-8451-4fb3-96a8-600f3f0f07ba",
   "metadata": {},
   "outputs": [],
   "source": []
  }
 ],
 "metadata": {
  "kernelspec": {
   "display_name": "Python 3 (ipykernel)",
   "language": "python",
   "name": "python3"
  },
  "language_info": {
   "codemirror_mode": {
    "name": "ipython",
    "version": 3
   },
   "file_extension": ".py",
   "mimetype": "text/x-python",
   "name": "python",
   "nbconvert_exporter": "python",
   "pygments_lexer": "ipython3",
   "version": "3.11.7"
  }
 },
 "nbformat": 4,
 "nbformat_minor": 5
}
