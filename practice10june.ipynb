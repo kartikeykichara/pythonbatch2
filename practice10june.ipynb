{
 "cells": [
  {
   "cell_type": "code",
   "execution_count": 5,
   "id": "eeba56da-b786-48db-8eca-4c311bc14b73",
   "metadata": {},
   "outputs": [
    {
     "data": {
      "text/plain": [
       "[1, 2, 3, 4, 5, 6]"
      ]
     },
     "execution_count": 5,
     "metadata": {},
     "output_type": "execute_result"
    }
   ],
   "source": [
    "li=[1, [2, 3], 4, [5, 6]]\n",
    "li1=[]\n",
    "for i in li:\n",
    "    if type(i)==list:\n",
    "        for j in i:\n",
    "            li1.append(j)\n",
    "    else:\n",
    "        li1.append(i)\n",
    "li1"
   ]
  },
  {
   "cell_type": "code",
   "execution_count": 6,
   "id": "2ef383e9-92c5-4fa4-acd2-0466dcef977e",
   "metadata": {},
   "outputs": [
    {
     "data": {
      "text/plain": [
       "4"
      ]
     },
     "execution_count": 6,
     "metadata": {},
     "output_type": "execute_result"
    }
   ],
   "source": [
    "Input=\"Interview\"\n",
    "vowels=\"AEIOUaeiou\"\n",
    "count=0\n",
    "for i in Input:\n",
    "    if i in vowels:\n",
    "        count+=1\n",
    "count"
   ]
  },
  {
   "cell_type": "code",
   "execution_count": 7,
   "id": "15295423-d278-4b73-bf01-e1693028b880",
   "metadata": {},
   "outputs": [
    {
     "name": "stdout",
     "output_type": "stream",
     "text": [
      "true\n"
     ]
    }
   ],
   "source": [
    "Input=7\n",
    "x=0\n",
    "for i in range(2,Input):\n",
    "    if Input%i==0:\n",
    "        x+=1\n",
    "\n",
    "if x==1:\n",
    "    print(\"false\")\n",
    "else:\n",
    "    print(\"true\")"
   ]
  },
  {
   "cell_type": "code",
   "execution_count": 8,
   "id": "7887cae7-cbc5-49bf-97f8-daf42968dd55",
   "metadata": {},
   "outputs": [
    {
     "name": "stdout",
     "output_type": "stream",
     "text": [
      "1 3\n",
      "2 2\n"
     ]
    }
   ],
   "source": [
    "a=[1, 3, 2, 2]\n",
    "target = 4\n",
    "for i in range(len(a)):\n",
    "    for j in range(i+1,len(a)):\n",
    "        if a[i]+a[j]==target:\n",
    "            print(a[i],a[j])"
   ]
  },
  {
   "cell_type": "code",
   "execution_count": 9,
   "id": "74d70974-0a74-4ae2-82f7-05f213e1ddef",
   "metadata": {},
   "outputs": [],
   "source": [
    " # (slicing creates a shallow copy)."
   ]
  },
  {
   "cell_type": "code",
   "execution_count": 10,
   "id": "7b5af9be-5ff6-4b73-a544-04f1be22873c",
   "metadata": {},
   "outputs": [],
   "source": [
    "# What’s the output?\n",
    "\n",
    "# python\n",
    "# t = (1, 2)\n",
    "# d = {t: 'value'}\n",
    "# t += (3,)\n",
    "# print(d[t])\n",
    "# # Answer: KeyError (tuples are immutable; t is reassigned)."
   ]
  },
  {
   "cell_type": "code",
   "execution_count": 11,
   "id": "0e43eb40-b8df-42c0-a96d-22353576bf37",
   "metadata": {},
   "outputs": [],
   "source": [
    "# Can a set contain tuples?\n",
    "\n",
    "# python\n",
    "# s = {(1, 2), (3, [4])}\n",
    "# Answer: TypeError (second tuple is unhashable"
   ]
  },
  {
   "cell_type": "code",
   "execution_count": 12,
   "id": "b487b0b3-e7ce-454b-a538-1ad06de31537",
   "metadata": {},
   "outputs": [],
   "source": [
    "# Remove duplicates while preserving order:\n",
    "\n",
    "# python\n",
    "# lst = [3, 1, 3, 2]\n",
    "# unique = list(dict.fromkeys(lst))"
   ]
  },
  {
   "cell_type": "code",
   "execution_count": 13,
   "id": "2eb78539-9d2f-4f8a-9a06-b415357ec12e",
   "metadata": {},
   "outputs": [],
   "source": [
    "# What’s the output?\n",
    "\n",
    "# python\n",
    "# lst = [1, 2]\n",
    "# lst.extend([3, 4][1:])\n",
    "# print(lst)\n",
    "# Answer: [1, 2, 4] (extend() with slice [3, 4][1:] → [4])."
   ]
  },
  {
   "cell_type": "code",
   "execution_count": 14,
   "id": "da617665-0a89-4874-a9ea-9d1c0dc29749",
   "metadata": {},
   "outputs": [],
   "source": [
    "# What’s the output?\n",
    "\n",
    "# python\n",
    "# a = [1, 2]\n",
    "# b = [a, a]\n",
    "# b[0][0] = 99\n",
    "# print(b)\n",
    "# Answer: [[99, 2], [99, 2]] (both sublists reference a)."
   ]
  },
  {
   "cell_type": "code",
   "execution_count": 15,
   "id": "4a09cd3b-1a16-46b7-9db2-939284743c83",
   "metadata": {},
   "outputs": [],
   "source": [
    "# What’s the output?\n",
    "\n",
    "# python\n",
    "# lst = [1, 2, 3]\n",
    "# print(lst is lst[:])\n",
    "# Answer: False (slicing creates a new object)."
   ]
  },
  {
   "cell_type": "code",
   "execution_count": 16,
   "id": "4d191b6a-9fca-41f5-a41a-49028ede85e8",
   "metadata": {},
   "outputs": [],
   "source": [
    "# Great question! Let's break down why this works and how Python handles this operation behind the scenes.\n",
    "\n",
    "# Why lst += (3, 4) Works with a Tuple\n",
    "# Even though tuples are immutable, the += operator (augmented assignment) behaves differently for lists than you might expect:\n",
    "\n",
    "# For Lists, += Extends the List In-Place\n",
    "# The += operator on a list is equivalent to calling .extend() on it, which:\n",
    "\n",
    "# Accepts any iterable (not just lists).\n",
    "\n",
    "# Doesn't modify the original tuple (3, 4) (tuples stay immutable).\n",
    "\n",
    "# Iterates over the tuple and appends its elements to the list.\n",
    "\n",
    "# python\n",
    "# lst = [1, 2]\n",
    "# lst += (3, 4)  # Same as lst.extend((3, 4))\n",
    "# print(lst)     # Output: [1, 2, 3, 4]\n",
    "# Key Points:\n",
    "\n",
    "# The tuple (3, 4) is not modified (immutability preserved).\n",
    "\n",
    "# The list lst is modified in-place (mutability in action).\n",
    "\n",
    "# This works because += on lists is designed to unpack iterables, not require identical types.\n",
    "\n",
    "# What Actually Happens\n",
    "# Under the hood, Python translates:\n",
    "\n",
    "# python\n",
    "# lst += (3, 4)\n",
    "# Into:\n",
    "\n",
    "# python\n",
    "# lst.extend((3, 4))\n",
    "# Which is equivalent to:\n",
    "\n",
    "# python\n",
    "# for item in (3, 4):\n",
    "#     lst.append(item)\n",
    "# Contrast with lst = lst + (3, 4)\n",
    "# If you tried this instead:\n",
    "\n",
    "# python\n",
    "# lst = [1, 2]\n",
    "# lst = lst + (3, 4)  # TypeError!\n",
    "# It would fail because the + operator requires both operands to be lists (it doesn’t auto-unpack iterables like += does).\n",
    "\n",
    "# Why This Design?\n",
    "# Flexibility: Lists are designed to be extended by any iterable (tuples, sets, strings, etc.).\n",
    "\n",
    "# Performance: += (in-place) avoids creating a new list, unlike +.\n",
    "\n",
    "# Key Takeaway\n",
    "# += on lists unpacks the iterable and modifies the list in-place.\n",
    "\n",
    "# The immutability of the tuple is irrelevant because it’s only being read, not modified.\n",
    "\n",
    "# Got more edge cases? Ask away! 🚀\n",
    "\n",
    "# New chat\n"
   ]
  },
  {
   "cell_type": "code",
   "execution_count": 17,
   "id": "fa703213-cc4c-4577-a8d4-287b118e3c78",
   "metadata": {},
   "outputs": [],
   "source": [
    "# What’s the output?\n",
    "\n",
    "# python\n",
    "# lst = [1, 2]\n",
    "# lst.append(lst)\n",
    "# print(lst)\n",
    "# Answer: [1, 2, [...]] (infinite self-reference).\n",
    "\n"
   ]
  },
  {
   "cell_type": "code",
   "execution_count": 18,
   "id": "e4a2daa5-7a79-446c-9328-720bc023405b",
   "metadata": {},
   "outputs": [],
   "source": [
    "# What’s the difference?\n",
    "\n",
    "# python\n",
    "# a = [1, 2]\n",
    "# b = a + [3]  # Line 1\n",
    "# a += [3]     # Line 2\n",
    "# A: Line 1 creates a new list; Line 2 modifies a in-place."
   ]
  },
  {
   "cell_type": "code",
   "execution_count": null,
   "id": "10029378-abf3-46d3-9128-2e0dd8fc7aaf",
   "metadata": {},
   "outputs": [],
   "source": []
  }
 ],
 "metadata": {
  "kernelspec": {
   "display_name": "Python 3 (ipykernel)",
   "language": "python",
   "name": "python3"
  },
  "language_info": {
   "codemirror_mode": {
    "name": "ipython",
    "version": 3
   },
   "file_extension": ".py",
   "mimetype": "text/x-python",
   "name": "python",
   "nbconvert_exporter": "python",
   "pygments_lexer": "ipython3",
   "version": "3.11.7"
  }
 },
 "nbformat": 4,
 "nbformat_minor": 5
}
