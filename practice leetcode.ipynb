{
 "cells": [
  {
   "cell_type": "code",
   "execution_count": 12,
   "id": "ac1aeae0-c955-4e5c-83be-ddab90aa0834",
   "metadata": {},
   "outputs": [
    {
     "data": {
      "text/plain": [
       "1476"
      ]
     },
     "execution_count": 12,
     "metadata": {},
     "output_type": "execute_result"
    }
   ],
   "source": [
    "a=\"MCDLXXVI\"\n",
    "mydic={\"M\":1000,\"CM\":900,\"D\":500,\"CD\":400,\"C\":100,\"XC\":90,\"L\":50,\"XL\":40,\"X\":10,\"IX\":9,\"V\":5,\"IV\":4,\"I\":1}\n",
    "num=0\n",
    "i=0\n",
    "while i<len(a):\n",
    "    if i+1<len(a) and a[i:i+2]in mydic:\n",
    "        num+=mydic[a[i:i+2]]\n",
    "        i+=2\n",
    "    else:\n",
    "        num+=mydic[a[i]]\n",
    "        i+=1\n",
    "num\n",
    "    "
   ]
  },
  {
   "cell_type": "code",
   "execution_count": 23,
   "id": "31a49d5a-72a0-4129-bc4b-8f4480dba0ca",
   "metadata": {},
   "outputs": [
    {
     "name": "stdout",
     "output_type": "stream",
     "text": [
      "0\n",
      "true\n"
     ]
    }
   ],
   "source": [
    "haystack = \"sadbutsad\"\n",
    "needle = \"sad\"\n",
    "if needle in haystack:\n",
    "    return(haystack.index(needle))\n",
    "else:\n",
    "    return -1"
   ]
  },
  {
   "cell_type": "code",
   "execution_count": 19,
   "id": "88135915-b9d2-4cdb-97af-15ee8382de62",
   "metadata": {},
   "outputs": [
    {
     "name": "stdout",
     "output_type": "stream",
     "text": [
      "1\n",
      "0\n"
     ]
    }
   ],
   "source": [
    "n = 13\n",
    "while n>9:\n",
    "    \n",
    "    temp=n\n",
    "    sum1=0\n",
    "    while temp>0:\n",
    "        rem=temp%10\n",
    "        sum1=sum1+rem*rem\n",
    "        temp=temp//10\n",
    "        if sum1==1:\n",
    "            print(sum1)\n",
    "            break\n",
    "        \n",
    "    n=sum1\n",
    "    if n==1:\n",
    "        print(temp)\n",
    "        break\n",
    "else:\n",
    "    print(\"false\")"
   ]
  },
  {
   "cell_type": "code",
   "execution_count": 51,
   "id": "37792bf8-b468-4f17-8c6f-e4726d7c7892",
   "metadata": {},
   "outputs": [
    {
     "name": "stdout",
     "output_type": "stream",
     "text": [
      "true\n"
     ]
    }
   ],
   "source": [
    "nums = [1,2,3,1]\n",
    "k=3\n",
    "di={}\n",
    "for i,j in enumerate(nums):\n",
    "    if j in di and abs(i-di[j])<=k:\n",
    "        print(\"true\")\n",
    "    else:\n",
    "       di[j]=i"
   ]
  },
  {
   "cell_type": "code",
   "execution_count": 56,
   "id": "53f5a540-ea12-4290-aff5-b8a48c616886",
   "metadata": {},
   "outputs": [
    {
     "name": "stdout",
     "output_type": "stream",
     "text": [
      "2\n",
      "3\n",
      "6\n",
      "9\n"
     ]
    }
   ],
   "source": [
    "n = 18\n",
    "for i in range(2,n):\n",
    "    if n%i==0:\n",
    "        print(i)\n",
    "        "
   ]
  },
  {
   "cell_type": "code",
   "execution_count": 59,
   "id": "4817120b-2c27-430a-ac5e-b054375c8959",
   "metadata": {},
   "outputs": [
    {
     "data": {
      "text/plain": [
       "[2, 3, 3]"
      ]
     },
     "execution_count": 59,
     "metadata": {},
     "output_type": "execute_result"
    }
   ],
   "source": [
    "num=18\n",
    "factors = []\n",
    "\n",
    "i = 2\n",
    "while i <= num:\n",
    "    if num % i == 0:   # if divisible\n",
    "        factors.append(i)\n",
    "        num //= i      # reduce the number\n",
    "    else:\n",
    "        i += 1\n",
    "factors"
   ]
  },
  {
   "cell_type": "code",
   "execution_count": 65,
   "id": "90633704-cce7-4598-a7bf-c900255c5cea",
   "metadata": {},
   "outputs": [
    {
     "name": "stdout",
     "output_type": "stream",
     "text": [
      "8\n",
      "9\n"
     ]
    }
   ],
   "source": [
    "nums = [9,6,4,2,3,5,7,0,1]\n",
    "for i in range(0,len(nums)+1):\n",
    "    if i not in nums:\n",
    "        print(i)\n",
    "else:\n",
    "    print(len(nums))"
   ]
  },
  {
   "cell_type": "code",
   "execution_count": 68,
   "id": "1566b8a7-76f1-44a3-9130-2c0a5938393e",
   "metadata": {},
   "outputs": [
    {
     "data": {
      "text/plain": [
       "[1, 3, 12, 0, 0]"
      ]
     },
     "execution_count": 68,
     "metadata": {},
     "output_type": "execute_result"
    }
   ],
   "source": [
    "nums = [0,1,0,3,12]\n",
    "i=0\n",
    "j=len(nums)-1\n",
    "while i<j:\n",
    "    if nums[i]==0:\n",
    "        nums.append(nums.pop(i))\n",
    "        j-=1\n",
    "    else:\n",
    "        i+=1\n",
    "nums"
   ]
  },
  {
   "cell_type": "code",
   "execution_count": 78,
   "id": "4f4c9063-3fda-4d2e-b683-3ea2c5a0044a",
   "metadata": {},
   "outputs": [
    {
     "data": {
      "text/plain": [
       "'ecICreAm'"
      ]
     },
     "execution_count": 78,
     "metadata": {},
     "output_type": "execute_result"
    }
   ],
   "source": [
    "s = \"IceCreAm\"\n",
    "vowel=\"aeiouAEIOU\"\n",
    "s=list(s)\n",
    "i=0\n",
    "j=len(nums)-1\n",
    "while i<j:\n",
    "    if s[i] not in vowel:\n",
    "        i+=1\n",
    "    elif s[j] not in vowel:\n",
    "        j-=1\n",
    "    elif s[i] in  vowel and s[j] in vowel:\n",
    "        s[i],s[j]=s[j],s[i]\n",
    "        i+=1\n",
    "        j-=1\n",
    "s=''.join(s)\n",
    "s"
   ]
  },
  {
   "cell_type": "code",
   "execution_count": 2,
   "id": "8fb5e37f-77e2-451f-8bcb-b1745b1f2e1d",
   "metadata": {},
   "outputs": [],
   "source": [
    "arr = [3,1,7,11]\n",
    "for i in arr:\n",
    "    if i*2 in arr:\n",
    "        print(\"true\")\n"
   ]
  },
  {
   "cell_type": "code",
   "execution_count": null,
   "id": "81af9fc4-2a46-4a2b-a251-d1a153948432",
   "metadata": {},
   "outputs": [],
   "source": []
  }
 ],
 "metadata": {
  "kernelspec": {
   "display_name": "Python [conda env:base] *",
   "language": "python",
   "name": "conda-base-py"
  },
  "language_info": {
   "codemirror_mode": {
    "name": "ipython",
    "version": 3
   },
   "file_extension": ".py",
   "mimetype": "text/x-python",
   "name": "python",
   "nbconvert_exporter": "python",
   "pygments_lexer": "ipython3",
   "version": "3.13.5"
  }
 },
 "nbformat": 4,
 "nbformat_minor": 5
}
