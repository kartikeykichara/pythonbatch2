{
 "cells": [
  {
   "cell_type": "code",
   "execution_count": 3,
   "id": "18e69d9c-5454-46b3-88a4-84aa43e9c9c6",
   "metadata": {},
   "outputs": [],
   "source": [
    "class BikeDesign:\n",
    "    company=\"hero\"\n",
    "    model=\"splender\""
   ]
  },
  {
   "cell_type": "code",
   "execution_count": 4,
   "id": "8a6a53c9-9f62-4f5a-8e3c-4523974a9ef9",
   "metadata": {},
   "outputs": [
    {
     "name": "stdout",
     "output_type": "stream",
     "text": [
      "hero hero\n",
      "after change bajaj hero\n"
     ]
    }
   ],
   "source": [
    "b1=BikeDesign()\n",
    "print(b1.company,BikeDesign.company)\n",
    "b1.company=\"bajaj\"\n",
    "print(\"after change\",b1.company,BikeDesign.company)"
   ]
  },
  {
   "cell_type": "code",
   "execution_count": 5,
   "id": "e955cc50-1570-48cb-a40f-d95690a4bbc0",
   "metadata": {},
   "outputs": [],
   "source": [
    "class BikeDesign:\n",
    "    company=\"hero\"\n",
    "    def __init__(self):\n",
    "        print(\"hello\")"
   ]
  },
  {
   "cell_type": "code",
   "execution_count": 9,
   "id": "5a9541d5-2e2f-41da-ac87-890bf62d8472",
   "metadata": {},
   "outputs": [
    {
     "name": "stdout",
     "output_type": "stream",
     "text": [
      "hello\n",
      "<__main__.BikeDesign object at 0x000001991A34A790>\n"
     ]
    }
   ],
   "source": [
    "b1=BikeDesign()\n",
    "print(b1)"
   ]
  },
  {
   "cell_type": "code",
   "execution_count": 22,
   "id": "c99d6a7d-5317-408d-9187-63ad1cb04e55",
   "metadata": {},
   "outputs": [],
   "source": [
    "class BikeDesign:\n",
    "    company=\"hero\"\n",
    "    def __init__(self,model):\n",
    "        self.model=model  #self.model=>instance variable and model=> local variable"
   ]
  },
  {
   "cell_type": "code",
   "execution_count": 23,
   "id": "41b13e31-bb27-4867-812a-27c368e0b41f",
   "metadata": {},
   "outputs": [
    {
     "name": "stdout",
     "output_type": "stream",
     "text": [
      "splender\n"
     ]
    }
   ],
   "source": [
    "b1=BikeDesign(\"splender\")\n",
    "print(b1.model)"
   ]
  },
  {
   "cell_type": "code",
   "execution_count": 24,
   "id": "dad72059-f176-4e93-84ce-915ba4e2c1d6",
   "metadata": {},
   "outputs": [
    {
     "name": "stdout",
     "output_type": "stream",
     "text": [
      "splender\n"
     ]
    }
   ],
   "source": [
    "b1=BikeDesign(\"splender\")\n",
    "print(b1.model)"
   ]
  },
  {
   "cell_type": "code",
   "execution_count": 28,
   "id": "ec33186b-4d86-414b-b0a4-d63af415e9e2",
   "metadata": {},
   "outputs": [],
   "source": [
    "class Student:\n",
    "    college =\"regex\" #class \n",
    "    def __init__(self,sid,sname,semail):\n",
    "        self.sid=sid\n",
    "        self.sname=sname\n",
    "        self.email=semail\n",
    "    def info(self):\n",
    "        print(\"student details \",self.sid,self.sname,self.email)\n"
   ]
  },
  {
   "cell_type": "code",
   "execution_count": 29,
   "id": "9c94a935-9e7d-45bd-a2e1-cc2cd7c6c5be",
   "metadata": {},
   "outputs": [
    {
     "name": "stdout",
     "output_type": "stream",
     "text": [
      "student details  10 rahul rahul@gmail.com\n"
     ]
    }
   ],
   "source": [
    "b1=Student(10,\"rahul\",\"rahul@gmail.com\")\n",
    "b1.info()"
   ]
  },
  {
   "cell_type": "code",
   "execution_count": 30,
   "id": "d0b9d835-b1b4-46d0-89a2-1f3dc2827a7b",
   "metadata": {},
   "outputs": [],
   "source": [
    "class Student:\n",
    "    college =\"regex\" #class \n",
    "    def __init__(self,sid,sname,semail):\n",
    "        self.sid=sid\n",
    "        self.sname=sname\n",
    "        self.email=semail\n",
    "    def info(self):\n",
    "        print(\"student details \",self.sid,self.sname,self.email)"
   ]
  },
  {
   "cell_type": "code",
   "execution_count": 36,
   "id": "db5a2ae3-d304-4165-b407-d46b8faf1028",
   "metadata": {},
   "outputs": [
    {
     "data": {
      "text/plain": [
       "'yash'"
      ]
     },
     "execution_count": 36,
     "metadata": {},
     "output_type": "execute_result"
    }
   ],
   "source": [
    "class CollegeAdmission(Student):\n",
    "    def __init__(self,subject,sid,name,email):\n",
    "        self.subject=subject\n",
    "        super().__init__(sid,name,email)\n",
    "\n",
    "c1=CollegeAdmission(19,\"yash\",\"yash@gamil.com\",\"Science\")\n",
    "c1.sid"
   ]
  },
  {
   "cell_type": "code",
   "execution_count": null,
   "id": "63815dc1-52ae-4354-ac5e-44d21c194bfa",
   "metadata": {},
   "outputs": [],
   "source": []
  }
 ],
 "metadata": {
  "kernelspec": {
   "display_name": "Python 3 (ipykernel)",
   "language": "python",
   "name": "python3"
  },
  "language_info": {
   "codemirror_mode": {
    "name": "ipython",
    "version": 3
   },
   "file_extension": ".py",
   "mimetype": "text/x-python",
   "name": "python",
   "nbconvert_exporter": "python",
   "pygments_lexer": "ipython3",
   "version": "3.11.7"
  }
 },
 "nbformat": 4,
 "nbformat_minor": 5
}
