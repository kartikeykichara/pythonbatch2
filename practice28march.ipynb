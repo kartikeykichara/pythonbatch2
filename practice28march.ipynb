{
 "cells": [
  {
   "cell_type": "code",
   "execution_count": 5,
   "id": "35cd9150-064e-490f-b4fd-a60943e1b211",
   "metadata": {},
   "outputs": [
    {
     "name": "stdout",
     "output_type": "stream",
     "text": [
      "3\n"
     ]
    }
   ],
   "source": [
    "nums = [3,2,3]\n",
    "di={}\n",
    "for i in nums:\n",
    "    if nums.count(i)>len(nums)//2 and i not in di:\n",
    "                    di[i]=1\n",
    "a=di.keys()\n",
    "a=list(di.keys())\n",
    "print(a[0])"
   ]
  },
  {
   "cell_type": "code",
   "execution_count": 7,
   "id": "55f6b4dd-0e76-44ed-ad3c-6093b1a2f88c",
   "metadata": {},
   "outputs": [
    {
     "name": "stdout",
     "output_type": "stream",
     "text": [
      "1\n"
     ]
    }
   ],
   "source": [
    "nums =[2,1]\n",
    "nums.sort(reverse=True)\n",
    "k=2\n",
    "print(nums[k-1])"
   ]
  },
  {
   "cell_type": "code",
   "execution_count": 14,
   "id": "044fab0f-8faa-4cf0-a3c0-6d8acc2af0e0",
   "metadata": {},
   "outputs": [
    {
     "name": "stdout",
     "output_type": "stream",
     "text": [
      "false\n",
      "false\n",
      "true\n",
      "false\n",
      "false\n",
      "false\n"
     ]
    }
   ],
   "source": [
    "nums = [1,2,3,1]\n",
    "k = 3\n",
    "for i in range(0,len(nums)):\n",
    "    for j in range(i+1,len(nums)):\n",
    "        if nums[i]==nums[j] and abs(i-j)<=k :\n",
    "            \n",
    "                print(\"true\")\n",
    "        else:\n",
    "                print(\"false\")\n"
   ]
  },
  {
   "cell_type": "code",
   "execution_count": 6,
   "id": "0325867d-802e-4716-97cb-d0b8301cba0d",
   "metadata": {},
   "outputs": [
    {
     "name": "stdout",
     "output_type": "stream",
     "text": [
      "false\n",
      "false\n",
      "false\n",
      "false\n",
      "false\n"
     ]
    }
   ],
   "source": [
    "nums = [1,2,3,1]\n",
    "indexDiff = 3\n",
    "valueDiff = 0\n",
    "for i in range(0,len(nums)):\n",
    "    for j in range(i+1,len(nums)):\n",
    "        if i!=j:\n",
    "            a=abs(i-j)\n",
    "            if a<indexDiff:\n",
    "                b=abs(nums[i] - nums[j])\n",
    "                if b<=valueDiff:\n",
    "                    print(\"true\")\n",
    "                else:\n",
    "                    print(\"false\")"
   ]
  },
  {
   "cell_type": "code",
   "execution_count": 8,
   "id": "a7ba4f50-fba1-4b1a-b9ce-eb0145e3e20d",
   "metadata": {},
   "outputs": [
    {
     "name": "stdout",
     "output_type": "stream",
     "text": [
      "false\n",
      "false\n",
      "false\n",
      "false\n",
      "false\n",
      "false\n",
      "false\n",
      "false\n",
      "false\n",
      "false\n",
      "false\n",
      "false\n",
      "false\n",
      "false\n",
      "false\n"
     ]
    }
   ],
   "source": [
    "nums = [1,5,9,1,5,9]\n",
    "indexDiff = 2\n",
    "valueDiff = 3\n",
    "for i in range(0,len(nums)):\n",
    "    for j in range(i+1,len(nums)):\n",
    "        if i != j and abs(i - j) <= indexDiff and abs(nums[i] - nums[j]) <= valueDiff:\n",
    "            print(\"true\")\n",
    "        else:\n",
    "                    print(\"false\")"
   ]
  },
  {
   "cell_type": "code",
   "execution_count": 10,
   "id": "ddc86524-80e4-4577-8993-635d789a781b",
   "metadata": {},
   "outputs": [
    {
     "name": "stdout",
     "output_type": "stream",
     "text": [
      "true\n"
     ]
    }
   ],
   "source": [
    "nums = [1,2,3,1]\n",
    "indexDiff = 3\n",
    "valueDiff = 0\n",
    "i=0\n",
    "j=len(nums)-1\n",
    "while i<j:\n",
    "    if i != j and abs(i - j) <= indexDiff and abs(nums[i] - nums[j]) <= valueDiff:\n",
    "        print(\"true\")\n",
    "        break\n",
    "    else:\n",
    "        print(\"false\")\n",
    "        break"
   ]
  },
  {
   "cell_type": "code",
   "execution_count": 15,
   "id": "fa1f1fd3-5e28-4eb8-8c74-bbf66eb4287a",
   "metadata": {},
   "outputs": [
    {
     "name": "stdout",
     "output_type": "stream",
     "text": [
      "8\n"
     ]
    }
   ],
   "source": [
    "nums = [9,6,4,2,3,5,7,0,1]\n",
    "for i in range(0,len(nums)):\n",
    "    if i not in nums:\n",
    "        print(i)"
   ]
  },
  {
   "cell_type": "code",
   "execution_count": 5,
   "id": "134641b7-a3ad-4bee-9952-ff09b972c07f",
   "metadata": {},
   "outputs": [
    {
     "data": {
      "text/plain": [
       "[3, 4, 5]"
      ]
     },
     "execution_count": 5,
     "metadata": {},
     "output_type": "execute_result"
    }
   ],
   "source": [
    "list1 = [1, 2, 3, 4, 5]\n",
    "list2 = [3, 4, 5, 6, 7]\n",
    "re=[]\n",
    "for i in list1:\n",
    "    for j in list2:\n",
    "        if i==j:\n",
    "            re.append(i)\n",
    "re"
   ]
  },
  {
   "cell_type": "code",
   "execution_count": 17,
   "id": "24be7942-c39c-48f3-8793-fa2abe65066b",
   "metadata": {},
   "outputs": [
    {
     "data": {
      "text/plain": [
       "'strawberry'"
      ]
     },
     "execution_count": 17,
     "metadata": {},
     "output_type": "execute_result"
    }
   ],
   "source": [
    "# 12. Find the Longest Word in a List\n",
    "words = [\"apple\", \"banana\", \"strawberry\", \"kiwi\"]\n",
    "# b. Strawberry\n",
    "di={}\n",
    "for i in words:\n",
    "    a=len(i)\n",
    "    if i not in di:\n",
    "        di[i]=a\n",
    "b=0\n",
    "di1=\"\"\n",
    "for j in di:\n",
    "    if di[j]>b:\n",
    "        b=di[j]\n",
    "        di1=j\n",
    "di1"
   ]
  },
  {
   "cell_type": "code",
   "execution_count": 20,
   "id": "e0b28fd9-3eab-442f-bff2-ca6a2dc37452",
   "metadata": {},
   "outputs": [
    {
     "name": "stdout",
     "output_type": "stream",
     "text": [
      "3\n"
     ]
    }
   ],
   "source": [
    "# Find Missing Number in a List\n",
    "numbers = [1, 2, 4, 5, 6]\n",
    "for i in range(1,len(numbers)):\n",
    "    if i not in numbers:\n",
    "        print(i)"
   ]
  },
  {
   "cell_type": "code",
   "execution_count": 21,
   "id": "9b96f39f-48d7-4f5d-9c1d-8da1e831d2e1",
   "metadata": {},
   "outputs": [
    {
     "data": {
      "text/plain": [
       "{4: 2, 5: 2, 1: 1, 2: 2, 0: 1}"
      ]
     },
     "execution_count": 21,
     "metadata": {},
     "output_type": "execute_result"
    }
   ],
   "source": [
    "# 15. Find the First Non-Repeating Element\n",
    "# Given a list of integers, find the first element that appears only once.\n",
    "# a. numbers = [4, 5, 1, 2, 0, 4, 5, 2]\n",
    "# b. Expected Output: 1\n",
    "numbers = [4, 5, 1, 2, 0, 4, 5, 2]\n",
    "di={}\n",
    "for i in numbers:\n",
    "    if i not in di:\n",
    "        di[i]=1\n",
    "    else:\n",
    "        di[i]=di[i]+1\n",
    "di"
   ]
  },
  {
   "cell_type": "code",
   "execution_count": 24,
   "id": "fce27f68-4dd1-416c-b5f1-2049d1917cdf",
   "metadata": {},
   "outputs": [],
   "source": [
    "# 17. Find Elements Greater Than Their Left Neighbor\n",
    "# a. numbers = [1, 3, 2, 6, 5, 8, 7]\n",
    "# b. [3, 6, 8]\n",
    "# numbers = [1, 3, 2, 6, 5, 8, 7]\n",
    "# b=[]\n",
    "# for i in range(0,len(numbers)):\n",
    "#     for j in range(i+1,numbers)):\n",
    "        "
   ]
  },
  {
   "cell_type": "code",
   "execution_count": 30,
   "id": "186c7528-869e-4b53-b5c9-005b5dddbff2",
   "metadata": {},
   "outputs": [
    {
     "name": "stdout",
     "output_type": "stream",
     "text": [
      "true\n"
     ]
    }
   ],
   "source": [
    "s=\"()[{}]\"\n",
    "li=[]\n",
    "x=0\n",
    "for i in s:\n",
    "    if i in \"([{\":\n",
    "        li.append(i)\n",
    "    else:\n",
    "        if len(li)==0:\n",
    "            x+=1\n",
    "            break\n",
    "        elif i==\"]\" and li.pop()!=\"[\":\n",
    "            x+=1\n",
    "            break\n",
    "        elif i==\"}\" and li.pop()!=\"{\":\n",
    "            x+=1\n",
    "            break\n",
    "        elif i==\")\" and li.pop()!=\"(\":\n",
    "            x+=1\n",
    "            break\n",
    "if x==1:\n",
    "    print(\"false\")\n",
    "elif len(li)==0:\n",
    "    print(\"true\")\n",
    "else:\n",
    "    print(\"false\")"
   ]
  },
  {
   "cell_type": "code",
   "execution_count": 33,
   "id": "00dd0c59-9eb4-4de3-b690-37635474f2ad",
   "metadata": {},
   "outputs": [
    {
     "name": "stdin",
     "output_type": "stream",
     "text": [
      "enter the number 56\n"
     ]
    },
    {
     "name": "stdout",
     "output_type": "stream",
     "text": [
      "LVI\n"
     ]
    }
   ],
   "source": [
    "mydic={ 1000:\"M\",900:\"CM\",500:\"D\",400:\"CD\",100:\"C\",90:\"XC\",50:\"L\",40:\"XL\",10:\"X\",9:\"IX\",5:\"V\",4:\"IV\",1:\"I\"}\n",
    "n=int(input(\"enter the number\"))\n",
    "romannumber=''\n",
    "for i in mydic:\n",
    "    while(n>=i):\n",
    "        romannumber= romannumber+mydic[i]\n",
    "        n=n-i\n",
    "print(romannumber)"
   ]
  },
  {
   "cell_type": "code",
   "execution_count": 34,
   "id": "63b7ef38-c186-4a86-8dbe-ac0f15e350a3",
   "metadata": {},
   "outputs": [
    {
     "name": "stdin",
     "output_type": "stream",
     "text": [
      "enter the number 5\n"
     ]
    },
    {
     "ename": "TypeError",
     "evalue": "'>=' not supported between instances of 'int' and 'str'",
     "output_type": "error",
     "traceback": [
      "\u001b[1;31m---------------------------------------------------------------------------\u001b[0m",
      "\u001b[1;31mTypeError\u001b[0m                                 Traceback (most recent call last)",
      "Cell \u001b[1;32mIn[34], line 5\u001b[0m\n\u001b[0;32m      3\u001b[0m romannumber\u001b[38;5;241m=\u001b[39m\u001b[38;5;124m'\u001b[39m\u001b[38;5;124m'\u001b[39m\n\u001b[0;32m      4\u001b[0m \u001b[38;5;28;01mfor\u001b[39;00m i \u001b[38;5;129;01min\u001b[39;00m mydic:\n\u001b[1;32m----> 5\u001b[0m     \u001b[38;5;28;01mwhile\u001b[39;00m(n\u001b[38;5;241m>\u001b[39m\u001b[38;5;241m=\u001b[39mi):\n\u001b[0;32m      6\u001b[0m         romannumber\u001b[38;5;241m=\u001b[39m romannumber\u001b[38;5;241m+\u001b[39mmydic[i]\n\u001b[0;32m      7\u001b[0m         n\u001b[38;5;241m=\u001b[39mn\u001b[38;5;241m-\u001b[39mi\n",
      "\u001b[1;31mTypeError\u001b[0m: '>=' not supported between instances of 'int' and 'str'"
     ]
    }
   ],
   "source": [
    "mydic={\"M\":1000,\"CM\":900,\"D\":5000,\"CD\":400,\"C\":100,\"XC\":90,\"L\":50,\"XL\":40,10:\"X\",9:\"IX\",5:\"V\",4:\"IV\",1:\"I\"}\n",
    "n=input(\"enter the number\")\n",
    "romannumber=''\n",
    "for i in mydic:\n",
    "    while(n>=i):\n",
    "        romannumber= romannumber+mydic[i]\n",
    "        n=n-i\n",
    "print(romannumber)"
   ]
  },
  {
   "cell_type": "code",
   "execution_count": 35,
   "id": "17f99066-d2c0-4b9f-a6da-171ece85863e",
   "metadata": {},
   "outputs": [
    {
     "name": "stdout",
     "output_type": "stream",
     "text": [
      "2\n",
      "4\n",
      "6\n",
      "8\n",
      "10\n",
      "12\n",
      "14\n",
      "16\n",
      "18\n",
      "20\n"
     ]
    }
   ],
   "source": [
    "n=10\n",
    "i=1\n",
    "while n>0:\n",
    "    print(i*2)\n",
    "    n-=1\n",
    "    i+=1\n"
   ]
  },
  {
   "cell_type": "code",
   "execution_count": 36,
   "id": "96cb99ea-e4d4-4c05-aaa2-7a639322c8e6",
   "metadata": {},
   "outputs": [
    {
     "name": "stdin",
     "output_type": "stream",
     "text": [
      "Enter the Roman numeral:  llv\n"
     ]
    },
    {
     "name": "stdout",
     "output_type": "stream",
     "text": [
      "Integer value: 105\n"
     ]
    }
   ],
   "source": [
    "mydic = {\"I\": 1, \"V\": 5, \"X\": 10, \"L\": 50, \"C\": 100, \"D\": 500, \"M\": 1000}\n",
    "\n",
    "roman = input(\"Enter the Roman numeral: \").upper()\n",
    "num = 0\n",
    "\n",
    "for i in range(len(roman) - 1):\n",
    "    if mydic[roman[i]] < mydic[roman[i + 1]]:\n",
    "        num -= mydic[roman[i]]\n",
    "    else:\n",
    "        num += mydic[roman[i]]\n",
    "\n",
    "num += mydic[roman[-1]]  # Add the last numeral\n",
    "print(\"Integer value:\", num)\n"
   ]
  },
  {
   "cell_type": "code",
   "execution_count": 38,
   "id": "7213b4f4-e6e1-460b-b78f-ae2ce7ebd25f",
   "metadata": {},
   "outputs": [
    {
     "name": "stdin",
     "output_type": "stream",
     "text": [
      "enter number 55\n"
     ]
    },
    {
     "data": {
      "text/plain": [
       "'LV'"
      ]
     },
     "execution_count": 38,
     "metadata": {},
     "output_type": "execute_result"
    }
   ],
   "source": [
    "mydic={ 1000:\"M\",900:\"CM\",500:\"D\",400:\"CD\",100:\"C\",90:\"XC\",50:\"L\",40:\"XL\",10:\"X\",9:\"IX\",5:\"V\",4:\"IV\",1:\"I\"}\n",
    "num=int(input(\"enter number\"))\n",
    "b=''\n",
    "for i in mydic:\n",
    "    while num>=i:\n",
    "        b=b+mydic[i]\n",
    "        num=num-i\n",
    "b"
   ]
  },
  {
   "cell_type": "code",
   "execution_count": 39,
   "id": "ad8fd353-928b-4e1f-96f5-1b377c6954ff",
   "metadata": {},
   "outputs": [
    {
     "name": "stdin",
     "output_type": "stream",
     "text": [
      "enter number 105\n"
     ]
    },
    {
     "data": {
      "text/plain": [
       "'CV'"
      ]
     },
     "execution_count": 39,
     "metadata": {},
     "output_type": "execute_result"
    }
   ],
   "source": [
    "mydic={ 1000:\"M\",900:\"CM\",500:\"D\",400:\"CD\",100:\"C\",90:\"XC\",50:\"L\",40:\"XL\",10:\"X\",9:\"IX\",5:\"V\",4:\"IV\",1:\"I\"}\n",
    "num=int(input(\"enter number\"))\n",
    "b=''\n",
    "for i in mydic:\n",
    "    while num>=i:\n",
    "        b=b+mydic[i]\n",
    "        num=num-i\n",
    "b"
   ]
  },
  {
   "cell_type": "code",
   "execution_count": 40,
   "id": "2020687b-15d8-4d82-9487-61dffeb8cbec",
   "metadata": {},
   "outputs": [
    {
     "data": {
      "text/plain": [
       "[[1], [1, 1], [1, 2, 1], [1, 3, 3, 1], [1, 4, 6, 4, 1]]"
      ]
     },
     "execution_count": 40,
     "metadata": {},
     "output_type": "execute_result"
    }
   ],
   "source": [
    "li=[[1]]\n",
    "n=5\n",
    "for i in range(0,n-1):\n",
    "    temp=[0]+li[-1]+[0]\n",
    "    li1=[]\n",
    "    for j in range(len(li)+1):\n",
    "        li1.append(temp[j]+temp[j+1])\n",
    "    li.append(li1)\n",
    "li"
   ]
  },
  {
   "cell_type": "code",
   "execution_count": 42,
   "id": "8bb26e70-1867-462b-a367-64db8c7d1d10",
   "metadata": {},
   "outputs": [
    {
     "name": "stdout",
     "output_type": "stream",
     "text": [
      "true\n"
     ]
    }
   ],
   "source": [
    "s = \"A man, a plan, a canal: Panama\"\n",
    "s=s.lower()\n",
    "a=''\n",
    "for i in s:\n",
    "    if i.isalnum():\n",
    "        a+=i\n",
    "if a==a[::-1]:\n",
    "    print(\"true\")\n",
    "else:\n",
    "    print(\"false\")"
   ]
  },
  {
   "cell_type": "code",
   "execution_count": 46,
   "id": "79611bd7-35b6-460d-98fe-3dbafcb25e1c",
   "metadata": {},
   "outputs": [
    {
     "data": {
      "text/plain": [
       "[5, 6, 7, 1, 2, 3, 4]"
      ]
     },
     "execution_count": 46,
     "metadata": {},
     "output_type": "execute_result"
    }
   ],
   "source": [
    "nums = [1,2,3,4,5,6,7]\n",
    "k = 3\n",
    "si=len(nums)\n",
    "k=k%si\n",
    "arr=[0]*si\n",
    "for i in range(0,len(nums)):\n",
    "    pos=(i+k)%si\n",
    "    arr[pos]=nums[i]\n",
    "nums[:]=arr\n",
    "nums"
   ]
  },
  {
   "cell_type": "code",
   "execution_count": 51,
   "id": "13d51417-1e95-43e6-8bef-aef78096fff5",
   "metadata": {},
   "outputs": [
    {
     "name": "stdout",
     "output_type": "stream",
     "text": [
      "true\n"
     ]
    }
   ],
   "source": [
    "s = \"egg\"\n",
    "t = \"add\"\n",
    "li=[]\n",
    "li1=[]\n",
    "for i in s:\n",
    "    li.append(s.index(i))\n",
    "for j in t:\n",
    "    li1.append(t.index(j))\n",
    "if li==li1:\n",
    "    print(\"true\")\n",
    "else:\n",
    "    print(\"false\")"
   ]
  },
  {
   "cell_type": "code",
   "execution_count": 53,
   "id": "337b58d1-ad2d-4512-8f2d-0020f80460de",
   "metadata": {},
   "outputs": [
    {
     "name": "stdout",
     "output_type": "stream",
     "text": [
      "*****\n",
      "-****\n",
      "--***\n",
      "---**\n",
      "----*\n"
     ]
    }
   ],
   "source": [
    "# ****\n",
    "# -***\n",
    "# --**\n",
    "# ---*\n",
    "for i in range(5,0,-1):\n",
    "    for s in range(5,i,-1):\n",
    "        print(\"-\",end=\"\")\n",
    "    for j in range(i):\n",
    "        print(\"*\",end=\"\")\n",
    "    print()"
   ]
  },
  {
   "cell_type": "code",
   "execution_count": 55,
   "id": "bfce30dd-2dd2-473a-a00f-f8357ef7d6f7",
   "metadata": {},
   "outputs": [
    {
     "name": "stdout",
     "output_type": "stream",
     "text": [
      "- - - * \n",
      "- - * * \n",
      "- * * * \n",
      "* * * * \n"
     ]
    }
   ],
   "source": [
    "# - - - * \n",
    "# - - * * \n",
    "# - * * * \n",
    "# * * * *\n",
    "\n",
    "for i in range(1,5):\n",
    "    for s in range(4,i,-1):\n",
    "        print(\"-\",end=\" \")\n",
    "    for j in range(i):\n",
    "        print(\"*\",end=\" \")\n",
    "    print()"
   ]
  },
  {
   "cell_type": "code",
   "execution_count": 57,
   "id": "cc653cfb-7143-45c4-86e6-1607068e951f",
   "metadata": {},
   "outputs": [
    {
     "name": "stdout",
     "output_type": "stream",
     "text": [
      "1\n",
      "12\n",
      "123\n",
      "1234\n"
     ]
    }
   ],
   "source": [
    "# 1\n",
    "# 12\n",
    "# 123\n",
    "# 1234\n",
    "\n",
    "for i in range(1,5):\n",
    "    for j in range(i):\n",
    "        print(j+1,end=\"\")\n",
    "    print()"
   ]
  },
  {
   "cell_type": "code",
   "execution_count": 58,
   "id": "5fb9d590-3bbe-48c5-bf16-b6559147f6f7",
   "metadata": {},
   "outputs": [
    {
     "name": "stdout",
     "output_type": "stream",
     "text": [
      "ABCD\n",
      "ABC\n",
      "AB\n",
      "A\n"
     ]
    }
   ],
   "source": [
    "# ABCD\n",
    "# ABC\n",
    "# AB\n",
    "# A\n",
    "for i in range(4,0,-1):\n",
    "    a=65\n",
    "    for j in range(i):\n",
    "        print(chr(a),end=\"\")\n",
    "        a+=1\n",
    "    print()"
   ]
  },
  {
   "cell_type": "code",
   "execution_count": 71,
   "id": "91133900-a248-4d8c-b9d8-8b5963f1badc",
   "metadata": {},
   "outputs": [
    {
     "name": "stdout",
     "output_type": "stream",
     "text": [
      "4\n",
      "43\n",
      "432\n",
      "4321\n"
     ]
    }
   ],
   "source": [
    "# 4 3 2 1 \n",
    "# 4 3 2 \n",
    "# 4 3 \n",
    "# 4\n",
    "\n",
    "for i in range(4,0,-1):\n",
    "    for j in range(4,i-1,-1):\n",
    "        print(j,end=\"\")\n",
    "    print()"
   ]
  },
  {
   "cell_type": "code",
   "execution_count": 76,
   "id": "68ce643c-e5eb-4096-a0d4-486b081c86fd",
   "metadata": {},
   "outputs": [
    {
     "name": "stdout",
     "output_type": "stream",
     "text": [
      "4321\n",
      "432\n",
      "43\n",
      "4\n"
     ]
    }
   ],
   "source": [
    "for i in range(1,5):\n",
    "    for j in range(4,i-1,-1):\n",
    "        print(j,end=\"\")\n",
    "    print()"
   ]
  },
  {
   "cell_type": "code",
   "execution_count": 77,
   "id": "24a932df-95b6-432f-be68-6df29eda791e",
   "metadata": {},
   "outputs": [
    {
     "name": "stdout",
     "output_type": "stream",
     "text": [
      "12345\n",
      "1234\n",
      "123\n",
      "12\n",
      "1\n"
     ]
    }
   ],
   "source": [
    "# 1 2 3 4 5 \n",
    "# 1 2 3 4 \n",
    "# 1 2 3 \n",
    "# 1 2 \n",
    "# 1\n",
    "\n",
    "for i in range(5,0,-1):\n",
    "    for j in range(i):\n",
    "        print(j+1,end=\"\")\n",
    "    print()"
   ]
  },
  {
   "cell_type": "code",
   "execution_count": 80,
   "id": "3247b211-5a64-4623-8f3d-4c64d8923bbc",
   "metadata": {},
   "outputs": [
    {
     "name": "stdout",
     "output_type": "stream",
     "text": [
      "FEDCBA\n",
      "FEDCB\n",
      "FEDC\n",
      "FED\n",
      "FE\n",
      "F\n"
     ]
    }
   ],
   "source": [
    "# F E D C B A \n",
    "# F E D C B \n",
    "# F E D C \n",
    "# F E D \n",
    "# F E \n",
    "# F\n",
    "for i in range(6,0,-1):\n",
    "    a=70\n",
    "    for j in range(i):\n",
    "        print(chr(a),end=\"\")\n",
    "        a-=1\n",
    "    print()"
   ]
  },
  {
   "cell_type": "code",
   "execution_count": 83,
   "id": "c5a2c326-742a-49db-8df2-ef46c623f9f7",
   "metadata": {},
   "outputs": [
    {
     "name": "stdout",
     "output_type": "stream",
     "text": [
      "*\n",
      "**\n",
      "***\n",
      "****\n",
      "***\n",
      "**\n",
      "*\n"
     ]
    }
   ],
   "source": [
    "# * \n",
    "# * * \n",
    "# * * * \n",
    "# * * * * \n",
    "# * * * \n",
    "# * * \n",
    "# *\n",
    "\n",
    "for i in range(1,5):\n",
    "    for j in range(i):\n",
    "        print(\"*\",end=\"\")\n",
    "    print()\n",
    "for k in range(3,0,-1):\n",
    "    for l in range(k):\n",
    "        print(\"*\",end=\"\")\n",
    "    print()"
   ]
  },
  {
   "cell_type": "code",
   "execution_count": 87,
   "id": "c8961ab3-67a2-4e21-a4e7-74a09b0f8550",
   "metadata": {},
   "outputs": [
    {
     "name": "stdout",
     "output_type": "stream",
     "text": [
      "    * * * * * \n",
      "   * * * * * \n",
      "  * * * * * \n",
      " * * * * * \n",
      "* * * * * \n"
     ]
    }
   ],
   "source": [
    "# * * * * * \n",
    "#    * * * * * \n",
    "#   * * * * * \n",
    "#  * * * * * \n",
    "# * * * * *\n",
    "for i in range(1,6):\n",
    "    for s in range(5,i,-1):\n",
    "        print(\" \",end=\"\")\n",
    "    for j in range(5):\n",
    "        print(\"*\",end=\" \")\n",
    "    print()"
   ]
  },
  {
   "cell_type": "code",
   "execution_count": 88,
   "id": "df415f29-e519-4a80-a823-1ae138e19b56",
   "metadata": {},
   "outputs": [
    {
     "name": "stdout",
     "output_type": "stream",
     "text": [
      "F\n",
      "HJ\n",
      "LNP\n",
      "RTVX\n"
     ]
    }
   ],
   "source": [
    "# F \n",
    "# H J \n",
    "# L N P \n",
    "# R T V X\n",
    "a=70\n",
    "for i in range(1,5):\n",
    "    for j in range(i):\n",
    "        print(chr(a),end=\"\")\n",
    "        a+=2\n",
    "    print()"
   ]
  },
  {
   "cell_type": "code",
   "execution_count": 98,
   "id": "b033fca4-a64e-4977-aa62-4e7efe02c35e",
   "metadata": {},
   "outputs": [
    {
     "name": "stdout",
     "output_type": "stream",
     "text": [
      "      * \n",
      "    * * * \n",
      "  * * * * * \n",
      "* * * * * * * \n"
     ]
    }
   ],
   "source": [
    " #  *\n",
    " #     * * *\n",
    " #   * * * * *\n",
    " # * * * * * * *\n",
    "for i in range(1,8,2):\n",
    "    for s in range(7,i,-1):\n",
    "        print(\" \",end=\"\")\n",
    "    for j in range(1,i+1):\n",
    "        print(\"*\",end=\" \")\n",
    "    print()"
   ]
  },
  {
   "cell_type": "code",
   "execution_count": 96,
   "id": "42c167a8-a82c-41ea-a977-49800ce6a7c6",
   "metadata": {},
   "outputs": [
    {
     "name": "stdout",
     "output_type": "stream",
     "text": [
      "1\n",
      "12\n",
      "121\n",
      "1212\n"
     ]
    }
   ],
   "source": [
    "# 1\n",
    "# 12\n",
    "# 121\n",
    "# 1212\n",
    "for i in range(1,5):\n",
    "    a=1\n",
    "    for j in range(1,i+1):\n",
    "        if a>2:\n",
    "            a=1\n",
    "        print(a,end=\"\")\n",
    "        a+=1\n",
    "    print()"
   ]
  },
  {
   "cell_type": "code",
   "execution_count": 101,
   "id": "3370d26a-9122-4a76-bffc-48837d1a34e5",
   "metadata": {},
   "outputs": [
    {
     "name": "stdout",
     "output_type": "stream",
     "text": [
      "    * \n",
      "   * * \n",
      "  *   * \n",
      " *     * \n",
      "* * * * * \n"
     ]
    }
   ],
   "source": [
    "# * \n",
    "#     * * \n",
    "#    *   * \n",
    "#   *     * \n",
    "#  * * * * *\n",
    "for i in range(1,6):\n",
    "    for s in range(5,i,-1):\n",
    "        print(\" \",end=\"\")\n",
    "    for j in range(1,i+1):\n",
    "        if i==5 or j==1 or i==j:\n",
    "            print(\"*\",end=\" \")\n",
    "        else:\n",
    "            print(\" \",end=\" \")\n",
    "    print()"
   ]
  },
  {
   "cell_type": "code",
   "execution_count": 107,
   "id": "e27b99b2-ec18-48bf-8d3d-7f963cff2e1a",
   "metadata": {},
   "outputs": [
    {
     "name": "stdout",
     "output_type": "stream",
     "text": [
      "      * \n",
      "    * * * \n",
      "  * * * * * \n",
      "* * * * * * * \n",
      "  * * * * * \n",
      "    * * * \n",
      "      * \n"
     ]
    }
   ],
   "source": [
    " # * \n",
    " #     * * * \n",
    " #   * * * * * \n",
    " # * * * * * * * \n",
    " #   * * * * * \n",
    " #     * * * \n",
    " #       * \n",
    "\n",
    "for i in range(1,8,2):\n",
    "    for s in range(7,i,-1):\n",
    "        print(\" \",end=\"\")\n",
    "    for j in range(1,i+1):\n",
    "        print(\"*\",end=\" \")\n",
    "    print()\n",
    "for i in range(5,0,-2):\n",
    "    for s in range(7,i,-1):\n",
    "        print(\" \",end=\"\")\n",
    "    for j in range(i):\n",
    "        print(\"*\",end=\" \")\n",
    "    print()"
   ]
  },
  {
   "cell_type": "code",
   "execution_count": 114,
   "id": "8fdd1f2a-9221-4f9d-a759-b6479736c348",
   "metadata": {},
   "outputs": [
    {
     "name": "stdout",
     "output_type": "stream",
     "text": [
      "      * \n",
      "     * * \n",
      "    *   * \n",
      "   *     * \n",
      "  *       * \n",
      " *         * \n",
      "*           * \n",
      " *         * \n",
      "  *       * \n",
      "   *     * \n",
      "    *   * \n",
      "     * * \n",
      "      * \n"
     ]
    }
   ],
   "source": [
    "for i in range(1,8):\n",
    "    for s in range(7,i,-1):\n",
    "        print(\" \",end=\"\")\n",
    "    for j in range(1,i+1):\n",
    "        if j==1 or  i==j:\n",
    "            print(\"*\",end=\" \")\n",
    "        else:\n",
    "            print(\" \",end=\" \")\n",
    "    print()\n",
    "for i in range(6,0,-1):\n",
    "    for s in range(7,i,-1):\n",
    "        print(\" \",end=\"\")\n",
    "    for j in range(1,i+1):\n",
    "        if j==1 or i==j:\n",
    "            print(\"*\",end=\" \")\n",
    "        else:\n",
    "            print(\" \",end=\" \")\n",
    "    print()"
   ]
  },
  {
   "cell_type": "code",
   "execution_count": null,
   "id": "1cb55179-39e6-4281-a968-77194e137482",
   "metadata": {},
   "outputs": [],
   "source": []
  }
 ],
 "metadata": {
  "kernelspec": {
   "display_name": "Python 3 (ipykernel)",
   "language": "python",
   "name": "python3"
  },
  "language_info": {
   "codemirror_mode": {
    "name": "ipython",
    "version": 3
   },
   "file_extension": ".py",
   "mimetype": "text/x-python",
   "name": "python",
   "nbconvert_exporter": "python",
   "pygments_lexer": "ipython3",
   "version": "3.11.7"
  }
 },
 "nbformat": 4,
 "nbformat_minor": 5
}
