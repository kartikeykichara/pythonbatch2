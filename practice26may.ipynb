{
 "cells": [
  {
   "cell_type": "code",
   "execution_count": 2,
   "id": "e85290d6-9ea8-42ce-ad01-78bb60a8bbec",
   "metadata": {},
   "outputs": [
    {
     "name": "stdout",
     "output_type": "stream",
     "text": [
      "[0, 1]\n"
     ]
    }
   ],
   "source": [
    "nums = [2,7,11,15]\n",
    "target = 9\n",
    "for i in range(0,len(nums)):\n",
    "    for j in range(i+1,len(nums)):\n",
    "        if nums[i]+nums[j]==target :\n",
    "            print([i,j])"
   ]
  },
  {
   "cell_type": "code",
   "execution_count": 5,
   "id": "1c7202fb-ccc5-4e52-a514-6807f80e82cc",
   "metadata": {},
   "outputs": [
    {
     "data": {
      "text/plain": [
       "2.0"
      ]
     },
     "execution_count": 5,
     "metadata": {},
     "output_type": "execute_result"
    }
   ],
   "source": [
    "nums1 = [1,3]\n",
    "nums2 = [2]\n",
    "nums3=nums1+nums2\n",
    "nums3.sort()\n",
    "sum=0\n",
    "for i in nums3:\n",
    "    sum+=i\n",
    "median=sum/len(nums3)\n",
    "median"
   ]
  },
  {
   "cell_type": "code",
   "execution_count": 8,
   "id": "a2a30915-990e-4d78-b2c9-599ebfe79bdc",
   "metadata": {},
   "outputs": [
    {
     "data": {
      "text/plain": [
       "'MMMCCCLXXIX'"
      ]
     },
     "execution_count": 8,
     "metadata": {},
     "output_type": "execute_result"
    }
   ],
   "source": [
    "mydic={ 1000:\"M\",900:\"CM\",500:\"D\",400:\"CD\",100:\"C\",90:\"XC\",50:\"L\",40:\"XL\",10:\"X\",   9:\"IX\",5:\"V\",4:\"IV\",1:\"I\"}\n",
    "num=3379\n",
    "s=''\n",
    "for i in mydic:\n",
    "    while num>=i:\n",
    "        s=s+mydic[i]\n",
    "        num=num-i\n",
    "s"
   ]
  },
  {
   "cell_type": "code",
   "execution_count": 14,
   "id": "440d7193-a3d1-49e5-8f97-359cce355130",
   "metadata": {},
   "outputs": [
    {
     "name": "stdout",
     "output_type": "stream",
     "text": [
      "false\n"
     ]
    }
   ],
   "source": [
    "s = \"([][[\"\n",
    "x=0\n",
    "li=[]\n",
    "for i in s:\n",
    "    if i in \"{([\":\n",
    "        li.append(i)\n",
    "    else:\n",
    "        if len(li)==0:\n",
    "            x+=1\n",
    "            break\n",
    "        elif i==\"}\" and li.pop()!=\"{\":\n",
    "            x+=1\n",
    "            break\n",
    "        elif i==\"]\" and li.pop()!=\"[\":\n",
    "            x+=1\n",
    "            break\n",
    "        elif i==\")\" and li.pop()!=\"(\":\n",
    "            x+=1\n",
    "            break\n",
    "if x==1:\n",
    "    print(\"false\")\n",
    "elif len(li)==0:\n",
    "    print(\"true\")\n",
    "else:\n",
    "    print(\"false\")"
   ]
  },
  {
   "cell_type": "code",
   "execution_count": 15,
   "id": "73aa532c-5cbc-4718-8977-5e943778d3d2",
   "metadata": {},
   "outputs": [
    {
     "name": "stdout",
     "output_type": "stream",
     "text": [
      "2\n"
     ]
    }
   ],
   "source": [
    "nums = [1,1,2]\n",
    "i=0\n",
    "for j in nums:\n",
    "    if nums[i]!=nums[j]:\n",
    "        i+=1\n",
    "        nums[i]=nums[j]\n",
    "print(i+1)"
   ]
  },
  {
   "cell_type": "code",
   "execution_count": 16,
   "id": "71569dac-3c94-4bf8-9802-8a4b1cffa7cc",
   "metadata": {},
   "outputs": [
    {
     "name": "stdout",
     "output_type": "stream",
     "text": [
      "2\n"
     ]
    }
   ],
   "source": [
    "nums = [3,2,2,3]\n",
    "val = 3\n",
    "temp=0\n",
    "for i in nums:\n",
    "    if nums[i]!=val:\n",
    "        nums[temp]=nums[i]\n",
    "        temp+=1\n",
    "print(temp)"
   ]
  },
  {
   "cell_type": "code",
   "execution_count": 19,
   "id": "c447881f-3137-433e-a292-89fca261a192",
   "metadata": {},
   "outputs": [
    {
     "name": "stdout",
     "output_type": "stream",
     "text": [
      "4\n"
     ]
    }
   ],
   "source": [
    "nums = [4,5,6,7,0,1,2]\n",
    "target = 0\n",
    "for i in range(len(nums)):\n",
    "    if  nums[i]==target:\n",
    "        print(i)"
   ]
  },
  {
   "cell_type": "code",
   "execution_count": 25,
   "id": "cc58b469-3872-4c16-9c38-b6145d45a7e9",
   "metadata": {},
   "outputs": [
    {
     "name": "stdout",
     "output_type": "stream",
     "text": [
      "2\n"
     ]
    }
   ],
   "source": [
    "nums = [1,3,5,6]\n",
    "target = 5\n",
    "for i in range(len(nums)):\n",
    "    if nums[i]>=target:\n",
    "        print(i)\n",
    "        break\n",
    "else:\n",
    "    print(len(nums))"
   ]
  },
  {
   "cell_type": "code",
   "execution_count": 27,
   "id": "0de65383-8e69-4f8a-8f43-a5b54d985abc",
   "metadata": {},
   "outputs": [
    {
     "data": {
      "text/plain": [
       "5"
      ]
     },
     "execution_count": 27,
     "metadata": {},
     "output_type": "execute_result"
    }
   ],
   "source": [
    "s = \"Hello World\"\n",
    "s=s.split()\n",
    "a=len(s[-1])\n",
    "a"
   ]
  },
  {
   "cell_type": "code",
   "execution_count": 34,
   "id": "9a9fb91f-04a0-4d64-9026-35adcd63a7d1",
   "metadata": {},
   "outputs": [
    {
     "data": {
      "text/plain": [
       "[1, 2, 4]"
      ]
     },
     "execution_count": 34,
     "metadata": {},
     "output_type": "execute_result"
    }
   ],
   "source": [
    "digits = [1,2,3]\n",
    "di=''.join(map(str,digits))\n",
    "a=int(di)\n",
    "a=a+1\n",
    "dig=str(a)\n",
    "li=[]\n",
    "for i in dig:\n",
    "    b=int(i)\n",
    "    li.append(b)\n",
    "li"
   ]
  },
  {
   "cell_type": "code",
   "execution_count": 36,
   "id": "bd862aa3-d427-49c5-a82a-202fbf67d4f7",
   "metadata": {},
   "outputs": [
    {
     "data": {
      "text/plain": [
       "2.0"
      ]
     },
     "execution_count": 36,
     "metadata": {},
     "output_type": "execute_result"
    }
   ],
   "source": [
    "x = 4\n",
    "a=x**0.5\n",
    "a"
   ]
  },
  {
   "cell_type": "code",
   "execution_count": 38,
   "id": "143e80be-896b-4471-8e3c-17dc0a63862d",
   "metadata": {},
   "outputs": [
    {
     "data": {
      "text/plain": [
       "[0, 0, 1, 1, 2, 2]"
      ]
     },
     "execution_count": 38,
     "metadata": {},
     "output_type": "execute_result"
    }
   ],
   "source": [
    "nums = [2,0,2,1,1,0]\n",
    "nums.sort()\n",
    "nums"
   ]
  },
  {
   "cell_type": "code",
   "execution_count": 39,
   "id": "d6e0950b-b711-4b1f-af08-729960a835c3",
   "metadata": {},
   "outputs": [
    {
     "data": {
      "text/plain": [
       "[[], [1], [2], [1, 2], [3], [1, 3], [2, 3], [1, 2, 3]]"
      ]
     },
     "execution_count": 39,
     "metadata": {},
     "output_type": "execute_result"
    }
   ],
   "source": [
    "nums = [1,2,3]\n",
    "li=[[]]\n",
    "for i in nums:\n",
    "    li+=[j+[i] for j in li]\n",
    "li"
   ]
  },
  {
   "cell_type": "code",
   "execution_count": 42,
   "id": "a5287def-4c73-4d1e-81c5-94361b289434",
   "metadata": {},
   "outputs": [
    {
     "name": "stdout",
     "output_type": "stream",
     "text": [
      "true\n"
     ]
    }
   ],
   "source": [
    "nums = [2,5,6,0,0,1,2]\n",
    "target = 0\n",
    "for i in range(len(nums)):\n",
    "    if nums[i]==target:\n",
    "        print(\"true\")\n",
    "        break\n",
    "else:\n",
    "    print(\"false\")"
   ]
  },
  {
   "cell_type": "code",
   "execution_count": 47,
   "id": "8aeee002-bbcc-4915-aa94-077b71032656",
   "metadata": {},
   "outputs": [
    {
     "data": {
      "text/plain": [
       "[1, 2, 2, 3, 5, 6]"
      ]
     },
     "execution_count": 47,
     "metadata": {},
     "output_type": "execute_result"
    }
   ],
   "source": [
    "nums1 = [1,2,3,0,0,0]\n",
    "m = 3\n",
    "nums2 = [2,5,6]\n",
    "n = 3\n",
    "li1=nums1[:m]\n",
    "li1\n",
    "li=nums[:n]\n",
    "li2=li1+li\n",
    "li2.sort()\n",
    "li2"
   ]
  },
  {
   "cell_type": "code",
   "execution_count": null,
   "id": "757698e8-eb64-47ea-97e7-5d9573bd6338",
   "metadata": {},
   "outputs": [],
   "source": []
  }
 ],
 "metadata": {
  "kernelspec": {
   "display_name": "Python 3 (ipykernel)",
   "language": "python",
   "name": "python3"
  },
  "language_info": {
   "codemirror_mode": {
    "name": "ipython",
    "version": 3
   },
   "file_extension": ".py",
   "mimetype": "text/x-python",
   "name": "python",
   "nbconvert_exporter": "python",
   "pygments_lexer": "ipython3",
   "version": "3.11.7"
  }
 },
 "nbformat": 4,
 "nbformat_minor": 5
}
