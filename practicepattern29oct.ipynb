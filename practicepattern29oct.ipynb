{
 "cells": [
  {
   "cell_type": "code",
   "execution_count": 3,
   "id": "2c059112-4dd9-48e5-ba0c-6187ec963398",
   "metadata": {},
   "outputs": [
    {
     "name": "stdout",
     "output_type": "stream",
     "text": [
      "111\n",
      "222\n",
      "333\n"
     ]
    }
   ],
   "source": [
    "# 111\n",
    "# 222\n",
    "# 333\n",
    "\n",
    "for i in range(1,4):\n",
    "    for j in range(1,4):\n",
    "        print(i,end=\"\")\n",
    "    print()"
   ]
  },
  {
   "cell_type": "code",
   "execution_count": 23,
   "id": "16cdd1e3-6ad9-4451-a631-9f4938d6e62f",
   "metadata": {},
   "outputs": [
    {
     "name": "stdout",
     "output_type": "stream",
     "text": [
      "4321\n",
      "432\n",
      "43\n",
      "4\n"
     ]
    }
   ],
   "source": [
    "# 4321\n",
    "# 432\n",
    "# 43\n",
    "# 4\n",
    "\n",
    "for i in range(1,5):\n",
    "    for j in range(5,i,-1):\n",
    "        print(j-1,end=\"\")\n",
    "    print()"
   ]
  },
  {
   "cell_type": "code",
   "execution_count": 28,
   "id": "64b9b080-f5a0-4f40-bc2b-3dd0d1eecb79",
   "metadata": {},
   "outputs": [
    {
     "name": "stdout",
     "output_type": "stream",
     "text": [
      "78910\n",
      "789\n",
      "78\n",
      "7\n"
     ]
    }
   ],
   "source": [
    "# 78910\n",
    "# 789\n",
    "# 78\n",
    "# 7\n",
    "for i in range(4,0,-1):\n",
    "    n=7\n",
    "    for j in range(i):\n",
    "        print(n,end=\"\")\n",
    "        n+=1\n",
    "    print()\n"
   ]
  },
  {
   "cell_type": "code",
   "execution_count": null,
   "id": "a1cef9e0-6ed4-426f-8f03-9dc9855916cb",
   "metadata": {},
   "outputs": [],
   "source": [
    "# A B C D \n",
    "# E F G \n",
    "# H I \n",
    "# J \n",
    "\n",
    "a=65\n",
    "for i in range(4,0,-1):\n",
    "    for j in range(i):\n",
    "        print(chr(65),end=\"\")"
   ]
  }
 ],
 "metadata": {
  "kernelspec": {
   "display_name": "Python [conda env:base] *",
   "language": "python",
   "name": "conda-base-py"
  },
  "language_info": {
   "codemirror_mode": {
    "name": "ipython",
    "version": 3
   },
   "file_extension": ".py",
   "mimetype": "text/x-python",
   "name": "python",
   "nbconvert_exporter": "python",
   "pygments_lexer": "ipython3",
   "version": "3.13.5"
  }
 },
 "nbformat": 4,
 "nbformat_minor": 5
}
