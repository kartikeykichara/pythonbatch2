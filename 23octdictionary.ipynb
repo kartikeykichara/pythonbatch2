{
 "cells": [
  {
   "cell_type": "code",
   "execution_count": 4,
   "id": "ae76bb42-c6a9-489f-98e5-6de3d24bd0e7",
   "metadata": {},
   "outputs": [
    {
     "data": {
      "text/plain": [
       "dict_items([(10, 'kartikey'), (20, 'regex')])"
      ]
     },
     "execution_count": 4,
     "metadata": {},
     "output_type": "execute_result"
    }
   ],
   "source": [
    "#dictionary\n",
    "#key value\n",
    "#key unique\n",
    "#ordered\n",
    "#no index\n",
    "#mutuable in nature\n",
    "mydictionary={10:\"kartikey\",20:\"regex\"}\n",
    "len(mydictionary)\n",
    "mydictionary.keys()\n",
    "mydictionary.values()\n",
    "mydictionary.items()"
   ]
  },
  {
   "cell_type": "code",
   "execution_count": 10,
   "id": "80f9de89-c197-4159-99c2-ce148879d3ad",
   "metadata": {},
   "outputs": [
    {
     "data": {
      "text/plain": [
       "{10: 'kartikeykichara', 20: 'dataengineer', 30: 'hello'}"
      ]
     },
     "execution_count": 10,
     "metadata": {},
     "output_type": "execute_result"
    }
   ],
   "source": [
    "mydictionary={10:\"kartikey\",20:\"regex\"}\n",
    "mydictionary[10]=\"kartikeykichara\"\n",
    "mydictionary[20]=\"dataengineer\"\n",
    "#insert\n",
    "mydictionary[30]=\"hello\"\n",
    "mydictionary"
   ]
  },
  {
   "cell_type": "code",
   "execution_count": 1,
   "id": "7e759325-ae57-49a3-9a5b-7ee817f1e503",
   "metadata": {},
   "outputs": [
    {
     "ename": "NameError",
     "evalue": "name 'mydictionary' is not defined",
     "output_type": "error",
     "traceback": [
      "\u001b[1;31m---------------------------------------------------------------------------\u001b[0m",
      "\u001b[1;31mNameError\u001b[0m                                 Traceback (most recent call last)",
      "Cell \u001b[1;32mIn[1], line 1\u001b[0m\n\u001b[1;32m----> 1\u001b[0m x\u001b[38;5;241m=\u001b[39mmydictionary\u001b[38;5;241m.\u001b[39mpop[\u001b[38;5;241m10\u001b[39m]\n\u001b[0;32m      2\u001b[0m mydictionary\n",
      "\u001b[1;31mNameError\u001b[0m: name 'mydictionary' is not defined"
     ]
    }
   ],
   "source": [
    "x=mydictionary.pop[10]\n",
    "mydictionary"
   ]
  },
  {
   "cell_type": "code",
   "execution_count": 3,
   "id": "684c855a-99a5-4e36-a97e-071ac199ab09",
   "metadata": {},
   "outputs": [
    {
     "data": {
      "text/plain": [
       "{20: 'regex'}"
      ]
     },
     "execution_count": 3,
     "metadata": {},
     "output_type": "execute_result"
    }
   ],
   "source": [
    "mydictionary={10:\"kartikey\",20:\"regex\"}\n",
    "del mydictionary[10]\n",
    "mydictionary"
   ]
  },
  {
   "cell_type": "code",
   "execution_count": 6,
   "id": "b5c057cb-e04e-4e8c-8cc2-eb1c56bc2c2c",
   "metadata": {},
   "outputs": [
    {
     "data": {
      "text/plain": [
       "{20: 'regex', 10: 'abc'}"
      ]
     },
     "execution_count": 6,
     "metadata": {},
     "output_type": "execute_result"
    }
   ],
   "source": [
    "mydictionary.update({10:\"abc\"})\n",
    "mydictionary"
   ]
  },
  {
   "cell_type": "code",
   "execution_count": 7,
   "id": "7d865360-2b1f-43d7-8dd5-e0fd09075808",
   "metadata": {},
   "outputs": [
    {
     "data": {
      "text/plain": [
       "{20: 'regex', 10: 'kartikey'}"
      ]
     },
     "execution_count": 7,
     "metadata": {},
     "output_type": "execute_result"
    }
   ],
   "source": [
    "mydictionary.update({10:\"kartikey\"})\n",
    "mydictionary"
   ]
  },
  {
   "cell_type": "code",
   "execution_count": 9,
   "id": "ce529326-eca9-4a02-9211-de1ccb77c0d9",
   "metadata": {},
   "outputs": [
    {
     "name": "stdout",
     "output_type": "stream",
     "text": [
      "20 regex\n",
      "10 kartikey\n"
     ]
    }
   ],
   "source": [
    "mydictionary.update({10:\"kartikey\"})\n",
    "for key in mydictionary:\n",
    "    print(key,mydictionary[key])"
   ]
  },
  {
   "cell_type": "code",
   "execution_count": 10,
   "id": "ef93679a-d329-468e-a23d-753763a8d485",
   "metadata": {},
   "outputs": [
    {
     "data": {
      "text/plain": [
       "{'x': 3}"
      ]
     },
     "execution_count": 10,
     "metadata": {},
     "output_type": "execute_result"
    }
   ],
   "source": [
    "mydictionary={\"x\":1}\n",
    "mydictionary[\"x\"]=mydictionary[\"x\"]+2\n",
    "mydictionary"
   ]
  },
  {
   "cell_type": "code",
   "execution_count": 13,
   "id": "981c5713-7f2e-4cfb-ac10-f53885eb747a",
   "metadata": {},
   "outputs": [
    {
     "name": "stdout",
     "output_type": "stream",
     "text": [
      "{'total': 1}\n",
      "{'total': 2}\n",
      "{'total': 3}\n",
      "{'total': 4}\n",
      "{'total': 5}\n",
      "{'total': 6}\n",
      "{'total': 7}\n",
      "{'total': 8}\n"
     ]
    }
   ],
   "source": [
    "#loop 10,18\n",
    "mydictionary={\"total\":0}\n",
    "for key in range(10,18):\n",
    "    mydictionary[\"total\"]=mydictionary[\"total\"]+1\n",
    "    print(mydictionary)\n",
    "    "
   ]
  },
  {
   "cell_type": "code",
   "execution_count": 19,
   "id": "28bc7edc-efb7-4715-82c5-f700c9ed5a5f",
   "metadata": {},
   "outputs": [
    {
     "data": {
      "text/plain": [
       "{'total': 0, 'h': 1, 'e': 1, 'y': 1, 'u': 1, 's': 1, 'r': 1}"
      ]
     },
     "execution_count": 19,
     "metadata": {},
     "output_type": "execute_result"
    }
   ],
   "source": [
    "string=\"heyuser\"\n",
    "dictionary={\"total\":0}\n",
    "for x in string:\n",
    "    dictionary[x]=1\n",
    "dictionary"
   ]
  },
  {
   "cell_type": "code",
   "execution_count": 24,
   "id": "699caad2-1162-47db-8adc-706816587159",
   "metadata": {},
   "outputs": [
    {
     "data": {
      "text/plain": [
       "{'yes': 3, 'no': 47}"
      ]
     },
     "execution_count": 24,
     "metadata": {},
     "output_type": "execute_result"
    }
   ],
   "source": [
    "# string=\"heyuser\"\n",
    "dictionary={\"yes\":0,\"no\":0}\n",
    "for x in range(1,51):\n",
    "    if x%2==0 and x%7==0: \n",
    "        dictionary[\"yes\"]=dictionary[\"yes\"]+1\n",
    "    else:\n",
    "        dictionary[\"no\"]=dictionary[\"no\"]+1\n",
    "dictionary"
   ]
  },
  {
   "cell_type": "code",
   "execution_count": 31,
   "id": "ad84f5e7-bbd2-4206-b83c-95e7f961ea73",
   "metadata": {},
   "outputs": [
    {
     "data": {
      "text/plain": [
       "{'vowel': 3}"
      ]
     },
     "execution_count": 31,
     "metadata": {},
     "output_type": "execute_result"
    }
   ],
   "source": [
    "string=\"hey hello kk\"\n",
    "dict1={\"vowel\":0}\n",
    "for i in string :\n",
    "    if i in \"aeiouAEIOU\" :\n",
    "         dict1[\"vowel\"]=dict1[\"vowel\"]+1\n",
    "dict1"
   ]
  },
  {
   "cell_type": "code",
   "execution_count": 33,
   "id": "27b59a5e-35d0-429a-a7be-83313dc0392b",
   "metadata": {},
   "outputs": [
    {
     "data": {
      "text/plain": [
       "{}"
      ]
     },
     "execution_count": 33,
     "metadata": {},
     "output_type": "execute_result"
    }
   ],
   "source": [
    "dict1={}\n",
    "for i in \"hey hello kk\":\n",
    "    if i in \"aeiouAEIOU\" :\n",
    "        if i in dict1:\n",
    "            dict1[i]=dict1[i]+1\n",
    "dict1"
   ]
  },
  {
   "cell_type": "code",
   "execution_count": 35,
   "id": "8b4a881e-17c3-4596-8268-f0286d44d99e",
   "metadata": {},
   "outputs": [
    {
     "data": {
      "text/plain": [
       "['hey he', '', 'o he', '', 'o']"
      ]
     },
     "execution_count": 35,
     "metadata": {},
     "output_type": "execute_result"
    }
   ],
   "source": [
    "\"hey hello hello\".split(\"l\")\n"
   ]
  },
  {
   "cell_type": "code",
   "execution_count": 38,
   "id": "c58753ed-77b6-458c-b5ac-211dd36d8703",
   "metadata": {},
   "outputs": [
    {
     "data": {
      "text/plain": [
       "{'hey': 6, 'hello': 0}"
      ]
     },
     "execution_count": 38,
     "metadata": {},
     "output_type": "execute_result"
    }
   ],
   "source": [
    "x=\"hey hello hello hey hey hey\".split()\n",
    "dict1={\"hey\":0 ,\"hello\":0}\n",
    "for i in x:\n",
    "    if i in dict1:\n",
    "        dict1[\"hey\"]=dict1[\"hey\"]+1\n",
    "    else:\n",
    "        dict1[\"hello\"]=dict1[\"hello\"]+1\n",
    "dict1"
   ]
  },
  {
   "cell_type": "code",
   "execution_count": 39,
   "id": "d231398e-9238-4d57-8c2c-79d14f5c3bf4",
   "metadata": {},
   "outputs": [
    {
     "data": {
      "text/plain": [
       "{10, 20, 406}"
      ]
     },
     "execution_count": 39,
     "metadata": {},
     "output_type": "execute_result"
    }
   ],
   "source": [
    "#set \n",
    "#collection of element\n",
    "#unique\n",
    "#unordered \n",
    "#no index\n",
    "#mutubale but set element are immutable\n",
    "myset={10,20,406,10,10}\n",
    "myset"
   ]
  },
  {
   "cell_type": "code",
   "execution_count": 40,
   "id": "1a458fb0-a955-4df3-9574-076d0926e920",
   "metadata": {},
   "outputs": [
    {
     "data": {
      "text/plain": [
       "{10, 20, 406, 658}"
      ]
     },
     "execution_count": 40,
     "metadata": {},
     "output_type": "execute_result"
    }
   ],
   "source": [
    "myset.add(658)\n",
    "myset"
   ]
  },
  {
   "cell_type": "code",
   "execution_count": null,
   "id": "4def3fba-f7d2-4c15-8c2e-844d4775099d",
   "metadata": {},
   "outputs": [],
   "source": [
    "#for delete \n",
    "#remove or discard\n",
    "#update\n",
    "#union \n",
    "#intersection\n",
    "#issuperset\n",
    "#issubset\n",
    "#difference\n",
    "#symmetric difference update"
   ]
  }
 ],
 "metadata": {
  "kernelspec": {
   "display_name": "Python 3 (ipykernel)",
   "language": "python",
   "name": "python3"
  },
  "language_info": {
   "codemirror_mode": {
    "name": "ipython",
    "version": 3
   },
   "file_extension": ".py",
   "mimetype": "text/x-python",
   "name": "python",
   "nbconvert_exporter": "python",
   "pygments_lexer": "ipython3",
   "version": "3.11.7"
  }
 },
 "nbformat": 4,
 "nbformat_minor": 5
}
