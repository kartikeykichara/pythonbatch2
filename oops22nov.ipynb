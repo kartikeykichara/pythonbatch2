{
 "cells": [
  {
   "cell_type": "code",
   "execution_count": 1,
   "id": "08d0f6f1-4edc-4699-921f-a5740934b0a8",
   "metadata": {},
   "outputs": [
    {
     "ename": "AttributeError",
     "evalue": "'Example' object has no attribute '_Example__private'",
     "output_type": "error",
     "traceback": [
      "\u001b[1;31m---------------------------------------------------------------------------\u001b[0m",
      "\u001b[1;31mAttributeError\u001b[0m                            Traceback (most recent call last)",
      "Cell \u001b[1;32mIn[1], line 5\u001b[0m\n\u001b[0;32m      3\u001b[0m         \u001b[38;5;28mself\u001b[39m\u001b[38;5;241m.\u001b[39m__private\u001b[38;5;241m=\u001b[39m\u001b[38;5;124m\"\u001b[39m\u001b[38;5;124msecret\u001b[39m\u001b[38;5;124m\"\u001b[39m\n\u001b[0;32m      4\u001b[0m obj\u001b[38;5;241m=\u001b[39mExample()\n\u001b[1;32m----> 5\u001b[0m \u001b[38;5;28mprint\u001b[39m(obj\u001b[38;5;241m.\u001b[39m_Example__private())\n",
      "\u001b[1;31mAttributeError\u001b[0m: 'Example' object has no attribute '_Example__private'"
     ]
    }
   ],
   "source": [
    "class Example:\n",
    "    def __int__(self):\n",
    "        self.__private=\"secret\"\n",
    "obj=Example()\n",
    "print(obj._Example__private())"
   ]
  },
  {
   "cell_type": "code",
   "execution_count": 2,
   "id": "f2dd9c3e-b2b8-4500-8614-0eb9dda6cd9a",
   "metadata": {},
   "outputs": [
    {
     "name": "stdout",
     "output_type": "stream",
     "text": [
      "5000\n",
      "Deposit successful! new balance:6000\n"
     ]
    }
   ],
   "source": [
    "class bankaccount:\n",
    "    def __init__(self,account_holder,balance):\n",
    "        self.__account_holder=account_holder\n",
    "        self.__balance=balance\n",
    "    def get_account_holer(self):\n",
    "        return self.__account_holder\n",
    "    def get_balance(self):\n",
    "        return self.__balance\n",
    "    def deposit(self,amount):\n",
    "        if amount>0:\n",
    "            self.__balance+=amount\n",
    "            return f\"Deposit successful! new balance:{self.__balance}\"\n",
    "        else:\n",
    "            return \"invalid deposit amount\"\n",
    "    def withdraw(self,amount):\n",
    "        if amount<=self.__balance:\n",
    "            self.balance-=amount\n",
    "            return f\"withdraw successful ! new balance:{self.__balance}\"\n",
    "        else:\n",
    "            return \"insufficient balance\"\n",
    "account=bankaccount(\"sam\",5000)\n",
    "# print(account.get_account__holder())\n",
    "print(account.get_balance())\n",
    "print(account.deposit(1000))\n",
    "# print(account.withdraw(2000))"
   ]
  },
  {
   "cell_type": "code",
   "execution_count": 13,
   "id": "658eceb0-82c3-43aa-80dc-87fc6f15317d",
   "metadata": {},
   "outputs": [
    {
     "name": "stdout",
     "output_type": "stream",
     "text": [
      "kk\n",
      "85\n",
      "grade updated successfully\n",
      "90\n",
      "invalid grade! must be betweeen 0 and 100\n"
     ]
    }
   ],
   "source": [
    "class student:\n",
    "    def __init__(self,name,grade):\n",
    "        self.name=name\n",
    "        self.__grade=grade\n",
    "    def get_grade(self):\n",
    "        return self.__grade\n",
    "    def set_grade(self,new_grade):\n",
    "        if 0<=new_grade<=100:\n",
    "            self.__grade=new_grade\n",
    "            return \"grade updated successfully\"\n",
    "        else:\n",
    "            return \"invalid grade! must be betweeen 0 and 100\"\n",
    "student=student(\"kk\",85)\n",
    "print(student.name)\n",
    "print(student.get_grade())\n",
    "print(student.set_grade(90))\n",
    "print(student.get_grade())\n",
    "print(student.set_grade(150))"
   ]
  },
  {
   "cell_type": "code",
   "execution_count": null,
   "id": "c4331800-3a37-4f95-9faf-cb118f416281",
   "metadata": {},
   "outputs": [],
   "source": []
  }
 ],
 "metadata": {
  "kernelspec": {
   "display_name": "Python 3 (ipykernel)",
   "language": "python",
   "name": "python3"
  },
  "language_info": {
   "codemirror_mode": {
    "name": "ipython",
    "version": 3
   },
   "file_extension": ".py",
   "mimetype": "text/x-python",
   "name": "python",
   "nbconvert_exporter": "python",
   "pygments_lexer": "ipython3",
   "version": "3.11.7"
  }
 },
 "nbformat": 4,
 "nbformat_minor": 5
}
