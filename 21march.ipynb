{
 "cells": [
  {
   "cell_type": "code",
   "execution_count": 1,
   "id": "beb43042-6198-41f7-99cd-278267d426ea",
   "metadata": {},
   "outputs": [
    {
     "ename": "SyntaxError",
     "evalue": "incomplete input (3208928532.py, line 4)",
     "output_type": "error",
     "traceback": [
      "\u001b[1;36m  Cell \u001b[1;32mIn[1], line 4\u001b[1;36m\u001b[0m\n\u001b[1;33m    for col in range(x,\u001b[0m\n\u001b[1;37m                       ^\u001b[0m\n\u001b[1;31mSyntaxError\u001b[0m\u001b[1;31m:\u001b[0m incomplete input\n"
     ]
    }
   ],
   "source": [
    "num=4\n",
    "for col in range(0,num):\n",
    "    x=2\n",
    "    for col in range(x,"
   ]
  },
  {
   "cell_type": "code",
   "execution_count": 6,
   "id": "c1b89e6e-d3cd-4fbc-a40c-d1123c179a40",
   "metadata": {},
   "outputs": [
    {
     "name": "stdout",
     "output_type": "stream",
     "text": [
      "65 \n",
      "66 67 \n",
      "68 69 70 \n"
     ]
    }
   ],
   "source": [
    "num=3\n",
    "x=65\n",
    "for row in range(0,num):\n",
    "    for col in range(0,row+1):\n",
    "        print(x,end=\" \")\n",
    "        x+=1\n",
    "    print()"
   ]
  },
  {
   "cell_type": "code",
   "execution_count": 7,
   "id": "6e9f3d03-6bdb-48d0-a919-44d1f7b18113",
   "metadata": {},
   "outputs": [
    {
     "name": "stdout",
     "output_type": "stream",
     "text": [
      "A \n",
      "B C \n",
      "D E F \n"
     ]
    }
   ],
   "source": [
    "num=3\n",
    "x=65\n",
    "for row in range(0,num):\n",
    "    for col in range(0,row+1):\n",
    "        print(chr(x),end=\" \")\n",
    "        x+=1\n",
    "    print()"
   ]
  },
  {
   "cell_type": "code",
   "execution_count": 8,
   "id": "7905811a-3164-49f6-a46f-977ff7e8457b",
   "metadata": {},
   "outputs": [
    {
     "name": "stdout",
     "output_type": "stream",
     "text": [
      "****\n",
      "***\n",
      "**\n",
      "*\n"
     ]
    }
   ],
   "source": [
    "for i in range(0,4):\n",
    "    for j in range(i,4):\n",
    "        print(\"*\",end=\"\")\n",
    "    print()"
   ]
  },
  {
   "cell_type": "code",
   "execution_count": 11,
   "id": "cc47c5bf-8171-4740-b9a8-7c6a1284c388",
   "metadata": {},
   "outputs": [
    {
     "name": "stdout",
     "output_type": "stream",
     "text": [
      "0123\n",
      "012\n",
      "01\n",
      "0\n"
     ]
    }
   ],
   "source": [
    "\n",
    "for i in range(0,4):\n",
    "    a=0\n",
    "    for j in range(i,4):\n",
    "        print(a,end=\"\")\n",
    "        a+=1\n",
    "    print()"
   ]
  },
  {
   "cell_type": "code",
   "execution_count": null,
   "id": "e4eb8d8b-4512-49ab-851e-ba1bb12bff74",
   "metadata": {},
   "outputs": [],
   "source": []
  },
  {
   "cell_type": "code",
   "execution_count": 15,
   "id": "10f1e565-6d0f-4176-9f52-07198e2289b7",
   "metadata": {},
   "outputs": [
    {
     "name": "stdout",
     "output_type": "stream",
     "text": [
      "10 11 12 13 14 \n",
      "15 16 17 18 \n",
      "19 20 21 \n",
      "22 23 \n",
      "24 \n"
     ]
    }
   ],
   "source": [
    "num=5\n",
    "a=10\n",
    "for i in range(0,num):\n",
    "    for j in range(i,num):\n",
    "        print(a,end=\" \")\n",
    "        a+=1\n",
    "    print()"
   ]
  },
  {
   "cell_type": "code",
   "execution_count": 16,
   "id": "9c43983d-3eed-4319-8bb7-c4192afb606a",
   "metadata": {},
   "outputs": [
    {
     "name": "stdout",
     "output_type": "stream",
     "text": [
      "0 1 2 3 \n",
      "1 2 3 \n",
      "2 3 \n",
      "3 \n"
     ]
    }
   ],
   "source": [
    "num=4\n",
    "for i in range(0,num):\n",
    "    for j in range(i,num):\n",
    "        print(j,end=\" \")\n",
    "    print()"
   ]
  },
  {
   "cell_type": "code",
   "execution_count": 20,
   "id": "b1a3d5df-ff4c-4848-8f6a-bd2335f44bfd",
   "metadata": {},
   "outputs": [
    {
     "name": "stdout",
     "output_type": "stream",
     "text": [
      "1 2 3 4 \n",
      "2 3 4 \n",
      "3 4 \n",
      "4 \n"
     ]
    }
   ],
   "source": [
    "num=4\n",
    "for i in range(0,num):\n",
    "    for j in range(i,num):\n",
    "        print(j+1,end=\" \")\n",
    "    print()"
   ]
  },
  {
   "cell_type": "code",
   "execution_count": 27,
   "id": "f9270876-76ec-4554-9a93-4d5c42bd40f5",
   "metadata": {},
   "outputs": [
    {
     "name": "stdout",
     "output_type": "stream",
     "text": [
      "10101\n",
      "1010\n",
      "101\n",
      "10\n",
      "1\n"
     ]
    }
   ],
   "source": [
    "num=5\n",
    "for i in range(0,num):\n",
    "    for j in range(5,i,-1):\n",
    "        if j%2!=0:\n",
    "            print(\"1\",end=\"\")\n",
    "        else:\n",
    "            print(\"0\",end=\"\")\n",
    "    print()"
   ]
  },
  {
   "cell_type": "code",
   "execution_count": 30,
   "id": "4d245fe7-f80c-4a6c-998f-e294c32ab8c3",
   "metadata": {},
   "outputs": [
    {
     "name": "stdout",
     "output_type": "stream",
     "text": [
      "10101\n",
      "1010\n",
      "101\n",
      "10\n",
      "1\n"
     ]
    }
   ],
   "source": [
    "num=5\n",
    "for i in range(0,num):\n",
    "    for j in range(0,num-i):\n",
    "        if j%2==0:\n",
    "            print(\"1\",end=\"\")\n",
    "        else:\n",
    "            print(\"0\",end=\"\")\n",
    "    print()"
   ]
  },
  {
   "cell_type": "code",
   "execution_count": 31,
   "id": "c36c24ca-5700-400e-aa15-14bde4937b11",
   "metadata": {},
   "outputs": [
    {
     "name": "stdout",
     "output_type": "stream",
     "text": [
      "*****\n",
      "****\n",
      "***\n",
      "**\n",
      "*\n"
     ]
    }
   ],
   "source": [
    "num=5\n",
    "for i in range(0,num):\n",
    "    print(\"*\" * (num-i))"
   ]
  },
  {
   "cell_type": "code",
   "execution_count": 38,
   "id": "82b73c52-24a8-4c2a-af92-70825875c81c",
   "metadata": {},
   "outputs": [
    {
     "name": "stdout",
     "output_type": "stream",
     "text": [
      "10101\n",
      "2020\n",
      "303\n",
      "40\n",
      "5\n"
     ]
    }
   ],
   "source": [
    "a=1\n",
    "num=5\n",
    "for i in range(0,num):\n",
    "    for j in range(num-i):\n",
    "        if j%2==0:\n",
    "            print(i+1,end=\"\")\n",
    "        else:\n",
    "            print(\"0\",end=\"\")\n",
    "        a+=1\n",
    "    print()"
   ]
  },
  {
   "cell_type": "code",
   "execution_count": 45,
   "id": "394566db-f0e4-45a3-b5b4-00aaa7da0d13",
   "metadata": {},
   "outputs": [
    {
     "name": "stdout",
     "output_type": "stream",
     "text": [
      "----\n",
      "---\n",
      "--\n",
      "-\n"
     ]
    }
   ],
   "source": [
    "num=4\n",
    "for i in range(0,num):\n",
    "    for j in range(i,num):\n",
    "        print(\"-\",end=\"\")\n",
    "    print()"
   ]
  },
  {
   "cell_type": "code",
   "execution_count": 44,
   "id": "33d102f5-7f1b-4e4b-bd30-72d02c51b225",
   "metadata": {},
   "outputs": [
    {
     "name": "stdout",
     "output_type": "stream",
     "text": [
      "* \n",
      "* * \n",
      "* * * \n",
      "* * * * \n"
     ]
    }
   ],
   "source": [
    "num=4\n",
    "for i in range(0,num):\n",
    "    for j in range(0,i+1):\n",
    "        print(\"*\",end=\" \")\n",
    "    print()"
   ]
  },
  {
   "cell_type": "code",
   "execution_count": 48,
   "id": "c89d66d3-01f7-45cd-908f-fe11f6109773",
   "metadata": {},
   "outputs": [
    {
     "name": "stdout",
     "output_type": "stream",
     "text": [
      "* * * * \n",
      "* * * \n",
      "* * \n",
      "* \n"
     ]
    }
   ],
   "source": [
    "num=4\n",
    "for i in range(0,num):\n",
    "    for j in range(num,i,-1):\n",
    "        print(\"*\",end=\" \")\n",
    "    print()"
   ]
  },
  {
   "cell_type": "code",
   "execution_count": 51,
   "id": "dace89cc-35f9-4af5-991f-6efbd7f76f53",
   "metadata": {},
   "outputs": [
    {
     "name": "stdout",
     "output_type": "stream",
     "text": [
      "----*\n",
      "---**\n",
      "--***\n",
      "-****\n"
     ]
    }
   ],
   "source": [
    "num=4\n",
    "for i in range(0,num):\n",
    "    for j in range(i,num):\n",
    "        print(\"-\",end=\"\")\n",
    "    for j in range(0,i+1):\n",
    "        print(\"*\",end=\"\")\n",
    "    print()"
   ]
  },
  {
   "cell_type": "code",
   "execution_count": 54,
   "id": "aefa9385-51ad-4535-89f9-01d26614809d",
   "metadata": {},
   "outputs": [
    {
     "name": "stdout",
     "output_type": "stream",
     "text": [
      "----****\n",
      "---***\n",
      "--**\n",
      "-*\n"
     ]
    }
   ],
   "source": [
    "num=4\n",
    "for i in range(0,num):\n",
    "    for j in range(num,i,-1):\n",
    "        print(\"-\",end=\"\")\n",
    "    for j in range(num,i,-1):\n",
    "        print(\"*\",end=\"\")\n",
    "    print()"
   ]
  },
  {
   "cell_type": "code",
   "execution_count": 55,
   "id": "43105f05-f616-4e17-bb4a-99c20f4120c5",
   "metadata": {},
   "outputs": [
    {
     "name": "stdout",
     "output_type": "stream",
     "text": [
      "----*\n",
      "---**\n",
      "--***\n",
      "-****\n",
      "*****\n"
     ]
    }
   ],
   "source": [
    "for i in range(1,6):\n",
    "    for s in range(5,i,-1):\n",
    "        print(\"-\",end=\"\")\n",
    "    for j in range(i):\n",
    "        print(\"*\",end=\" \")\n",
    "    print()"
   ]
  },
  {
   "cell_type": "code",
   "execution_count": 60,
   "id": "400038d6-a1dd-4987-8f46-580386e18c9a",
   "metadata": {},
   "outputs": [
    {
     "name": "stdout",
     "output_type": "stream",
     "text": [
      "*****\n",
      "-****\n",
      "--***\n",
      "---**\n",
      "----*\n"
     ]
    }
   ],
   "source": [
    "for i in range(5,0,-1):\n",
    "    for s in range(5,i,-1):\n",
    "        print(\"-\",end=\"\")\n",
    "    for j in range(i):\n",
    "        print(\"*\",end=\"\")\n",
    "    print()"
   ]
  },
  {
   "cell_type": "code",
   "execution_count": 72,
   "id": "37c19bd7-bb1e-45e4-a1c2-902506f21b47",
   "metadata": {},
   "outputs": [
    {
     "name": "stdout",
     "output_type": "stream",
     "text": [
      "*****\n",
      "-*  *\n",
      "--* *\n",
      "---**\n",
      "----*\n"
     ]
    }
   ],
   "source": [
    "for i in range(5,0,-1):\n",
    "    for s in range(5,i,-1):\n",
    "        print(\"-\",end=\"\")\n",
    "    for j in range(1,i+1):\n",
    "        if i==5 or i==j or j==1:\n",
    "            print(\"*\",end=\"\")\n",
    "        else:\n",
    "            print(\" \",end=\"\")\n",
    "    print()"
   ]
  },
  {
   "cell_type": "code",
   "execution_count": 83,
   "id": "6679b34c-be78-475e-9afb-72254382b4c4",
   "metadata": {},
   "outputs": [
    {
     "name": "stdout",
     "output_type": "stream",
     "text": [
      "1 2 3 4 5 \n",
      "6     7 \n",
      "8   9 \n",
      "10 11 \n",
      "12 \n"
     ]
    }
   ],
   "source": [
    "a=1\n",
    "num=5\n",
    "for i in range(0,num):\n",
    "    for j in range(0,num-i):\n",
    "        if j==0 or i==0 or j==num-i-1:\n",
    "            print(a,end=\" \")\n",
    "            a+=1\n",
    "        else:\n",
    "            print(\" \",end=\" \")\n",
    "    print()"
   ]
  },
  {
   "cell_type": "code",
   "execution_count": 1,
   "id": "b812ad69-367d-41f1-9e15-857ab87cf793",
   "metadata": {},
   "outputs": [
    {
     "name": "stdout",
     "output_type": "stream",
     "text": [
      "[0, 2, 12, 40, 50, 60, 80, 101]\n"
     ]
    }
   ],
   "source": [
    "list1 = [0, 40, 12, 60, 80, 50, 101, 2]\n",
    "i = 0\n",
    "j = len(list1) - 1\n",
    "\n",
    "while i < j:\n",
    "    for k in range(j):\n",
    "        if list1[k] > list1[k + 1]:\n",
    "            list1[k], list1[k + 1] = list1[k + 1], list1[k]\n",
    "    j -= 1\n",
    "\n",
    "print(list1)\n"
   ]
  },
  {
   "cell_type": "code",
   "execution_count": 23,
   "id": "a14de07f-c088-4fca-8e7e-749e3b6abe4c",
   "metadata": {},
   "outputs": [
    {
     "name": "stdout",
     "output_type": "stream",
     "text": [
      "1 2 3 4 5 \n",
      "6   9  \n",
      "11  13   \n",
      "16 17    \n",
      "21     \n"
     ]
    }
   ],
   "source": [
    "a=1\n",
    "num=5\n",
    "for i in range(0,num):\n",
    "    for j in range(0,num):\n",
    "        if i==0 or j==0 or j==num-i-1:\n",
    "            print(a,end=\" \")\n",
    "            a+=1\n",
    "        else:\n",
    "            print(\" \",end=\"\")\n",
    "            a+=1\n",
    "    print()"
   ]
  },
  {
   "cell_type": "code",
   "execution_count": 27,
   "id": "cb5393f2-d88d-483f-b75e-59fdf839915a",
   "metadata": {},
   "outputs": [
    {
     "name": "stdout",
     "output_type": "stream",
     "text": [
      "10101\n",
      "2020\n",
      "303\n",
      "40\n",
      "5\n"
     ]
    }
   ],
   "source": [
    "a=1\n",
    "num=5\n",
    "for i in range(0,num):\n",
    "    for j in range(0,num-i):\n",
    "        if j%2==0:\n",
    "            print(a,end=\"\")\n",
    "        else:\n",
    "            print(\"0\",end=\"\")\n",
    "    a+=1\n",
    "    print()"
   ]
  },
  {
   "cell_type": "code",
   "execution_count": 33,
   "id": "2308e8c9-134c-48b3-8e4a-63acbf536e50",
   "metadata": {},
   "outputs": [
    {
     "ename": "SyntaxError",
     "evalue": "invalid syntax (969721445.py, line 3)",
     "output_type": "error",
     "traceback": [
      "\u001b[1;36m  Cell \u001b[1;32mIn[33], line 3\u001b[1;36m\u001b[0m\n\u001b[1;33m    resuly = x&&y\u001b[0m\n\u001b[1;37m               ^\u001b[0m\n\u001b[1;31mSyntaxError\u001b[0m\u001b[1;31m:\u001b[0m invalid syntax\n"
     ]
    }
   ],
   "source": [
    "x=7\n",
    "y=3\n",
    "resuly = x&&y\n",
    "resuly"
   ]
  },
  {
   "cell_type": "code",
   "execution_count": 36,
   "id": "42403145-c041-4a52-97fb-9e18da49f0c7",
   "metadata": {},
   "outputs": [
    {
     "name": "stdin",
     "output_type": "stream",
     "text": [
      "enter number 3\n"
     ]
    },
    {
     "name": "stdout",
     "output_type": "stream",
     "text": [
      "65 \n",
      "66 67 \n",
      "68 69 70 \n"
     ]
    }
   ],
   "source": [
    "# 65 \n",
    "# 66 67 \n",
    "# 68 69 70\n",
    "num=int(input(\"enter number\"))\n",
    "a=65\n",
    "for i in range(1,num+1):\n",
    "    for j in range(i):\n",
    "        print(a,end=\" \")\n",
    "        a+=1\n",
    "    print()"
   ]
  },
  {
   "cell_type": "code",
   "execution_count": 38,
   "id": "54d825e2-5a53-46af-b15b-63cb33738629",
   "metadata": {},
   "outputs": [
    {
     "name": "stdin",
     "output_type": "stream",
     "text": [
      "enter number 3\n"
     ]
    },
    {
     "name": "stdout",
     "output_type": "stream",
     "text": [
      "A \n",
      "B C \n",
      "D E F \n"
     ]
    }
   ],
   "source": [
    "# A \n",
    "# B C \n",
    "# D E F\n",
    "num=int(input(\"enter number\"))\n",
    "a=65\n",
    "for i in range(1,num+1):\n",
    "    for j in range(i):\n",
    "        print(chr(a),end=\" \")\n",
    "        a+=1\n",
    "    print()"
   ]
  },
  {
   "cell_type": "code",
   "execution_count": 40,
   "id": "222f29b3-8280-4f58-8ac7-918c4d46abb7",
   "metadata": {},
   "outputs": [
    {
     "name": "stdin",
     "output_type": "stream",
     "text": [
      "enter number 5\n"
     ]
    },
    {
     "name": "stdout",
     "output_type": "stream",
     "text": [
      "* * * * * \n",
      "* * * * \n",
      "* * * \n",
      "* * \n",
      "* \n"
     ]
    }
   ],
   "source": [
    "# *****\n",
    "# ****\n",
    "# ***\n",
    "# **\n",
    "# *\n",
    "num=int(input(\"enter number\"))\n",
    "for i in range(1,num+1):\n",
    "    for j in range(num+1,i,-1):\n",
    "        print(\"*\",end=\" \")\n",
    "    print()"
   ]
  },
  {
   "cell_type": "code",
   "execution_count": 45,
   "id": "90db85e3-4d9e-4420-bba3-510760bee7aa",
   "metadata": {},
   "outputs": [
    {
     "name": "stdin",
     "output_type": "stream",
     "text": [
      "enter number 4\n"
     ]
    },
    {
     "name": "stdout",
     "output_type": "stream",
     "text": [
      "0 1 2 3 \n",
      "0 1 2 \n",
      "0 1 \n",
      "0 \n"
     ]
    }
   ],
   "source": [
    "# 0123\n",
    "# 012\n",
    "# 01\n",
    "# 0\n",
    "num=int(input(\"enter number\"))\n",
    "for i in range(num,0,-1):\n",
    "    for j in range(i):\n",
    "        print(j,end=\" \")\n",
    "    print()"
   ]
  },
  {
   "cell_type": "code",
   "execution_count": 42,
   "id": "762b6ee8-e777-498f-8272-71abd6f4f40d",
   "metadata": {},
   "outputs": [
    {
     "name": "stdin",
     "output_type": "stream",
     "text": [
      "enter number 5\n"
     ]
    },
    {
     "name": "stdout",
     "output_type": "stream",
     "text": [
      "* * * * * \n",
      "* * * * \n",
      "* * * \n",
      "* * \n",
      "* \n"
     ]
    }
   ],
   "source": [
    "num=int(input(\"enter number\"))\n",
    "for i in range(num,0,-1):\n",
    "    for j in range(i):\n",
    "        print(\"*\",end=\" \")\n",
    "    print()"
   ]
  },
  {
   "cell_type": "code",
   "execution_count": 47,
   "id": "e8c9e096-840a-4578-b48b-42f1a798c2c0",
   "metadata": {},
   "outputs": [
    {
     "name": "stdin",
     "output_type": "stream",
     "text": [
      "enter number 5\n"
     ]
    },
    {
     "name": "stdout",
     "output_type": "stream",
     "text": [
      "10 11 12 13 14 \n",
      "15 16 17 18 \n",
      "19 20 21 \n",
      "22 23 \n",
      "24 \n"
     ]
    }
   ],
   "source": [
    "# 10 11 12 13 14 \n",
    "# 15 16 17 18 \n",
    "# 19 20 21 \n",
    "# 22 23 \n",
    "# 24 \n",
    "a=10\n",
    "num=int(input(\"enter number\"))\n",
    "\n",
    "for i in range(num,0,-1):\n",
    "    for j in range(i):\n",
    "        print(a,end=\" \")\n",
    "        a+=1\n",
    "    print()"
   ]
  },
  {
   "cell_type": "code",
   "execution_count": 70,
   "id": "21af8ac3-785c-443d-b750-0293c347c5bc",
   "metadata": {},
   "outputs": [
    {
     "name": "stdin",
     "output_type": "stream",
     "text": [
      "enter number 5\n"
     ]
    },
    {
     "name": "stdout",
     "output_type": "stream",
     "text": [
      "01234\n",
      "1234\n",
      "234\n",
      "34\n",
      "4\n"
     ]
    }
   ],
   "source": [
    "# 0 1 2 3 \n",
    "# 1 2 3 \n",
    "# 2 3 \n",
    "# 3 \n",
    "num=int(input(\"enter number\"))\n",
    "for i in range(num):\n",
    "    for j in range(i,num):\n",
    "        print(j,end=\"\")\n",
    "        j+=1\n",
    "    print()"
   ]
  },
  {
   "cell_type": "code",
   "execution_count": null,
   "id": "c24a3dfc-bdfb-4c4e-b211-62d11a058810",
   "metadata": {},
   "outputs": [],
   "source": [
    "# 1 2 3 4 \n",
    "# 2 3 4 \n",
    "# 3 4 \n",
    "# 4 \n",
    "\n",
    "for i in range( nu"
   ]
  }
 ],
 "metadata": {
  "kernelspec": {
   "display_name": "Python 3 (ipykernel)",
   "language": "python",
   "name": "python3"
  },
  "language_info": {
   "codemirror_mode": {
    "name": "ipython",
    "version": 3
   },
   "file_extension": ".py",
   "mimetype": "text/x-python",
   "name": "python",
   "nbconvert_exporter": "python",
   "pygments_lexer": "ipython3",
   "version": "3.11.7"
  }
 },
 "nbformat": 4,
 "nbformat_minor": 5
}
