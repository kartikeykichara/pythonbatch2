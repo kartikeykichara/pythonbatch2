{
 "cells": [
  {
   "cell_type": "code",
   "execution_count": 47,
   "id": "2b568f15-e378-41a8-9b14-b85e60ad02cc",
   "metadata": {},
   "outputs": [
    {
     "name": "stdout",
     "output_type": "stream",
     "text": [
      "54321\n",
      "4321\n",
      "321\n",
      "21\n",
      "1\n"
     ]
    }
   ],
   "source": [
    "# 54321\n",
    "#  4321\n",
    "#   321\n",
    "#    21\n",
    "#     1\n",
    "for i in range(1,6):\n",
    "    for j in range(6,i,-1):\n",
    "        print(j-i,end=\"\")\n",
    "    print()"
   ]
  },
  {
   "cell_type": "code",
   "execution_count": 10,
   "id": "82c2c07c-8306-4f47-a05f-664e4acec9d8",
   "metadata": {},
   "outputs": [
    {
     "name": "stdout",
     "output_type": "stream",
     "text": [
      "*\n",
      "**\n",
      "***\n",
      "****\n",
      "*****\n"
     ]
    }
   ],
   "source": [
    "for i in range(1,6):\n",
    "    for j in range(i):\n",
    "        print(\"*\",end=\"\")\n",
    "    print()"
   ]
  },
  {
   "cell_type": "code",
   "execution_count": 56,
   "id": "92e1c809-73fd-45ff-b624-c2be3ad39501",
   "metadata": {},
   "outputs": [
    {
     "name": "stdout",
     "output_type": "stream",
     "text": [
      "1\n",
      "10\n",
      "101\n",
      "1010\n",
      "10101\n"
     ]
    }
   ],
   "source": [
    "# 1\n",
    "# 10\n",
    "# 101\n",
    "# 1010\n",
    "# 10101\n",
    "for i in range(1,6):\n",
    "    for j in range(1,i+1):\n",
    "        a=1\n",
    "        if j%2!=0:\n",
    "            print(a,end=\"\")\n",
    "        else:\n",
    "            print(a-1,end=\"\")\n",
    "    print()"
   ]
  },
  {
   "cell_type": "code",
   "execution_count": 54,
   "id": "06079c55-eb38-4d75-969e-4d9c96e40390",
   "metadata": {},
   "outputs": [
    {
     "name": "stdout",
     "output_type": "stream",
     "text": [
      "4321\n",
      " 321\n",
      "  21\n",
      "   1\n"
     ]
    }
   ],
   "source": [
    "# 54321\n",
    "#  4321\n",
    "#   321\n",
    "#    21\n",
    "#     1\n",
    "for i in range(1,5):\n",
    "    for s in range(1,i):\n",
    "        print(\" \",end=\"\")\n",
    "    for j in range(5,i,-1):\n",
    "        print(j-i,end=\"\")\n",
    "    print()"
   ]
  },
  {
   "cell_type": "code",
   "execution_count": 70,
   "id": "499e2ab9-0924-4675-9ea0-d179e6c308da",
   "metadata": {},
   "outputs": [
    {
     "name": "stdout",
     "output_type": "stream",
     "text": [
      "10101\n",
      "2020\n",
      "303\n",
      "40\n",
      "5\n"
     ]
    }
   ],
   "source": [
    "# 10101\n",
    "# 2020\n",
    "# 303\n",
    "# 40\n",
    "# 5\n",
    "for i in range(1,6):\n",
    "    for j in range(6,i,-1):\n",
    "        a=0\n",
    "        if j%2!=0:\n",
    "            print(a,end=\"\")\n",
    "        else:\n",
    "            print(i,end=\"\")\n",
    "    print()"
   ]
  },
  {
   "cell_type": "code",
   "execution_count": 72,
   "id": "dedb94d9-bf68-48e8-8898-e6ce823b336d",
   "metadata": {},
   "outputs": [
    {
     "data": {
      "text/plain": [
       "[[1], [1, 1], [1, 2, 1], [1, 3, 3, 1], [1, 4, 6, 4, 1]]"
      ]
     },
     "execution_count": 72,
     "metadata": {},
     "output_type": "execute_result"
    }
   ],
   "source": [
    "li=[[1]]\n",
    "n=5\n",
    "for i in range(1,n):\n",
    "    temp=[0]+li[-1]+[0]\n",
    "    li1=[]\n",
    "    for j in range(len(li)+1):\n",
    "        li1.append(temp[j]+temp[j+1])\n",
    "    li.append(li1)\n",
    "li"
   ]
  },
  {
   "cell_type": "code",
   "execution_count": 77,
   "id": "15107487-7980-4d44-9d4c-6c4e8c9f4d56",
   "metadata": {},
   "outputs": [
    {
     "name": "stdout",
     "output_type": "stream",
     "text": [
      "true\n"
     ]
    }
   ],
   "source": [
    "s=\"{{}}\"\n",
    "x=0\n",
    "li=[]\n",
    "for i in s:\n",
    "    if i in \"{[(\":\n",
    "        li.append(i)\n",
    "    else:\n",
    "        if len(li)==0:\n",
    "            x+=1\n",
    "            break\n",
    "        elif i==\")\" and li.pop()!=\"(\":\n",
    "            x+=1\n",
    "            break\n",
    "        elif i==\"]\" and li.pop()!=\"[\":\n",
    "            x+=1\n",
    "            break\n",
    "        elif i==\"}\" and li.pop()!=\"{\":\n",
    "            x+=1\n",
    "            break\n",
    "if x==1:\n",
    "    print(\"false\")\n",
    "elif len(li)==0:\n",
    "    print(\"true\")\n",
    "else:\n",
    "    print(\"false\")"
   ]
  },
  {
   "cell_type": "code",
   "execution_count": null,
   "id": "554314b6-b54f-4e1b-9544-dca5dd8e9e6c",
   "metadata": {},
   "outputs": [],
   "source": [
    "s = \"A man, a plan, a canal: Panama\"\n",
    "s=s.lower()\n"
   ]
  }
 ],
 "metadata": {
  "kernelspec": {
   "display_name": "Python 3 (ipykernel)",
   "language": "python",
   "name": "python3"
  },
  "language_info": {
   "codemirror_mode": {
    "name": "ipython",
    "version": 3
   },
   "file_extension": ".py",
   "mimetype": "text/x-python",
   "name": "python",
   "nbconvert_exporter": "python",
   "pygments_lexer": "ipython3",
   "version": "3.11.7"
  }
 },
 "nbformat": 4,
 "nbformat_minor": 5
}
