{
 "cells": [
  {
   "cell_type": "code",
   "execution_count": 4,
   "id": "76e955f5-d3fd-429d-b1bd-799db353cbb8",
   "metadata": {},
   "outputs": [
    {
     "name": "stdout",
     "output_type": "stream",
     "text": [
      "0:('key', 1)\n",
      "1:('value', 2)\n",
      "2:('subject', 'maths')\n"
     ]
    }
   ],
   "source": [
    "di={'key':1,'value':2,'subject':'maths'}\n",
    "for (i,j) in enumerate (di.items()):\n",
    "    print(f\"{i}:{j}\")"
   ]
  },
  {
   "cell_type": "code",
   "execution_count": 5,
   "id": "f8ed8061-eb32-466d-ae0b-164f4ce476fd",
   "metadata": {},
   "outputs": [
    {
     "name": "stdout",
     "output_type": "stream",
     "text": [
      "key: 1\n",
      "value: 2\n",
      "subject: maths\n"
     ]
    }
   ],
   "source": [
    "di = {'key': 1, 'value': 2, 'subject': 'maths'}\n",
    "\n",
    "for k, v in di.items():\n",
    "    print(f\"{k}: {v}\")\n"
   ]
  },
  {
   "cell_type": "code",
   "execution_count": 8,
   "id": "0a618902-5c99-4c85-802a-a7844d6cefa0",
   "metadata": {},
   "outputs": [
    {
     "name": "stdout",
     "output_type": "stream",
     "text": [
      "key:1\n",
      "value:2\n",
      "subject:maths\n"
     ]
    }
   ],
   "source": [
    "di = {'key': 1, 'value': 2, 'subject': 'maths'}\n",
    "for k,v in di.items():\n",
    "    print(f\"{k}:{v}\")"
   ]
  },
  {
   "cell_type": "code",
   "execution_count": 4,
   "id": "2f0630d3-eab2-4fe7-930a-815675743786",
   "metadata": {},
   "outputs": [
    {
     "name": "stdout",
     "output_type": "stream",
     "text": [
      "5\n",
      "54\n",
      "543\n",
      "5432\n",
      "54321\n"
     ]
    }
   ],
   "source": [
    "for i in range(1,6):\n",
    "    for j in range(5,5-i,-1):\n",
    "        print(j,end=\"\")\n",
    "    print()\n",
    "        "
   ]
  },
  {
   "cell_type": "code",
   "execution_count": 5,
   "id": "39391d68-fa0a-406e-931e-5df0c16a8509",
   "metadata": {},
   "outputs": [
    {
     "name": "stdout",
     "output_type": "stream",
     "text": [
      "54321\n",
      "5432\n",
      "543\n",
      "54\n",
      "5\n"
     ]
    }
   ],
   "source": [
    "for i in range(5,0,-1):\n",
    "    for j in range(5,5-i,-1):\n",
    "        print(j,end=\"\")\n",
    "    print()"
   ]
  },
  {
   "cell_type": "code",
   "execution_count": 26,
   "id": "d5b09dc0-4627-4b61-90a9-07d6b0b3d0c7",
   "metadata": {},
   "outputs": [
    {
     "data": {
      "text/plain": [
       "'kartikey'"
      ]
     },
     "execution_count": 26,
     "metadata": {},
     "output_type": "execute_result"
    }
   ],
   "source": [
    "a='kartikey'\n",
    "b='kartikey'\n",
    "a or b"
   ]
  },
  {
   "cell_type": "code",
   "execution_count": 31,
   "id": "3b8d0175-b14c-4ed2-80b3-bc3a06208109",
   "metadata": {},
   "outputs": [
    {
     "data": {
      "text/plain": [
       "[24, 543]"
      ]
     },
     "execution_count": 31,
     "metadata": {},
     "output_type": "execute_result"
    }
   ],
   "source": [
    "li=['kardf','dfsd',24,543,'dsfds']\n",
    "li1=[i for i in li if str(i).isdigit()]\n",
    "li1"
   ]
  },
  {
   "cell_type": "code",
   "execution_count": 38,
   "id": "f696b5ca-eedc-41b9-969e-d8bcfd7094ea",
   "metadata": {},
   "outputs": [
    {
     "data": {
      "text/plain": [
       "[[], [1], [2], [1, 2], [3], [1, 3], [2, 3], [1, 2, 3]]"
      ]
     },
     "execution_count": 38,
     "metadata": {},
     "output_type": "execute_result"
    }
   ],
   "source": [
    "nums = [1,2,3]\n",
    "li=[[]]\n",
    "for i in nums:\n",
    "    li+=[j+[i] for j in li]\n",
    "li\n",
    "\n"
   ]
  },
  {
   "cell_type": "code",
   "execution_count": 45,
   "id": "d635a5ed-3685-4ccb-9117-3ed5994a527a",
   "metadata": {},
   "outputs": [
    {
     "data": {
      "text/plain": [
       "'MMMDCCXLIX'"
      ]
     },
     "execution_count": 45,
     "metadata": {},
     "output_type": "execute_result"
    }
   ],
   "source": [
    "num = 3749\n",
    "mydic={ 1000:\"M\",900:\"CM\",500:\"D\",400:\"CD\",100:\"C\",90:\"XC\",50:\"L\",40:\"XL\",10:\"X\",   9:\"IX\",5:\"V\",4:\"IV\",1:\"I\"}\n",
    "s=''\n",
    "for i in mydic:\n",
    "    while num>=i:\n",
    "        s=s+mydic[i]\n",
    "        num=num-i\n",
    "s"
   ]
  },
  {
   "cell_type": "code",
   "execution_count": 47,
   "id": "43b7b6e2-3184-4886-a972-75bf1551092e",
   "metadata": {},
   "outputs": [
    {
     "name": "stdout",
     "output_type": "stream",
     "text": [
      "4\n"
     ]
    }
   ],
   "source": [
    "nums = [4,5,6,7,0,1,2]\n",
    "target = 0\n",
    "for i in range(len(nums)):\n",
    "    if nums[i]==target:\n",
    "        print(i)\n",
    "    "
   ]
  },
  {
   "cell_type": "code",
   "execution_count": 55,
   "id": "a628c163-4698-48a7-a837-de4721297867",
   "metadata": {},
   "outputs": [
    {
     "data": {
      "text/plain": [
       "[1, 2, 4]"
      ]
     },
     "execution_count": 55,
     "metadata": {},
     "output_type": "execute_result"
    }
   ],
   "source": [
    "digits = [1,2,3]\n",
    "di=''.join(map(str,digits))\n",
    "a=int(di)\n",
    "b=a+1\n",
    "c=str(b)\n",
    "li=[]\n",
    "for i in c:\n",
    "    d=int(i)\n",
    "    li.append(d)\n",
    "li"
   ]
  },
  {
   "cell_type": "code",
   "execution_count": 62,
   "id": "93e29833-60ad-4cfb-bd43-0d6b9f3c0c46",
   "metadata": {},
   "outputs": [
    {
     "data": {
      "text/plain": [
       "[1, 2, 2, 3, 5, 6]"
      ]
     },
     "execution_count": 62,
     "metadata": {},
     "output_type": "execute_result"
    }
   ],
   "source": [
    "nums1 = [1,2,3,0,0,0]\n",
    "m = 3\n",
    "nums2 = [2,5,6]\n",
    "n = 3\n",
    "nums=nums1[:m]\n",
    "nums3=nums2[:n]\n",
    "nums4=nums+nums3\n",
    "nums4.sort()\n",
    "nums4"
   ]
  },
  {
   "cell_type": "code",
   "execution_count": 68,
   "id": "f08f51cf-e6e4-4256-aea7-25116b467630",
   "metadata": {},
   "outputs": [
    {
     "data": {
      "text/plain": [
       "[[], [1], [2], [1, 2], [2, 2], [1, 2, 2]]"
      ]
     },
     "execution_count": 68,
     "metadata": {},
     "output_type": "execute_result"
    }
   ],
   "source": [
    "nums = [1,2,2]\n",
    "li=[[]]\n",
    "for i in nums:\n",
    "    li+=[j+[i] for j in li]\n",
    "li1=[]\n",
    "for k in li:\n",
    "    if k not in li1 and li.count(k)>=1:\n",
    "        li1.append(k)\n",
    "li1"
   ]
  },
  {
   "cell_type": "code",
   "execution_count": null,
   "id": "5e3bac9f-dc62-4207-96cc-c9a1b8e7fb96",
   "metadata": {},
   "outputs": [],
   "source": []
  }
 ],
 "metadata": {
  "kernelspec": {
   "display_name": "Python 3 (ipykernel)",
   "language": "python",
   "name": "python3"
  },
  "language_info": {
   "codemirror_mode": {
    "name": "ipython",
    "version": 3
   },
   "file_extension": ".py",
   "mimetype": "text/x-python",
   "name": "python",
   "nbconvert_exporter": "python",
   "pygments_lexer": "ipython3",
   "version": "3.11.7"
  }
 },
 "nbformat": 4,
 "nbformat_minor": 5
}
