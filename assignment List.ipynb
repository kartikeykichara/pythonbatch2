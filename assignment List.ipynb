{
 "cells": [
  {
   "cell_type": "code",
   "execution_count": 4,
   "id": "ee513551-3ca1-414a-a49f-6374f9bb1d05",
   "metadata": {},
   "outputs": [
    {
     "name": "stdout",
     "output_type": "stream",
     "text": [
      "99\n"
     ]
    }
   ],
   "source": [
    "# 1. Write a Python program to find the maximum element in a list of numbers without\n",
    "# max functions\n",
    "# numbers = [10, 20, 4, 45, 99]\n",
    "# The maximum element is: 99\n",
    "numbers = [10, 20, 4, 45, 99]\n",
    "maxi=0\n",
    "for i in range(0,len(numbers)):\n",
    "    if numbers[i]>maxi:\n",
    "        maxi=numbers[i]\n",
    "print(maxi)"
   ]
  },
  {
   "cell_type": "code",
   "execution_count": 6,
   "id": "ad755b7f-b4b5-4ea5-a54c-153419b321c3",
   "metadata": {},
   "outputs": [
    {
     "data": {
      "text/plain": [
       "100"
      ]
     },
     "execution_count": 6,
     "metadata": {},
     "output_type": "execute_result"
    }
   ],
   "source": [
    "# 2. Write a Python program to sum all the elements in a list of numbers.\n",
    "# a. numbers = [10, 20, 30, 40]\n",
    "# b. The sum of all elements is: 100\n",
    "numbers = [10, 20, 30, 40]\n",
    "sum=0\n",
    "for i in numbers:\n",
    "    sum+=i\n",
    "sum"
   ]
  },
  {
   "cell_type": "code",
   "execution_count": 7,
   "id": "8b7ee362-913a-452e-8f4c-c09c55d8e2fa",
   "metadata": {},
   "outputs": [],
   "source": [
    "# 3. Write a Python program to reverse a list without reverse or slicing operator\n",
    "# a. numbers = [1, 2, 3, 4, 5]\n",
    "# b. Reversed list: [5, 4, 3, 2, 1]\n",
    "\n",
    "numbers = [1, 2, 3, 4, 5]\n",
    "reverse=[]\n"
   ]
  },
  {
   "cell_type": "code",
   "execution_count": 4,
   "id": "677f9c50-94d3-4230-97f6-b3e17a74bcf3",
   "metadata": {},
   "outputs": [
    {
     "data": {
      "text/plain": [
       "[2, 2, 4, 8, 8, 8, 21, 95]"
      ]
     },
     "execution_count": 4,
     "metadata": {},
     "output_type": "execute_result"
    }
   ],
   "source": [
    "# 4. Write a Python program to sort a list in ascending order without sort functions\n",
    "li=[2,4,8,2,8,21,8,95]\n",
    "for i in range(0,len(li)):\n",
    "    for j in range(i+1,len(li)):\n",
    "        if li[i]>li[j]:\n",
    "            li[i],li[j]=li[j],li[i]\n",
    "li"
   ]
  },
  {
   "cell_type": "code",
   "execution_count": 11,
   "id": "012c2e7b-a119-4ad1-96cd-7fedf682760f",
   "metadata": {},
   "outputs": [
    {
     "data": {
      "text/plain": [
       "[1, 2, 3, 4, 5]"
      ]
     },
     "execution_count": 11,
     "metadata": {},
     "output_type": "execute_result"
    }
   ],
   "source": [
    "# 5. Write a Python program to remove duplicates from a list while maintaining the order\n",
    "# of elements.\n",
    "# a. numbers = [1, 2, 2, 3, 4, 4, 5]\n",
    "# b. List after removing duplicates: [1, 2, 3, 4, 5]\n",
    "numbers = [1, 2, 2, 3, 4, 4, 5]\n",
    "duplicate=[]\n",
    "for i in numbers:\n",
    "    if i not in duplicate:\n",
    "        duplicate.append(i)\n",
    "duplicate"
   ]
  },
  {
   "cell_type": "code",
   "execution_count": 14,
   "id": "9eb9aa7a-aa04-4457-87bd-33da3148822a",
   "metadata": {},
   "outputs": [
    {
     "name": "stdout",
     "output_type": "stream",
     "text": [
      "[(1, 5)]\n",
      "[(2, 4)]\n",
      "[(3, 3)]\n"
     ]
    }
   ],
   "source": [
    "# 6. Write a Python program to find all pairs of numbers in a list that add up to a specific\n",
    "# target sum.\n",
    "# a. numbers = [1, 2, 3, 4, 3, 5, 6] target_sum = 6\n",
    "# b. Pairs that add up to 6: [(3, 3), (2, 4), (1, 5)]\n",
    "numbers = [1, 2, 3, 4, 3, 5, 6] \n",
    "target_sum = 6\n",
    "for i in range(0,len(numbers)):\n",
    "    for j in range(i+1,len(numbers)):\n",
    "        if numbers[i]+numbers[j]==target_sum:\n",
    "            print([(numbers[i],numbers[j])])"
   ]
  },
  {
   "cell_type": "code",
   "execution_count": 17,
   "id": "5fd60948-f4e6-4315-86b7-23318399be24",
   "metadata": {},
   "outputs": [
    {
     "data": {
      "text/plain": [
       "[1, [2, 3], [4, [5, 6], 7], 8]"
      ]
     },
     "execution_count": 17,
     "metadata": {},
     "output_type": "execute_result"
    }
   ],
   "source": [
    "# 7. Write a Python program to flatten a nested list (list within lists) into a single list.\n",
    "# a. nested_list = [1, [2, 3], [4, [5, 6], 7], 8]\n",
    "# b. Flattened list: [1, 2, 3, 4, 5, 6, 7, 8]\n",
    "nested_list = [1, [2, 3], [4, [5, 6], 7], 8]\n",
    "li=[]\n",
    "for i in nested_list:\n",
    "    if isinstance(i,list):\n",
    "        li.append(i)\n",
    "    else:\n",
    "        li.append(i)\n",
    "li"
   ]
  },
  {
   "cell_type": "code",
   "execution_count": 5,
   "id": "b0a359a1-5ffc-4abe-b326-06cd415deb90",
   "metadata": {},
   "outputs": [
    {
     "data": {
      "text/plain": [
       "9"
      ]
     },
     "execution_count": 5,
     "metadata": {},
     "output_type": "execute_result"
    }
   ],
   "source": [
    "# 8. Write a Python program to find the sum of the elements in a list, excluding the largest\n",
    "# and smallest element. Don’t use max or min functions\n",
    "# a. numbers = [1, 2, 3, 4, 5]\n",
    "# b. Sum excluding the largest and smallest element: 9\n",
    "numbers = [1, 2, 3, 4, 5]\n",
    "sum=0\n",
    "for i in range(1,len(numbers)-1):\n",
    "    sum+=numbers[i]\n",
    "sum"
   ]
  },
  {
   "cell_type": "code",
   "execution_count": 18,
   "id": "a80c1754-d626-42c9-8ae6-0cf0db8a7579",
   "metadata": {},
   "outputs": [
    {
     "name": "stdout",
     "output_type": "stream",
     "text": [
      "true\n",
      "true\n"
     ]
    }
   ],
   "source": [
    "# 9. Write a Python program to check if a list is a palindrome (reads the same backward\n",
    "# as forward) using two pointer approach\n",
    "# a. numbers = [1, 2, 3, 2, 1]\n",
    "# b. True\n",
    "numbers = [1, 2, 3, 2, 1]\n",
    "i=0\n",
    "j=len(numbers)-1\n",
    "while i<j:\n",
    "    if numbers[i]==numbers[j]:\n",
    "        i+=1\n",
    "        j-=1\n",
    "        print(\"true\")\n",
    "    else:\n",
    "        print(\"false\")"
   ]
  },
  {
   "cell_type": "code",
   "execution_count": 39,
   "id": "42a17598-c5bd-4c25-9840-647632859f2f",
   "metadata": {},
   "outputs": [
    {
     "name": "stdout",
     "output_type": "stream",
     "text": [
      "[1, 2, 3, 4, 5, 6]\n"
     ]
    }
   ],
   "source": [
    "# 10. Write a function to remove duplicate elements from a list.\n",
    "# a. numbers = [1, 2, 3, 2, 4, 5, 1, 6]\n",
    "# b. [1, 2, 3, 4, 5, 6]\n",
    "def func(numbers):\n",
    "    li=[]\n",
    "    for i in numbers:\n",
    "        if i not in li:\n",
    "            li.append(i)\n",
    "    return li\n",
    "numbers=[1, 2, 3, 2, 4, 5, 1, 6]\n",
    "print(func(numbers))"
   ]
  },
  {
   "cell_type": "code",
   "execution_count": 29,
   "id": "3f4ff978-e40f-4268-b567-2f2dff06d0f9",
   "metadata": {},
   "outputs": [
    {
     "data": {
      "text/plain": [
       "[3, 4, 5]"
      ]
     },
     "execution_count": 29,
     "metadata": {},
     "output_type": "execute_result"
    }
   ],
   "source": [
    "11# Find Common Elements in Two Lists\n",
    "# a. list1 = [1, 2, 3, 4, 5]\n",
    "# b. list2 = [3, 4,5, 6, 7]\n",
    "# c. Result: [3, 4, 5]\n",
    "list1 = [1, 2, 3, 4, 5]\n",
    "list2 = [3, 4, 5, 6, 7]\n",
    "result=[]\n",
    "for i in list1:\n",
    "    for j in list2:\n",
    "        if i==j:\n",
    "            result.append(i)\n",
    "result"
   ]
  },
  {
   "cell_type": "code",
   "execution_count": 8,
   "id": "5b683cd8-d100-43c9-9248-f66a115011ea",
   "metadata": {},
   "outputs": [
    {
     "data": {
      "text/plain": [
       "'strawberry'"
      ]
     },
     "execution_count": 8,
     "metadata": {},
     "output_type": "execute_result"
    }
   ],
   "source": [
    "# 12. Find the Longest Word in a List\n",
    "words = [\"apple\", \"banana\", \"strawberry\", \"kiwi\"]\n",
    "di={}\n",
    "for i in words:\n",
    "    a=len(i)\n",
    "    if i not in di:\n",
    "        di[i]=a\n",
    "    else:\n",
    "        di[i]=di[i]+1\n",
    "a=0\n",
    "di1=\"\"\n",
    "for j in di:\n",
    "    if di[j]>a:\n",
    "        a=di[j]\n",
    "        di1=j\n",
    "di1"
   ]
  },
  {
   "cell_type": "code",
   "execution_count": 3,
   "id": "cef9ff94-1cc6-4287-8b27-24b4ea0c2a9d",
   "metadata": {},
   "outputs": [
    {
     "name": "stdout",
     "output_type": "stream",
     "text": [
      "8\n"
     ]
    }
   ],
   "source": [
    "# 13. Find Missing Number in a List3\n",
    "nums = [9,6,4,2,3,5,7,0,1]\n",
    "for i in range(0,len(nums)+1):\n",
    "    if i not in nums:\n",
    "        print(i)"
   ]
  },
  {
   "cell_type": "code",
   "execution_count": 2,
   "id": "cf08ae32-bcc6-4715-933f-ad3c97091fa4",
   "metadata": {},
   "outputs": [
    {
     "name": "stdout",
     "output_type": "stream",
     "text": [
      "3\n"
     ]
    }
   ],
   "source": [
    "# 14. Find Missing Number in a List\n",
    "# You are given a list of n-1 numbers in the range 1 to n. One number is missing\n",
    "# from the sequence. Find the missing number.\n",
    "# a. numbers = [1, 2, 4, 5, 6]\n",
    "# b. 3\n",
    "numbers = [1, 2, 4, 5, 6]\n",
    "for j in range(1,len(numbers)+1):\n",
    "    if j not in numbers:\n",
    "        print(j)"
   ]
  },
  {
   "cell_type": "code",
   "execution_count": 28,
   "id": "54494713-6508-4866-afff-1c181ae69e35",
   "metadata": {},
   "outputs": [
    {
     "name": "stdout",
     "output_type": "stream",
     "text": [
      "1\n"
     ]
    }
   ],
   "source": [
    "# 15. Find the First Non-Repeating Element\n",
    "# Given a list of integers, find the first element that appears only once.\n",
    "# a. numbers = [4, 5, 1, 2, 0, 4, 5, 2]\n",
    "# b. Expected Output: 1\n",
    "\n",
    "numbers = [4, 5, 1, 2, 0, 4, 5, 2]\n",
    "di={}\n",
    "for i in numbers:\n",
    "    if i not in di:\n",
    "        di[i]=1\n",
    "    else:\n",
    "        di[i]=di[i]+1\n",
    "li=[]\n",
    "for i in di:\n",
    "    if di[i]==1:\n",
    "        li.append(i)\n",
    "print(li[0])"
   ]
  },
  {
   "cell_type": "code",
   "execution_count": 41,
   "id": "4ef0a97d-0734-4096-a841-c7506cbb53fe",
   "metadata": {},
   "outputs": [
    {
     "data": {
      "text/plain": [
       "[1, 3, 12, 0, 0]"
      ]
     },
     "execution_count": 41,
     "metadata": {},
     "output_type": "execute_result"
    }
   ],
   "source": [
    "# 16. Move All Zeros to the End\n",
    "# Given a list of integers, move all zeros to the end while maintaining the relative order\n",
    "# of non-zero elements. Don’t use any inbuilt functions\n",
    "# a. numbers = [0, 1, 0, 3, 12]\n",
    "# b. [1, 3, 12, 0, 0]\n",
    "numbers = [0, 1, 0, 3, 12]\n",
    "i=0\n",
    "for j in range(0,len(numbers)):\n",
    "    if numbers[j]!=0:\n",
    "        numbers[i],numbers[j]=numbers[j],numbers[i]\n",
    "        i+=1\n",
    "numbers"
   ]
  },
  {
   "cell_type": "code",
   "execution_count": 21,
   "id": "8a2d5c51-d863-4f90-8443-8b9cec6bab17",
   "metadata": {},
   "outputs": [
    {
     "data": {
      "text/plain": [
       "[3, 6, 8]"
      ]
     },
     "execution_count": 21,
     "metadata": {},
     "output_type": "execute_result"
    }
   ],
   "source": [
    "# 17. Find Elements Greater Than Their Left Neighbor\n",
    "# # a. numbers = [1, 3, 2, 6, 5, 8, 7]\n",
    "# # b. [3, 6, 8]\n",
    "numbers = [1, 3, 2, 6, 5, 8, 7]\n",
    "li=[]\n",
    "for i in range(0,len(numbers)):\n",
    "    for j in range(i+1,len(numbers)):\n",
    "        if numbers[i]<numbers[i+1] and numbers[i+1] not in li:\n",
    "            li.append(numbers[i+1])\n",
    "li"
   ]
  },
  {
   "cell_type": "code",
   "execution_count": 24,
   "id": "ab349f06-0ab5-4e9b-8cc9-05f8a5e64c09",
   "metadata": {},
   "outputs": [
    {
     "data": {
      "text/plain": [
       "[(-1, 2, -1), (-1, 1, 0), (-1, 1, 0)]"
      ]
     },
     "execution_count": 24,
     "metadata": {},
     "output_type": "execute_result"
    }
   ],
   "source": [
    "# 18. Find Triplets That Sum to Zero\n",
    "# Given a list of numbers, find all unique triplets (a, b, c) such that a + b + c = 0.\n",
    "# a. numbers = [-1, 0, 1, 2, -1, -4]\n",
    "# b. Expected Output: [(-1, -1, 2), (-1, 0, 1)]\n",
    "numbers = [-1, 0, 1, 2, -1, -4]\n",
    "li=[]\n",
    "numbers.sort()\n",
    "for i in range(0,len(numbers)):\n",
    "    k=i+1\n",
    "    j=len(numbers)-1\n",
    "    while k<j:\n",
    "        if numbers[i]+numbers[j]+numbers[k]==0:\n",
    "            if [numbers[i],numbers[j],numbers[k]] not in li:\n",
    "                li.append((numbers[i],numbers[j],numbers[k]))\n",
    "            k+=1\n",
    "            j-=1\n",
    "        elif numbers[i]+numbers[j]+numbers[k]<0:\n",
    "            k+=1\n",
    "        else:\n",
    "            j-=1\n",
    "li"
   ]
  },
  {
   "cell_type": "code",
   "execution_count": null,
   "id": "af0f14c6-4c89-47ba-ae7a-63133ac86cf9",
   "metadata": {},
   "outputs": [],
   "source": []
  }
 ],
 "metadata": {
  "kernelspec": {
   "display_name": "Python 3 (ipykernel)",
   "language": "python",
   "name": "python3"
  },
  "language_info": {
   "codemirror_mode": {
    "name": "ipython",
    "version": 3
   },
   "file_extension": ".py",
   "mimetype": "text/x-python",
   "name": "python",
   "nbconvert_exporter": "python",
   "pygments_lexer": "ipython3",
   "version": "3.11.7"
  }
 },
 "nbformat": 4,
 "nbformat_minor": 5
}
