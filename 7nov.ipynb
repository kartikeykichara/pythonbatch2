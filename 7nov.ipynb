{
 "cells": [
  {
   "cell_type": "code",
   "execution_count": 1,
   "id": "f4e23ef3-508c-4cbf-a23f-46608ec7fb92",
   "metadata": {},
   "outputs": [],
   "source": [
    "#iterable \n",
    "#function"
   ]
  },
  {
   "cell_type": "code",
   "execution_count": 3,
   "id": "97a19666-3a59-44ea-9eaf-b4ff2c56b65f",
   "metadata": {},
   "outputs": [
    {
     "data": {
      "text/plain": [
       "[100, 400, 900]"
      ]
     },
     "execution_count": 3,
     "metadata": {},
     "output_type": "execute_result"
    }
   ],
   "source": [
    "mylist=[10,20,30]\n",
    "def square(num):\n",
    "    return num**2\n",
    "list(map(square,mylist))\n",
    "list(map(lambda num :num%3==0,mylist)\n"
   ]
  },
  {
   "cell_type": "code",
   "execution_count": 5,
   "id": "b942196e-9e3c-47df-ac5a-3ebfa812388a",
   "metadata": {},
   "outputs": [
    {
     "data": {
      "text/plain": [
       "100"
      ]
     },
     "execution_count": 5,
     "metadata": {},
     "output_type": "execute_result"
    }
   ],
   "source": [
    "mylist=[10,20,30]\n",
    "def square(num):\n",
    "    return num**2\n",
    "out=map(square,mylist)\n",
    "next(out)\n",
    "         \n"
   ]
  },
  {
   "cell_type": "code",
   "execution_count": 7,
   "id": "3abc376e-348a-43c6-ae6a-57e90d6d1da2",
   "metadata": {},
   "outputs": [
    {
     "name": "stdout",
     "output_type": "stream",
     "text": [
      "10\n"
     ]
    }
   ],
   "source": [
    "#Exception Handling\n",
    "#handling the error=> terminate\n",
    "print(10)\n",
    "# print(num124)"
   ]
  },
  {
   "cell_type": "code",
   "execution_count": 15,
   "id": "2fbd8fff-12ae-47de-81d3-cc11a97dc1e8",
   "metadata": {},
   "outputs": [
    {
     "name": "stdout",
     "output_type": "stream",
     "text": [
      "10\n",
      "error occured can only concatenate str (not \"int\") to str\n",
      "hey\n"
     ]
    }
   ],
   "source": [
    "try:\n",
    "    print(10)\n",
    "    \"hey\"+10\n",
    "    print(num124)\n",
    "except (NameError,TypeError) as e:\n",
    "    print(\"error occured\",e)\n",
    "except exception as e:\n",
    "    print(\" All error occured\",e)\n",
    "finally:\n",
    "    print(\"hey\")\n"
   ]
  },
  {
   "cell_type": "code",
   "execution_count": null,
   "id": "0ac52179-c568-40ed-86b0-9e5bfd4c3169",
   "metadata": {},
   "outputs": [],
   "source": []
  }
 ],
 "metadata": {
  "kernelspec": {
   "display_name": "Python 3 (ipykernel)",
   "language": "python",
   "name": "python3"
  },
  "language_info": {
   "codemirror_mode": {
    "name": "ipython",
    "version": 3
   },
   "file_extension": ".py",
   "mimetype": "text/x-python",
   "name": "python",
   "nbconvert_exporter": "python",
   "pygments_lexer": "ipython3",
   "version": "3.11.7"
  }
 },
 "nbformat": 4,
 "nbformat_minor": 5
}
