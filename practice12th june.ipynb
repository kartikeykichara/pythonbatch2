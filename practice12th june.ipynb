{
 "cells": [
  {
   "cell_type": "code",
   "execution_count": 1,
   "id": "4a5f03e6-ac51-4e31-9296-9f5228d2d9e3",
   "metadata": {},
   "outputs": [],
   "source": [
    "# Why a is b Returns False for \"hello world\"\n",
    "# The behavior you're observing is due to Python's string interning optimization, which has specific rules about which strings get interned (made into single shared objects). Here's the detailed explanation:\n",
    "\n",
    "# 1. For Small, Simple Strings (\"hello\"):\n",
    "# python\n",
    "# a = \"hello\"\n",
    "# b = \"hello\"\n",
    "# print(a is b)  # True\n",
    "# Python automatically interns short strings (typically those that look like identifiers, or are very small).\n",
    "\n",
    "# This is an optimization to save memory, since these strings are often reused (e.g., variable names, dictionary keys).\n",
    "\n",
    "# Both a and b point to the same memory object.\n",
    "\n",
    "# 2. For Larger or Complex Strings (\"hello world\"):\n",
    "# python\n",
    "# a = \"hello world\"\n",
    "# b = \"hello world\"\n",
    "# print(a is b)  # False (usually)\n",
    "# Longer strings (or strings with spaces/special characters) are not automatically interned by Python.\n",
    "\n",
    "# Each assignment creates a new string object in memory.\n",
    "\n",
    "# Thus, a and b are different objects, even though their values are equal (a == b is True).\n",
    "\n",
    "# Key Points About String Interning:\n",
    "# Not Guaranteed by the Language:\n",
    "\n",
    "# String interning is an implementation detail (CPython does it as an optimization, but it's not required by Python's specification).\n",
    "\n",
    "# You should never rely on is for string comparisons—use == instead.\n",
    "\n",
    "# Rules of Thumb for Interning:\n",
    "\n",
    "# Interned: Short strings (often ≤ 20 chars), strings that look like identifiers (\"hello\"), or strings created at compile time (e.g., literals in code).\n",
    "\n",
    "# Not Interned: Longer strings, strings created dynamically (e.g., via concatenation or I/O), or strings with spaces/special chars.\n",
    "\n",
    "# Force Interning Explicitly:\n",
    "# You can manually intern strings using sys.intern():\n",
    "\n",
    "# python\n",
    "# import sys\n",
    "# a = sys.intern(\"hello world\")\n",
    "# b = sys.intern(\"hello world\")\n",
    "# print(a is b)  # True (now explicitly interned)\n",
    "# Why This Behavior?\n",
    "# Memory Efficiency: Interning avoids duplicate storage of common strings (like variable names).\n",
    "\n",
    "# Performance: Faster dictionary lookups for identifiers (since is comparisons are quicker than ==).\n",
    "\n",
    "# Safety: Not interning all strings prevents excessive memory usage for large or dynamic strings.\n",
    "\n",
    "# Demonstration:\n",
    "# python\n",
    "# import sys\n",
    "\n",
    "# # Small string (interned)\n",
    "# a = \"hello\"\n",
    "# b = \"hello\"\n",
    "# print(a is b)  # True\n",
    "\n",
    "# # Larger string (not interned)\n",
    "# a = \"hello world\"\n",
    "# b = \"hello world\"\n",
    "# print(a is b)  # False\n",
    "\n",
    "# # Force interning\n",
    "# a = sys.intern(\"hello world\")\n",
    "# b = sys.intern(\"hello world\")\n",
    "# print(a is b)  # True\n",
    "# When to Care About This?\n",
    "# Use == for String Comparisons: Always. is checks identity, not equality.\n",
    "\n",
    "# Use sys.intern() only in extreme optimizations (e.g., when storing millions of duplicate strings).\n",
    "\n",
    "# Final Answer:\n",
    "# \"hello\" is interned → a is b is True.\n",
    "\n",
    "# \"hello world\" is not interned by default → a is b is False.\n",
    "\n",
    "# This behavior is implementation-specific and can vary across Python versions or interpreters. Never depend on it in production code!a"
   ]
  },
  {
   "cell_type": "code",
   "execution_count": 2,
   "id": "42282c9f-4ecf-4dc9-bfc8-455933925dea",
   "metadata": {},
   "outputs": [
    {
     "name": "stdout",
     "output_type": "stream",
     "text": [
      "0\n",
      "1\n",
      "2\n",
      "3\n",
      "4\n"
     ]
    }
   ],
   "source": [
    "for i in range(5):\n",
    "    print(i)\n",
    "    i = 10  # Does this affect the loop?"
   ]
  },
  {
   "cell_type": "code",
   "execution_count": 4,
   "id": "77cbfab7-a1eb-4ed1-97a7-f07c4c5e18ed",
   "metadata": {},
   "outputs": [
    {
     "ename": "TypeError",
     "evalue": "'tuple' object does not support item assignment",
     "output_type": "error",
     "traceback": [
      "\u001b[1;31m---------------------------------------------------------------------------\u001b[0m",
      "\u001b[1;31mTypeError\u001b[0m                                 Traceback (most recent call last)",
      "Cell \u001b[1;32mIn[4], line 2\u001b[0m\n\u001b[0;32m      1\u001b[0m t \u001b[38;5;241m=\u001b[39m (\u001b[38;5;241m1\u001b[39m, [\u001b[38;5;241m2\u001b[39m])\n\u001b[1;32m----> 2\u001b[0m t[\u001b[38;5;241m1\u001b[39m] \u001b[38;5;241m+\u001b[39m\u001b[38;5;241m=\u001b[39m [\u001b[38;5;241m3\u001b[39m]\n\u001b[0;32m      3\u001b[0m t\n",
      "\u001b[1;31mTypeError\u001b[0m: 'tuple' object does not support item assignment"
     ]
    }
   ],
   "source": [
    "t = (1, [2])\n",
    "t[1] += [3]\n",
    "t"
   ]
  },
  {
   "cell_type": "code",
   "execution_count": 9,
   "id": "1fef7400-5080-442e-94f2-2b31d88caca6",
   "metadata": {},
   "outputs": [
    {
     "data": {
      "text/plain": [
       "'hello world'"
      ]
     },
     "execution_count": 9,
     "metadata": {},
     "output_type": "execute_result"
    }
   ],
   "source": [
    "s = \"hello\"\n",
    "s += \" world\"\n",
    "s"
   ]
  },
  {
   "cell_type": "code",
   "execution_count": 10,
   "id": "cfa49f2b-e70b-4077-8d10-4823ef59aec2",
   "metadata": {},
   "outputs": [],
   "source": [
    "# 3. The Immutable Deception\n",
    "# python\n",
    "# s = \"hello\"\n",
    "# s += \" world\"\n",
    "# Q: Is the original s modified?\n",
    "# A: No (New string created, original remains in memory)\n",
    "\n",
    "# a"
   ]
  },
  {
   "cell_type": "code",
   "execution_count": 11,
   "id": "6012c040-3419-4bc9-84de-752fa957c5ce",
   "metadata": {},
   "outputs": [],
   "source": [
    "# 4. The Dictionary Betrayal\n",
    "# python\n",
    "# d = {1: 'a', True: 'b'}\n",
    "# Q: What's d?\n",
    "# A: {1: 'b'} (True == 1 so last value wins)"
   ]
  },
  {
   "cell_type": "code",
   "execution_count": 12,
   "id": "97acad89-64a6-4769-9be8-b6f9c4b00ef5",
   "metadata": {},
   "outputs": [],
   "source": [
    "# 5. The Frozen Surprise\n",
    "# python\n",
    "# fs = frozenset([1, [2]])\n",
    "# Q: Does this work?\n",
    "# A: TypeError (Can't put mutable list in frozenset)"
   ]
  },
  {
   "cell_type": "code",
   "execution_count": 13,
   "id": "840bfb5d-3727-413c-bccf-961877046139",
   "metadata": {},
   "outputs": [],
   "source": [
    "# # 6. The Self-Referential Trap\n",
    "# python\n",
    "# lst = [1]\n",
    "# lst.append(lst)\n",
    "# Q: What's len(lst)?\n",
    "# A: 2 (Contains [1, [...]] - ellipsis shows self-reference)"
   ]
  },
  {
   "cell_type": "code",
   "execution_count": 18,
   "id": "58089d61-a2bc-4830-a30e-897c427ec756",
   "metadata": {},
   "outputs": [],
   "source": [
    "# t = (1, [2])\n",
    "# t[1].append(3)\n",
    "# t\n",
    "\n",
    "# plus nhi ho skta hai but tuple ke andar ek list h to usko modify kr skte hai \n"
   ]
  },
  {
   "cell_type": "code",
   "execution_count": 19,
   "id": "20c210a3-132e-45e0-aa78-ce129ab1a0ff",
   "metadata": {},
   "outputs": [],
   "source": [
    "# 9. The Double Append\n",
    "# python\n",
    "# a = []\n",
    "# b = a\n",
    "# a += [1]\n",
    "# a = a + [2]\n",
    "# Q: What's b?\n",
    "# A: [1] (+= modifies in-place, + creates new object)"
   ]
  },
  {
   "cell_type": "code",
   "execution_count": 20,
   "id": "76a6d652-5979-4061-9dbd-903aca05363f",
   "metadata": {},
   "outputs": [],
   "source": [
    "# Deep Dive: String Interning in Python\n",
    "# The behavior you're observing is due to Python's string interning optimization, which has specific rules about which strings get automatically interned (made into single shared objects). Let's break down why \"hello\" and \"hello!\" behave differently:\n",
    "\n",
    "# 1. For Simple Strings (\"hello\"):\n",
    "# python\n",
    "# a = \"hello\"\n",
    "# b = \"hello\"\n",
    "# print(a is b)  # Output: True\n",
    "# Python automatically interns:\n",
    "\n",
    "# Short strings (typically ≤ 20 chars)\n",
    "\n",
    "# Strings that look like identifiers (no spaces/special chars)\n",
    "\n",
    "# String literals in code (compile-time constants)\n",
    "\n",
    "# Both variables point to the same memory object\n",
    "\n",
    "# 2. For Complex Strings (\"hello!\"):\n",
    "# python\n",
    "# a = \"hello!\"\n",
    "# b = \"hello!\"\n",
    "# print(a is b)  # Output: Usually False\n",
    "# Python does NOT intern:\n",
    "\n",
    "# Strings with punctuation/special chars (!, ?, , etc.)\n",
    "\n",
    "# Longer strings\n",
    "\n",
    "# Strings created dynamically (e.g., via concatenation)\n",
    "\n",
    "# Each assignment creates a new string object\n",
    "\n"
   ]
  },
  {
   "cell_type": "code",
   "execution_count": 21,
   "id": "f19de6b8-f756-436d-9feb-d1854f693782",
   "metadata": {},
   "outputs": [],
   "source": [
    "# The Self-Destructing List\n",
    "# python\n",
    "# lst = [1, 2, 3]\n",
    "# for i in lst:\n",
    "#     lst.remove(i)\n",
    "# print(lst)\n",
    "# A: [2] (Modifying a list while iterating causes skipped elements)\n",
    "\n",
    "# how only 2 us remove\n",
    "# Deep Dive: The Self-Destructing List\n",
    "# This behavior occurs because Python's list iterator works with internal indexes, and modifying the list while iterating disrupts the expected sequence. Here's exactly what happens:\n",
    "\n",
    "# Step-by-Step Execution:\n",
    "# Initial List: [1, 2, 3]\n",
    "\n",
    "# Iterator starts at index 0\n",
    "\n",
    "# First Iteration (i = 1):\n",
    "\n",
    "# Process element at index 0 (value = 1)\n",
    "\n",
    "# lst.remove(1) is called\n",
    "\n",
    "# List becomes [2, 3] (element removed, remaining items shift left)\n",
    "\n",
    "# Iterator moves to index 1\n",
    "\n",
    "# Second Iteration:\n",
    "\n",
    "# Now checking index 1 (which holds 3 after the shift)\n",
    "\n",
    "# i takes value 3 (skips 2 completely!)\n",
    "\n",
    "# lst.remove(3) executes\n",
    "\n",
    "# List becomes [2]\n",
    "\n",
    "# Termination:\n",
    "\n",
    "# Iterator would next check index 2, but list length is now 1\n",
    "\n",
    "# Loop ends\n",
    "\n",
    "# Visual Timeline:\n",
    "# Iteration\tIndex\tList Before\tCurrent i\tAfter remove(i)\n",
    "# 1\t0\t[1, 2, 3]\t1\t[2, 3]\n",
    "# 2\t1\t[2, 3]\t3\t[2]\n",
    "# Why Element 2 Survives:\n",
    "# The iterator never evaluates index 0 in the second pass\n",
    "\n",
    "# After first removal:\n",
    "\n",
    "# 2 moves to index 0\n",
    "\n",
    "# 3 moves to index 1\n",
    "\n",
    "# Iterator advances to index 1 (skipping the new index 0)\n",
    "\n",
    "# How to Properly Remove All Elements:\n",
    "# Create a Copy:\n",
    "\n",
    "# python\n",
    "# for i in lst.copy():\n",
    "#     lst.remove(i)\n",
    "# While Loop:\n",
    "\n",
    "# python\n",
    "# while lst:\n",
    "#     lst.pop()\n",
    "# Clear Method:\n",
    "\n",
    "# python\n",
    "# lst.clear()\n",
    "# Key Takeaways:\n",
    "# Never modify a list while iterating over it\n",
    "\n",
    "# Iterator uses internal indexes that don't adjust for modifications\n",
    "\n",
    "# Elements shift left during removal, causing skipped indexes\n",
    "\n",
    "# This behavior applies to:\n",
    "\n",
    "# list.remove()\n",
    "\n",
    "# list.pop()\n",
    "\n",
    "# list.insert()\n",
    "\n",
    "# Any operation that changes list length during iteration\n",
    "\n",
    "# Real-World Impact:\n",
    "# A major e-commerce platform once had a bug where customer carts would randomly retain items because of this exact pattern in their checkout system. The fix was:\n",
    "\n",
    "# python\n",
    "# # Before (buggy)\n",
    "# for item in cart_items:\n",
    "#     if should_remove(item):\n",
    "#         cart_items.remove(item)\n"
   ]
  },
  {
   "cell_type": "code",
   "execution_count": 22,
   "id": "dbe5fa31-3d54-4b05-864f-8ea629bf3e13",
   "metadata": {},
   "outputs": [
    {
     "name": "stdout",
     "output_type": "stream",
     "text": [
      "[1, 2, 3, 4] [1, 2, 3, 4]\n"
     ]
    }
   ],
   "source": [
    "a = [1, 2, 3]\n",
    "b = a\n",
    "a += [4]\n",
    "print(a, b)\n"
   ]
  },
  {
   "cell_type": "code",
   "execution_count": 23,
   "id": "02f61931-6fe3-4377-b4d5-ce644993135c",
   "metadata": {},
   "outputs": [
    {
     "name": "stdout",
     "output_type": "stream",
     "text": [
      "{'x': 1, 'y': 3, 'z': 4}\n"
     ]
    }
   ],
   "source": [
    "a = {'x': 1, 'y': 2}\n",
    "b = {'y': 3, 'z': 4}\n",
    "a.update(b)\n",
    "print(a)\n"
   ]
  },
  {
   "cell_type": "code",
   "execution_count": 24,
   "id": "4391dcf9-f1ac-40b5-9041-e2d930b89d37",
   "metadata": {},
   "outputs": [
    {
     "name": "stdout",
     "output_type": "stream",
     "text": [
      "[1]\n",
      "[1, 1]\n"
     ]
    }
   ],
   "source": [
    "def foo(x=[]):\n",
    "    x.append(1)\n",
    "    return x\n",
    "\n",
    "print(foo())\n",
    "print(foo())\n"
   ]
  },
  {
   "cell_type": "code",
   "execution_count": 25,
   "id": "d92454b1-1f7f-4514-8292-848854cfa566",
   "metadata": {},
   "outputs": [
    {
     "data": {
      "text/plain": [
       "[1, 2, 3, 4, 5, 6]"
      ]
     },
     "execution_count": 25,
     "metadata": {},
     "output_type": "execute_result"
    }
   ],
   "source": [
    "li = [1, [2, 3], 4, [5, 6]]\n",
    "li1=[]\n",
    "for i in li:\n",
    "    if type(i)==list:\n",
    "        for j in i:\n",
    "            li1.append(j)\n",
    "    else:\n",
    "        li1.append(i)\n",
    "li1"
   ]
  },
  {
   "cell_type": "code",
   "execution_count": null,
   "id": "a2c2929d-888f-4301-9e0b-c4d8bc7de25e",
   "metadata": {},
   "outputs": [],
   "source": []
  }
 ],
 "metadata": {
  "kernelspec": {
   "display_name": "Python 3 (ipykernel)",
   "language": "python",
   "name": "python3"
  },
  "language_info": {
   "codemirror_mode": {
    "name": "ipython",
    "version": 3
   },
   "file_extension": ".py",
   "mimetype": "text/x-python",
   "name": "python",
   "nbconvert_exporter": "python",
   "pygments_lexer": "ipython3",
   "version": "3.11.7"
  }
 },
 "nbformat": 4,
 "nbformat_minor": 5
}
