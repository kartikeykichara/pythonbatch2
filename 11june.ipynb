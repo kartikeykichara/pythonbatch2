{
 "cells": [
  {
   "cell_type": "code",
   "execution_count": 1,
   "id": "029d57c6-152f-4ee7-b927-f9f3c2cc2b6e",
   "metadata": {},
   "outputs": [],
   "source": [
    "# Why {1: 'a', True: 'b'} becomes {1: 'b'}\n",
    "# In Python, dictionaries cannot have duplicate keys. When you write:\n",
    "\n",
    "# python\n",
    "# d = {1: 'a', True: 'b'}\n",
    "# print(d)  # Output: {1: 'b'}\n",
    "# Here’s what happens behind the scenes:\n",
    "\n",
    "# Key Points:\n",
    "# 1 and True are considered the same key in a dictionary because:\n",
    "\n",
    "# In Python, 1 == True evaluates to True (they are \"equal\" in value).\n",
    "\n",
    "# Dictionary keys are hashed, and both 1 and True hash to the same value:\n",
    "\n",
    "# python\n",
    "# print(hash(1))      # Output: 1\n",
    "# print(hash(True))   # Output: 1\n",
    "# Key Uniqueness Rule:\n",
    "\n",
    "# When a dictionary encounters two keys that are \"equal\" (like 1 and True), it keeps the last key-value pair and discards the earlier one.\n",
    "\n",
    "# So True: 'b' overwrites 1: 'a'.\n",
    "\n",
    "# Step-by-Step Execution:\n",
    "# Python processes the first key-value pair: 1: 'a'.\n",
    "\n",
    "# When it encounters True: 'b', it checks if True is already a key.\n",
    "\n",
    "# Since 1 == True and hash(1) == hash(True), Python treats them as the same key.\n",
    "\n",
    "# The dictionary replaces 1: 'a' with True: 'b'.\n",
    "\n",
    "# Finally, Python displays 1: 'b' (not True: 'b') because:\n",
    "\n",
    "# 1 and True are equal, but 1 was the first literal used in the dictionary definition.\n",
    "\n",
    "# Internally, Python retains the first key's literal representation for consistency.\n",
    "\n",
    "# Proof of Concept:\n",
    "# python\n",
    "# d = {True: 'b', 1: 'a'}\n",
    "# print(d)  # Output: {True: 'a'} (now True is kept as the key)\n",
    "# Here, True: 'b' is overwritten by 1: 'a', but the dictionary displays True because it appeared first.\n",
    "\n",
    "# Why This Behavior?\n",
    "# Python’s dictionary implementation optimizes for fast lookups using hash values.\n",
    "\n",
    "# If two keys have the same hash and are equal (==), they are treated as identical keys.\n",
    "\n",
    "# This is why False and 0 also collide:\n",
    "\n",
    "# python\n",
    "# d = {False: 'no', 0: 'zero'}\n",
    "# print(d)  # Output: {False: 'zero'}\n",
    "# Key Takeaways:\n",
    "# Dictionary keys must be unique (based on == and hash()).\n",
    "\n",
    "# 1 and True are treated as the same key, as are 0 and False.\n",
    "\n",
    "# The last duplicate key's value wins.\n",
    "\n",
    "# The dictionary displays the first key's literal form for consistency.\n",
    "\n",
    "# How to Avoid This Pitfall:\n",
    "# Use keys with distinct values/hashes (e.g., 1 and 2 instead of 1 and True).\n",
    "\n",
    "# If you need to distinguish 1 and True, use different data structures (e.g., tuples as keys):\n",
    "\n",
    "# python\n",
    "# d = {(1, 'int'): 'a', (True, 'bool'): 'b'}\n",
    "# print(d)  # Output: {(1, 'int'): 'a', (True, 'bool'): 'b'}\n",
    "# Final Answer:\n",
    "# The output is {1: 'b'} because:"
   ]
  },
  {
   "cell_type": "code",
   "execution_count": 2,
   "id": "abd9568f-e045-4e1b-9a45-94f68b480e0f",
   "metadata": {},
   "outputs": [],
   "source": [
    "# 1. The Disappearing List\n",
    "# python\n",
    "# a = [1, 2, 3]\n",
    "# b = a\n",
    "# a += [4]  # Modifies both a and b\n",
    "# a = a + [5]  # Creates new object\n",
    "# print(b)  # What's output?\n",
    "# Answer: [1, 2, 3, 4]\n",
    "# Trick: += modifies in-place while + creates new object\n",
    "\n"
   ]
  },
  {
   "cell_type": "code",
   "execution_count": 4,
   "id": "9c118587-7078-490b-90a7-17c29a0d0800",
   "metadata": {},
   "outputs": [
    {
     "ename": "TypeError",
     "evalue": "'tuple' object does not support item assignment",
     "output_type": "error",
     "traceback": [
      "\u001b[1;31m---------------------------------------------------------------------------\u001b[0m",
      "\u001b[1;31mTypeError\u001b[0m                                 Traceback (most recent call last)",
      "Cell \u001b[1;32mIn[4], line 2\u001b[0m\n\u001b[0;32m      1\u001b[0m t \u001b[38;5;241m=\u001b[39m (\u001b[38;5;241m1\u001b[39m, [\u001b[38;5;241m2\u001b[39m])\n\u001b[1;32m----> 2\u001b[0m t[\u001b[38;5;241m1\u001b[39m] \u001b[38;5;241m+\u001b[39m\u001b[38;5;241m=\u001b[39m [\u001b[38;5;241m3\u001b[39m] \n\u001b[0;32m      3\u001b[0m t[\u001b[38;5;241m1\u001b[39m]\n",
      "\u001b[1;31mTypeError\u001b[0m: 'tuple' object does not support item assignment"
     ]
    }
   ],
   "source": [
    "t = (1, [2])\n",
    "t[1] += [3] \n",
    "t[1]"
   ]
  },
  {
   "cell_type": "code",
   "execution_count": 5,
   "id": "3925c063-a3c9-4664-85ff-c1ad5255ac95",
   "metadata": {},
   "outputs": [],
   "source": [
    "# 3. Dictionary Key Collision\n",
    "# python\n",
    "# d = {True: 'yes', 1: 'no', 1.0: 'maybe'}\n",
    "# print(d)  # What's output?\n",
    "# Answer: {True: 'maybe'}\n",
    "# Reason: True == 1 == 1.0 and last value wins"
   ]
  },
  {
   "cell_type": "code",
   "execution_count": 6,
   "id": "7fc9b436-400a-4188-a535-b95a95886088",
   "metadata": {},
   "outputs": [],
   "source": [
    "# 4. The Vanishing Boolean\n",
    "# python\n",
    "# x = True\n",
    "# y = 1\n",
    "# print(x + y)  # What's output?\n",
    "# Answer: 2\n",
    "# Trick: True equals 1 in numeric contexts"
   ]
  },
  {
   "cell_type": "code",
   "execution_count": 8,
   "id": "2517ebcd-1443-4b45-861c-29a69be0af2f",
   "metadata": {},
   "outputs": [
    {
     "ename": "UnboundLocalError",
     "evalue": "cannot access local variable 'x' where it is not associated with a value",
     "output_type": "error",
     "traceback": [
      "\u001b[1;31m---------------------------------------------------------------------------\u001b[0m",
      "\u001b[1;31mUnboundLocalError\u001b[0m                         Traceback (most recent call last)",
      "Cell \u001b[1;32mIn[8], line 7\u001b[0m\n\u001b[0;32m      4\u001b[0m     \u001b[38;5;28mprint\u001b[39m(x)    \u001b[38;5;66;03m# Try to print global x\u001b[39;00m\n\u001b[0;32m      5\u001b[0m     x \u001b[38;5;241m=\u001b[39m \u001b[38;5;241m20\u001b[39m      \u001b[38;5;66;03m# Later assignment\u001b[39;00m\n\u001b[1;32m----> 7\u001b[0m foo()\n",
      "Cell \u001b[1;32mIn[8], line 4\u001b[0m, in \u001b[0;36mfoo\u001b[1;34m()\u001b[0m\n\u001b[0;32m      3\u001b[0m \u001b[38;5;28;01mdef\u001b[39;00m \u001b[38;5;21mfoo\u001b[39m():\n\u001b[1;32m----> 4\u001b[0m     \u001b[38;5;28mprint\u001b[39m(x)    \u001b[38;5;66;03m# Try to print global x\u001b[39;00m\n\u001b[0;32m      5\u001b[0m     x \u001b[38;5;241m=\u001b[39m \u001b[38;5;241m20\u001b[39m\n",
      "\u001b[1;31mUnboundLocalError\u001b[0m: cannot access local variable 'x' where it is not associated with a value"
     ]
    }
   ],
   "source": [
    "x = 10          # Global variable\n",
    "\n",
    "def foo():\n",
    "    print(x)    # Try to print global x\n",
    "    x = 20      # Later assignment\n",
    "\n",
    "foo()           "
   ]
  },
  {
   "cell_type": "code",
   "execution_count": 9,
   "id": "345faf0e-8cd3-4540-8ce1-5ed68b4c0756",
   "metadata": {},
   "outputs": [],
   "source": [
    "# The Phantom Colon Mystery Explained\n",
    "# Let's dissect this code carefully to understand why it behaves this way:\n",
    "\n",
    "# Original Code:\n",
    "# python\n",
    "# if True:\n",
    "#     print(\"A\")\n",
    "#     print(\"B\")\n",
    "# else:\n",
    "#     print(\"C\")\n",
    "# print(\"D\")\n",
    "# What You Might Expect:\n",
    "# At first glance, it appears there's a missing colon after else, which should be a syntax error. But surprisingly, this code runs and outputs:\n",
    "\n",
    "# text\n",
    "# A\n",
    "# B\n",
    "# D\n",
    "# Why This Works: The Hidden Truth\n",
    "# The else Line is Actually Valid:\n",
    "\n",
    "# The line else: is perfectly valid Python syntax - it's a complete else clause.\n",
    "\n",
    "# The \"phantom\" part is that there's no indented block after it, which is allowed in Python.\n",
    "\n",
    "# How Python Interprets This:\n",
    "\n",
    "# python\n",
    "# if True:        # Condition is True\n",
    "#     print(\"A\")  # Execute this\n",
    "#     print(\"B\")  # And this\n",
    "# else:           # This clause is skipped\n",
    "#     print(\"C\")  # Never reached\n",
    "# print(\"D\")      # Always executes (not part of the else)\n",
    "# Why No Syntax Error?:\n",
    "\n",
    "# Python permits empty blocks after else (though it's unusual).\n",
    "\n",
    "# The else: line by itself is valid, and the print(\"C\") is actually at the same level as the if/else, not indented under else.\n",
    "\n",
    "# What Actually Happens:\n",
    "\n",
    "# Since True is always true:\n",
    "\n",
    "# print(\"A\") and print(\"B\") execute\n",
    "\n",
    "# The else clause is skipped entirely\n",
    "\n",
    "# print(\"D\") executes because it's not part of the else block\n",
    "\n",
    "# The Real Trick: Indentation Illusion\n",
    "# The apparent \"missing colon\" is actually a trick of indentation:\n",
    "\n",
    "# python\n",
    "# else:           # This is a valid, complete else clause\n",
    "# print(\"C\")      # This is NOT part of the else block!\n",
    "# The print(\"C\") is at the same indentation level as the if/else, making it a separate statement that never runs because it comes after an else.\n",
    "\n",
    "# How to Make It Fail (If That's What You Wanted)\n",
    "# If you wanted the else to control print(\"C\"), proper indentation would be:\n",
    "\n",
    "# python\n",
    "# if True:\n",
    "#     print(\"A\")\n",
    "#     print(\"B\")\n",
    "# else:\n",
    "#     print(\"C\")  # Now properly indented under else\n",
    "# print(\"D\")      # This will always print\n",
    "# Key Takeaways:\n",
    "# else: is a complete statement - it doesn't require an indented block to be valid.\n",
    "\n",
    "# Indentation determines block membership - print(\"C\") wasn't part of the else block.\n",
    "\n",
    "# Python is permissive about empty blocks - though unusual, they're syntactically valid.\n",
    "\n",
    "# Always check indentation carefully - what looks like a missing colon might be correct but misleading indentation.\n",
    "\n",
    "# Why This Example is Tricky\n",
    "# It plays on our expectation that else should control something\n",
    "\n",
    "# The lack of indentation after else: is visually deceptive\n",
    "\n",
    "# Shows how Python's significant whitespace can create subtle \"gotchas\"\n",
    "\n",
    "# This is a great example of why consistent, clear indentation is crucial in Python!"
   ]
  },
  {
   "cell_type": "code",
   "execution_count": 10,
   "id": "17ecec42-22a6-4f24-97fd-8efab3f48058",
   "metadata": {},
   "outputs": [],
   "source": [
    "# 13. The Floating Point Trap\n",
    "# python\n",
    "# print(0.1 + 0.2 == 0.3)  # True or False?\n",
    "# Answer: False\n",
    "# Reason: Floating point precision (actual sum is ~0.30000000000000004)"
   ]
  },
  {
   "cell_type": "code",
   "execution_count": 11,
   "id": "8d1daaf7-5c3a-4753-96c8-6d17174d3d40",
   "metadata": {},
   "outputs": [],
   "source": [
    "# 14. The Unpacking Surprise\n",
    "# python\n",
    "# a, *b = (1,)\n",
    "# print(a, b)  # What's output?\n",
    "# Answer: 1 []\n",
    "# Trick: Starred assignment always gives a list, even if empty"
   ]
  },
  {
   "cell_type": "code",
   "execution_count": 12,
   "id": "57e288bb-a303-4b03-87d5-70b0d3f227b6",
   "metadata": {},
   "outputs": [],
   "source": [
    "# Bonus: The Ultimate Python Paradox\n",
    "# python\n",
    "# import this\n",
    "# # Then try to predict output of:\n",
    "# print(this is not this)\n",
    "# Answer: True (on some implementations)\n",
    "# Mind-bender: The this module plays tricks with module reloading\n",
    "\n"
   ]
  },
  {
   "cell_type": "code",
   "execution_count": 13,
   "id": "5abeb812-32a7-413d-bfbc-0b2d8f4381b2",
   "metadata": {},
   "outputs": [],
   "source": [
    "# 3. The Phantom Colon Returns\n",
    "# python\n",
    "# if False:\n",
    "#     print(\"A\")\n",
    "#     print(\"B\")\n",
    "# else:\n",
    "# print(\"C\")  # What happens?\n",
    "# Answer: IndentationError\n",
    "# Why: Unlike the previous example, this is truly invalid indentation\n",
    "\n"
   ]
  },
  {
   "cell_type": "code",
   "execution_count": 14,
   "id": "614eefa9-72f7-4413-845a-3573a115fcfd",
   "metadata": {},
   "outputs": [
    {
     "ename": "RuntimeError",
     "evalue": "dictionary changed size during iteration",
     "output_type": "error",
     "traceback": [
      "\u001b[1;31m---------------------------------------------------------------------------\u001b[0m",
      "\u001b[1;31mRuntimeError\u001b[0m                              Traceback (most recent call last)",
      "Cell \u001b[1;32mIn[14], line 2\u001b[0m\n\u001b[0;32m      1\u001b[0m d \u001b[38;5;241m=\u001b[39m {\u001b[38;5;241m1\u001b[39m: \u001b[38;5;124m'\u001b[39m\u001b[38;5;124ma\u001b[39m\u001b[38;5;124m'\u001b[39m, \u001b[38;5;241m2\u001b[39m: \u001b[38;5;124m'\u001b[39m\u001b[38;5;124mb\u001b[39m\u001b[38;5;124m'\u001b[39m}\n\u001b[1;32m----> 2\u001b[0m \u001b[38;5;28;01mfor\u001b[39;00m k \u001b[38;5;129;01min\u001b[39;00m d:\n\u001b[0;32m      3\u001b[0m     \u001b[38;5;28;01mdel\u001b[39;00m d[k]\n",
      "\u001b[1;31mRuntimeError\u001b[0m: dictionary changed size during iteration"
     ]
    }
   ],
   "source": [
    "# d = {1: 'a', 2: 'b'}\n",
    "# for k in d:\n",
    "#     del d[k]"
   ]
  },
  {
   "cell_type": "code",
   "execution_count": null,
   "id": "547ac4bb-33dd-451c-80c5-c23bb9928364",
   "metadata": {},
   "outputs": [],
   "source": []
  }
 ],
 "metadata": {
  "kernelspec": {
   "display_name": "Python 3 (ipykernel)",
   "language": "python",
   "name": "python3"
  },
  "language_info": {
   "codemirror_mode": {
    "name": "ipython",
    "version": 3
   },
   "file_extension": ".py",
   "mimetype": "text/x-python",
   "name": "python",
   "nbconvert_exporter": "python",
   "pygments_lexer": "ipython3",
   "version": "3.11.7"
  }
 },
 "nbformat": 4,
 "nbformat_minor": 5
}
