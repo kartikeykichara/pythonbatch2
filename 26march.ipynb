{
 "cells": [
  {
   "cell_type": "code",
   "execution_count": 1,
   "id": "e4ec033e-149c-4eb5-9ea1-7f085ab5910e",
   "metadata": {},
   "outputs": [],
   "source": [
    "# set \n",
    "# datatype\n",
    "# unique\n",
    "# {}"
   ]
  },
  {
   "cell_type": "code",
   "execution_count": 2,
   "id": "02c2215d-d5b7-488e-82f3-0003f1a5a8a4",
   "metadata": {},
   "outputs": [
    {
     "name": "stdout",
     "output_type": "stream",
     "text": [
      "{10, 20, 34, 30}\n"
     ]
    }
   ],
   "source": [
    "myset={10,20,30,34,10}\n",
    "print(myset)"
   ]
  },
  {
   "cell_type": "code",
   "execution_count": 3,
   "id": "9d323a44-0664-4877-9790-9ea1d42cdc49",
   "metadata": {},
   "outputs": [
    {
     "data": {
      "text/plain": [
       "<function set.update>"
      ]
     },
     "execution_count": 3,
     "metadata": {},
     "output_type": "execute_result"
    }
   ],
   "source": [
    "myset.add(50)\n",
    "myset={10,20,30,34,10}\n",
    "myset.update"
   ]
  },
  {
   "cell_type": "code",
   "execution_count": 4,
   "id": "2eb8395d-5576-47df-8361-cf40a03be2b1",
   "metadata": {},
   "outputs": [
    {
     "data": {
      "text/plain": [
       "10"
      ]
     },
     "execution_count": 4,
     "metadata": {},
     "output_type": "execute_result"
    }
   ],
   "source": [
    "myset.pop()"
   ]
  },
  {
   "cell_type": "code",
   "execution_count": 6,
   "id": "e3352180-bf45-4146-b5ee-c1ebfb9ab62a",
   "metadata": {},
   "outputs": [],
   "source": [
    "myset.remove(30)"
   ]
  },
  {
   "cell_type": "code",
   "execution_count": 7,
   "id": "049f8334-f7a2-4393-a3a9-125391fcd2da",
   "metadata": {},
   "outputs": [],
   "source": [
    "#In operator only run on iterable \n",
    "#identity operator is use to check memomy address\n"
   ]
  },
  {
   "cell_type": "code",
   "execution_count": 22,
   "id": "62c0937f-ccbd-42a1-b080-1d47a0674f00",
   "metadata": {},
   "outputs": [],
   "source": [
    "#functions => collection of statement\n",
    "# write logic  => use it multiple times \n",
    "#code reusability \n",
    "y=20\n",
    "def func():\n",
    "    global y\n",
    "    x=10\n",
    "    y=500\n",
    "    print(\"hey kartikey\",x,y)"
   ]
  },
  {
   "cell_type": "code",
   "execution_count": 23,
   "id": "b2595da7-976d-430a-ac08-0e34a1394430",
   "metadata": {},
   "outputs": [
    {
     "name": "stdout",
     "output_type": "stream",
     "text": [
      "hey kartikey 10 500\n",
      "500\n"
     ]
    }
   ],
   "source": [
    "func()\n",
    "print(y)"
   ]
  },
  {
   "cell_type": "code",
   "execution_count": 26,
   "id": "c5770010-66ca-4489-9d69-28b43c058235",
   "metadata": {},
   "outputs": [],
   "source": [
    "def func(y):\n",
    "    print(\"hey kartikey\",y)"
   ]
  },
  {
   "cell_type": "code",
   "execution_count": 27,
   "id": "7356a0ec-4184-4f92-a73f-40e5ca6654a2",
   "metadata": {},
   "outputs": [
    {
     "name": "stdout",
     "output_type": "stream",
     "text": [
      "hey kartikey 50\n"
     ]
    }
   ],
   "source": [
    "func(50)"
   ]
  },
  {
   "cell_type": "code",
   "execution_count": 30,
   "id": "eb08cc12-f76b-477b-a3cb-a892d8abe2a8",
   "metadata": {},
   "outputs": [],
   "source": [
    "#type hinting \n",
    "def func(y:int): #for showing\n",
    "    print(\"hey kartikey\",y)"
   ]
  },
  {
   "cell_type": "code",
   "execution_count": 31,
   "id": "1328417f-979c-4ef4-a2c9-c33becdf09e1",
   "metadata": {},
   "outputs": [
    {
     "name": "stdout",
     "output_type": "stream",
     "text": [
      "hey kartikey 50\n",
      "hey kartikey ujjwal\n"
     ]
    }
   ],
   "source": [
    "func(50)\n",
    "func(\"ujjwal\")"
   ]
  },
  {
   "cell_type": "code",
   "execution_count": 34,
   "id": "7d99e0a1-9a36-4dfd-a3a5-2a01f2b62d1b",
   "metadata": {},
   "outputs": [],
   "source": [
    "def func(y:int,z:str): #parameter\n",
    "    print(\"hey kartikey\",y)\n"
   ]
  },
  {
   "cell_type": "code",
   "execution_count": 35,
   "id": "005ecfa8-c333-4bea-b350-afeef0521701",
   "metadata": {},
   "outputs": [
    {
     "ename": "TypeError",
     "evalue": "func() missing 1 required positional argument: 'z'",
     "output_type": "error",
     "traceback": [
      "\u001b[1;31m---------------------------------------------------------------------------\u001b[0m",
      "\u001b[1;31mTypeError\u001b[0m                                 Traceback (most recent call last)",
      "Cell \u001b[1;32mIn[35], line 1\u001b[0m\n\u001b[1;32m----> 1\u001b[0m func(\u001b[38;5;241m50\u001b[39m)\n",
      "\u001b[1;31mTypeError\u001b[0m: func() missing 1 required positional argument: 'z'"
     ]
    }
   ],
   "source": [
    "func(50) # argument"
   ]
  },
  {
   "cell_type": "code",
   "execution_count": null,
   "id": "76a8bd0e-4e31-43ae-8fcc-fc9c747494a4",
   "metadata": {},
   "outputs": [],
   "source": [
    "-"
   ]
  }
 ],
 "metadata": {
  "kernelspec": {
   "display_name": "Python 3 (ipykernel)",
   "language": "python",
   "name": "python3"
  },
  "language_info": {
   "codemirror_mode": {
    "name": "ipython",
    "version": 3
   },
   "file_extension": ".py",
   "mimetype": "text/x-python",
   "name": "python",
   "nbconvert_exporter": "python",
   "pygments_lexer": "ipython3",
   "version": "3.11.7"
  }
 },
 "nbformat": 4,
 "nbformat_minor": 5
}
