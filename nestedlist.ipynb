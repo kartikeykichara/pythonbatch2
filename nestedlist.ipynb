{
 "cells": [
  {
   "cell_type": "code",
   "execution_count": 6,
   "id": "a707b815-5839-4c9c-b315-28c0f62d84a7",
   "metadata": {},
   "outputs": [
    {
     "data": {
      "text/plain": [
       "[[1], [1, 1], [1, 2, 1], [1, 3, 3, 1], [1, 4, 6, 4, 1]]"
      ]
     },
     "execution_count": 6,
     "metadata": {},
     "output_type": "execute_result"
    }
   ],
   "source": [
    "li=[[1]]\n",
    "n=5\n",
    "for i in range(0,n-1):\n",
    "    temp=[0]+li[-1]+[0]\n",
    "    list1=[]\n",
    "    for j in range(len(li)+1):\n",
    "        list1.append(temp[j]+temp[j+1])\n",
    "    li.append(list1)\n",
    "li\n",
    "\n",
    "    \n",
    "    "
   ]
  },
  {
   "cell_type": "code",
   "execution_count": 7,
   "id": "b7adc8b5-a82e-4d72-845b-2573034d2d97",
   "metadata": {},
   "outputs": [
    {
     "data": {
      "text/plain": [
       "[[1], [1, 1], [1, 2, 1], [1, 3, 3, 1], [1, 4, 6, 4, 1]]"
      ]
     },
     "execution_count": 7,
     "metadata": {},
     "output_type": "execute_result"
    }
   ],
   "source": [
    "li1=[]\n",
    "for i in range(0,5):\n",
    "    li=[]\n",
    "    for j in range(0,i+1):\n",
    "        if j==0 or j==i:\n",
    "            li.append(1 )\n",
    "        else:\n",
    "            li.append(li1[i-1][j-1] + li1[i-1][j])\n",
    "    li1.append(li)\n",
    "li1\n",
    "    "
   ]
  },
  {
   "cell_type": "code",
   "execution_count": 7,
   "id": "33e69fc8-f678-4bae-a6cd-f39646a37323",
   "metadata": {},
   "outputs": [
    {
     "data": {
      "text/plain": [
       "[4, 16, 25, 49, 64]"
      ]
     },
     "execution_count": 7,
     "metadata": {},
     "output_type": "execute_result"
    }
   ],
   "source": [
    "li=[2,4,5,7,8]\n",
    "li1=[i**2 for i in li]\n",
    "li1"
   ]
  },
  {
   "cell_type": "code",
   "execution_count": 3,
   "id": "3290aaec-23a5-4283-a596-3005c3af1c69",
   "metadata": {},
   "outputs": [
    {
     "data": {
      "text/plain": [
       "[8, 64, 216, 512, 1000]"
      ]
     },
     "execution_count": 3,
     "metadata": {},
     "output_type": "execute_result"
    }
   ],
   "source": [
    "cube=[i**3 for i in range(1,11)  if i%2==0 ]\n",
    "cube"
   ]
  },
  {
   "cell_type": "code",
   "execution_count": 11,
   "id": "a11f202a-cb60-438c-bdb3-5e1aee69db06",
   "metadata": {},
   "outputs": [
    {
     "data": {
      "text/plain": [
       "[[1], [1, 1], [1, 2, 1], [1, 3, 3, 1], [1, 4, 6, 4, 1]]"
      ]
     },
     "execution_count": 11,
     "metadata": {},
     "output_type": "execute_result"
    }
   ],
   "source": [
    "#nested list\n",
    "li=[[1]]\n",
    "n=5\n",
    "for i in range(0,n-1):\n",
    "    temp=[0]+li[-1]+[0]\n",
    "    list1=[]\n",
    "    for j in range(len(li)+1):\n",
    "        list1.append(temp[j]+temp[j+1])\n",
    "    li.append(list1)\n",
    "li"
   ]
  },
  {
   "cell_type": "code",
   "execution_count": 3,
   "id": "5edf0e81-3ee1-4338-8f6c-ccd496fad506",
   "metadata": {},
   "outputs": [
    {
     "data": {
      "text/plain": [
       "[[1], [1, 1], [1, 2, 1], [1, 3, 3, 1], [1, 4, 6, 4, 1]]"
      ]
     },
     "execution_count": 3,
     "metadata": {},
     "output_type": "execute_result"
    }
   ],
   "source": [
    "li1=[[1]]\n",
    "n=5\n",
    "for i in range(0,n-1):\n",
    "    temp=[0]+li1[-1]+[0]\n",
    "    li=[]\n",
    "    for j in range(len(li1)+1):\n",
    "        li.append(temp[j]+temp[j+1])\n",
    "    li1.append(li)\n",
    "li1"
   ]
  },
  {
   "cell_type": "code",
   "execution_count": null,
   "id": "33090e63-bd1b-4635-9dd7-83645cace2de",
   "metadata": {},
   "outputs": [],
   "source": []
  }
 ],
 "metadata": {
  "kernelspec": {
   "display_name": "Python 3 (ipykernel)",
   "language": "python",
   "name": "python3"
  },
  "language_info": {
   "codemirror_mode": {
    "name": "ipython",
    "version": 3
   },
   "file_extension": ".py",
   "mimetype": "text/x-python",
   "name": "python",
   "nbconvert_exporter": "python",
   "pygments_lexer": "ipython3",
   "version": "3.11.7"
  }
 },
 "nbformat": 4,
 "nbformat_minor": 5
}
