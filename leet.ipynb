{
 "cells": [
  {
   "cell_type": "code",
   "execution_count": 8,
   "id": "3e78e89f-0fd0-4c9a-ab55-2ea6a9563bfa",
   "metadata": {},
   "outputs": [
    {
     "name": "stdout",
     "output_type": "stream",
     "text": [
      "true\n"
     ]
    }
   ],
   "source": [
    "arr = [1,2,2,1,1,3]\n",
    "di={}\n",
    "for i in arr:\n",
    "    if i not in di:\n",
    "        di[i]=1\n",
    "    else:\n",
    "        di[i]=di[i]+1\n",
    "# a=set(di)\n",
    "if len(di.values())==len(set(di.values())):\n",
    "    print(\"true\")\n",
    "else:\n",
    "    print(\"false\")"
   ]
  },
  {
   "cell_type": "code",
   "execution_count": 3,
   "id": "30cda870-9dc6-4ac3-ade3-a5ef96254f34",
   "metadata": {},
   "outputs": [
    {
     "data": {
      "text/plain": [
       "12"
      ]
     },
     "execution_count": 3,
     "metadata": {},
     "output_type": "execute_result"
    }
   ],
   "source": [
    "nums = [12,345,2,6,7896]\n",
    "li=[]\n",
    "for i in nums:\n",
    "    if i%2==0:\n",
    "        li.append(i)\n",
    "li[0]"
   ]
  },
  {
   "cell_type": "code",
   "execution_count": 1,
   "id": "2ade449f-53ab-4ad5-b6db-51db2a8b92fe",
   "metadata": {},
   "outputs": [
    {
     "name": "stdin",
     "output_type": "stream",
     "text": [
      "enter number 153\n"
     ]
    },
    {
     "name": "stdout",
     "output_type": "stream",
     "text": [
      "armstrong\n"
     ]
    }
   ],
   "source": [
    "num=int(input(\"enter number\"))\n",
    "sum=0\n",
    "a=num\n",
    "while num>0:\n",
    "    rem=num%10\n",
    "    sum=sum+rem*rem*rem\n",
    "    num=num//10\n",
    "if sum==a:\n",
    "    print(\"armstrong\")\n",
    "else:\n",
    "    print(\"false\")"
   ]
  },
  {
   "cell_type": "code",
   "execution_count": 4,
   "id": "bd88a888-ee2f-4f9c-aefb-17173ea27ade",
   "metadata": {},
   "outputs": [
    {
     "name": "stdin",
     "output_type": "stream",
     "text": [
      "enter number 1221\n"
     ]
    },
    {
     "name": "stdout",
     "output_type": "stream",
     "text": [
      "palindrome\n"
     ]
    }
   ],
   "source": [
    "num=int(input(\"enter number\"))\n",
    "sum=0\n",
    "a=num\n",
    "while num>0:\n",
    "    rem=num%10\n",
    "    sum=sum*10+rem\n",
    "    num=num//10\n",
    "if sum==a:\n",
    "    print(\"palindrome\")\n",
    "else:\n",
    "    print(\"false\")"
   ]
  },
  {
   "cell_type": "code",
   "execution_count": null,
   "id": "34c2340a-c3ec-4ec4-94d3-1d707470eaa6",
   "metadata": {
    "scrolled": true
   },
   "outputs": [],
   "source": []
  },
  {
   "cell_type": "code",
   "execution_count": 18,
   "id": "fbf4f600-215d-4285-807d-b708a03ddf34",
   "metadata": {},
   "outputs": [
    {
     "data": {
      "text/plain": [
       "[309.65, 97.7]"
      ]
     },
     "execution_count": 18,
     "metadata": {},
     "output_type": "execute_result"
    }
   ],
   "source": [
    "celsius = 36.50\n",
    "li=[]\n",
    "kelvin=celsius+ 273.15\n",
    "Fahrenheit = celsius * 1.80 + 32.00\n",
    "li.append(round(kelvin,5))\n",
    "li.append(round(Fahrenheit,5))\n",
    "li"
   ]
  },
  {
   "cell_type": "code",
   "execution_count": 26,
   "id": "597ce231-afe1-4a05-81d6-bfb861cd86e5",
   "metadata": {},
   "outputs": [
    {
     "name": "stdout",
     "output_type": "stream",
     "text": [
      "4\n"
     ]
    }
   ],
   "source": [
    "nums = [-2,-1,-1,1,2,3,4]\n",
    "li=[]\n",
    "li1=[]\n",
    "for i in nums:\n",
    "    if i>0:\n",
    "        li.append(i)\n",
    "    elif i<0:\n",
    "        li1.append(i)\n",
    "a=len(li)\n",
    "b=len(li1)\n",
    "if a>b:\n",
    "    print(a)\n",
    "else:\n",
    "    print(b)"
   ]
  },
  {
   "cell_type": "code",
   "execution_count": 21,
   "id": "55a8855a-ae34-4cb0-832c-1fe4542d9618",
   "metadata": {},
   "outputs": [
    {
     "data": {
      "text/plain": [
       "[0, 1, 1, 2, 3]"
      ]
     },
     "execution_count": 21,
     "metadata": {},
     "output_type": "execute_result"
    }
   ],
   "source": [
    "n=5\n",
    "n1=0\n",
    "n2=1\n",
    "li=[]\n",
    "for i in range(1,n+1):\n",
    "    li.append(n1)\n",
    "    n1,n2=n2,n1+n2\n",
    "li"
   ]
  },
  {
   "cell_type": "code",
   "execution_count": 22,
   "id": "4231adb9-102f-4361-bc0e-3a5ab94a6728",
   "metadata": {},
   "outputs": [
    {
     "data": {
      "text/plain": [
       "[1, 2, 2, 1]"
      ]
     },
     "execution_count": 22,
     "metadata": {},
     "output_type": "execute_result"
    }
   ],
   "source": [
    "nums = [1,2,2,3,1,4]\n",
    "li=[]\n",
    "for i in nums:\n",
    "    if nums.count(i)>1:\n",
    "        li.append(i)\n",
    "li"
   ]
  },
  {
   "cell_type": "code",
   "execution_count": 2,
   "id": "7addd3d1-5c33-40fe-8a01-0bd25d0fe720",
   "metadata": {},
   "outputs": [
    {
     "name": "stdout",
     "output_type": "stream",
     "text": [
      "true\n"
     ]
    }
   ],
   "source": [
    "x = 18\n",
    "sum=0\n",
    "while x>0:\n",
    "    rem=x%10\n",
    "    sum=sum+rem\n",
    "    x=x//10\n",
    "if x%sum==0:\n",
    "    print(\"true\")\n",
    "else:\n",
    "    print(\"false\")"
   ]
  },
  {
   "cell_type": "code",
   "execution_count": 11,
   "id": "a4c7b282-cf4a-47e1-bde3-e2fba9ba4dca",
   "metadata": {},
   "outputs": [
    {
     "name": "stdout",
     "output_type": "stream",
     "text": [
      "10000\n"
     ]
    }
   ],
   "source": [
    "nums = [10000]\n",
    "li=[]\n",
    "for i in nums:\n",
    "#         li.append(i)\n",
    "        print(i)\n",
    "# li.sort()\n",
    "# li"
   ]
  },
  {
   "cell_type": "code",
   "execution_count": 12,
   "id": "8fb73577-a344-430d-8125-c893a271ad9b",
   "metadata": {},
   "outputs": [
    {
     "data": {
      "text/plain": [
       "['a', 'b', 'c', 'd', 'e', 'f', 'd']"
      ]
     },
     "execution_count": 12,
     "metadata": {},
     "output_type": "execute_result"
    }
   ],
   "source": [
    "word = \"abcdefd\"\n",
    "ch = \"d\"\n",
    "a=list(word)\n",
    "a"
   ]
  },
  {
   "cell_type": "code",
   "execution_count": 4,
   "id": "4211a343-8262-43c6-8af7-707cd4f7f076",
   "metadata": {},
   "outputs": [
    {
     "data": {
      "text/plain": [
       "1"
      ]
     },
     "execution_count": 4,
     "metadata": {},
     "output_type": "execute_result"
    }
   ],
   "source": [
    "num = 4\n",
    "count=0\n",
    "for i in range(1,num):\n",
    "    if i%2==0:\n",
    "        count+=1\n",
    "count"
   ]
  },
  {
   "cell_type": "code",
   "execution_count": 6,
   "id": "276323ce-b338-40f9-9347-eda2ef7781bd",
   "metadata": {},
   "outputs": [
    {
     "name": "stdout",
     "output_type": "stream",
     "text": [
      "false\n",
      "true\n",
      "false\n",
      "true\n",
      "true\n",
      "true\n",
      "false\n"
     ]
    }
   ],
   "source": [
    "arr = [1,2,34,3,4,5,7,23,12]\n",
    "for i in range(len(arr)-2):\n",
    "    if arr[i] and arr[i+1] and arr[i+2] %2!=0:\n",
    "        print(\"true\")\n",
    "    else:\n",
    "        print(\"false\")"
   ]
  },
  {
   "cell_type": "code",
   "execution_count": 12,
   "id": "0b775fd4-e430-46a1-9786-5c75643cd9ef",
   "metadata": {},
   "outputs": [
    {
     "data": {
      "text/plain": [
       "4"
      ]
     },
     "execution_count": 12,
     "metadata": {},
     "output_type": "execute_result"
    }
   ],
   "source": [
    "nums = [1,2,3,2]\n",
    "sum=0\n",
    "for i in nums:\n",
    "    if nums.count(i)<2:\n",
    "        sum+=i\n"
   ]
  },
  {
   "cell_type": "code",
   "execution_count": 2,
   "id": "a894569d-d325-40aa-8d53-bdfb2c905853",
   "metadata": {},
   "outputs": [
    {
     "name": "stdout",
     "output_type": "stream",
     "text": [
      "false\n"
     ]
    }
   ],
   "source": [
    "word1 = [\"a\", \"cb\"]\n",
    "word2 =  [\"ab\", \"c\"]\n",
    "a=''.join(word1)\n",
    "b=''.join(word2)\n",
    "if a==b:\n",
    "    print(\"true\")\n",
    "else:\n",
    "    print(\"false\")"
   ]
  },
  {
   "cell_type": "code",
   "execution_count": null,
   "id": "27fb37dd-22d1-42cb-969f-aaf39e6de499",
   "metadata": {},
   "outputs": [],
   "source": []
  }
 ],
 "metadata": {
  "kernelspec": {
   "display_name": "Python 3 (ipykernel)",
   "language": "python",
   "name": "python3"
  },
  "language_info": {
   "codemirror_mode": {
    "name": "ipython",
    "version": 3
   },
   "file_extension": ".py",
   "mimetype": "text/x-python",
   "name": "python",
   "nbconvert_exporter": "python",
   "pygments_lexer": "ipython3",
   "version": "3.11.7"
  }
 },
 "nbformat": 4,
 "nbformat_minor": 5
}
