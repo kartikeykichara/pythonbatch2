{
 "cells": [
  {
   "cell_type": "code",
   "execution_count": 2,
   "id": "81541a4e-b0f3-429f-9d6a-d0b4970dfeef",
   "metadata": {},
   "outputs": [
    {
     "name": "stdout",
     "output_type": "stream",
     "text": [
      "<class 'int'>\n",
      "140735575278664\n"
     ]
    }
   ],
   "source": [
    "a=10\n",
    "print(type(a))\n",
    "print(id(a))"
   ]
  },
  {
   "cell_type": "code",
   "execution_count": 3,
   "id": "213dc141-3f25-4792-950d-462e4a7be979",
   "metadata": {},
   "outputs": [
    {
     "name": "stdout",
     "output_type": "stream",
     "text": [
      "140735575278664\n"
     ]
    }
   ],
   "source": [
    "num=a\n",
    "print(id(a))"
   ]
  },
  {
   "cell_type": "code",
   "execution_count": 5,
   "id": "ae035e31-870e-430d-bd65-9b09f0d1cfab",
   "metadata": {},
   "outputs": [
    {
     "name": "stdout",
     "output_type": "stream",
     "text": [
      "140735575278984\n"
     ]
    }
   ],
   "source": [
    "num=20\n",
    "print(id(num))"
   ]
  },
  {
   "cell_type": "code",
   "execution_count": 14,
   "id": "48db8bb4-52c0-44bf-9a8f-68efe2637d5b",
   "metadata": {},
   "outputs": [
    {
     "name": "stdout",
     "output_type": "stream",
     "text": [
      "*\n",
      "**\n",
      "***\n",
      "****\n"
     ]
    }
   ],
   "source": [
    "for i in range(1,5):\n",
    "    for j in range(i):\n",
    "        print(\"*\",end=\"\")\n",
    "    print()"
   ]
  },
  {
   "cell_type": "code",
   "execution_count": 17,
   "id": "555c2994-d2d2-4efc-86a1-9f123b46928a",
   "metadata": {},
   "outputs": [
    {
     "name": "stdout",
     "output_type": "stream",
     "text": [
      "111\n",
      "222\n",
      "333\n"
     ]
    }
   ],
   "source": [
    "for i in range(1,4):\n",
    "    for j in range(1,4):\n",
    "        print(i,end=\"\")\n",
    "    print()"
   ]
  },
  {
   "cell_type": "code",
   "execution_count": 32,
   "id": "b2876150-9757-4c3d-958c-7d62a9f8f56d",
   "metadata": {},
   "outputs": [
    {
     "name": "stdout",
     "output_type": "stream",
     "text": [
      "4321\n",
      "432\n",
      "43\n",
      "4\n"
     ]
    }
   ],
   "source": [
    "for i in range(0,4):\n",
    "    for j in range(4,i,-1):\n",
    "        print(j,end=\"\")\n",
    "    print()"
   ]
  },
  {
   "cell_type": "code",
   "execution_count": 21,
   "id": "6ba656c8-042d-47aa-b124-9c1ac69f40b0",
   "metadata": {},
   "outputs": [
    {
     "name": "stdout",
     "output_type": "stream",
     "text": [
      "1\n",
      "11\n",
      "111\n",
      "1111\n",
      "11111\n"
     ]
    }
   ],
   "source": [
    "n=1\n",
    "for i in range(1,6):\n",
    "    for j in range(1,i+1):\n",
    "        print(n,end=\"\")\n",
    "    print()"
   ]
  },
  {
   "cell_type": "code",
   "execution_count": 10,
   "id": "68dca828-d399-46bd-a163-875e8f6d0d2b",
   "metadata": {},
   "outputs": [
    {
     "name": "stdout",
     "output_type": "stream",
     "text": [
      "4444\n",
      "3333\n",
      "2222\n",
      "1111\n"
     ]
    }
   ],
   "source": [
    "for i in range(4,0,-1):\n",
    "    for j in range(1,5):\n",
    "        print(i,end=\"\")\n",
    "    print()"
   ]
  },
  {
   "cell_type": "code",
   "execution_count": 12,
   "id": "f4018da6-2732-41f7-ac7a-f19cd03dfe48",
   "metadata": {},
   "outputs": [
    {
     "name": "stdout",
     "output_type": "stream",
     "text": [
      "10 11 12 13 \n",
      "10 11 12 13 \n",
      "10 11 12 13 \n",
      "10 11 12 13 \n"
     ]
    }
   ],
   "source": [
    "for i in range(1,5):\n",
    "    for j in range(10,14):\n",
    "        print(j,end=\" \")\n",
    "    print()"
   ]
  },
  {
   "cell_type": "code",
   "execution_count": 2,
   "id": "4d0f1cd9-d801-4265-abc2-2c3b78b7b83e",
   "metadata": {},
   "outputs": [
    {
     "name": "stdout",
     "output_type": "stream",
     "text": [
      "1 \n",
      "2 3 \n",
      "4 5 6 \n",
      "7 8 9 10 \n"
     ]
    }
   ],
   "source": [
    "n=1\n",
    "for i in range(1,5):\n",
    "    for j in range(i):\n",
    "        print(n,end=\" \")\n",
    "        n=n+1\n",
    "    print()"
   ]
  },
  {
   "cell_type": "code",
   "execution_count": 19,
   "id": "b6f43d9f-855b-47ee-b29f-551fe407dfa2",
   "metadata": {},
   "outputs": [
    {
     "name": "stdout",
     "output_type": "stream",
     "text": [
      "4444\n",
      "333\n",
      "22\n",
      "1\n"
     ]
    }
   ],
   "source": [
    "for i in range(4,0,-1):\n",
    "    for j in range(i):\n",
    "        print(i,end=\"\")\n",
    "    print()"
   ]
  },
  {
   "cell_type": "code",
   "execution_count": 26,
   "id": "af34bd95-8e2b-47ca-841c-6461767c06b8",
   "metadata": {},
   "outputs": [
    {
     "name": "stdout",
     "output_type": "stream",
     "text": [
      "1234\n",
      "123\n",
      "12\n",
      "1\n"
     ]
    }
   ],
   "source": [
    "for i in range(4,0,-1):\n",
    "    for j in range(1,i+1):\n",
    "        print(j,end=\"\")\n",
    "    print()"
   ]
  },
  {
   "cell_type": "code",
   "execution_count": 3,
   "id": "c74d64c2-a06d-4a60-b877-8adf839cbe0f",
   "metadata": {},
   "outputs": [
    {
     "name": "stdout",
     "output_type": "stream",
     "text": [
      "78910\n",
      "789\n",
      "78\n",
      "7\n"
     ]
    }
   ],
   "source": [
    "\n",
    "for i in range(4,0,-1):\n",
    "    n=7\n",
    "    for j in range(1,i+1):\n",
    "        print(n,end=\"\")\n",
    "        n=n+1\n",
    "    print()\n",
    "   "
   ]
  },
  {
   "cell_type": "code",
   "execution_count": 43,
   "id": "548157ab-a596-4b10-a915-d7f57f516be8",
   "metadata": {},
   "outputs": [
    {
     "name": "stdout",
     "output_type": "stream",
     "text": [
      "1 2 3 4 \n",
      "5 6 7 \n",
      "8 9 \n",
      "10 \n"
     ]
    }
   ],
   "source": [
    "n=1\n",
    "for i in range(4,0,-1):\n",
    "    for j in range(1,i+1):\n",
    "        print(n,end=\" \")\n",
    "        n=n+1\n",
    "    print()"
   ]
  },
  {
   "cell_type": "code",
   "execution_count": 49,
   "id": "84c85a36-41dc-4fe4-9f93-ee010c399cf0",
   "metadata": {},
   "outputs": [
    {
     "name": "stdout",
     "output_type": "stream",
     "text": [
      "A B C D \n",
      "E F G \n",
      "H I \n",
      "J \n"
     ]
    }
   ],
   "source": [
    "ch=65\n",
    "for i in range(4,0,-1):\n",
    "    for j in range(1,i+1):\n",
    "        print(chr(ch),end=\" \")\n",
    "        ch=ch+1\n",
    "    print()"
   ]
  },
  {
   "cell_type": "code",
   "execution_count": 56,
   "id": "44411237-8ee4-4658-b29a-e4f105069aaf",
   "metadata": {},
   "outputs": [],
   "source": [
    "# ord(\"a\")\n",
    "# ord to print ascii values\n",
    "# chr to print character based on ascii values \n"
   ]
  },
  {
   "cell_type": "code",
   "execution_count": 58,
   "id": "95e642df-567f-43e3-b529-c9ec9c4ee149",
   "metadata": {},
   "outputs": [
    {
     "name": "stdout",
     "output_type": "stream",
     "text": [
      "20 21 22 23 \n",
      "24 25 26 \n",
      "27 28 \n"
     ]
    }
   ],
   "source": [
    "n=20\n",
    "for i in range(4,1,-1):\n",
    "    for j in range(1,i+1):\n",
    "        print(n,end=\" \")\n",
    "        n=n+1\n",
    "    print()"
   ]
  },
  {
   "cell_type": "code",
   "execution_count": 92,
   "id": "40039441-6174-4832-b326-839a387a050a",
   "metadata": {},
   "outputs": [
    {
     "name": "stdout",
     "output_type": "stream",
     "text": [
      "Z Z Z \n",
      "Y Y \n",
      "X \n"
     ]
    }
   ],
   "source": [
    "a=90\n",
    "for i in range(3,0,-1):\n",
    "\n",
    "    for j in range(1,i+1):\n",
    "        print(chr(a),end=\" \")\n",
    "    a=a-1\n",
    "    print()"
   ]
  },
  {
   "cell_type": "code",
   "execution_count": 70,
   "id": "1145174c-80b0-486a-b3c5-c8c94158b534",
   "metadata": {},
   "outputs": [
    {
     "name": "stdout",
     "output_type": "stream",
     "text": [
      "D \n",
      "E F \n",
      "G H I \n",
      "J K L M \n"
     ]
    }
   ],
   "source": [
    "a=68\n",
    "for i in range(1,5):\n",
    "    for j in range(i):\n",
    "        print(chr(a),end=\" \")\n",
    "        a=a+1\n",
    "    print()"
   ]
  },
  {
   "cell_type": "code",
   "execution_count": 71,
   "id": "2615cfa9-d2b5-4d82-a19d-4a300b2f20e9",
   "metadata": {},
   "outputs": [
    {
     "name": "stdout",
     "output_type": "stream",
     "text": [
      "4 \n",
      "6 8 \n",
      "10 12 14 \n"
     ]
    }
   ],
   "source": [
    "n=4\n",
    "for i in range(1,4):\n",
    "    for j in range(i):\n",
    "        print(n,end=\" \")\n",
    "        n=n+2\n",
    "    print()"
   ]
  },
  {
   "cell_type": "code",
   "execution_count": 72,
   "id": "0f5d4af1-c89c-470c-b654-a9e95918ac39",
   "metadata": {},
   "outputs": [
    {
     "name": "stdout",
     "output_type": "stream",
     "text": [
      "2 4 8 16 \n",
      "32 64 128 \n",
      "256 512 \n"
     ]
    }
   ],
   "source": [
    "n=2\n",
    "for i in range(4,1,-1):\n",
    "    for j in range(1,i+1):\n",
    "        print(n,end=\" \")\n",
    "        n=n*2\n",
    "    print()"
   ]
  },
  {
   "cell_type": "code",
   "execution_count": 76,
   "id": "edb3d9db-82d9-4a87-bdc3-1e77d7a81cf8",
   "metadata": {},
   "outputs": [
    {
     "name": "stdout",
     "output_type": "stream",
     "text": [
      "* \n",
      "* * \n",
      "* * * \n",
      "* * * * \n",
      "* * * \n",
      "* * \n",
      "* \n"
     ]
    }
   ],
   "source": [
    "for i in range(1,5):\n",
    "    for j in range(i):\n",
    "        print(\"*\",end=\" \")\n",
    "    print()\n",
    "for i in range(3,0,-1):\n",
    "    for j in range(i):\n",
    "        print(\"*\",end=\" \")\n",
    "    print()"
   ]
  },
  {
   "cell_type": "code",
   "execution_count": 23,
   "id": "6535b3a3-8a85-41e6-b23a-aecbbe0da333",
   "metadata": {},
   "outputs": [
    {
     "name": "stdout",
     "output_type": "stream",
     "text": [
      "****\n",
      " ***\n",
      "  **\n",
      "   *\n",
      "  **\n",
      " ***\n",
      "****\n"
     ]
    }
   ],
   "source": [
    "\n",
    "for i in range(4,1,-1):\n",
    "    for s in range(4,i,-1):\n",
    "        print(\" \",end=\"\")\n",
    "    for j in range(i):\n",
    "        print(\"*\",end=\"\")\n",
    "    print()\n",
    "for i in range(1,5):\n",
    "    for s in range(4,i,-1):\n",
    "        print(\" \",end=\"\")\n",
    "    for j in range(i):\n",
    "        print(\"*\",end=\"\")\n",
    "    print()"
   ]
  },
  {
   "cell_type": "code",
   "execution_count": 89,
   "id": "9a511f94-dd5d-46e2-8992-cacb35b705f9",
   "metadata": {},
   "outputs": [
    {
     "name": "stdout",
     "output_type": "stream",
     "text": [
      "A \n",
      "A B \n",
      "A B C \n",
      "A B C D \n",
      "A B C D E \n"
     ]
    }
   ],
   "source": [
    "\n",
    "for i in range(1,6):\n",
    "    n=65\n",
    "    for j in range(i):\n",
    "        print(chr(n),end=\" \")\n",
    "        n=n+1\n",
    "    print()\n"
   ]
  },
  {
   "cell_type": "code",
   "execution_count": 95,
   "id": "a4f7fe53-a24c-40eb-a367-6c285761502b",
   "metadata": {},
   "outputs": [
    {
     "name": "stdout",
     "output_type": "stream",
     "text": [
      "A\n",
      "BB\n",
      "CCC\n",
      "DDDD\n",
      "EEEEE\n"
     ]
    }
   ],
   "source": [
    "n=65\n",
    "for i in range(1,6):\n",
    "    for j in range(i):\n",
    "        print(chr(n),end=\"\")\n",
    "    n=n+1\n",
    "    print()"
   ]
  },
  {
   "cell_type": "code",
   "execution_count": 5,
   "id": "74fb8fcc-f22f-439f-b94f-d1c96b9aacc5",
   "metadata": {},
   "outputs": [
    {
     "name": "stdout",
     "output_type": "stream",
     "text": [
      "E\n",
      "ED\n",
      "EDC\n",
      "EDCB\n",
      "EDCBA\n"
     ]
    }
   ],
   "source": [
    "\n",
    "for i in range(1,6):\n",
    "    n=69 \n",
    "    for j in range(i):\n",
    "        print(chr(n),end=\"\")\n",
    "        n=n-1\n",
    "    print()"
   ]
  },
  {
   "cell_type": "code",
   "execution_count": 125,
   "id": "9399bbf3-7bb0-4212-bc87-cd7951d0b082",
   "metadata": {},
   "outputs": [
    {
     "name": "stdout",
     "output_type": "stream",
     "text": [
      "        1 \n",
      "      1 2 \n",
      "    1 2 3 \n",
      "  1 2 3 4 \n",
      "1 2 3 4 5 \n"
     ]
    }
   ],
   "source": [
    "for i in range(1,6):\n",
    "    for s in range(5,i,-1):\n",
    "        print(\" \",end=\" \")\n",
    "    for j in range(i):\n",
    "        print(j+1,end=\" \")\n",
    "    print()"
   ]
  },
  {
   "cell_type": "code",
   "execution_count": 10,
   "id": "2f4e100d-2a2e-4bf7-89c5-30f1fb794d47",
   "metadata": {},
   "outputs": [
    {
     "name": "stdout",
     "output_type": "stream",
     "text": [
      "        * \n",
      "      * * \n",
      "    * * * \n",
      "  * * * * \n",
      "* * * * * \n"
     ]
    }
   ],
   "source": [
    "for i in range(1,6):\n",
    "    for s in range(5,i,-1):\n",
    "        print(\" \",end=\" \")\n",
    "    for j in range(i):\n",
    "        print(\"*\",end=\" \")\n",
    "    print()"
   ]
  },
  {
   "cell_type": "code",
   "execution_count": 9,
   "id": "46dea56c-82f2-4b34-a98e-98ff29466200",
   "metadata": {},
   "outputs": [
    {
     "name": "stdout",
     "output_type": "stream",
     "text": [
      "1 2 3 4 5 \n",
      "  1 2 3 4 \n",
      "    1 2 3 \n",
      "      1 2 \n",
      "        1 \n"
     ]
    }
   ],
   "source": [
    "for i in range(5,0,-1):\n",
    "    for s in range(5,i,-1):\n",
    "        print(\" \",end=\" \")\n",
    "    for j in range(i):\n",
    "        print(j+1,end=\" \")\n",
    "    print()"
   ]
  },
  {
   "cell_type": "code",
   "execution_count": 128,
   "id": "dfa45384-8537-4585-8d27-c0551508a58d",
   "metadata": {},
   "outputs": [
    {
     "name": "stdout",
     "output_type": "stream",
     "text": [
      "A B C D E \n",
      "  A B C D \n",
      "    A B C \n",
      "      A B \n",
      "        A \n"
     ]
    }
   ],
   "source": [
    "for i in range(5,0,-1):\n",
    "    n=65\n",
    "    for s in range(5,i,-1):\n",
    "        print(\" \",end=\" \")\n",
    "    for j in range(i):\n",
    "        print(chr(n),end=\" \")\n",
    "        n=n+1\n",
    "    print()"
   ]
  },
  {
   "cell_type": "code",
   "execution_count": 136,
   "id": "136d3966-8e20-4787-b05f-fa6db6d952f2",
   "metadata": {},
   "outputs": [
    {
     "name": "stdout",
     "output_type": "stream",
     "text": [
      "    * * * * * \n",
      "   * * * * * \n",
      "  * * * * * \n",
      " * * * * * \n",
      "* * * * * \n"
     ]
    }
   ],
   "source": [
    "for i in range(1,6):\n",
    "    for s in range(5,i,-1):\n",
    "        print(\" \",end=\"\")\n",
    "    for j in range(1,6):\n",
    "        print(\"*\",end=\" \")\n",
    "    print()"
   ]
  },
  {
   "cell_type": "code",
   "execution_count": 137,
   "id": "e6aee15d-dc12-41a6-8627-c953a4b29ff2",
   "metadata": {},
   "outputs": [
    {
     "name": "stdout",
     "output_type": "stream",
     "text": [
      "    1 2 3 4 5 \n",
      "   1 2 3 4 5 \n",
      "  1 2 3 4 5 \n",
      " 1 2 3 4 5 \n",
      "1 2 3 4 5 \n"
     ]
    }
   ],
   "source": [
    "for i in range(1,6):\n",
    "    for s in range(5,i,-1):\n",
    "        print(\" \",end=\"\")\n",
    "    for j in range(1,6):\n",
    "        print(j,end=\" \")\n",
    "    print()"
   ]
  },
  {
   "cell_type": "code",
   "execution_count": 140,
   "id": "775ccee1-0229-4c73-8902-24a3f07593b6",
   "metadata": {},
   "outputs": [
    {
     "name": "stdout",
     "output_type": "stream",
     "text": [
      "    A B C D E \n",
      "   A B C D E \n",
      "  A B C D E \n",
      " A B C D E \n",
      "A B C D E \n"
     ]
    }
   ],
   "source": [
    "for i in range(1,6):\n",
    "    n=65\n",
    "    for s in range(5,i,-1):\n",
    "        print(\" \",end=\"\")\n",
    "    for j in range(1,6):\n",
    "        print(chr(n),end=\" \")\n",
    "        n=n+1\n",
    "    print()"
   ]
  },
  {
   "cell_type": "code",
   "execution_count": 145,
   "id": "ab42da69-30cc-49fb-b985-eb8f3af9ae95",
   "metadata": {},
   "outputs": [
    {
     "name": "stdout",
     "output_type": "stream",
     "text": [
      "       *\n",
      "     * * *\n",
      "   * * * * *\n",
      " * * * * * * *\n"
     ]
    }
   ],
   "source": [
    "for i in range(1,8,2):\n",
    "    for s in range(7,i,-1):\n",
    "        print(\" \",end=\"\")\n",
    "    for j in range(i):\n",
    "        print(\" *\",end=\"\")\n",
    "    print()"
   ]
  },
  {
   "cell_type": "code",
   "execution_count": 9,
   "id": "de023fde-7b9b-41a6-b9d4-4910c2a01b17",
   "metadata": {},
   "outputs": [
    {
     "name": "stdin",
     "output_type": "stream",
     "text": [
      "enter rows 5\n"
     ]
    },
    {
     "name": "stdout",
     "output_type": "stream",
     "text": [
      "* \n",
      "* * \n",
      "*   * \n",
      "*     * \n",
      "* * * * * \n"
     ]
    }
   ],
   "source": [
    "rows=int(input(\"enter rows\"))\n",
    "for i in range(1,rows+1):\n",
    "    for j in range(1,i+1):\n",
    "        if i==5 or j==i or j==1:\n",
    "            print(\"*\",end=\" \")\n",
    "        else:\n",
    "            print(\" \",end=\" \")\n",
    "    print()"
   ]
  },
  {
   "cell_type": "code",
   "execution_count": 34,
   "id": "b5e58df0-7295-411a-96ab-f85db8720c52",
   "metadata": {},
   "outputs": [
    {
     "name": "stdout",
     "output_type": "stream",
     "text": [
      "     * \n",
      "    * * \n",
      "   *   * \n",
      "  *     * \n",
      " * * * * * \n"
     ]
    }
   ],
   "source": [
    "for i in range(1,6):\n",
    "    for s in range(6,i,-1):\n",
    "        print(\" \",end=\"\")\n",
    "    for j in range(1,i+1):\n",
    "        if i==5 or j==i or j==1:\n",
    "            print(\"*\",end=\" \")\n",
    "        else:\n",
    "            print(\" \",end=\" \")\n",
    "    print()"
   ]
  },
  {
   "cell_type": "code",
   "execution_count": 17,
   "id": "8c1a7102-fe0b-4254-aa4a-e4e6e7793a34",
   "metadata": {},
   "outputs": [
    {
     "name": "stdout",
     "output_type": "stream",
     "text": [
      "*****\n",
      "   * \n",
      "  *  \n",
      " *   \n",
      "*****\n"
     ]
    }
   ],
   "source": [
    "for i in range(1,6):\n",
    "    for j in range(1,6):\n",
    "        if i==1 or i==5 or i+j==5+1:\n",
    "            print(\"*\",end=\"\")\n",
    "        else:\n",
    "            print(\" \",end=\"\")\n",
    "    print()"
   ]
  },
  {
   "cell_type": "code",
   "execution_count": 31,
   "id": "11e37659-3790-47d9-80cf-d59dec875d0f",
   "metadata": {},
   "outputs": [
    {
     "name": "stdout",
     "output_type": "stream",
     "text": [
      "1 \n",
      "1 2 \n",
      "1   3 \n",
      "1     4 \n",
      "1 2 3 4 5 \n"
     ]
    }
   ],
   "source": [
    "for i in range(1,6):\n",
    "    for j in range(1,i+1):\n",
    "        if j==1 or i==5 or i==j:\n",
    "         print(j,end=\" \")\n",
    "        else:\n",
    "            print(\" \",end=\" \")\n",
    "    print()"
   ]
  },
  {
   "cell_type": "code",
   "execution_count": 36,
   "id": "9d055a59-0a23-47fa-bee4-fb6bcac593f3",
   "metadata": {},
   "outputs": [
    {
     "name": "stdout",
     "output_type": "stream",
     "text": [
      "          1 \n",
      "        1 2 \n",
      "      1   3 \n",
      "    1     4 \n",
      "  1 2 3 4 5 \n"
     ]
    }
   ],
   "source": [
    "for i in range(1,6):\n",
    "    for s in range(6,i,-1):\n",
    "        print(\" \",end=\"\")\n",
    "    for j in range(1,i+1):\n",
    "        if j==1 or i==5 or i==j:\n",
    "            print(j,end=\" \")\n",
    "        else:\n",
    "            print(\" \",end=\" \")\n",
    "    print()"
   ]
  },
  {
   "cell_type": "code",
   "execution_count": 33,
   "id": "ab1880ad-7930-4de4-94e9-b17473ba4e20",
   "metadata": {},
   "outputs": [
    {
     "name": "stdout",
     "output_type": "stream",
     "text": [
      "       * \n",
      "     * * * \n",
      "   * * * * * \n",
      " * * * * * * * \n",
      "   * * * * * \n",
      "     * * * \n",
      "       * \n"
     ]
    }
   ],
   "source": [
    "for i in range(1,8,2):\n",
    "    for s in range(8,i,-1):\n",
    "        print(\" \",end=\"\")\n",
    "    for j in range(i):\n",
    "        print(\"*\",end=\" \")\n",
    "    print()\n",
    "for i in range(5,0,-2):\n",
    "    for s in range(8,i,-1):\n",
    "        print(\" \",end=\"\")\n",
    "    for j in range(i):\n",
    "        print(\"*\",end=\" \")\n",
    "    print()"
   ]
  },
  {
   "cell_type": "code",
   "execution_count": 41,
   "id": "d7671470-185b-4607-8303-9c9eb1d14e2e",
   "metadata": {},
   "outputs": [
    {
     "name": "stdout",
     "output_type": "stream",
     "text": [
      "     * \n",
      "    * * \n",
      "   *   * \n",
      "  *     * \n",
      " *       * \n",
      "*         * \n",
      " *       * \n",
      "  *     * \n",
      "   *   * \n",
      "    * * \n",
      "     * \n"
     ]
    }
   ],
   "source": [
    "for i in range(1,6):\n",
    "    for s in range(6,i,-1):\n",
    "        print(\" \",end=\"\")\n",
    "    for j in range(1,i+1):\n",
    "        if i==j or j==1:\n",
    "            print(\"*\",end=\" \")\n",
    "        else:\n",
    "            print(\" \",end=\" \")\n",
    "    print()\n",
    "for i in range(6,0,-1):\n",
    "    for s in range(6,i,-1):\n",
    "        print(\" \",end=\"\")\n",
    "    for j in range(1,i+1):\n",
    "        if i==j or j==1:\n",
    "            print(\"*\",end=\" \")\n",
    "        else:\n",
    "            print(\" \",end=\" \")\n",
    "    print()"
   ]
  },
  {
   "cell_type": "code",
   "execution_count": 70,
   "id": "7f79e5f5-2b0e-4b51-9c15-4141f5b78c61",
   "metadata": {},
   "outputs": [
    {
     "name": "stdout",
     "output_type": "stream",
     "text": [
      "       * \n",
      "     *   * \n",
      "   *       * \n",
      " * * * * * * * \n"
     ]
    }
   ],
   "source": [
    "for i in range(1,8,2):\n",
    "    for s in range(8,i,-1):\n",
    "        print(\" \",end=\"\")\n",
    "    for j in range(1,i+1):\n",
    "        if i==7 or j==i or j==1:\n",
    "            print(\"*\",end=\" \")\n",
    "        else:\n",
    "            print(\" \",end=\" \")\n",
    "    print()"
   ]
  },
  {
   "cell_type": "code",
   "execution_count": 62,
   "id": "559fb222-fbab-402c-8515-985a124dfb57",
   "metadata": {},
   "outputs": [
    {
     "name": "stdout",
     "output_type": "stream",
     "text": [
      "     * \n",
      "   *   * \n",
      " * * * * * \n"
     ]
    }
   ],
   "source": [
    "for i in range(1,6,2):\n",
    "    for s in range(6,i,-1):\n",
    "        print(\" \",end=\"\")\n",
    "    for j in range(1,i+1):\n",
    "        if i==5 or j==i or j==1:\n",
    "            print(\"*\",end=\" \")\n",
    "        else:\n",
    "            print(\" \",end=\" \")\n",
    "    print()"
   ]
  },
  {
   "cell_type": "code",
   "execution_count": 101,
   "id": "47e09694-f9ed-45e2-b85e-1ab2a0d906e1",
   "metadata": {},
   "outputs": [
    {
     "name": "stdout",
     "output_type": "stream",
     "text": [
      "******\n",
      "*    *\n",
      "*    *\n",
      "******\n"
     ]
    }
   ],
   "source": [
    "for i in range(1,8,2):\n",
    "    for j in range(6):\n",
    "        if i==1 or i==7 or j==5 or j==0:\n",
    "            print(\"*\",end=\"\")\n",
    "        else:\n",
    "            print(\" \",end=\"\")\n",
    "    print()"
   ]
  },
  {
   "cell_type": "code",
   "execution_count": 107,
   "id": "4f3b835f-3fc4-43cf-b033-485b750e6be3",
   "metadata": {},
   "outputs": [
    {
     "name": "stdout",
     "output_type": "stream",
     "text": [
      "     * * * * * * * \n",
      "    * * * * * * * \n",
      "   * * * * * * * \n",
      "  * * * * * * * \n",
      " * * * * * * * \n",
      "* * * * * * * \n"
     ]
    }
   ],
   "source": [
    "for i in range(1,7):\n",
    "    for s in range(6,i,-1):\n",
    "        print(\" \",end=\"\")\n",
    "    for j in range(7):\n",
    "        print(\"*\",end=\" \")\n",
    "    print()"
   ]
  },
  {
   "cell_type": "code",
   "execution_count": 109,
   "id": "d179183e-7cc0-456d-91fc-d4d5ae0d7246",
   "metadata": {},
   "outputs": [
    {
     "name": "stdout",
     "output_type": "stream",
     "text": [
      "     1 2 3 4 5 6 7 \n",
      "    1 2 3 4 5 6 7 \n",
      "   1 2 3 4 5 6 7 \n",
      "  1 2 3 4 5 6 7 \n",
      " 1 2 3 4 5 6 7 \n",
      "1 2 3 4 5 6 7 \n"
     ]
    }
   ],
   "source": [
    "for i in range(1,7):\n",
    "    for s in range(6,i,-1):\n",
    "        print(\" \",end=\"\")\n",
    "    for j in range(7):\n",
    "        print(j+1,end=\" \")\n",
    "    print()"
   ]
  },
  {
   "cell_type": "code",
   "execution_count": 115,
   "id": "300d7aee-dc7a-42bc-a5a8-8dc39b5ffc7d",
   "metadata": {},
   "outputs": [
    {
     "name": "stdout",
     "output_type": "stream",
     "text": [
      "     A B C D E \n",
      "    A B C D E \n",
      "   A B C D E \n",
      "  A B C D E \n",
      " A B C D E \n",
      "A B C D E \n"
     ]
    }
   ],
   "source": [
    "\n",
    "for i in range(1,7):\n",
    "    a=65\n",
    "    for s in range(6,i,-1):\n",
    "        print(\" \",end=\"\")\n",
    "    for j in range(5):\n",
    "        print(chr(a),end=\" \")\n",
    "        a=a+1\n",
    "    print()"
   ]
  },
  {
   "cell_type": "code",
   "execution_count": 118,
   "id": "8af8949d-fa6d-4fa2-96aa-bac868a7afea",
   "metadata": {},
   "outputs": [
    {
     "name": "stdout",
     "output_type": "stream",
     "text": [
      "ABCDE\n",
      " ABCD\n",
      "  ABC\n",
      "   AB\n",
      "    A\n"
     ]
    }
   ],
   "source": [
    "for i in range(5,0,-1):\n",
    "    a=65\n",
    "    for s in range(5,i,-1):\n",
    "        print(\" \",end=\"\")\n",
    "    for j in range(i):\n",
    "        print(chr(a),end=\"\")\n",
    "        a=a+1\n",
    "    print()\n",
    "    "
   ]
  },
  {
   "cell_type": "code",
   "execution_count": 131,
   "id": "3319766d-dcb6-40ba-9cae-c85905a3acaa",
   "metadata": {},
   "outputs": [
    {
     "name": "stdout",
     "output_type": "stream",
     "text": [
      "     A \n",
      "    B C \n",
      "   D F \n",
      "  G J \n",
      " K L M N O \n"
     ]
    }
   ],
   "source": [
    " a=65\n",
    "for i in range(1,6):\n",
    "   \n",
    "    for s in range(6,i,-1):\n",
    "        print(\" \",end=\"\")\n",
    "    for j in range(1,i+1):\n",
    "        if j==i or i==5 or j==1:\n",
    "            print(chr(a),end=\" \")\n",
    "        a=a+1\n",
    "    print()\n",
    "    "
   ]
  },
  {
   "cell_type": "code",
   "execution_count": null,
   "id": "0bd1af92-8ab3-4c87-bd51-a401fe1dc17f",
   "metadata": {},
   "outputs": [],
   "source": []
  }
 ],
 "metadata": {
  "kernelspec": {
   "display_name": "Python 3 (ipykernel)",
   "language": "python",
   "name": "python3"
  },
  "language_info": {
   "codemirror_mode": {
    "name": "ipython",
    "version": 3
   },
   "file_extension": ".py",
   "mimetype": "text/x-python",
   "name": "python",
   "nbconvert_exporter": "python",
   "pygments_lexer": "ipython3",
   "version": "3.11.7"
  }
 },
 "nbformat": 4,
 "nbformat_minor": 5
}
