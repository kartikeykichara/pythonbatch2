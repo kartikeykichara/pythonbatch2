{
 "cells": [
  {
   "cell_type": "code",
   "execution_count": 1,
   "id": "9a966969-711b-40ce-a097-df6d3cc9debc",
   "metadata": {},
   "outputs": [
    {
     "name": "stdout",
     "output_type": "stream",
     "text": [
      "0 1\n"
     ]
    }
   ],
   "source": [
    "nums = [2,7,11,15]\n",
    "target = 9\n",
    "for i in range(0,len(nums)):\n",
    "    for j in range(i+1,len(nums)):\n",
    "        if nums[i]+nums[j]==target:\n",
    "            print(i,j)\n",
    "            break\n"
   ]
  },
  {
   "cell_type": "code",
   "execution_count": null,
   "id": "fe73b7c2-e494-47ca-aca7-b6ba659db154",
   "metadata": {},
   "outputs": [
    {
     "name": "stdout",
     "output_type": "stream",
     "text": [
      "false\n"
     ]
    }
   ],
   "source": [
    "x = -121\n",
    "sum=0\n",
    "temp=x\n",
    "a=temp\n",
    "while x>0:\n",
    "    rem=x%10\n",
    "    sum=sum*10+rem\n",
    "    x=x//10\n",
    "if sum==temp:\n",
    "    print(\"true\")\n",
    "else:\n",
    "    print(\"false\")\n",
    "while temp<0:\n",
    "    rem=temp%10\n",
    "    sum=sum*10+rem\n",
    "    temp=temp//10\n",
    "if sum==a:\n",
    "    print(\"true\")\n",
    "else:\n",
    "    print(\"false\")"
   ]
  },
  {
   "cell_type": "code",
   "execution_count": 1,
   "id": "47ae1c7b-a47b-4833-b352-ce82e498a46a",
   "metadata": {},
   "outputs": [
    {
     "name": "stdout",
     "output_type": "stream",
     "text": [
      "true\n"
     ]
    }
   ],
   "source": [
    "s = \"()\"\n",
    "li=[]\n",
    "x=0\n",
    "for i in s:\n",
    "    if i in \"({[\":\n",
    "        li.append(i)\n",
    "    else:\n",
    "        if len(li)==0:\n",
    "            break\n",
    "        elif i==\"]\" and li.pop()!=\"[\":\n",
    "            break\n",
    "        elif i==\")\" and li.pop()!=\"(\":\n",
    "            break\n",
    "        elif i==\"}\" and li.pop()!=\"{\":\n",
    "            break\n",
    "if x==1:\n",
    "    print(\"false\")\n",
    "elif len(li)==0:\n",
    "    print(\"true\")\n",
    "else:\n",
    "    print(\"false\")"
   ]
  },
  {
   "cell_type": "code",
   "execution_count": 2,
   "id": "c25f581c-8e6c-4910-92f1-2033bd7ccaa0",
   "metadata": {},
   "outputs": [
    {
     "data": {
      "text/plain": [
       "2"
      ]
     },
     "execution_count": 2,
     "metadata": {},
     "output_type": "execute_result"
    }
   ],
   "source": [
    "nums = [1,1,2]\n",
    "i=0\n",
    "for j in nums:\n",
    "    if nums[i]!=nums[j]:\n",
    "        nums[i]=nums[j]\n",
    "        i+=1\n",
    "i+1"
   ]
  },
  {
   "cell_type": "code",
   "execution_count": 3,
   "id": "6477f856-ff3c-4547-8dda-7806e37f2038",
   "metadata": {},
   "outputs": [
    {
     "data": {
      "text/plain": [
       "2"
      ]
     },
     "execution_count": 3,
     "metadata": {},
     "output_type": "execute_result"
    }
   ],
   "source": [
    "nums = [3,2,2,3]\n",
    "val = 3\n",
    "temp=0\n",
    "for i in nums:\n",
    "    if nums[i]!=val:\n",
    "        nums[temp]=nums[i]\n",
    "        temp+=1\n",
    "temp"
   ]
  },
  {
   "cell_type": "code",
   "execution_count": 4,
   "id": "ba35b333-4375-4391-9bd5-36d7046f225e",
   "metadata": {},
   "outputs": [
    {
     "name": "stdout",
     "output_type": "stream",
     "text": [
      "4\n"
     ]
    }
   ],
   "source": [
    "nums = [4,5,6,7,0,1,2]\n",
    "target = 0\n",
    "for i in nums:\n",
    "   if nums[i]==target:\n",
    "       print(i)\n",
    "       break"
   ]
  },
  {
   "cell_type": "code",
   "execution_count": 5,
   "id": "37377363-ddb8-4e1d-b7c8-6d5381dcbcdb",
   "metadata": {},
   "outputs": [
    {
     "ename": "SyntaxError",
     "evalue": "incomplete input (2582526108.py, line 5)",
     "output_type": "error",
     "traceback": [
      "\u001b[1;36m  Cell \u001b[1;32mIn[5], line 5\u001b[1;36m\u001b[0m\n\u001b[1;33m    \u001b[0m\n\u001b[1;37m    ^\u001b[0m\n\u001b[1;31mSyntaxError\u001b[0m\u001b[1;31m:\u001b[0m incomplete input\n"
     ]
    }
   ],
   "source": [
    "nums = [1,3,5,6]\n",
    "target = 5\n",
    "for i in nums:\n",
    "\n",
    "    "
   ]
  },
  {
   "cell_type": "code",
   "execution_count": 6,
   "id": "ba691a94-d814-4f99-a448-c5a276738e7e",
   "metadata": {},
   "outputs": [
    {
     "name": "stdout",
     "output_type": "stream",
     "text": [
      "F\n",
      "EF\n",
      "DEF\n",
      "CDEF\n",
      "BCDEF\n"
     ]
    }
   ],
   "source": [
    "a=70\n",
    "for i in range(1,6):\n",
    "    for j in range(1,i+1):\n",
    "        if j>1:\n",
    "            a+=1\n",
    "        print(chr(a),end=\"\")\n",
    "    a-=i\n",
    "    print()\n"
   ]
  },
  {
   "cell_type": "code",
   "execution_count": 7,
   "id": "9895dbc2-569d-436f-a7d3-f8156d9c0bb1",
   "metadata": {},
   "outputs": [
    {
     "name": "stdout",
     "output_type": "stream",
     "text": [
      "AAAAAA\n",
      "AAAAA\n",
      "AAAA\n",
      "AAA\n",
      "AA\n",
      "A\n"
     ]
    }
   ],
   "source": [
    "for i in range(6,0,-1):\n",
    "    a=65\n",
    "    for j in range(i):\n",
    "        \n",
    "        print(chr(a),end=\"\")\n",
    "    a+=1\n",
    "    print()"
   ]
  },
  {
   "cell_type": "code",
   "execution_count": 8,
   "id": "9b4d0743-5606-46c7-a8b1-816c5f072204",
   "metadata": {},
   "outputs": [
    {
     "data": {
      "text/plain": [
       "7"
      ]
     },
     "execution_count": 8,
     "metadata": {},
     "output_type": "execute_result"
    }
   ],
   "source": [
    "li=[3,5,7,2,72,8]\n",
    "a=0\n",
    "b=0\n",
    "c=0\n",
    "for i in li:\n",
    "    if i>a:\n",
    "        c=b\n",
    "        b=a\n",
    "        a=i\n",
    "    elif i!=a and i>b:\n",
    "        c=b\n",
    "        b=i\n",
    "    elif i!=a and i!=b and i>c:\n",
    "        c=i\n",
    "c"
   ]
  },
  {
   "cell_type": "code",
   "execution_count": 9,
   "id": "46d7af7b-b203-45d6-bdbb-fbc133f7b0b9",
   "metadata": {},
   "outputs": [
    {
     "data": {
      "text/plain": [
       "4"
      ]
     },
     "execution_count": 9,
     "metadata": {},
     "output_type": "execute_result"
    }
   ],
   "source": [
    "a=\"abcdef@123\"\n",
    "b=list(a)\n",
    "b=\"bb1122@x\"\n",
    "b=list(b)\n",
    "c=[]\n",
    "for i in a:\n",
    "    for j in b:\n",
    "        if i==j and i and j not in c :\n",
    "            c.append(i)\n",
    "d=len(c)\n",
    "d"
   ]
  },
  {
   "cell_type": "code",
   "execution_count": 10,
   "id": "2a42669f-c11d-4dea-88db-cf9f8df4a754",
   "metadata": {},
   "outputs": [
    {
     "name": "stdout",
     "output_type": "stream",
     "text": [
      "* * * * * * * \n",
      "  *       * \n",
      "    *   * \n",
      "      * \n"
     ]
    }
   ],
   "source": [
    "for i in range(7,0,-2):\n",
    "    for s in range(7,i,-1):\n",
    "        print(\" \",end=\"\")\n",
    "    for j in range(1,i+1):\n",
    "        if i==7 or j==1 or i==j:\n",
    "            print(\"*\",end=\" \")\n",
    "        else:\n",
    "            print(\" \",end=\" \")\n",
    "    print()"
   ]
  },
  {
   "cell_type": "code",
   "execution_count": 11,
   "id": "01928f09-9313-417b-b992-c82b952736ea",
   "metadata": {},
   "outputs": [
    {
     "data": {
      "text/plain": [
       "7"
      ]
     },
     "execution_count": 11,
     "metadata": {},
     "output_type": "execute_result"
    }
   ],
   "source": [
    "li=[3,5,7,2,72,8]\n",
    "a=0\n",
    "b=0\n",
    "c=0\n",
    "for i in li:\n",
    "    if i>a:\n",
    "        c=b\n",
    "        b=a\n",
    "        a=i\n",
    "    elif i!=a and i>b:\n",
    "        c=b\n",
    "        b=i\n",
    "    elif i!=a and i!=b and i>c:\n",
    "        c=i\n",
    "c"
   ]
  },
  {
   "cell_type": "code",
   "execution_count": 15,
   "id": "05c3e049-b12a-42e7-9d21-8794df1ccd8e",
   "metadata": {},
   "outputs": [
    {
     "name": "stdout",
     "output_type": "stream",
     "text": [
      "* * * * * * * \n",
      " *   *     \n",
      "  * *   \n",
      "   * \n"
     ]
    }
   ],
   "source": [
    "for i in range(4,0,-1):\n",
    "    for s in range(i,4):\n",
    "        print(\" \",end=\"\")\n",
    "    for j in range(1,i*2):\n",
    "        if i==4 or j==1 or i==j:\n",
    "            print(\"*\",end=\" \")\n",
    "        else:\n",
    "            print(\" \",end=\" \")\n",
    "    print()"
   ]
  },
  {
   "cell_type": "code",
   "execution_count": 16,
   "id": "b49b719a-726f-46f3-bc88-0d84687c2f85",
   "metadata": {},
   "outputs": [
    {
     "name": "stdout",
     "output_type": "stream",
     "text": [
      "*****\n",
      " *  *\n",
      "  * *\n",
      "   **\n",
      "    *\n"
     ]
    }
   ],
   "source": [
    "for i in range(5,0,-1):\n",
    "    for s in range(5,i,-1):\n",
    "        print(\" \",end=\"\")\n",
    "    for j in range(1,i+1):\n",
    "        if i==5 or j==1 or i==j:\n",
    "            print(\"*\",end=\"\")\n",
    "        else:\n",
    "            print(\" \",end=\"\")\n",
    "    print()"
   ]
  },
  {
   "cell_type": "code",
   "execution_count": 11,
   "id": "9bfa435e-0bc7-4aa9-ae08-312a7c88ccd0",
   "metadata": {},
   "outputs": [
    {
     "data": {
      "text/plain": [
       "[3, 4, 7]"
      ]
     },
     "execution_count": 11,
     "metadata": {},
     "output_type": "execute_result"
    }
   ],
   "source": [
    "li1=[3,4,7,3,7]\n",
    "li2=[3,4,7,3,7]\n",
    "l3=li1+li2\n",
    "l4=[]\n",
    "for i in l3:\n",
    "    if i not in l4:\n",
    "        l4.append(i)\n",
    "l4"
   ]
  },
  {
   "cell_type": "code",
   "execution_count": 10,
   "id": "e74c2e6b-a922-4aad-af00-6b805173416e",
   "metadata": {},
   "outputs": [
    {
     "data": {
      "text/plain": [
       "[3, 3, 7, 7]"
      ]
     },
     "execution_count": 10,
     "metadata": {},
     "output_type": "execute_result"
    }
   ],
   "source": [
    "li1=[3,4,7,3,7,]\n",
    "li2=[3,4,7,3,7]\n",
    "l3=[]\n",
    "for i,j in zip(li1,li2):\n",
    "    if i not in l3 and j not in l3:\n",
    "        l3.append(li1[i])\n",
    "        l3.append(li2[j])\n",
    "l3"
   ]
  },
  {
   "cell_type": "code",
   "execution_count": 4,
   "id": "8928f7b6-cd31-4446-903d-4ade1f722b8b",
   "metadata": {},
   "outputs": [
    {
     "data": {
      "text/plain": [
       "[3, 7]"
      ]
     },
     "execution_count": 4,
     "metadata": {},
     "output_type": "execute_result"
    }
   ],
   "source": [
    "li1=[3,4,7,3,7,9]\n",
    "li=[]\n",
    "for i in li1:\n",
    "    if li1.count(i)>1 and i not in li:\n",
    "        li.append(i)\n",
    "li"
   ]
  },
  {
   "cell_type": "code",
   "execution_count": null,
   "id": "43bfb036-6a59-4fe2-accd-ff2218fa244b",
   "metadata": {},
   "outputs": [],
   "source": []
  }
 ],
 "metadata": {
  "kernelspec": {
   "display_name": "Python 3 (ipykernel)",
   "language": "python",
   "name": "python3"
  },
  "language_info": {
   "codemirror_mode": {
    "name": "ipython",
    "version": 3
   },
   "file_extension": ".py",
   "mimetype": "text/x-python",
   "name": "python",
   "nbconvert_exporter": "python",
   "pygments_lexer": "ipython3",
   "version": "3.11.7"
  }
 },
 "nbformat": 4,
 "nbformat_minor": 5
}
