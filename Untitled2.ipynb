{
 "cells": [
  {
   "cell_type": "code",
   "execution_count": 1,
   "id": "234784d3-be88-438f-9be5-f60ca85cbe3b",
   "metadata": {},
   "outputs": [],
   "source": [
    "#collections\n",
    "#module : package ,functionality\n",
    "# counter"
   ]
  },
  {
   "cell_type": "code",
   "execution_count": 3,
   "id": "ffcb9fae-3ccb-47c9-bc1e-c7cbe9437cff",
   "metadata": {},
   "outputs": [
    {
     "data": {
      "text/plain": [
       "Counter()"
      ]
     },
     "execution_count": 3,
     "metadata": {},
     "output_type": "execute_result"
    }
   ],
   "source": [
    "import collections as c\n",
    "collections.Counter()\n",
    "c.Counter()"
   ]
  },
  {
   "cell_type": "code",
   "execution_count": 6,
   "id": "342e114d-cf3e-470d-ae22-0d876f59bc43",
   "metadata": {},
   "outputs": [
    {
     "data": {
      "text/plain": [
       "Counter({20: 2, 10: 1, 30: 1, 40: 1, 70: 1})"
      ]
     },
     "execution_count": 6,
     "metadata": {},
     "output_type": "execute_result"
    }
   ],
   "source": [
    "from collections import Counter\n",
    "mylist=[10,20,30,40]\n",
    "a=Counter(mylist)\n",
    "\n",
    "\n",
    "\n",
    "a.update([20,70])\n",
    "a"
   ]
  },
  {
   "cell_type": "code",
   "execution_count": 7,
   "id": "50fedf42-29aa-4f18-a3c6-d20518dfac04",
   "metadata": {},
   "outputs": [
    {
     "data": {
      "text/plain": [
       "[(20, 2), (10, 1)]"
      ]
     },
     "execution_count": 7,
     "metadata": {},
     "output_type": "execute_result"
    }
   ],
   "source": [
    "a.most_common(2)"
   ]
  },
  {
   "cell_type": "code",
   "execution_count": 8,
   "id": "d796d062-59d0-469f-b659-582d7e6ec8d4",
   "metadata": {},
   "outputs": [
    {
     "data": {
      "text/plain": [
       "[10, 20, 20, 30, 40, 70]"
      ]
     },
     "execution_count": 8,
     "metadata": {},
     "output_type": "execute_result"
    }
   ],
   "source": [
    "list(a.elements())"
   ]
  },
  {
   "cell_type": "code",
   "execution_count": 10,
   "id": "043e108c-b6e4-4df7-828a-5b032c6c8b89",
   "metadata": {},
   "outputs": [
    {
     "data": {
      "text/plain": [
       "Counter({'y': 10, 'x': 5})"
      ]
     },
     "execution_count": 10,
     "metadata": {},
     "output_type": "execute_result"
    }
   ],
   "source": [
    "Counter(x=5,y=10)\n"
   ]
  },
  {
   "cell_type": "code",
   "execution_count": 11,
   "id": "8e87d74a-36fc-47d0-a56d-d7cb61d664f5",
   "metadata": {},
   "outputs": [],
   "source": [
    "#defaultdict\n",
    "from collections import defaultdict\n",
    "def func():\n",
    "    return \"not a value\"\n"
   ]
  },
  {
   "cell_type": "code",
   "execution_count": 12,
   "id": "24747ef9-aaed-48e7-a5da-895bf5fb051b",
   "metadata": {},
   "outputs": [
    {
     "name": "stdout",
     "output_type": "stream",
     "text": [
      "dict_items([('a', 10), ('b', 'not a value')])\n"
     ]
    }
   ],
   "source": [
    "d=defaultdict(func)\n",
    "#list tuple\n",
    "d[\"a\"]=10\n",
    "d[\"b\"]\n",
    "print(d.items())"
   ]
  },
  {
   "cell_type": "code",
   "execution_count": 17,
   "id": "3a92f06a-2d77-4e21-a457-00d5605c6100",
   "metadata": {},
   "outputs": [
    {
     "name": "stdout",
     "output_type": "stream",
     "text": [
      "defaultdict(<class 'list'>, {10: ['kartikey', 'rohan'], 20: ['ajay']})\n",
      "[]\n"
     ]
    }
   ],
   "source": [
    "list1=[(10,\"kartikey\"),(20,\"ajay\"),(10,\"rohan\")]\n",
    "s=defaultdict(list)\n",
    "for roll,name in list1:\n",
    "    s[roll].append(name)\n",
    "print(s)\n",
    "print(s[30])\n"
   ]
  },
  {
   "cell_type": "code",
   "execution_count": 18,
   "id": "8762937e-58cb-47ad-8e3e-0523e289d2f2",
   "metadata": {},
   "outputs": [
    {
     "name": "stdout",
     "output_type": "stream",
     "text": [
      "OrderedDict([('b', 99), ('a', 1), ('aa', 999)])\n"
     ]
    }
   ],
   "source": [
    "from collections import OrderedDict\n",
    "o=OrderedDict()\n",
    "o[\"a\"]=1\n",
    "o[\"b\"]=99\n",
    "o[\"aa\"]=999\n",
    "o.move_to_end(\"b\",last=False)\n",
    "print(o)"
   ]
  },
  {
   "cell_type": "code",
   "execution_count": 24,
   "id": "f12b11de-8cfa-469a-99b2-31b4c87847c7",
   "metadata": {},
   "outputs": [
    {
     "name": "stdout",
     "output_type": "stream",
     "text": [
      "11\n",
      "11\n"
     ]
    },
    {
     "data": {
      "text/plain": [
       "Point(x=199, y=22)"
      ]
     },
     "execution_count": 24,
     "metadata": {},
     "output_type": "execute_result"
    }
   ],
   "source": [
    "#namedtuple\n",
    "from collections import namedtuple\n",
    "Point123=namedtuple('Point',['x','y'])\n",
    "p=Point123(11,22)\n",
    "print(p.x)\n",
    "print(p[0])\n",
    "\n",
    "p._asdict()\n",
    "p=p._replace(x=199)\n",
    "p"
   ]
  },
  {
   "cell_type": "code",
   "execution_count": 26,
   "id": "f05abf38-d740-4388-ae72-eafb94aa907a",
   "metadata": {},
   "outputs": [],
   "source": [
    "#deque\n",
    "#list=> stack\n",
    "from collections import deque"
   ]
  },
  {
   "cell_type": "code",
   "execution_count": 28,
   "id": "86a1411a-450c-4036-ad3c-86633c119602",
   "metadata": {},
   "outputs": [],
   "source": [
    "dq=deque([\"kk\",\"abac\",\"xyz\",20])"
   ]
  },
  {
   "cell_type": "code",
   "execution_count": 29,
   "id": "85d074cf-78d2-48e2-98b0-1f50ef896000",
   "metadata": {},
   "outputs": [
    {
     "data": {
      "text/plain": [
       "deque(['kk', 'abac', 'xyz', 20])"
      ]
     },
     "execution_count": 29,
     "metadata": {},
     "output_type": "execute_result"
    }
   ],
   "source": [
    "dq"
   ]
  },
  {
   "cell_type": "code",
   "execution_count": 31,
   "id": "abc39c3b-c9ae-40fb-a5bb-301195bbfbc3",
   "metadata": {},
   "outputs": [
    {
     "data": {
      "text/plain": [
       "deque(['kk', 'abac', 'xyz', 20, 30, 30])"
      ]
     },
     "execution_count": 31,
     "metadata": {},
     "output_type": "execute_result"
    }
   ],
   "source": [
    "dq.append(30)\n",
    "dq"
   ]
  },
  {
   "cell_type": "code",
   "execution_count": 32,
   "id": "f1f23489-f676-4422-8509-c2566e09f2a4",
   "metadata": {},
   "outputs": [
    {
     "data": {
      "text/plain": [
       "deque([20, 'kk', 'abac', 'xyz', 20, 30, 30])"
      ]
     },
     "execution_count": 32,
     "metadata": {},
     "output_type": "execute_result"
    }
   ],
   "source": [
    "dq.appendleft(20)\n",
    "dq"
   ]
  },
  {
   "cell_type": "code",
   "execution_count": 39,
   "id": "c76b667f-f154-4d6d-a864-aae33035b2f7",
   "metadata": {},
   "outputs": [
    {
     "data": {
      "text/plain": [
       "[9, 4]"
      ]
     },
     "execution_count": 39,
     "metadata": {},
     "output_type": "execute_result"
    }
   ],
   "source": [
    "nums1=[4,9,5]\n",
    "nums1.sort()\n",
    "nums2=[9,4,9,8,4]\n",
    "li=[]\n",
    "for i in nums1:\n",
    "    for j in nums2:\n",
    "        if i==j:\n",
    "            li.append(i)\n",
    "s=set(li)\n",
    "l=list(s)\n",
    "l"
   ]
  },
  {
   "cell_type": "code",
   "execution_count": 44,
   "id": "df3b1b0f-9f03-4514-a0fa-342429ce2cb5",
   "metadata": {},
   "outputs": [
    {
     "data": {
      "text/plain": [
       "[1, 2, 2, 3, 5, 6]"
      ]
     },
     "execution_count": 44,
     "metadata": {},
     "output_type": "execute_result"
    }
   ],
   "source": [
    "nums1=[1,2,3,0,0,0]\n",
    "nums=[2,5,6]\n",
    "m=3\n",
    "n=3\n",
    "li=[]\n",
    "for i in range(m):\n",
    "    li.append(nums1[i])\n",
    "for j in range(n):\n",
    "    li.append(nums[j])\n",
    "li.sort()\n",
    "li"
   ]
  },
  {
   "cell_type": "code",
   "execution_count": null,
   "id": "b58adee3-7fc9-4fdd-bbba-6d708b431c94",
   "metadata": {},
   "outputs": [],
   "source": [
    "nums1=[1,2,3,0,0,0]\n",
    "nums2=[2,5,6]\n",
    "m=3\n",
    "n=3\n",
    "\n",
    "total=m+n-1\n",
    "while"
   ]
  },
  {
   "cell_type": "code",
   "execution_count": null,
   "id": "f4454d33-f3ae-4dbd-ac02-7fcd585f1613",
   "metadata": {},
   "outputs": [],
   "source": []
  }
 ],
 "metadata": {
  "kernelspec": {
   "display_name": "Python 3 (ipykernel)",
   "language": "python",
   "name": "python3"
  },
  "language_info": {
   "codemirror_mode": {
    "name": "ipython",
    "version": 3
   },
   "file_extension": ".py",
   "mimetype": "text/x-python",
   "name": "python",
   "nbconvert_exporter": "python",
   "pygments_lexer": "ipython3",
   "version": "3.11.7"
  }
 },
 "nbformat": 4,
 "nbformat_minor": 5
}
