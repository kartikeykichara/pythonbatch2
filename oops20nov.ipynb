{
 "cells": [
  {
   "cell_type": "code",
   "execution_count": 2,
   "id": "8cf88507-07dd-452d-aa53-d6b98f13f893",
   "metadata": {},
   "outputs": [
    {
     "name": "stdout",
     "output_type": "stream",
     "text": [
      "rohit salary is = 1000\n",
      "punit salary is = 500\n"
     ]
    }
   ],
   "source": [
    "class employee:\n",
    "    salary=500\n",
    "rohit=employee()\n",
    "rohit.salary=1000\n",
    "punit=employee()\n",
    "print(\"rohit salary is =\",rohit.salary)\n",
    "print(\"punit salary is =\",punit.salary)"
   ]
  },
  {
   "cell_type": "code",
   "execution_count": 4,
   "id": "fe2d583d-6dc2-4b97-b0fb-8921b1e6d411",
   "metadata": {},
   "outputs": [
    {
     "name": "stdout",
     "output_type": "stream",
     "text": [
      "buddy says woof!\n",
      "golden retrieverthis is breed\n",
      "maxsays woof!\n",
      "labradorthis is breed\n"
     ]
    }
   ],
   "source": [
    "#example with self\n",
    "class dog:\n",
    "    def __init__(self,name,breed):\n",
    "        self.name=name\n",
    "        self.breed=breed\n",
    "    def bark(self):\n",
    "        print(f\"{self.name}says woof!\")\n",
    "        print(f\"{self.breed}this is breed\")\n",
    "dog1=dog(\"buddy \", \"golden retriever\")\n",
    "dog2=dog(\"max\",\"labrador\")\n",
    "\n",
    "#access attributes and methods\n",
    "dog1.bark()\n",
    "dog2.bark()"
   ]
  },
  {
   "cell_type": "code",
   "execution_count": 5,
   "id": "3b319cf2-050c-48e7-8802-683fee0e69a5",
   "metadata": {},
   "outputs": [
    {
     "ename": "TypeError",
     "evalue": "dog.__init__() takes 2 positional arguments but 3 were given",
     "output_type": "error",
     "traceback": [
      "\u001b[1;31m---------------------------------------------------------------------------\u001b[0m",
      "\u001b[1;31mTypeError\u001b[0m                                 Traceback (most recent call last)",
      "Cell \u001b[1;32mIn[5], line 9\u001b[0m\n\u001b[0;32m      7\u001b[0m         \u001b[38;5;28mprint\u001b[39m(\u001b[38;5;124mf\u001b[39m\u001b[38;5;124m\"\u001b[39m\u001b[38;5;132;01m{\u001b[39;00mname\u001b[38;5;132;01m}\u001b[39;00m\u001b[38;5;124msays woof!\u001b[39m\u001b[38;5;124m\"\u001b[39m)\n\u001b[0;32m      8\u001b[0m \u001b[38;5;66;03m#create an object \u001b[39;00m\n\u001b[1;32m----> 9\u001b[0m dog1\u001b[38;5;241m=\u001b[39mdog(\u001b[38;5;124m\"\u001b[39m\u001b[38;5;124mbuddy \u001b[39m\u001b[38;5;124m\"\u001b[39m,\u001b[38;5;124m\"\u001b[39m\u001b[38;5;124mgolden retirever\u001b[39m\u001b[38;5;124m\"\u001b[39m)\n",
      "\u001b[1;31mTypeError\u001b[0m: dog.__init__() takes 2 positional arguments but 3 were given"
     ]
    }
   ],
   "source": [
    "#example without self \n",
    "class dog:\n",
    "    def __init__(name,breed):\n",
    "        name=name\n",
    "        breed=breed\n",
    "    def bark():\n",
    "        print(f\"{name}says woof!\")\n",
    "#create an object \n",
    "dog1=dog(\"buddy \",\"golden retirever\")"
   ]
  },
  {
   "cell_type": "markdown",
   "id": "d06107f6-edcc-49a8-a3e1-438bad8ec9f9",
   "metadata": {},
   "source": [
    "Task 1\n"
   ]
  },
  {
   "cell_type": "markdown",
   "id": "2b6a9e1b-fb84-4380-a947-ffa5d82684fc",
   "metadata": {},
   "source": [
    "create a calculator class\n",
    "add methods fir "
   ]
  },
  {
   "cell_type": "code",
   "execution_count": 7,
   "id": "75c5c0b1-626e-4530-a4e2-7ca429d2b8dc",
   "metadata": {},
   "outputs": [
    {
     "name": "stdout",
     "output_type": "stream",
     "text": [
      "15\n",
      "5\n",
      "50\n",
      "2.0\n"
     ]
    }
   ],
   "source": [
    "class calculator:\n",
    "    def __init__(self,num1,num2):\n",
    "        self.num1=num1\n",
    "        self.num2=num2\n",
    "    def add(self):\n",
    "        return self.num1+self.num2\n",
    "    def subtract(self):\n",
    "        return self.num1-self.num2\n",
    "    def multiply(self):\n",
    "        return self.num1*self.num2\n",
    "    def divide(self):\n",
    "        if self.num2!=0:\n",
    "            return self.num1/self.num2\n",
    "        else:\n",
    "            return \"division by zero is not allowed\"\n",
    "\n",
    "calc=calculator(10,5)\n",
    "print(calc.add())\n",
    "print(calc.subtract())\n",
    "print(calc.multiply())\n",
    "print(calc.divide())"
   ]
  },
  {
   "cell_type": "code",
   "execution_count": null,
   "id": "eae6bf7a-f58c-4a82-a1ec-477f62af356b",
   "metadata": {},
   "outputs": [],
   "source": []
  }
 ],
 "metadata": {
  "kernelspec": {
   "display_name": "Python 3 (ipykernel)",
   "language": "python",
   "name": "python3"
  },
  "language_info": {
   "codemirror_mode": {
    "name": "ipython",
    "version": 3
   },
   "file_extension": ".py",
   "mimetype": "text/x-python",
   "name": "python",
   "nbconvert_exporter": "python",
   "pygments_lexer": "ipython3",
   "version": "3.11.7"
  }
 },
 "nbformat": 4,
 "nbformat_minor": 5
}
