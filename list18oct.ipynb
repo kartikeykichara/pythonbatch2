{
 "cells": [
  {
   "cell_type": "code",
   "execution_count": 2,
   "id": "f8695dca-72e0-45a5-b7d4-1de1af001b48",
   "metadata": {},
   "outputs": [
    {
     "data": {
      "text/plain": [
       "'e'"
      ]
     },
     "execution_count": 2,
     "metadata": {},
     "output_type": "execute_result"
    }
   ],
   "source": [
    "#string indexing and slicing \n",
    "#list\n",
    "msg=\"hello\"\n",
    "msg[1]"
   ]
  },
  {
   "cell_type": "code",
   "execution_count": 3,
   "id": "8e84f380-660f-44cd-8d81-74d35e5b25ee",
   "metadata": {},
   "outputs": [
    {
     "data": {
      "text/plain": [
       "'jaip'"
      ]
     },
     "execution_count": 3,
     "metadata": {},
     "output_type": "execute_result"
    }
   ],
   "source": [
    "#[starting , stopping ,step=1]\n",
    "msg=\"jaipur\"\n",
    "msg[0:4]"
   ]
  },
  {
   "cell_type": "code",
   "execution_count": 5,
   "id": "9944f436-c5af-4bcd-b7ad-e49a7ba48f8d",
   "metadata": {},
   "outputs": [
    {
     "data": {
      "text/plain": [
       "'aipu'"
      ]
     },
     "execution_count": 5,
     "metadata": {},
     "output_type": "execute_result"
    }
   ],
   "source": [
    "msg=\"jaipur\"\n",
    "msg[1:5]"
   ]
  },
  {
   "cell_type": "code",
   "execution_count": 4,
   "id": "0996b217-6b39-4f93-8f2c-7fda615d4d0c",
   "metadata": {},
   "outputs": [
    {
     "name": "stdout",
     "output_type": "stream",
     "text": [
      "7\n",
      "6\n",
      "5\n",
      "4\n",
      "3\n",
      "2\n"
     ]
    }
   ],
   "source": [
    "for i in range(7,1,-1):\n",
    "    print(i)"
   ]
  },
  {
   "cell_type": "code",
   "execution_count": 5,
   "id": "b989a9d7-f3db-471c-9096-7d1d0cb090a1",
   "metadata": {},
   "outputs": [
    {
     "data": {
      "text/plain": [
       "'k oll'"
      ]
     },
     "execution_count": 5,
     "metadata": {},
     "output_type": "execute_result"
    }
   ],
   "source": [
    "msg=\"hello kk\"\n",
    "msg[6:1:-1]"
   ]
  },
  {
   "cell_type": "code",
   "execution_count": 12,
   "id": "29465e72-437b-4149-a3e2-8e43773ab727",
   "metadata": {},
   "outputs": [
    {
     "data": {
      "text/plain": [
       "'kk'"
      ]
     },
     "execution_count": 12,
     "metadata": {},
     "output_type": "execute_result"
    }
   ],
   "source": [
    "msg=\"hello kk\"\n",
    "msg[-1:-3:-1]"
   ]
  },
  {
   "cell_type": "code",
   "execution_count": 13,
   "id": "829de653-61e2-4c6d-8b09-8e3d1d5eef10",
   "metadata": {},
   "outputs": [
    {
     "data": {
      "text/plain": [
       "'o '"
      ]
     },
     "execution_count": 13,
     "metadata": {},
     "output_type": "execute_result"
    }
   ],
   "source": [
    "msg[-4:-2]"
   ]
  },
  {
   "cell_type": "code",
   "execution_count": 14,
   "id": "78ae4556-b41c-4709-bc35-fa6e98f77bc6",
   "metadata": {},
   "outputs": [
    {
     "data": {
      "text/plain": [
       "list"
      ]
     },
     "execution_count": 14,
     "metadata": {},
     "output_type": "execute_result"
    }
   ],
   "source": [
    "#list datatype\n",
    "# collection of values \n",
    "#mutable datatype in python\n",
    "#ordered sequence of element\n",
    "li=[3,4,5,7,\"abc\"]\n",
    "type(li)"
   ]
  },
  {
   "cell_type": "code",
   "execution_count": 15,
   "id": "f4e4b645-b01f-4433-8cb9-6a8aeb88a60e",
   "metadata": {},
   "outputs": [
    {
     "data": {
      "text/plain": [
       "list[0]"
      ]
     },
     "execution_count": 15,
     "metadata": {},
     "output_type": "execute_result"
    }
   ],
   "source": [
    "list[0]"
   ]
  },
  {
   "cell_type": "code",
   "execution_count": 16,
   "id": "e8afa146-b9ae-442a-a16d-d00ce84f9b84",
   "metadata": {},
   "outputs": [
    {
     "data": {
      "text/plain": [
       "3"
      ]
     },
     "execution_count": 16,
     "metadata": {},
     "output_type": "execute_result"
    }
   ],
   "source": [
    "li[0]"
   ]
  },
  {
   "cell_type": "code",
   "execution_count": 17,
   "id": "e4d7b672-1f3b-4dab-8a63-5915fd2a7675",
   "metadata": {},
   "outputs": [
    {
     "data": {
      "text/plain": [
       "[5, 7, 'abc']"
      ]
     },
     "execution_count": 17,
     "metadata": {},
     "output_type": "execute_result"
    }
   ],
   "source": [
    "li[2:5]"
   ]
  },
  {
   "cell_type": "code",
   "execution_count": 18,
   "id": "a8783b91-a5b9-45c4-b449-aa2e2df94a26",
   "metadata": {},
   "outputs": [
    {
     "data": {
      "text/plain": [
       "[500, 4, 5, 7, 'abc']"
      ]
     },
     "execution_count": 18,
     "metadata": {},
     "output_type": "execute_result"
    }
   ],
   "source": [
    "li[0]=500\n",
    "li"
   ]
  },
  {
   "cell_type": "code",
   "execution_count": 19,
   "id": "c46d57aa-15fe-4d4c-83dd-6cf8a14866b7",
   "metadata": {},
   "outputs": [
    {
     "data": {
      "text/plain": [
       "[500, 4, 8, 9, 'abc']"
      ]
     },
     "execution_count": 19,
     "metadata": {},
     "output_type": "execute_result"
    }
   ],
   "source": [
    "li[2:4]=[8,9]\n",
    "li"
   ]
  },
  {
   "cell_type": "code",
   "execution_count": 20,
   "id": "3e248b0b-30aa-44fb-8118-4e143998060b",
   "metadata": {},
   "outputs": [
    {
     "data": {
      "text/plain": [
       "[500, 4, 8, 9, 'abc', 45]"
      ]
     },
     "execution_count": 20,
     "metadata": {},
     "output_type": "execute_result"
    }
   ],
   "source": [
    "li.append(45)\n",
    "li"
   ]
  },
  {
   "cell_type": "code",
   "execution_count": 21,
   "id": "b7399b93-ef5f-4899-bef1-8674fc905292",
   "metadata": {},
   "outputs": [
    {
     "data": {
      "text/plain": [
       "[500, 4, 8, 9, 'abc', 45, 3, 4, 5, 6, 8]"
      ]
     },
     "execution_count": 21,
     "metadata": {},
     "output_type": "execute_result"
    }
   ],
   "source": [
    "li.extend([3,4,5,6,8])\n",
    "li\n",
    " \n",
    "#iterable > "
   ]
  },
  {
   "cell_type": "code",
   "execution_count": 23,
   "id": "3264fa74-3ab0-4a72-9173-ceb1ff20ef4e",
   "metadata": {},
   "outputs": [
    {
     "data": {
      "text/plain": [
       "[500, 4, 8, 9, 'abc', 4, 5, 6, 8]"
      ]
     },
     "execution_count": 23,
     "metadata": {},
     "output_type": "execute_result"
    }
   ],
   "source": [
    "li.pop(5)\n",
    "li"
   ]
  },
  {
   "cell_type": "code",
   "execution_count": 25,
   "id": "85769a01-0eb6-415f-a8f8-1f2c289bab4f",
   "metadata": {},
   "outputs": [
    {
     "data": {
      "text/plain": [
       "[500, 4, 8, 9, 'abc', 4, 5]"
      ]
     },
     "execution_count": 25,
     "metadata": {},
     "output_type": "execute_result"
    }
   ],
   "source": [
    "x=li.pop()\n",
    "li"
   ]
  },
  {
   "cell_type": "code",
   "execution_count": 26,
   "id": "c8fb1429-d12e-49cd-bd3c-459ed8a9d632",
   "metadata": {},
   "outputs": [
    {
     "data": {
      "text/plain": [
       "6"
      ]
     },
     "execution_count": 26,
     "metadata": {},
     "output_type": "execute_result"
    }
   ],
   "source": [
    "x"
   ]
  },
  {
   "cell_type": "code",
   "execution_count": 27,
   "id": "e0bd9372-36b2-4831-9d7a-3424d8221b1d",
   "metadata": {},
   "outputs": [
    {
     "name": "stdout",
     "output_type": "stream",
     "text": [
      "500\n",
      "4\n",
      "8\n",
      "9\n",
      "abc\n",
      "4\n",
      "5\n"
     ]
    }
   ],
   "source": [
    "#loop on list\n",
    "#directly\n",
    "for i in li:\n",
    "    print(i)"
   ]
  },
  {
   "cell_type": "code",
   "execution_count": 28,
   "id": "365acbf9-dc73-4048-8a14-1b078345b994",
   "metadata": {},
   "outputs": [
    {
     "data": {
      "text/plain": [
       "7"
      ]
     },
     "execution_count": 28,
     "metadata": {},
     "output_type": "execute_result"
    }
   ],
   "source": [
    "len(li)"
   ]
  },
  {
   "cell_type": "code",
   "execution_count": 29,
   "id": "d5fc54dd-4780-4845-9e69-29f09f3f6dd7",
   "metadata": {},
   "outputs": [
    {
     "name": "stdout",
     "output_type": "stream",
     "text": [
      "1\n",
      "2\n",
      "3\n",
      "4\n",
      "5\n",
      "6\n",
      "7\n"
     ]
    }
   ],
   "source": [
    "for i in range(1,8):\n",
    "    print(i)"
   ]
  },
  {
   "cell_type": "code",
   "execution_count": 39,
   "id": "20415a87-64de-4096-b80b-df5366bda122",
   "metadata": {},
   "outputs": [
    {
     "name": "stdout",
     "output_type": "stream",
     "text": [
      "0 4\n",
      "1 5\n",
      "2 6\n",
      "3 8\n",
      "4 9\n"
     ]
    },
    {
     "ename": "IndexError",
     "evalue": "list index out of range",
     "output_type": "error",
     "traceback": [
      "\u001b[1;31m---------------------------------------------------------------------------\u001b[0m",
      "\u001b[1;31mIndexError\u001b[0m                                Traceback (most recent call last)",
      "Cell \u001b[1;32mIn[39], line 4\u001b[0m\n\u001b[0;32m      1\u001b[0m li1\u001b[38;5;241m=\u001b[39m[\u001b[38;5;241m4\u001b[39m,\u001b[38;5;241m5\u001b[39m,\u001b[38;5;241m6\u001b[39m,\u001b[38;5;241m8\u001b[39m,\u001b[38;5;241m9\u001b[39m]\n\u001b[0;32m      2\u001b[0m \u001b[38;5;28;01mfor\u001b[39;00m i \u001b[38;5;129;01min\u001b[39;00m \u001b[38;5;28mrange\u001b[39m(\u001b[38;5;241m0\u001b[39m,\u001b[38;5;241m8\u001b[39m):\n\u001b[0;32m      3\u001b[0m      \u001b[38;5;66;03m# print(i,li[i])\u001b[39;00m\n\u001b[1;32m----> 4\u001b[0m      \u001b[38;5;28mprint\u001b[39m(i,li1[i])\n",
      "\u001b[1;31mIndexError\u001b[0m: list index out of range"
     ]
    }
   ],
   "source": [
    "li1=[4,5,6,8,9,'ab','c']\n",
    "for i in range(0,8):\n",
    "     # print(i,li[i])\n",
    "     print(i,li1[i])"
   ]
  },
  {
   "cell_type": "code",
   "execution_count": 40,
   "id": "32821b76-c77e-4030-9fea-a3b08c1d25ed",
   "metadata": {},
   "outputs": [
    {
     "name": "stdout",
     "output_type": "stream",
     "text": [
      "4\n",
      "6\n",
      "8\n"
     ]
    }
   ],
   "source": [
    "for i in li1:\n",
    "    if i %2==0:\n",
    "        print(i)\n"
   ]
  },
  {
   "cell_type": "code",
   "execution_count": 43,
   "id": "c1f1f882-c1d8-4bed-b242-c44e15af0d32",
   "metadata": {},
   "outputs": [
    {
     "data": {
      "text/plain": [
       "[16, 25, 36, 64, 81]"
      ]
     },
     "execution_count": 43,
     "metadata": {},
     "output_type": "execute_result"
    }
   ],
   "source": [
    "li2=[]\n",
    "for i in li1:\n",
    "    if type(i)==int:\n",
    "        li2.append(i*i)\n",
    "li2        "
   ]
  },
  {
   "cell_type": "code",
   "execution_count": 46,
   "id": "35764cbd-df38-40f4-b653-c48c4678db0a",
   "metadata": {},
   "outputs": [
    {
     "name": "stdout",
     "output_type": "stream",
     "text": [
      "false\n"
     ]
    }
   ],
   "source": [
    "x=11\n",
    "li=[12,4,6,9,5,3,0,4,5]\n",
    "for i in li:\n",
    "    if i==x:\n",
    "        print(\"True\")\n",
    "    else:\n",
    "        print(\"false\")\n",
    "        break"
   ]
  },
  {
   "cell_type": "code",
   "execution_count": 47,
   "id": "65f2cbad-c68b-48cf-8624-f4d225843050",
   "metadata": {},
   "outputs": [
    {
     "data": {
      "text/plain": [
       "[12, 4, 6, 9, 5, 3, 0]"
      ]
     },
     "execution_count": 47,
     "metadata": {},
     "output_type": "execute_result"
    }
   ],
   "source": [
    "li2=[]\n",
    "for i in li:\n",
    "    if i not in li2:\n",
    "        li2.append(i)\n",
    "li2"
   ]
  },
  {
   "cell_type": "code",
   "execution_count": 49,
   "id": "3e839409-4375-4ba7-970d-cbe887b0220c",
   "metadata": {},
   "outputs": [
    {
     "data": {
      "text/plain": [
       "[12, 4, 6, 9, 5, 3, 0]"
      ]
     },
     "execution_count": 49,
     "metadata": {},
     "output_type": "execute_result"
    }
   ],
   "source": [
    "li2=[]\n",
    "for i in li:\n",
    "    if i  in li2:\n",
    "        continue\n",
    "    else:\n",
    "        li2.append(i)\n",
    "li2"
   ]
  },
  {
   "cell_type": "code",
   "execution_count": 50,
   "id": "523018bb-01d3-452a-adb6-63843d6143a9",
   "metadata": {},
   "outputs": [
    {
     "data": {
      "text/plain": [
       "98"
      ]
     },
     "execution_count": 50,
     "metadata": {},
     "output_type": "execute_result"
    }
   ],
   "source": [
    "li=[45,7,9,4,38,98]\n",
    "max=0\n",
    "for i in li:\n",
    "    if i >max:\n",
    "        max=i\n",
    "max"
   ]
  },
  {
   "cell_type": "code",
   "execution_count": null,
   "id": "b7d81a7a-14fd-4f06-863b-de4fb9cc1266",
   "metadata": {},
   "outputs": [],
   "source": []
  }
 ],
 "metadata": {
  "kernelspec": {
   "display_name": "Python 3 (ipykernel)",
   "language": "python",
   "name": "python3"
  },
  "language_info": {
   "codemirror_mode": {
    "name": "ipython",
    "version": 3
   },
   "file_extension": ".py",
   "mimetype": "text/x-python",
   "name": "python",
   "nbconvert_exporter": "python",
   "pygments_lexer": "ipython3",
   "version": "3.11.7"
  }
 },
 "nbformat": 4,
 "nbformat_minor": 5
}
