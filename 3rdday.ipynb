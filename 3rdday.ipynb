{
 "cells": [
  {
   "cell_type": "code",
   "execution_count": null,
   "id": "ea2cfbd7-b774-4a67-bbd0-f800ce0e267b",
   "metadata": {},
   "outputs": [],
   "source": [
    "#power \n",
    "n=int(input(\"enter number\"))\n",
    "for i in range(1):\n",
    "    print(n**n)"
   ]
  },
  {
   "cell_type": "code",
   "execution_count": null,
   "id": "4452a446-5df0-43e4-9509-1144e89c1274",
   "metadata": {},
   "outputs": [],
   "source": [
    "#LCM\n",
    "x=int(input(\"enter number\"))\n",
    "y=int(input(\"enter number\"))\n",
    "if x>y:\n",
    "    greatest=x\n",
    "    print(greatest)\n",
    "else:\n",
    "    greatest=y\n",
    "    print(greatest)\n",
    "while greatest>0:\n",
    "    if greatest%x==0 and greatest%y==0:\n",
    "        print(\"LCM is \",greatest)\n",
    "        break\n",
    "    else:\n",
    "        greatest+=1"
   ]
  },
  {
   "cell_type": "code",
   "execution_count": null,
   "id": "29c6646f-5fb3-460c-9421-6b1c07dda7bb",
   "metadata": {},
   "outputs": [],
   "source": [
    "# a=int(input(\"enter number\"))\n",
    "# if a%2==0:\n",
    "#     print(a*a*a)\n",
    "# else:\n",
    "    \n",
    "#     print(a*a)"
   ]
  },
  {
   "cell_type": "code",
   "execution_count": null,
   "id": "764e16de-9b45-4d96-84bd-79180a40115f",
   "metadata": {},
   "outputs": [],
   "source": [
    "num=124\n",
    "mul=1\n",
    "while num>0:\n",
    "    rem=num%10\n",
    "    mul=mul*rem\n",
    "    num=num//10\n",
    "mul"
   ]
  },
  {
   "cell_type": "code",
   "execution_count": null,
   "id": "08ba46c2-b8cb-4abc-8d37-a6c0d4c31c16",
   "metadata": {},
   "outputs": [],
   "source": [
    "num=5\n",
    "fact=1\n",
    "for i in range(1,num+1):\n",
    "    fact=fact*i\n",
    "print(fact)"
   ]
  },
  {
   "cell_type": "code",
   "execution_count": null,
   "id": "a42ba335-c00c-4566-9ed2-03179955c742",
   "metadata": {},
   "outputs": [],
   "source": [
    "num=30\n",
    "i=1\n",
    "while i<=num:\n",
    "    if num%i==0:\n",
    "        print(i)\n",
    "    i=i+1"
   ]
  },
  {
   "cell_type": "code",
   "execution_count": null,
   "id": "0af343b7-d773-4de5-95ea-03602af36c4b",
   "metadata": {},
   "outputs": [],
   "source": [
    "num=int(input(\"enter number\"))\n",
    "# target=num\n",
    "# sum=0\n",
    "target=0\n",
    "while num>0:\n",
    "    rem=num%10\n",
    "    target=rem\n",
    "    num=num//10\n",
    "target\n",
    "fact=1\n",
    "for i in range(1,target+1):\n",
    "    fact=fact*i\n",
    "print(fact)\n",
    "\n",
    "# sum=sum+fact\n",
    "# if sum==target:\n",
    "#     print(\"true\")\n",
    "# else:\n",
    "#     print(\"falose\")"
   ]
  },
  {
   "cell_type": "code",
   "execution_count": 4,
   "id": "7ca107b6-aca4-437d-8566-8112392f8d62",
   "metadata": {},
   "outputs": [
    {
     "name": "stdin",
     "output_type": "stream",
     "text": [
      "enter number 121\n"
     ]
    },
    {
     "name": "stdout",
     "output_type": "stream",
     "text": [
      "121\n"
     ]
    }
   ],
   "source": [
    "#string palindrome\n",
    "num=int(input(\"enter number\"))\n",
    "sum=0\n",
    "while num>0:\n",
    "    rem=num%10\n",
    "    sum=sum*10+rem\n",
    "    num=num//10\n",
    "print(sum) "
   ]
  },
  {
   "cell_type": "code",
   "execution_count": 5,
   "id": "05cf9a65-9ec9-45ef-882e-04485d32b3ec",
   "metadata": {},
   "outputs": [
    {
     "name": "stdout",
     "output_type": "stream",
     "text": [
      "1\n",
      "0\n",
      "2\n",
      "0\n",
      "1\n",
      "3\n",
      "0\n",
      "1\n",
      "2\n"
     ]
    }
   ],
   "source": [
    "#nested loop\n",
    "for i in range(1,4):\n",
    "    print(i)\n",
    "    for j in range(i):\n",
    "        print(j)"
   ]
  },
  {
   "cell_type": "code",
   "execution_count": 2,
   "id": "6c386f50-d63c-401f-bd66-6393a2791d24",
   "metadata": {},
   "outputs": [
    {
     "name": "stdout",
     "output_type": "stream",
     "text": [
      "2 4 6 8 10 12 14 16 18 20 3 6 9 12 15 18 21 24 27 30 4 8 12 16 20 24 28 32 36 40 "
     ]
    }
   ],
   "source": [
    "\n",
    "for i in range(2,5):\n",
    "    for j in range(1,11):\n",
    "        print(i*j,end=\" \")"
   ]
  },
  {
   "cell_type": "code",
   "execution_count": 12,
   "id": "09499b1c-38cd-42d6-9347-050b008b5e44",
   "metadata": {},
   "outputs": [
    {
     "name": "stdout",
     "output_type": "stream",
     "text": [
      "1\n",
      "2\n",
      "1\n",
      "3\n",
      "1\n",
      "2\n",
      "4\n",
      "1\n",
      "5\n",
      "1\n",
      "2\n",
      "3\n",
      "6\n",
      "1\n",
      "7\n",
      "1\n",
      "2\n",
      "4\n",
      "8\n",
      "1\n",
      "3\n",
      "9\n"
     ]
    }
   ],
   "source": [
    "x=10\n",
    "for x in range(2,10):\n",
    "    for i in range(1,x+1):\n",
    "        if x%i==0:\n",
    "            print(i)"
   ]
  },
  {
   "cell_type": "code",
   "execution_count": 27,
   "id": "a4e321ce-118a-4672-8cef-f9e7df2daa3c",
   "metadata": {},
   "outputs": [],
   "source": [
    "sum=0\n",
    "for i in range(100,500):\n",
    "    rem=i%10\n",
    "    sum=sum+rem*rem*rem\n",
    "    i=i//10\n",
    "    sum\n",
    "        \n",
    "        "
   ]
  },
  {
   "cell_type": "code",
   "execution_count": null,
   "id": "e354479c-688e-4544-8dc8-1b8c361225e2",
   "metadata": {},
   "outputs": [],
   "source": []
  },
  {
   "cell_type": "code",
   "execution_count": null,
   "id": "dcfa4842-f6b2-4604-8203-7e899323c19b",
   "metadata": {},
   "outputs": [],
   "source": []
  }
 ],
 "metadata": {
  "kernelspec": {
   "display_name": "Python 3 (ipykernel)",
   "language": "python",
   "name": "python3"
  },
  "language_info": {
   "codemirror_mode": {
    "name": "ipython",
    "version": 3
   },
   "file_extension": ".py",
   "mimetype": "text/x-python",
   "name": "python",
   "nbconvert_exporter": "python",
   "pygments_lexer": "ipython3",
   "version": "3.11.7"
  }
 },
 "nbformat": 4,
 "nbformat_minor": 5
}
