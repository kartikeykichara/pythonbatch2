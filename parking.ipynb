{
 "cells": [
  {
   "cell_type": "code",
   "execution_count": 65,
   "id": "7b710ca6-2a21-4e3b-8def-32978f59998a",
   "metadata": {},
   "outputs": [
    {
     "name": "stdout",
     "output_type": "stream",
     "text": [
      "vehicel parked at :main station\n",
      "the parking spot has charging point also available\n",
      "space is free you can park\n",
      "The vehicle number is 353, and the parking price is 20.\n"
     ]
    }
   ],
   "source": [
    "class Parking:\n",
    "    def park(self,parking_spot):\n",
    "        self.parking_spot=parking_spot\n",
    "        return f\"vehicel parked at :{self.parking_spot}\"\n",
    "class Bike(Parking):\n",
    "        def __init__(self,bike_no,Parking_price):\n",
    "            self.bike_no=bike_no\n",
    "            self.Parking_price=Parking_price\n",
    "            self.reserved=reserved\n",
    "        def details_bike(self):\n",
    "            return f\"The bike number is {self.bike_no}, and the parking price is {self.Parking_price}.\"\n",
    "class car_parking(Parking):\n",
    "    def __init__(self,car_no,Parking_price):\n",
    "        self.car_no=car_no\n",
    "        self.Parking_price=Parking_price\n",
    "    def details_car(self):\n",
    "        return f\"The car number is {self.car_no}, and the parking price is {self.Parking_price}.\"\n",
    "class electric_vehicle(car_parking):\n",
    "    def __init__(self,vehicle_no,Parking_price,charging_point=True,reserved=False):\n",
    "        self.vehicle_no=vehicle_no\n",
    "        self.charging_point=charging_point\n",
    "        self.Parking_price=Parking_price\n",
    "        self.reserved=False\n",
    "    def charging(self):\n",
    "        self.charging_point=True\n",
    "        return f\"the parking spot has charging point also available\"\n",
    "    def space_free(self):\n",
    "            self.reserved=True\n",
    "            return \"space is free you can park\"\n",
    "    def space_reserved(self):\n",
    "            self.reserved=False\n",
    "            return \"space is not free you cannot park\"\n",
    "    def details_electric(self):\n",
    "        return f\"The vehicle number is {self.vehicle_no}, and the parking price is {self.Parking_price}.\"\n",
    "c=electric_vehicle(353,20)\n",
    "print(c.park(\"main station\"))\n",
    "print(c.charging())\n",
    "print(c.space_free())\n",
    "print(c.details_electric())"
   ]
  },
  {
   "cell_type": "code",
   "execution_count": null,
   "id": "aec81707-b020-485e-b604-ad84f853d088",
   "metadata": {},
   "outputs": [],
   "source": []
  }
 ],
 "metadata": {
  "kernelspec": {
   "display_name": "Python 3 (ipykernel)",
   "language": "python",
   "name": "python3"
  },
  "language_info": {
   "codemirror_mode": {
    "name": "ipython",
    "version": 3
   },
   "file_extension": ".py",
   "mimetype": "text/x-python",
   "name": "python",
   "nbconvert_exporter": "python",
   "pygments_lexer": "ipython3",
   "version": "3.11.7"
  }
 },
 "nbformat": 4,
 "nbformat_minor": 5
}
