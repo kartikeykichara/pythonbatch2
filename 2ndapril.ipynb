{
 "cells": [
  {
   "cell_type": "code",
   "execution_count": 6,
   "id": "49f87d45-422d-44be-b15d-2a376a54d4b6",
   "metadata": {},
   "outputs": [],
   "source": [
    "class Student:\n",
    "    college=\"regex\"\n",
    "    def info(self,x):\n",
    "        print(\"hello\")\n",
    "class Register(Student):\n",
    "    def info(self,x):\n",
    "        print(\"this is class\",Student.college)"
   ]
  },
  {
   "cell_type": "code",
   "execution_count": 7,
   "id": "7bfdf8e3-be2e-472e-8259-51a3784e3268",
   "metadata": {},
   "outputs": [
    {
     "name": "stdout",
     "output_type": "stream",
     "text": [
      "this is class regex\n"
     ]
    }
   ],
   "source": [
    "sr1=Register()\n",
    "sr1.info(12)"
   ]
  },
  {
   "cell_type": "code",
   "execution_count": 8,
   "id": "6abd190e-662b-4f2a-b2e3-3b15ffd5e7fb",
   "metadata": {},
   "outputs": [
    {
     "name": "stdout",
     "output_type": "stream",
     "text": [
      "the total is 30\n"
     ]
    }
   ],
   "source": [
    "class addno:\n",
    "    def __init__(self,num,num1):\n",
    "        self.total=num+num1\n",
    "    def __repr__(self):\n",
    "        return f\"the total is {self.total}\"\n",
    "\n",
    "a1=addno(10,20)\n",
    "print(a1)"
   ]
  },
  {
   "cell_type": "code",
   "execution_count": 12,
   "id": "b9413152-f7d1-4930-b9fa-77fca831ea6f",
   "metadata": {},
   "outputs": [
    {
     "name": "stdout",
     "output_type": "stream",
     "text": [
      "hey hello\n"
     ]
    }
   ],
   "source": [
    "class addno:\n",
    "    def __init__(self,num,num1):\n",
    "        self.total=num+num1\n",
    "    def __repr__(self):\n",
    "        return f\"the total is {self.total}\"\n",
    "\n",
    "    def __add__(self,x):\n",
    "        print(\"hey hello\")\n",
    "\n",
    "    def __gt__(self,y):\n",
    "        print(\"greater than value\")\n",
    "a1=addno(10,20)\n",
    "a2=addno(15,30)\n",
    "a1+a2"
   ]
  },
  {
   "cell_type": "code",
   "execution_count": 13,
   "id": "6dbdbebd-50e7-4c4e-ac6a-204eb26f0d46",
   "metadata": {},
   "outputs": [
    {
     "name": "stdout",
     "output_type": "stream",
     "text": [
      "greater than value\n"
     ]
    }
   ],
   "source": [
    "a1>a2"
   ]
  },
  {
   "cell_type": "code",
   "execution_count": 14,
   "id": "baf326ca-1e28-497e-8f41-b0c51937a6c1",
   "metadata": {},
   "outputs": [
    {
     "ename": "NameError",
     "evalue": "name 'company' is not defined",
     "output_type": "error",
     "traceback": [
      "\u001b[1;31m---------------------------------------------------------------------------\u001b[0m",
      "\u001b[1;31mNameError\u001b[0m                                 Traceback (most recent call last)",
      "Cell \u001b[1;32mIn[14], line 1\u001b[0m\n\u001b[1;32m----> 1\u001b[0m \u001b[38;5;28;01mclass\u001b[39;00m \u001b[38;5;21;01mregister\u001b[39;00m:\n\u001b[0;32m      2\u001b[0m     _amount\u001b[38;5;241m=\u001b[39m\u001b[38;5;241m100\u001b[39m\n\u001b[0;32m      3\u001b[0m     company\n",
      "Cell \u001b[1;32mIn[14], line 3\u001b[0m, in \u001b[0;36mregister\u001b[1;34m()\u001b[0m\n\u001b[0;32m      1\u001b[0m \u001b[38;5;28;01mclass\u001b[39;00m \u001b[38;5;21;01mregister\u001b[39;00m:\n\u001b[0;32m      2\u001b[0m     _amount\u001b[38;5;241m=\u001b[39m\u001b[38;5;241m100\u001b[39m\n\u001b[1;32m----> 3\u001b[0m     company\n",
      "\u001b[1;31mNameError\u001b[0m: name 'company' is not defined"
     ]
    }
   ],
   "source": [
    "class register:\n",
    "    _amount=100\n",
    "    company"
   ]
  },
  {
   "cell_type": "code",
   "execution_count": 15,
   "id": "4719d0b8-9738-4653-b944-55c59049de12",
   "metadata": {},
   "outputs": [],
   "source": [
    "class register:\n",
    "    __amount=100\n",
    "    company=\"regex\"\n",
    "\n",
    "    def abc(self):\n",
    "        print(\"amount is \",self.__amount)"
   ]
  },
  {
   "cell_type": "code",
   "execution_count": 17,
   "id": "64000dfb-d8c1-4558-9bec-fd9cf9d37b7f",
   "metadata": {},
   "outputs": [
    {
     "name": "stdout",
     "output_type": "stream",
     "text": [
      "amount is  100\n"
     ]
    },
    {
     "data": {
      "text/plain": [
       "100"
      ]
     },
     "execution_count": 17,
     "metadata": {},
     "output_type": "execute_result"
    }
   ],
   "source": [
    "r1=register()\n",
    "r1.abc()\n",
    "r1._register__amount"
   ]
  },
  {
   "cell_type": "code",
   "execution_count": 18,
   "id": "607b27d1-11b3-4afa-8ec1-a4b3fbe9e542",
   "metadata": {},
   "outputs": [],
   "source": [
    "from abc import ABC , abstractmethod\n",
    "class  testTemplate(ABC):\n",
    "    year=2025\n",
    "    @abstractmethod\n",
    "    def marks(self):\n",
    "        pass \n",
    "class pythonTest(testTemplate):\n",
    "    def marks(self):\n",
    "        print(\"python test marks\")"
   ]
  },
  {
   "cell_type": "code",
   "execution_count": 19,
   "id": "c22b0fcd-ed1f-44e0-a6dd-6d68860597e5",
   "metadata": {},
   "outputs": [
    {
     "name": "stdout",
     "output_type": "stream",
     "text": [
      "python test marks\n"
     ]
    }
   ],
   "source": [
    "pt1=pythonTest()\n",
    "pt1.marks()"
   ]
  },
  {
   "cell_type": "code",
   "execution_count": 20,
   "id": "a3295128-f53a-429e-8155-7cd1ddd00a4c",
   "metadata": {},
   "outputs": [
    {
     "ename": "TypeError",
     "evalue": "Can't instantiate abstract class testTemplate with abstract method marks",
     "output_type": "error",
     "traceback": [
      "\u001b[1;31m---------------------------------------------------------------------------\u001b[0m",
      "\u001b[1;31mTypeError\u001b[0m                                 Traceback (most recent call last)",
      "Cell \u001b[1;32mIn[20], line 11\u001b[0m\n\u001b[0;32m      8\u001b[0m     \u001b[38;5;28;01mdef\u001b[39;00m \u001b[38;5;21mmarks\u001b[39m(\u001b[38;5;28mself\u001b[39m):\n\u001b[0;32m      9\u001b[0m         \u001b[38;5;28mprint\u001b[39m(\u001b[38;5;124m\"\u001b[39m\u001b[38;5;124mpython test marks\u001b[39m\u001b[38;5;124m\"\u001b[39m)\n\u001b[1;32m---> 11\u001b[0m p1\u001b[38;5;241m=\u001b[39mtestTemplate()\n",
      "\u001b[1;31mTypeError\u001b[0m: Can't instantiate abstract class testTemplate with abstract method marks"
     ]
    }
   ],
   "source": [
    "from abc import ABC , abstractmethod\n",
    "class  testTemplate(ABC):\n",
    "    year=2025\n",
    "    @abstractmethod\n",
    "    def marks(self):\n",
    "        pass \n",
    "class pythonTest(testTemplate):\n",
    "    def marks(self):\n",
    "        print(\"python test marks\")\n",
    "\n",
    "p1=testTemplate()"
   ]
  },
  {
   "cell_type": "code",
   "execution_count": null,
   "id": "fc69c8f3-38e0-4526-a5b9-09034e015730",
   "metadata": {},
   "outputs": [],
   "source": []
  }
 ],
 "metadata": {
  "kernelspec": {
   "display_name": "Python 3 (ipykernel)",
   "language": "python",
   "name": "python3"
  },
  "language_info": {
   "codemirror_mode": {
    "name": "ipython",
    "version": 3
   },
   "file_extension": ".py",
   "mimetype": "text/x-python",
   "name": "python",
   "nbconvert_exporter": "python",
   "pygments_lexer": "ipython3",
   "version": "3.11.7"
  }
 },
 "nbformat": 4,
 "nbformat_minor": 5
}
