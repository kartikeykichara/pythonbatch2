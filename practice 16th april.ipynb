{
 "cells": [
  {
   "cell_type": "code",
   "execution_count": 1,
   "id": "7dfed97e-df91-4b8e-bc8f-86186bb09500",
   "metadata": {},
   "outputs": [
    {
     "name": "stdout",
     "output_type": "stream",
     "text": [
      "*\n",
      "**\n",
      "***\n",
      "****\n",
      "*****\n"
     ]
    }
   ],
   "source": [
    "# *\n",
    "# **\n",
    "# ***\n",
    "# ****\n",
    "for i in range(1,6):\n",
    "    for j in range(i):\n",
    "        print(\"*\",end=\"\")\n",
    "    print()"
   ]
  },
  {
   "cell_type": "code",
   "execution_count": 4,
   "id": "60ba990f-c069-4c2c-902f-f332d7a88854",
   "metadata": {},
   "outputs": [
    {
     "name": "stdout",
     "output_type": "stream",
     "text": [
      "111\n",
      "222\n",
      "333\n"
     ]
    }
   ],
   "source": [
    "# 111\n",
    "# 222\n",
    "# 333\n",
    "for i in range(1,4):\n",
    "    for j in range(3):\n",
    "        print(i,end=\"\")\n",
    "    print()"
   ]
  },
  {
   "cell_type": "code",
   "execution_count": 5,
   "id": "d05de7ff-8a6d-49bc-8960-5d3e9d3f143d",
   "metadata": {},
   "outputs": [
    {
     "name": "stdout",
     "output_type": "stream",
     "text": [
      "4321\n",
      "432\n",
      "43\n",
      "4\n"
     ]
    }
   ],
   "source": [
    "# 4321\n",
    "# 432\n",
    "# 43\n",
    "# 4\n",
    "for i in range(1,5):\n",
    "    for j in range(4,i-1,-1):\n",
    "        print(j,end=\"\")\n",
    "    print()"
   ]
  },
  {
   "cell_type": "code",
   "execution_count": 9,
   "id": "14fc2ae4-20a2-49d7-9f78-69ce4b9a2479",
   "metadata": {},
   "outputs": [
    {
     "name": "stdout",
     "output_type": "stream",
     "text": [
      "* \n",
      "* * \n",
      "* * * \n",
      "* * * * \n",
      "* * * \n",
      "* * \n",
      "* \n",
      "\n"
     ]
    }
   ],
   "source": [
    "# * \n",
    "# * * \n",
    "# * * * \n",
    "# * * * * \n",
    "# * * * \n",
    "# * * \n",
    "# * \n",
    "for i in range(1,5):\n",
    "    for j in range(i):\n",
    "        print(\"*\",end=\" \")\n",
    "    print()\n",
    "for k in range(3,0,-1):\n",
    "    for l in range(k):\n",
    "        print(\"*\",end=\" \")\n",
    "    print()\n",
    "print ()"
   ]
  },
  {
   "cell_type": "code",
   "execution_count": 17,
   "id": "1858af1f-53bb-47c4-8e23-571892ca0b6e",
   "metadata": {},
   "outputs": [
    {
     "name": "stdout",
     "output_type": "stream",
     "text": [
      "        1 \n",
      "      1 2 \n",
      "    1 2 3 \n",
      "  1 2 3 4 \n",
      "1 2 3 4 5 \n"
     ]
    }
   ],
   "source": [
    "#         1 \n",
    "#       1 2 \n",
    "#     1 2 3 \n",
    "#   1 2 3 4 \n",
    "# 1 2 3 4 5 \n",
    "for i in range(1,6):\n",
    "    for s in range(5,i,-1):\n",
    "        print(\" \",end=\" \")\n",
    "    for j in range(i):\n",
    "        print(j+1,end=\" \")\n",
    "    print()"
   ]
  },
  {
   "cell_type": "code",
   "execution_count": 41,
   "id": "aa5825da-8f62-450c-9679-1890c3a083bb",
   "metadata": {},
   "outputs": [
    {
     "name": "stdout",
     "output_type": "stream",
     "text": [
      "5 4 3 2 1 \n",
      "  4 3 2 1 \n",
      "    3 2 1 \n",
      "      2 1 \n",
      "        1 \n"
     ]
    }
   ],
   "source": [
    "for i in range(5,0,-1):\n",
    "    for s in range(5,i,-1):\n",
    "        print(\" \",end=\" \")\n",
    "    for j in range(i,0,-1):\n",
    "        print(j,end=\" \")\n",
    "    print()"
   ]
  },
  {
   "cell_type": "code",
   "execution_count": 43,
   "id": "90a1e66d-872b-4ae5-8812-5b3f4ec271b3",
   "metadata": {},
   "outputs": [
    {
     "name": "stdout",
     "output_type": "stream",
     "text": [
      "1 2 3 4 5 \n",
      "  1 2 3 4 \n",
      "    1 2 3 \n",
      "      1 2 \n",
      "        1 \n"
     ]
    }
   ],
   "source": [
    "# 1 2 3 4 5 \n",
    "#   1 2 3 4 \n",
    "#     1 2 3 \n",
    "#       1 2 \n",
    "#         1 \n",
    "for i in range(5,0,-1):\n",
    "    for s in range(5,i,-1):\n",
    "        print(\" \",end=\" \")\n",
    "    for j in range(i):\n",
    "        print(j+1,end=\" \")\n",
    "    print()"
   ]
  },
  {
   "cell_type": "code",
   "execution_count": null,
   "id": "1aec4acf-6a3e-4f58-a3aa-85fd4fadcdc8",
   "metadata": {},
   "outputs": [],
   "source": []
  }
 ],
 "metadata": {
  "kernelspec": {
   "display_name": "Python 3 (ipykernel)",
   "language": "python",
   "name": "python3"
  },
  "language_info": {
   "codemirror_mode": {
    "name": "ipython",
    "version": 3
   },
   "file_extension": ".py",
   "mimetype": "text/x-python",
   "name": "python",
   "nbconvert_exporter": "python",
   "pygments_lexer": "ipython3",
   "version": "3.11.7"
  }
 },
 "nbformat": 4,
 "nbformat_minor": 5
}
