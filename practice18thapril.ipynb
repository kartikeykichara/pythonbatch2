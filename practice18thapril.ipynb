{
 "cells": [
  {
   "cell_type": "markdown",
   "id": "812c4643-3ad6-48d8-98f4-a96061f0a645",
   "metadata": {},
   "source": [
    "### nums =[2,1]\n",
    "nums.sort()\n",
    "k=2\n",
    "if len(nums)==k:\n",
    "    print(nums[0])"
   ]
  },
  {
   "cell_type": "code",
   "execution_count": 4,
   "id": "f147d4a3-cd4c-4ecc-ba51-29ceefa14d1b",
   "metadata": {},
   "outputs": [
    {
     "data": {
      "text/plain": [
       "[1, 4, 5, 1, 3, 4, 2, 6]"
      ]
     },
     "execution_count": 4,
     "metadata": {},
     "output_type": "execute_result"
    }
   ],
   "source": [
    "lists = [[1,4,5],[1,3,4],[2,6]]\n",
    "li=[]\n",
    "for i in lists:\n",
    "    for j in i:\n",
    "        li.append(j)\n",
    "li."
   ]
  },
  {
   "cell_type": "code",
   "execution_count": 6,
   "id": "c176370a-3a7c-4121-869b-1a1e2a3ba414",
   "metadata": {},
   "outputs": [
    {
     "name": "stdout",
     "output_type": "stream",
     "text": [
      "-1\n"
     ]
    }
   ],
   "source": [
    "nums = [5,7,7,8,8,10]\n",
    "target = 6\n",
    "\n",
    "for i in range(len(nums)):\n",
    "    for j in range(i+1,len(nums)):\n",
    "        if nums[i]==target and nums[j]==target:\n",
    "            print(i,j)\n",
    "    else:\n",
    "        print(-1)\n",
    "        break"
   ]
  },
  {
   "cell_type": "code",
   "execution_count": 2,
   "id": "0070ee6b-58fd-4121-8509-8684ba2a6060",
   "metadata": {},
   "outputs": [
    {
     "data": {
      "text/plain": [
       "99"
      ]
     },
     "execution_count": 2,
     "metadata": {},
     "output_type": "execute_result"
    }
   ],
   "source": [
    "# 1. Write a Python program to find the maximum element in a list of numbers without\n",
    "# max functions\n",
    "nums = [10, 20, 4, 45, 99]\n",
    "max=0\n",
    "for i in range(0,len(nums)):\n",
    "    if nums[i]>0:\n",
    "        max=nums[i]\n",
    "max"
   ]
  },
  {
   "cell_type": "code",
   "execution_count": 3,
   "id": "c7ee1fc9-22e2-4b46-9d92-972ea0fda1e2",
   "metadata": {},
   "outputs": [
    {
     "data": {
      "text/plain": [
       "100"
      ]
     },
     "execution_count": 3,
     "metadata": {},
     "output_type": "execute_result"
    }
   ],
   "source": [
    "# 2. Write a Python program to sum all the elements in a list of numbers.\n",
    "nums = [10, 20, 30, 40]\n",
    "# b. The sum of all elements is: 100\n",
    "sum=0\n",
    "for i in nums:\n",
    "    sum+=i\n",
    "sum"
   ]
  },
  {
   "cell_type": "code",
   "execution_count": 5,
   "id": "499bebb7-79d9-47a5-a6bc-7eba4ab98c9e",
   "metadata": {},
   "outputs": [
    {
     "data": {
      "text/plain": [
       "[5, 4, 3, 2, 1]"
      ]
     },
     "execution_count": 5,
     "metadata": {},
     "output_type": "execute_result"
    }
   ],
   "source": [
    "# 3. Write a Python program to reverse a list without reverse or slicing operator\n",
    "numbers = [1, 2, 3, 4, 5]\n",
    "# b. Reversed list: [5, 4, 3, 2, 1]\n",
    "li=[]\n",
    "for i in range(len(numbers)-1,-1,-1):\n",
    "    li.append(numbers[i])\n",
    "li"
   ]
  },
  {
   "cell_type": "code",
   "execution_count": 10,
   "id": "7956a415-6180-41fe-bec7-ac8cd7d3b136",
   "metadata": {},
   "outputs": [
    {
     "data": {
      "text/plain": [
       "[4, 10, 20, 45, 99]"
      ]
     },
     "execution_count": 10,
     "metadata": {},
     "output_type": "execute_result"
    }
   ],
   "source": [
    "# 4. Write a Python program to sort a list in ascending order without sort functions\n",
    "numbers = [10, 20, 4, 45, 99]\n",
    "for i in range(0,len(nums)):\n",
    "    for j in range(i+1,len(nums)):\n",
    "        if numbers[i]>numbers[j]:\n",
    "            numbers[i],numbers[j]=numbers[j],numbers[i]\n",
    "numbers"
   ]
  },
  {
   "cell_type": "code",
   "execution_count": null,
   "id": "ede92db5-5473-4486-b77c-e354e6ff49c3",
   "metadata": {},
   "outputs": [],
   "source": [
    "numbers = [1, 2, 2, 3, 4, 4, 5]\n",
    "for i in range(len(numbers)):\n",
    "    for j in range(i+1,len(numbers)):\n",
    "        if numbers[i]==numbers[j]:\n",
    "            "
   ]
  }
 ],
 "metadata": {
  "kernelspec": {
   "display_name": "Python 3 (ipykernel)",
   "language": "python",
   "name": "python3"
  },
  "language_info": {
   "codemirror_mode": {
    "name": "ipython",
    "version": 3
   },
   "file_extension": ".py",
   "mimetype": "text/x-python",
   "name": "python",
   "nbconvert_exporter": "python",
   "pygments_lexer": "ipython3",
   "version": "3.11.7"
  }
 },
 "nbformat": 4,
 "nbformat_minor": 5
}
