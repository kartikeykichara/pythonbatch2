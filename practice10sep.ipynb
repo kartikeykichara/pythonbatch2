{
 "cells": [
  {
   "cell_type": "code",
   "execution_count": 1,
   "id": "7d94fb3d-d1d7-47d7-8fdd-e4642675ea66",
   "metadata": {},
   "outputs": [
    {
     "data": {
      "text/plain": [
       "3"
      ]
     },
     "execution_count": 1,
     "metadata": {},
     "output_type": "execute_result"
    }
   ],
   "source": [
    "n =4\n",
    "n1=0\n",
    "n2=1\n",
    "li=[]\n",
    "for i in range(1,n+1):\n",
    "    li.append(n2)\n",
    "    n1,n2=n2,n1+n2\n",
    "li[-1]"
   ]
  },
  {
   "cell_type": "code",
   "execution_count": 2,
   "id": "a294f30e-0abb-4da5-aaa2-e098657b8671",
   "metadata": {},
   "outputs": [
    {
     "data": {
      "text/plain": [
       "\"s'teL ekat edoCteeL tsetnoc\""
      ]
     },
     "execution_count": 2,
     "metadata": {},
     "output_type": "execute_result"
    }
   ],
   "source": [
    "s=\"Let's take LeetCode contest\"\n",
    "s=s.split()\n",
    "li=[]\n",
    "for i in s:\n",
    "    li.append(i[::-1])\n",
    "s=' '.join(li)\n",
    "s"
   ]
  },
  {
   "cell_type": "code",
   "execution_count": 3,
   "id": "017fbee2-f35e-4922-8d6b-6656c7a5c52b",
   "metadata": {},
   "outputs": [
    {
     "data": {
      "text/plain": [
       "[0, 1, 2, 2, 3, 0]"
      ]
     },
     "execution_count": 3,
     "metadata": {},
     "output_type": "execute_result"
    }
   ],
   "source": [
    "list1 = [\"Shogun\",\"Tapioca Express\",\"Burger King\",\"KFC\"] \n",
    "list2 = [\"KFC\",\"Shogun\",\"Burger King\"]\n",
    "li=[]\n",
    "for i in list1:\n",
    "    for j in list2:\n",
    "        if i==j and i not in li and j not in li:\n",
    "            li.append(list1.index(i))\n",
    "            li.append(list2.index(j))\n",
    "li         "
   ]
  },
  {
   "cell_type": "code",
   "execution_count": 4,
   "id": "23cafbce-182f-4b27-a1fe-e7da29264d81",
   "metadata": {},
   "outputs": [
    {
     "ename": "_IncompleteInputError",
     "evalue": "incomplete input (2492800735.py, line 3)",
     "output_type": "error",
     "traceback": [
      "\u001b[1;36m  Cell \u001b[1;32mIn[4], line 3\u001b[1;36m\u001b[0m\n\u001b[1;33m    a=nums[:\u001b[0m\n\u001b[1;37m            ^\u001b[0m\n\u001b[1;31m_IncompleteInputError\u001b[0m\u001b[1;31m:\u001b[0m incomplete input\n"
     ]
    }
   ],
   "source": [
    "nums = [1,2,3,4]\n",
    "nums.sort(reverse=True)\n",
    "a=nums[:"
   ]
  },
  {
   "cell_type": "code",
   "execution_count": null,
   "id": "383c2f49-57fd-472c-9305-582e42e962db",
   "metadata": {},
   "outputs": [],
   "source": [
    "s = \"abca\"\n",
    "s=list(s)\n",
    "li=[]\n",
    "for i in s:\n",
    "    li\n",
    "    "
   ]
  },
  {
   "cell_type": "code",
   "execution_count": 12,
   "id": "836fe2df-65b8-4269-8e97-3bcac4fcc596",
   "metadata": {},
   "outputs": [
    {
     "data": {
      "text/plain": [
       "{'bob': 1,\n",
       " 'hit': 2,\n",
       " 'a': 1,\n",
       " 'ball,': 1,\n",
       " 'the': 1,\n",
       " 'ball': 1,\n",
       " 'flew': 1,\n",
       " 'far': 1,\n",
       " 'after': 1,\n",
       " 'it': 1,\n",
       " 'was': 1,\n",
       " 'hit.': 1}"
      ]
     },
     "execution_count": 12,
     "metadata": {},
     "output_type": "execute_result"
    }
   ],
   "source": [
    "paragraph = \"Bob hit a ball, the hit BALL flew far after it was hit.\"\n",
    "banned = [\"hit\"]\n",
    "paragraph=paragraph.lower()\n",
    "s=paragraph.split()\n",
    "di={}\n",
    "for i in s:\n",
    "    if i not in di:\n",
    "        di[i]=1\n",
    "    else:\n",
    "        di[i]=di[i]+1\n",
    "di"
   ]
  },
  {
   "cell_type": "code",
   "execution_count": 4,
   "id": "7fb53349-122c-40c8-a6e3-b5a36790f66a",
   "metadata": {},
   "outputs": [
    {
     "data": {
      "text/plain": [
       "[0, 1, 9, 16, 100]"
      ]
     },
     "execution_count": 4,
     "metadata": {},
     "output_type": "execute_result"
    }
   ],
   "source": [
    "nums = [-4,-1,0,3,10]\n",
    "li=[i**2 for i in nums]\n",
    "li.sort()\n",
    "li"
   ]
  },
  {
   "cell_type": "code",
   "execution_count": 9,
   "id": "99137002-8476-4942-ab3e-3cfd07ea0404",
   "metadata": {},
   "outputs": [
    {
     "data": {
      "text/plain": [
       "[1, 0, 2, 1]"
      ]
     },
     "execution_count": 9,
     "metadata": {},
     "output_type": "execute_result"
    }
   ],
   "source": [
    "num = [2,1,5]\n",
    "k = 806\n",
    "a=int(''.join(map(str , num)))\n",
    "sum1=a+k\n",
    "s=str(sum1)\n",
    "li=[]\n",
    "for i in s:\n",
    "    inti=int(i)\n",
    "    li.append(inti)\n",
    "li"
   ]
  },
  {
   "cell_type": "code",
   "execution_count": 13,
   "id": "00843362-95bf-4b7b-b379-592fbc176381",
   "metadata": {},
   "outputs": [],
   "source": [
    "words = [\"bella\",\"label\",\"roller\"]\n"
   ]
  },
  {
   "cell_type": "code",
   "execution_count": 2,
   "id": "597e0d84-e109-4be7-80f6-3e0f6dd483fc",
   "metadata": {},
   "outputs": [
    {
     "data": {
      "text/plain": [
       "[12, 7896]"
      ]
     },
     "execution_count": 2,
     "metadata": {},
     "output_type": "execute_result"
    }
   ],
   "source": [
    "nums = [12,345,2,6,7896]\n",
    "li=[]\n",
    "for i in nums:\n",
    "    if len(str(i))%2==0:\n",
    "        li.append(i)\n",
    "li"
   ]
  },
  {
   "cell_type": "code",
   "execution_count": 12,
   "id": "a64f5404-a1bb-44ae-8ff8-f6d0fe3ba36b",
   "metadata": {},
   "outputs": [
    {
     "data": {
      "text/plain": [
       "8"
      ]
     },
     "execution_count": 12,
     "metadata": {},
     "output_type": "execute_result"
    }
   ],
   "source": [
    "grid = [[4,3,2,-1],[3,2,1,-1],[1,1,-1,-2],[-1,-1,-2,-3]]\n",
    "li=[]\n",
    "for i in grid:\n",
    "    for j in i:\n",
    "        if list==list:\n",
    "            li.append(j)\n",
    "count=0\n",
    "for k in li:\n",
    "    if k<0:\n",
    "        count+=1\n",
    "count"
   ]
  },
  {
   "cell_type": "code",
   "execution_count": null,
   "id": "a107d8fe-8fb8-42cb-975b-ef6c98b4f6b0",
   "metadata": {},
   "outputs": [],
   "source": []
  }
 ],
 "metadata": {
  "kernelspec": {
   "display_name": "Python [conda env:base] *",
   "language": "python",
   "name": "conda-base-py"
  },
  "language_info": {
   "codemirror_mode": {
    "name": "ipython",
    "version": 3
   },
   "file_extension": ".py",
   "mimetype": "text/x-python",
   "name": "python",
   "nbconvert_exporter": "python",
   "pygments_lexer": "ipython3",
   "version": "3.13.5"
  }
 },
 "nbformat": 4,
 "nbformat_minor": 5
}
