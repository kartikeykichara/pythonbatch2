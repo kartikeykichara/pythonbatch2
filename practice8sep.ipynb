{
 "cells": [
  {
   "cell_type": "code",
   "execution_count": 10,
   "id": "50450cae-fa35-4d00-a2bc-6cc8ece32671",
   "metadata": {},
   "outputs": [
    {
     "data": {
      "text/plain": [
       "[1, 1]"
      ]
     },
     "execution_count": 10,
     "metadata": {},
     "output_type": "execute_result"
    }
   ],
   "source": [
    "nums = [1,1,0,1,1,1]\n",
    "li=[]\n",
    "for i in nums:\n",
    "    if i!=1:\n",
    "        break\n",
    "    else:\n",
    "        li.append(i)\n",
    "li"
   ]
  },
  {
   "cell_type": "code",
   "execution_count": 12,
   "id": "6b2ebaab-cdb6-4756-84d8-cd461560338e",
   "metadata": {},
   "outputs": [
    {
     "ename": "SyntaxError",
     "evalue": "expected ':' (4195833033.py, line 17)",
     "output_type": "error",
     "traceback": [
      "\u001b[1;36m  Cell \u001b[1;32mIn[12], line 17\u001b[1;36m\u001b[0m\n\u001b[1;33m    if sum1==num\u001b[0m\n\u001b[1;37m                ^\u001b[0m\n\u001b[1;31mSyntaxError\u001b[0m\u001b[1;31m:\u001b[0m expected ':'\n"
     ]
    }
   ],
   "source": [
    "num = 28\n",
    "temp=num\n",
    "li=[]\n",
    "i=1\n",
    "while i<num:\n",
    "    if num%i==0:\n",
    "        li.append(i)\n",
    "    i+=1\n",
    "di={}\n",
    "for j in li:\n",
    "    if j not in di:\n",
    "        di[j]=1\n",
    "    else:\n",
    "        di[j]=di[j]+1\n",
    "sum1=0\n",
    "for k in di:\n",
    "    sum1+=k\n",
    "if sum1==temp:"
   ]
  },
  {
   "cell_type": "code",
   "execution_count": null,
   "id": "7ea2d3b1-cf54-47ad-abd9-c9a19dc224ad",
   "metadata": {},
   "outputs": [],
   "source": []
  }
 ],
 "metadata": {
  "kernelspec": {
   "display_name": "Python [conda env:base] *",
   "language": "python",
   "name": "conda-base-py"
  },
  "language_info": {
   "codemirror_mode": {
    "name": "ipython",
    "version": 3
   },
   "file_extension": ".py",
   "mimetype": "text/x-python",
   "name": "python",
   "nbconvert_exporter": "python",
   "pygments_lexer": "ipython3",
   "version": "3.13.5"
  }
 },
 "nbformat": 4,
 "nbformat_minor": 5
}
