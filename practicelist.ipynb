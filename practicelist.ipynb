{
 "cells": [
  {
   "cell_type": "code",
   "execution_count": 1,
   "id": "0c18050d-c53a-438f-ae7e-371bbf7517ad",
   "metadata": {},
   "outputs": [
    {
     "name": "stdout",
     "output_type": "stream",
     "text": [
      "1\n",
      "2\n",
      "6\n",
      "7\n",
      "3\n"
     ]
    }
   ],
   "source": [
    "# Write a Python program to print each element in a list using a for loop.\n",
    "li=[1,2,6,7,3]\n",
    "for i in li:\n",
    "    print(i)"
   ]
  },
  {
   "cell_type": "code",
   "execution_count": 2,
   "id": "4710479e-3656-4741-874a-106ce81d6aa1",
   "metadata": {},
   "outputs": [
    {
     "data": {
      "text/plain": [
       "19"
      ]
     },
     "execution_count": 2,
     "metadata": {},
     "output_type": "execute_result"
    }
   ],
   "source": [
    "# Write a Python program to calculate the sum of all elements in a list using a loop.\n",
    "sum=0\n",
    "for i in li:\n",
    "    sum+=i\n",
    "sum"
   ]
  },
  {
   "cell_type": "code",
   "execution_count": 6,
   "id": "f252d464-d960-4440-9ab6-2f1df285ba37",
   "metadata": {},
   "outputs": [
    {
     "data": {
      "text/plain": [
       "252"
      ]
     },
     "execution_count": 6,
     "metadata": {},
     "output_type": "execute_result"
    }
   ],
   "source": [
    "# Write a Python program to calculate the product of all elements in a list using a loop\n",
    "mul=1\n",
    "for i in li:\n",
    "    mul*=i\n",
    "mul"
   ]
  },
  {
   "cell_type": "code",
   "execution_count": 7,
   "id": "5b7a3d9c-14cd-4282-9f51-2e55c772d552",
   "metadata": {},
   "outputs": [
    {
     "data": {
      "text/plain": [
       "98"
      ]
     },
     "execution_count": 7,
     "metadata": {},
     "output_type": "execute_result"
    }
   ],
   "source": [
    "# Write a Python program to find the largest number in a list using a loop.\n",
    "mylist=[4,6,8,3,9,98]\n",
    "max=mylist[0]\n",
    "for i in mylist:\n",
    "    if i >max:\n",
    "        max=i\n",
    "max"
   ]
  },
  {
   "cell_type": "code",
   "execution_count": 15,
   "id": "682fcc6b-c22b-4062-baaf-85b19260464a",
   "metadata": {},
   "outputs": [
    {
     "data": {
      "text/plain": [
       "3"
      ]
     },
     "execution_count": 15,
     "metadata": {},
     "output_type": "execute_result"
    }
   ],
   "source": [
    "# Write a Python program to find the smallest number in a list using a loop.\n",
    "min=mylist[0]\n",
    "for i in mylist:\n",
    "    if i <min:\n",
    "        min=i\n",
    "min"
   ]
  },
  {
   "cell_type": "code",
   "execution_count": 18,
   "id": "c041f2e6-1d4c-4a27-8f53-dcfb80998581",
   "metadata": {},
   "outputs": [
    {
     "name": "stdin",
     "output_type": "stream",
     "text": [
      "enter number to be count 4\n"
     ]
    },
    {
     "data": {
      "text/plain": [
       "2"
      ]
     },
     "execution_count": 18,
     "metadata": {},
     "output_type": "execute_result"
    }
   ],
   "source": [
    "# Write a Python program to count how many times a specific element appears in a list.\n",
    "li1=[1,4,8,3,9,3,3,4]\n",
    "element=int(input(\"enter number to be count\"))\n",
    "count=0\n",
    "for i in li1:\n",
    "    if i==element:\n",
    "        count+=1\n",
    "count"
   ]
  },
  {
   "cell_type": "code",
   "execution_count": 40,
   "id": "971dc8d7-c6a5-4a7e-a5c3-37dcc6bc6898",
   "metadata": {},
   "outputs": [
    {
     "name": "stdin",
     "output_type": "stream",
     "text": [
      "enter number to be check 3\n"
     ]
    },
    {
     "name": "stdout",
     "output_type": "stream",
     "text": [
      "true\n"
     ]
    }
   ],
   "source": [
    "# Write a Python program to check if a specific element exists in a list using a loop\n",
    "li=[2,4,6,8,3,9,2,9]\n",
    "specific_element=int(input(\"enter number to be check\"))\n",
    "\n",
    "for i in li:\n",
    "    if specific_element in li:\n",
    "        print(\"true\")\n",
    "        break\n",
    "    else:\n",
    "        print(\"not present\")"
   ]
  },
  {
   "cell_type": "code",
   "execution_count": 28,
   "id": "53e2f8e1-411f-4e13-b939-b2c7b1935f15",
   "metadata": {},
   "outputs": [
    {
     "data": {
      "text/plain": [
       "[2, 9, 2, 8, 3, 7, 4, 2]"
      ]
     },
     "execution_count": 28,
     "metadata": {},
     "output_type": "execute_result"
    }
   ],
   "source": [
    "#Write a Python program to reverse a list using a loop (without using the reverse() method).\n",
    "li1=[2,4,7,3,8,2,9,2]\n",
    "reverse=[]\n",
    "for i in range(len(li1)-1,-1,-1):\n",
    "    reverse.append(li1[i])\n",
    "reverse"
   ]
  },
  {
   "cell_type": "code",
   "execution_count": 29,
   "id": "3b48621a-f251-4fe8-ac25-7ea72198230e",
   "metadata": {},
   "outputs": [
    {
     "data": {
      "text/plain": [
       "[4, 9, 36, 9, 64, 9]"
      ]
     },
     "execution_count": 29,
     "metadata": {},
     "output_type": "execute_result"
    }
   ],
   "source": [
    "# Write a Python program to create a new list where each element is the square of an element from the original list.\n",
    "list1=[2,3,6,9,3,8,3]\n",
    "square=[]\n",
    "for i in list1:\n",
    "    if i not in square:\n",
    "        square.append(i**2)\n",
    "square"
   ]
  },
  {
   "cell_type": "code",
   "execution_count": 30,
   "id": "774f3e08-2c5d-4cb8-ad47-ef2fb816ec18",
   "metadata": {},
   "outputs": [
    {
     "data": {
      "text/plain": [
       "[3, 4, 7, 8]"
      ]
     },
     "execution_count": 30,
     "metadata": {},
     "output_type": "execute_result"
    }
   ],
   "source": [
    "# Write a Python program to remove duplicates from a list using a loop.\n",
    "lis=[3,4,7,4,8,4]\n",
    "list1=[]\n",
    "for i in lis:\n",
    "    if i not in list1:\n",
    "        list1.append(i)\n",
    "list1"
   ]
  },
  {
   "cell_type": "code",
   "execution_count": 31,
   "id": "61d3bf94-1744-4a9d-8bd8-d86b5b701352",
   "metadata": {},
   "outputs": [
    {
     "data": {
      "text/plain": [
       "14"
      ]
     },
     "execution_count": 31,
     "metadata": {},
     "output_type": "execute_result"
    }
   ],
   "source": [
    "# 11. Sum of even numbers in a list\n",
    "# Write a Python program to calculate the sum of all even numbers in a list.\n",
    "my=[3,5,8,4,9,2,5,7]\n",
    "sum=0\n",
    "for i in my:\n",
    "    if i%2==0:\n",
    "        sum+=i\n",
    "sum"
   ]
  },
  {
   "cell_type": "code",
   "execution_count": 33,
   "id": "584a3c13-b0a0-4115-a0e7-a2a7e1c3776f",
   "metadata": {},
   "outputs": [
    {
     "data": {
      "text/plain": [
       "[3, 7, 3, 5]"
      ]
     },
     "execution_count": 33,
     "metadata": {},
     "output_type": "execute_result"
    }
   ],
   "source": [
    "# Write a Python program to create a new list that contains only the odd numbers from the original list.\n",
    "list1=[3,54,7,3,0,2,5]\n",
    "odd_list=[]\n",
    "for i in list1:\n",
    "    if i%2!=0:\n",
    "        odd_list.append(i)\n",
    "odd_list"
   ]
  },
  {
   "cell_type": "code",
   "execution_count": 6,
   "id": "03424cbc-52a8-440e-8b42-ab97a86b4c65",
   "metadata": {},
   "outputs": [
    {
     "data": {
      "text/plain": [
       "[2, 2]"
      ]
     },
     "execution_count": 6,
     "metadata": {},
     "output_type": "execute_result"
    }
   ],
   "source": [
    "# Write a Python program to sort a list in ascending order using a loop (without using the sort() method).\n",
    "mylist=[2,5,3,5,78,2]\n",
    "sort_list=[]\n",
    "element=2\n",
    "for i in mylist:\n",
    "    if i<=element:\n",
    "        sort_list.append(i)\n",
    "sort_list"
   ]
  },
  {
   "cell_type": "code",
   "execution_count": 2,
   "id": "3d2f0ee4-8122-41b2-98b9-0408ff54c23f",
   "metadata": {},
   "outputs": [
    {
     "name": "stdout",
     "output_type": "stream",
     "text": [
      "82 59\n"
     ]
    }
   ],
   "source": [
    "# Write a Python program to find the second largest element in a list.\n",
    "list1=[3,5,6,82,59,4,3,82]\n",
    "largest=0\n",
    "second_l=0\n",
    "for i in list1:\n",
    "    if i>largest:\n",
    "        second_l=largest\n",
    "        largest=i\n",
    "    elif i>second_l and i!=largest:\n",
    "            second_l=i\n",
    "print(largest,second_l)"
   ]
  },
  {
   "cell_type": "code",
   "execution_count": 17,
   "id": "7673b938-1239-40dd-9f2f-445520fa4f9f",
   "metadata": {},
   "outputs": [
    {
     "name": "stdout",
     "output_type": "stream",
     "text": [
      "7 1\n"
     ]
    }
   ],
   "source": [
    "# 15. Count even and odd numbers in a list\n",
    "# Write a Python program to count how many even and odd numbers are in a list.\n",
    "mylist=[2,4,6,8,4,2,8,9]\n",
    "count_even=0\n",
    "count_odd=0\n",
    "for i in mylist:\n",
    "    if i%2==0:\n",
    "        count_even+=1\n",
    "    else:\n",
    "        count_odd+=1\n",
    "print(count_even,count_odd)"
   ]
  },
  {
   "cell_type": "code",
   "execution_count": 2,
   "id": "d22e5a9d-539b-44f9-875f-2f326d07de93",
   "metadata": {},
   "outputs": [
    {
     "data": {
      "text/plain": [
       "[3, 4, 6, 8, 3]"
      ]
     },
     "execution_count": 2,
     "metadata": {},
     "output_type": "execute_result"
    }
   ],
   "source": [
    "# Write a Python program to remove all negative numbers from a list using a loop.\n",
    "li=[3,4,6,8,3,-2,-1,-2]\n",
    "li1=[]\n",
    "for i in li:\n",
    "    if i>-1:\n",
    "        li1.append(i)\n",
    "li1"
   ]
  },
  {
   "cell_type": "code",
   "execution_count": 3,
   "id": "e5b0a18b-3524-4d02-9406-ef6e0206872f",
   "metadata": {},
   "outputs": [
    {
     "data": {
      "text/plain": [
       "5.0"
      ]
     },
     "execution_count": 3,
     "metadata": {},
     "output_type": "execute_result"
    }
   ],
   "source": [
    "# 17. Calculate the average of numbers in a list\n",
    "# Write a Python program to calculate the average of all numbers in a list.\n",
    "list1=[2,4,6,9,3,5,6,8,2]\n",
    "sum=0\n",
    "for i in list1:\n",
    "    sum=sum+i\n",
    "    average=sum/len(list1)\n",
    "average"
   ]
  },
  {
   "cell_type": "code",
   "execution_count": 4,
   "id": "51629880-50f0-4fc5-897d-697423c47bbb",
   "metadata": {},
   "outputs": [
    {
     "name": "stdin",
     "output_type": "stream",
     "text": [
      "enter number to be multiplied 2\n"
     ]
    },
    {
     "data": {
      "text/plain": [
       "[6, 10, 14, 18, 2, 12]"
      ]
     },
     "execution_count": 4,
     "metadata": {},
     "output_type": "execute_result"
    }
   ],
   "source": [
    "# 18. Multiply each element of a list by a constant\n",
    "# Write a Python program that multiplies each element in a list by a constant value\n",
    "li=[3,5,7,9,1,6]\n",
    "li1=[]\n",
    "constant_value=int(input(\"enter number to be multiplied\"))\n",
    "for i in li:\n",
    "    li1.append(i*constant_value)\n",
    "li1"
   ]
  },
  {
   "cell_type": "code",
   "execution_count": 8,
   "id": "4c45e9b0-826a-4f6a-ae10-d2d03fe73b1e",
   "metadata": {},
   "outputs": [
    {
     "name": "stdout",
     "output_type": "stream",
     "text": [
      "4 4\n",
      "2 2\n",
      "2 2\n",
      "2 2\n"
     ]
    }
   ],
   "source": [
    "\n",
    "# 22. Find common elements between two lists\n",
    "# Write a Python program to find common elements between two lists using loops.\n",
    "li=[4,6,7,89,2,2,2]\n",
    "li1=[2,2,5,34,4]\n",
    "for i in li:\n",
    "    for j in li1:\n",
    "        if i==j:\n",
    "           print(i,j)\n",
    "           break\n"
   ]
  },
  {
   "cell_type": "code",
   "execution_count": 9,
   "id": "99396602-2f08-49ed-820a-9e09f85a5a2c",
   "metadata": {},
   "outputs": [
    {
     "data": {
      "text/plain": [
       "[3, 4, 6, 7, 2, 5]"
      ]
     },
     "execution_count": 9,
     "metadata": {},
     "output_type": "execute_result"
    }
   ],
   "source": [
    "# 23. Find unique elements in a list\n",
    "# Write a Python program to find all unique elements in a list (elements that appear only once).\n",
    "li=[3,4,6,7,2,3,5,2,2]\n",
    "unique_element=[]\n",
    "for i in li:\n",
    "    if i not in unique_element:\n",
    "        unique_element.append(i)\n",
    "unique_element"
   ]
  },
  {
   "cell_type": "code",
   "execution_count": 10,
   "id": "1a52c0d8-012a-4489-b80a-077a90157028",
   "metadata": {},
   "outputs": [
    {
     "data": {
      "text/plain": [
       "5"
      ]
     },
     "execution_count": 10,
     "metadata": {},
     "output_type": "execute_result"
    }
   ],
   "source": [
    "# 24. Check if a list is a palindrome\n",
    "# Write a Python program to check if a list is the same when read forward and backward (palindrome).\n",
    "li=[1,2,3,2,1]\n",
    "a=len(li)\n",
    "for i in li:"
   ]
  },
  {
   "cell_type": "code",
   "execution_count": 11,
   "id": "a18f5dc6-fc43-4278-8cd3-c22fdcd2b826",
   "metadata": {},
   "outputs": [
    {
     "data": {
      "text/plain": [
       "[1, 3, 15, 90, 720]"
      ]
     },
     "execution_count": 11,
     "metadata": {},
     "output_type": "execute_result"
    }
   ],
   "source": [
    "# 50. Create a list of cumulative products\n",
    "# Write a Python program to create a new list where each element is the cumulative product of the elements of the original list.\n",
    "li=[1,3,5,6,8]\n",
    "cumulative_list=[]\n",
    "mul=1\n",
    "for i in li:\n",
    "    mul=mul*i\n",
    "    cumulative_list.append(mul)\n",
    "cumulative_list"
   ]
  },
  {
   "cell_type": "code",
   "execution_count": 15,
   "id": "64b06e68-bbde-480d-879d-99e6babb967e",
   "metadata": {},
   "outputs": [
    {
     "data": {
      "text/plain": [
       "[[1], [1, 1], [1, 2, 1], [1, 3, 3, 1]]"
      ]
     },
     "execution_count": 15,
     "metadata": {},
     "output_type": "execute_result"
    }
   ],
   "source": [
    "#pascal traingle \n",
    "li=[[1]]\n",
    "n=4\n",
    "for i in range(0,n-1):\n",
    "    temp=[0]+li[-1]+[0]\n",
    "    list1=[]\n",
    "    for j in range(len(li)+1):\n",
    "        list1.append(temp[j]+temp[j+1])\n",
    "    li.append(list1)\n",
    "li"
   ]
  },
  {
   "cell_type": "code",
   "execution_count": 43,
   "id": "e2ed34d4-7950-4c28-83ad-88510e088c90",
   "metadata": {},
   "outputs": [
    {
     "name": "stdout",
     "output_type": "stream",
     "text": [
      "1 4 6 4 1 \n",
      " 1 3 3 1 \n",
      "  1 2 1 \n",
      "   1 1 \n",
      "    1 \n"
     ]
    }
   ],
   "source": [
    "#invert pascal traingle\n",
    "n = 5  # Number of rows (You can change this value)\n",
    "\n",
    "for i in range(n, 0, -1):\n",
    "    for s in range(5,i,-1):\n",
    "        print(\" \",end=\"\")\n",
    "    for j in range(i):\n",
    "        # Calculate binomial coefficient\n",
    "        coeff = 1\n",
    "        for k in range(1, j + 1):\n",
    "            coeff = coeff * (i - k) // k\n",
    "        print(coeff, end=\" \")\n",
    "    print()"
   ]
  },
  {
   "cell_type": "code",
   "execution_count": 41,
   "id": "c962729e-9302-4616-95d7-a0dbc1296f46",
   "metadata": {},
   "outputs": [
    {
     "name": "stdout",
     "output_type": "stream",
     "text": [
      "     *\n",
      "    * *\n",
      "   * * *\n",
      "  * * * *\n"
     ]
    }
   ],
   "source": [
    "for i in range(1,5):\n",
    "    for s in range(5,i,-1):\n",
    "        print(\" \",end=\"\")\n",
    "    for j in range(i):\n",
    "        print(\" *\",end=\"\")\n",
    "    print()"
   ]
  },
  {
   "cell_type": "code",
   "execution_count": 1,
   "id": "314004ca-8a98-4ca1-8a8e-57d7619c8ff2",
   "metadata": {},
   "outputs": [
    {
     "name": "stdout",
     "output_type": "stream",
     "text": [
      "[1, 3, 5, 7, 9, 11, 13, 15, 17, 19, 21, 23, 25]\n"
     ]
    }
   ],
   "source": [
    " # Write a program to print the first 25 odd numbers in list\n",
    "li=[]\n",
    "for i in range(1,26):\n",
    "    if i%2!=0:\n",
    "        li.append(i)\n",
    "print(li)"
   ]
  },
  {
   "cell_type": "code",
   "execution_count": 18,
   "id": "90b831b5-e31c-4beb-a5c1-c1e05b043076",
   "metadata": {},
   "outputs": [
    {
     "data": {
      "text/plain": [
       "[5, 4, 3, 2, 1]"
      ]
     },
     "execution_count": 18,
     "metadata": {},
     "output_type": "execute_result"
    }
   ],
   "source": [
    "li=[4,5,7,3,7]\n",
    "li1=[]\n",
    "for i in range(len(li),0,-1):\n",
    "    li1.append(i)\n",
    "li1"
   ]
  },
  {
   "cell_type": "code",
   "execution_count": 12,
   "id": "55b4f3b7-0bee-4eb6-be8d-941fb61c0225",
   "metadata": {},
   "outputs": [
    {
     "data": {
      "text/plain": [
       "[5, 4, 3, 2, 1]"
      ]
     },
     "execution_count": 12,
     "metadata": {},
     "output_type": "execute_result"
    }
   ],
   "source": [
    "li1"
   ]
  },
  {
   "cell_type": "code",
   "execution_count": null,
   "id": "097c8448-a5f3-4d6d-b17f-e408c457ca45",
   "metadata": {},
   "outputs": [],
   "source": []
  },
  {
   "cell_type": "code",
   "execution_count": 13,
   "id": "60591061-2e5f-43b9-a7be-27abc2cdecf4",
   "metadata": {},
   "outputs": [
    {
     "data": {
      "text/plain": [
       "0"
      ]
     },
     "execution_count": 13,
     "metadata": {},
     "output_type": "execute_result"
    }
   ],
   "source": [
    "li1.index(5)"
   ]
  },
  {
   "cell_type": "code",
   "execution_count": 2,
   "id": "f64540fd-ec09-4851-b43e-cef45b5487f0",
   "metadata": {},
   "outputs": [
    {
     "data": {
      "text/plain": [
       "2"
      ]
     },
     "execution_count": 2,
     "metadata": {},
     "output_type": "execute_result"
    }
   ],
   "source": [
    "nums = [1,2,3,1]\n",
    "a=max(nums)\n",
    "b=nums.index(a)\n",
    "b"
   ]
  },
  {
   "cell_type": "code",
   "execution_count": null,
   "id": "03529fde-fc4c-46d6-9bfe-b958ef8a4719",
   "metadata": {},
   "outputs": [],
   "source": [
    "\n",
    "        "
   ]
  },
  {
   "cell_type": "code",
   "execution_count": 16,
   "id": "6ebaa2f3-0aff-40b1-99b5-e7cc3fc818aa",
   "metadata": {},
   "outputs": [
    {
     "name": "stdout",
     "output_type": "stream",
     "text": [
      "4\n"
     ]
    }
   ],
   "source": [
    "nums = [4,5,6,7,0,1,2]\n",
    "target = 0\n",
    "for i in range(len(nums)):\n",
    "    if nums[i]==target:\n",
    "        print(i)\n",
    "        break\n",
    "else:\n",
    "    print(\"-1\")\n"
   ]
  },
  {
   "cell_type": "code",
   "execution_count": 23,
   "id": "bb33e816-65a9-4fc4-b10f-c702486314d2",
   "metadata": {},
   "outputs": [
    {
     "data": {
      "text/plain": [
       "[]"
      ]
     },
     "execution_count": 23,
     "metadata": {},
     "output_type": "execute_result"
    }
   ],
   "source": [
    "candidates = [2,3,6,7]\n",
    "target = 7\n",
    "j=len(candidates)-1\n",
    "li=[]\n",
    "for i in range(len(candidates)-1):\n",
    "    if candidates[i]+candidates[j]==target:\n",
    "        li.append(i)\n",
    "        i+=1\n",
    "    else:\n",
    "        i+=1\n",
    "        j-=1\n",
    "li"
   ]
  },
  {
   "cell_type": "code",
   "execution_count": 34,
   "id": "cf0f541e-f745-4ebf-ac53-1aae5753a911",
   "metadata": {},
   "outputs": [
    {
     "data": {
      "text/plain": [
       "str"
      ]
     },
     "execution_count": 34,
     "metadata": {},
     "output_type": "execute_result"
    }
   ],
   "source": [
    "x = 2.00000\n",
    "n = 10\n",
    "a=x**n\n",
    "b=f\"{a:.5f}\"\n",
    "return b"
   ]
  },
  {
   "cell_type": "code",
   "execution_count": 41,
   "id": "8fd5f74a-169e-423c-864f-0d559b227fd4",
   "metadata": {},
   "outputs": [
    {
     "data": {
      "text/plain": [
       "[0, 1, 1, 1, 1, 2, 3, 3]"
      ]
     },
     "execution_count": 41,
     "metadata": {},
     "output_type": "execute_result"
    }
   ],
   "source": [
    "nums = [0,0,1,1,1,1,2,3,3]\n",
    "for i in range(len(nums)):\n",
    "    if nums.count(i)>2:\n",
    "        nums.pop(i)\n",
    "        i+=1\n",
    "nums"
   ]
  },
  {
   "cell_type": "code",
   "execution_count": 52,
   "id": "5fc5932a-5607-4cdf-9360-5c1c37da25e1",
   "metadata": {},
   "outputs": [
    {
     "data": {
      "text/plain": [
       "[[], [1], [2], [1, 2], [2, 2], [1, 2, 2]]"
      ]
     },
     "execution_count": 52,
     "metadata": {},
     "output_type": "execute_result"
    }
   ],
   "source": [
    "nums = [1,2,2]\n",
    "nums.sort()\n",
    "li=[[]]\n",
    "for i in nums:\n",
    "    li+=[j+[i] for j in li]\n",
    "li1=[]\n",
    "for i in li:\n",
    "    if li.count(i)>=1 and i not in li1:\n",
    "        li1.append(i)\n",
    "li1"
   ]
  },
  {
   "cell_type": "code",
   "execution_count": 13,
   "id": "bf02fb48-965e-44ac-8c2a-9da6d14efeee",
   "metadata": {},
   "outputs": [
    {
     "data": {
      "text/plain": [
       "4"
      ]
     },
     "execution_count": 13,
     "metadata": {},
     "output_type": "execute_result"
    }
   ],
   "source": [
    "nums=[1,1,1,1,1,5,5,5,5,5]\n",
    "\n",
    "\n",
    "nums.sort()\n",
    "max=0\n",
    "for i in range(len(nums)-1):\n",
    "    a=nums[i]-nums[i+1]\n",
    "    b=abs(a)\n",
    "    if b>max:\n",
    "        max=b\n",
    "max"
   ]
  },
  {
   "cell_type": "code",
   "execution_count": 20,
   "id": "4fa5a1b4-1970-4707-80fa-d987c2eee5bf",
   "metadata": {},
   "outputs": [
    {
     "data": {
      "text/plain": [
       "[2]"
      ]
     },
     "execution_count": 20,
     "metadata": {},
     "output_type": "execute_result"
    }
   ],
   "source": [
    "nums1 = [1,2,2,1]\n",
    "nums2 = [2,2]\n",
    "li=[]\n",
    "for i in nums1:\n",
    "    for j in nums2:\n",
    "        if i==j and i not in li and j not in li :\n",
    "            li.append(i)\n",
    "            # li.append(j)\n",
    "li"
   ]
  },
  {
   "cell_type": "code",
   "execution_count": 10,
   "id": "3e816267-eb5b-4c1d-acbc-7e651c9e12d0",
   "metadata": {},
   "outputs": [
    {
     "data": {
      "text/plain": [
       "3.25"
      ]
     },
     "execution_count": 10,
     "metadata": {},
     "output_type": "execute_result"
    }
   ],
   "source": [
    "nums1 = [1,3]\n",
    "nums2 = [2,7]\n",
    "nums3=nums1+nums2\n",
    "nums3.sort()\n",
    "a=0\n",
    "for i in nums3:\n",
    "    a+=i\n",
    "b=a/len(nums3)\n",
    "b\n"
   ]
  },
  {
   "cell_type": "code",
   "execution_count": null,
   "id": "aae5bfe5-1809-4e67-b2fa-7b5de7b56527",
   "metadata": {},
   "outputs": [],
   "source": [
    "triangle = [[2],[3,4],[6,5,7],[4,1,8,3]]\n"
   ]
  },
  {
   "cell_type": "code",
   "execution_count": null,
   "id": "c62ed847-df2b-4d30-bf62-48c4e3a54fee",
   "metadata": {},
   "outputs": [],
   "source": [
    "nums = [0,0,1,1,1,1,2,3,3]\n",
    "i=0 \n",
    "for j in nums:\n",
    "    if nums.count(j)>=2:\n",
    "        nums.pop(j)\n",
    "        i+=1\n",
    "i+3\n"
   ]
  },
  {
   "cell_type": "code",
   "execution_count": 1,
   "id": "f46ccc72-4989-4885-a1cf-5e55a7334406",
   "metadata": {},
   "outputs": [
    {
     "name": "stdout",
     "output_type": "stream",
     "text": [
      "3\n"
     ]
    }
   ],
   "source": [
    "nums = [3,2,3]\n",
    "for i in nums:\n",
    "    if nums.count(i)>len(nums)//2:\n",
    "        print(i)\n",
    "        break"
   ]
  },
  {
   "cell_type": "code",
   "execution_count": null,
   "id": "bc118d71-0bcd-4a18-a537-61a6fcd77d25",
   "metadata": {},
   "outputs": [],
   "source": [
    "n=10\n",
    "while n"
   ]
  },
  {
   "cell_type": "code",
   "execution_count": 14,
   "id": "9045b44c-d113-48c8-9798-ddcfd1f9c382",
   "metadata": {},
   "outputs": [
    {
     "ename": "IndexError",
     "evalue": "list index out of range",
     "output_type": "error",
     "traceback": [
      "\u001b[1;31m---------------------------------------------------------------------------\u001b[0m",
      "\u001b[1;31mIndexError\u001b[0m                                Traceback (most recent call last)",
      "Cell \u001b[1;32mIn[14], line 6\u001b[0m\n\u001b[0;32m      4\u001b[0m \u001b[38;5;28;01mwhile\u001b[39;00m i\u001b[38;5;241m<\u001b[39mj:\n\u001b[0;32m      5\u001b[0m     \u001b[38;5;28;01mfor\u001b[39;00m i \u001b[38;5;129;01min\u001b[39;00m \u001b[38;5;28mrange\u001b[39m(\u001b[38;5;28mlen\u001b[39m(numbers)\u001b[38;5;241m-\u001b[39m\u001b[38;5;241m2\u001b[39m):\n\u001b[1;32m----> 6\u001b[0m         \u001b[38;5;28;01mif\u001b[39;00m numbers[i]\u001b[38;5;241m+\u001b[39mnumbers[j]\u001b[38;5;241m==\u001b[39mtarget:\n\u001b[0;32m      7\u001b[0m             \u001b[38;5;28mprint\u001b[39m(i\u001b[38;5;241m+\u001b[39m\u001b[38;5;241m1\u001b[39m,j\u001b[38;5;241m+\u001b[39m\u001b[38;5;241m1\u001b[39m)\n\u001b[0;32m      8\u001b[0m             i\u001b[38;5;241m+\u001b[39m\u001b[38;5;241m=\u001b[39m\u001b[38;5;241m1\u001b[39m\n",
      "\u001b[1;31mIndexError\u001b[0m: list index out of range"
     ]
    }
   ],
   "source": [
    "numbers = [2,7,11,15]\n",
    "target = 9\n",
    "j=len(numbers)\n",
    "while i<j:\n",
    "    for i in range(len(numbers)-2):\n",
    "        if numbers[i]+numbers[j]==target:\n",
    "            print(i+1,j+1)\n",
    "            i+=1\n",
    "            j-=1\n",
    "        else:\n",
    "            i+=1\n",
    "            j-=1"
   ]
  },
  {
   "cell_type": "code",
   "execution_count": 23,
   "id": "ec2dce24-5b50-4b9c-93bd-ceea5bf7d33b",
   "metadata": {},
   "outputs": [
    {
     "name": "stdout",
     "output_type": "stream",
     "text": [
      "false\n"
     ]
    }
   ],
   "source": [
    "n=3\n",
    "sqrt=int(n**0.5)\n",
    "a=2**sqrt\n",
    "if n==a:\n",
    "    print(\"true\")\n",
    "else:\n",
    "    print(\"false\")"
   ]
  },
  {
   "cell_type": "code",
   "execution_count": 34,
   "id": "d9cebb72-aa0d-43fd-842f-21ff63a992aa",
   "metadata": {},
   "outputs": [
    {
     "data": {
      "text/plain": [
       "2"
      ]
     },
     "execution_count": 34,
     "metadata": {},
     "output_type": "execute_result"
    }
   ],
   "source": [
    "n=8\n",
    "sqrt=int(n**0.5)\n",
    "sqrt"
   ]
  },
  {
   "cell_type": "code",
   "execution_count": 45,
   "id": "28033d06-db1c-4d95-9013-e8acae1736d5",
   "metadata": {},
   "outputs": [
    {
     "name": "stdout",
     "output_type": "stream",
     "text": [
      "true\n"
     ]
    }
   ],
   "source": [
    "n=8\n",
    "a=(pow(2, n))\n",
    "s=2**n\n",
    "if s==a:\n",
    "    print(\"true\")\n",
    "else:\n",
    "    print(\"false\")\n",
    " "
   ]
  },
  {
   "cell_type": "code",
   "execution_count": 46,
   "id": "bbdea5f0-5294-4751-a39e-d708fb3f6f04",
   "metadata": {},
   "outputs": [
    {
     "ename": "SyntaxError",
     "evalue": "invalid syntax (352741274.py, line 4)",
     "output_type": "error",
     "traceback": [
      "\u001b[1;36m  Cell \u001b[1;32mIn[46], line 4\u001b[1;36m\u001b[0m\n\u001b[1;33m    if n==a and :\u001b[0m\n\u001b[1;37m                ^\u001b[0m\n\u001b[1;31mSyntaxError\u001b[0m\u001b[1;31m:\u001b[0m invalid syntax\n"
     ]
    }
   ],
   "source": [
    "n=3\n",
    "sqrt=int(n**0.5)\n",
    "a=2**sqrt\n",
    "if n==a and :\n",
    "    print(\"true\")\n",
    "else:\n",
    "    print(\"false\")"
   ]
  },
  {
   "cell_type": "code",
   "execution_count": 1,
   "id": "17aef324-93ef-4ed6-8be2-0d26902613ba",
   "metadata": {},
   "outputs": [
    {
     "name": "stdout",
     "output_type": "stream",
     "text": [
      "false\n"
     ]
    }
   ],
   "source": [
    "a=8\n",
    "while a<=0:\n",
    "    a=a//2\n",
    "    a=a\n",
    "    print(\"true\")\n",
    "else:\n",
    "    print(\"false\")"
   ]
  },
  {
   "cell_type": "code",
   "execution_count": 7,
   "id": "3c8cabc4-da0d-4528-9865-988962d6ca32",
   "metadata": {},
   "outputs": [
    {
     "data": {
      "text/plain": [
       "2"
      ]
     },
     "execution_count": 7,
     "metadata": {},
     "output_type": "execute_result"
    }
   ],
   "source": [
    "nums = [1,3,4,2,2]\n",
    "di={}\n",
    "for i in nums:\n",
    "    if i not in di:\n",
    "        di[i]=1\n",
    "    else:\n",
    "        di[i]=di[i]+1\n",
    "a=max(di, key=di.get)\n",
    "a"
   ]
  },
  {
   "cell_type": "code",
   "execution_count": 16,
   "id": "4df7b192-1d46-4fd3-aea5-4ef4647e76e9",
   "metadata": {},
   "outputs": [
    {
     "data": {
      "text/plain": [
       "'abc'"
      ]
     },
     "execution_count": 16,
     "metadata": {},
     "output_type": "execute_result"
    }
   ],
   "source": [
    "s = \"bcabc\"\n"
   ]
  },
  {
   "cell_type": "code",
   "execution_count": 21,
   "id": "1d023010-d478-4175-bfe2-9705f9755d07",
   "metadata": {},
   "outputs": [
    {
     "data": {
      "text/plain": [
       "1"
      ]
     },
     "execution_count": 21,
     "metadata": {},
     "output_type": "execute_result"
    }
   ],
   "source": [
    "a = 1\n",
    "b = [4,3,3,8,5,2]\n",
    "b=int(''.join(map(str,b)))\n",
    "c=a**b\n",
    "c"
   ]
  },
  {
   "cell_type": "code",
   "execution_count": 5,
   "id": "3d38b0e3-f59c-43ac-b2d9-dd6f7c84eb99",
   "metadata": {},
   "outputs": [
    {
     "ename": "KeyError",
     "evalue": "'a'",
     "output_type": "error",
     "traceback": [
      "\u001b[1;31m---------------------------------------------------------------------------\u001b[0m",
      "\u001b[1;31mKeyError\u001b[0m                                  Traceback (most recent call last)",
      "Cell \u001b[1;32mIn[5], line 22\u001b[0m\n\u001b[0;32m     20\u001b[0m \u001b[38;5;28;01mfor\u001b[39;00m i \u001b[38;5;129;01min\u001b[39;00m di:\n\u001b[0;32m     21\u001b[0m     \u001b[38;5;28;01mfor\u001b[39;00m j \u001b[38;5;129;01min\u001b[39;00m di1:\n\u001b[1;32m---> 22\u001b[0m         \u001b[38;5;28;01mif\u001b[39;00m matches[key] \u001b[38;5;129;01min\u001b[39;00m  di \u001b[38;5;129;01mand\u001b[39;00m di1:\n\u001b[0;32m     23\u001b[0m             \u001b[38;5;28mprint\u001b[39m(\u001b[38;5;124m\"\u001b[39m\u001b[38;5;124mtrue\u001b[39m\u001b[38;5;124m\"\u001b[39m)\n\u001b[0;32m     24\u001b[0m         \u001b[38;5;28;01melse\u001b[39;00m:\n",
      "\u001b[1;31mKeyError\u001b[0m: 'a'"
     ]
    }
   ],
   "source": [
    "ransomNote = \"a\",\n",
    "magazine = \"b\"\n",
    "di={}\n",
    "di1={}\n",
    "for i in ransomNote:\n",
    "    if i not in di:\n",
    "        di[i]=1\n",
    "    else:\n",
    "        di[i]=di[i]+1\n",
    "for j in magazine:\n",
    "    if j not in di1:\n",
    "        di1[j]=1\n",
    "    else:\n",
    "        di1[j]=di1[j]+1\n",
    "matches = {}\n",
    "for key in di:\n",
    "    if key in di1:  # Key check karte hain\n",
    "        if di[key] == di1[key]:  # Value bhi check karte hain\n",
    "            matches[key] = di[key]\n",
    "for i in di:\n",
    "    for j in di1:\n",
    "        if matches[key] in  di and di1:\n",
    "            print(\"true\")\n",
    "        else:\n",
    "            print(\"false\")"
   ]
  },
  {
   "cell_type": "code",
   "execution_count": 26,
   "id": "afe02f1a-368b-4cba-9dde-d5b261e8cda1",
   "metadata": {},
   "outputs": [
    {
     "data": {
      "text/plain": [
       "4"
      ]
     },
     "execution_count": 26,
     "metadata": {},
     "output_type": "execute_result"
    }
   ],
   "source": [
    "s = \"leetcode\"\n",
    "a=list(s)\n",
    "li=[]\n",
    "for i in a:\n",
    "    if a.count(i)==1:\n",
    "        li.append(i)\n",
    "        b=li.index(i)\n",
    "b"
   ]
  },
  {
   "cell_type": "code",
   "execution_count": 32,
   "id": "82f24dd1-6806-4f03-9dd5-ef43340c93bd",
   "metadata": {},
   "outputs": [
    {
     "data": {
      "text/plain": [
       "['a',\n",
       " 'b',\n",
       " 'c',\n",
       " 'd',\n",
       " 'e',\n",
       " 'a',\n",
       " 'b',\n",
       " 'c',\n",
       " 'd',\n",
       " 'e',\n",
       " 'a',\n",
       " 'b',\n",
       " 'c',\n",
       " 'd',\n",
       " 'e',\n",
       " 'a',\n",
       " 'b',\n",
       " 'c',\n",
       " 'd',\n",
       " 'e']"
      ]
     },
     "execution_count": 32,
     "metadata": {},
     "output_type": "execute_result"
    }
   ],
   "source": [
    "s = \"abcd\"\n",
    "t = \"abcde\"\n",
    "a=list(s)\n",
    "b=list(t)\n",
    "c=[]\n",
    "for i in a:\n",
    "    for j in b:\n",
    "        if j in b:\n",
    "            c.append(j)\n",
    "c"
   ]
  },
  {
   "cell_type": "code",
   "execution_count": 4,
   "id": "53c901e2-7a78-4353-8d3c-6933fb8c5749",
   "metadata": {},
   "outputs": [
    {
     "data": {
      "text/plain": [
       "[2, 3]"
      ]
     },
     "execution_count": 4,
     "metadata": {},
     "output_type": "execute_result"
    }
   ],
   "source": [
    "nums = [4,3,2,7,8,2,3,1]\n",
    "nums1=[]\n",
    "for i in nums:\n",
    "    if nums.count(i)>1:\n",
    "        nums1.append(i)\n",
    "a=set(nums1)\n",
    "b=list(a)\n",
    "b"
   ]
  },
  {
   "cell_type": "code",
   "execution_count": 12,
   "id": "cd3f5555-3390-453e-a991-b612622da9c2",
   "metadata": {},
   "outputs": [
    {
     "data": {
      "text/plain": [
       "30"
      ]
     },
     "execution_count": 12,
     "metadata": {},
     "output_type": "execute_result"
    }
   ],
   "source": [
    "n = 100\n",
    "fact=1\n",
    "for i in range(1,n+1):\n",
    "    fact=fact*i\n",
    "s=str(fact)\n",
    "li=[int(digit) for digit in str(s)]\n",
    "a=li.count(0)\n",
    "a"
   ]
  },
  {
   "cell_type": "code",
   "execution_count": 14,
   "id": "b5e08f2f-72e9-455a-9144-0028f7bb77cb",
   "metadata": {},
   "outputs": [
    {
     "name": "stdout",
     "output_type": "stream",
     "text": [
      "3\n"
     ]
    }
   ],
   "source": [
    "nums = [3,3,3,3,3]\n",
    "for i in nums:\n",
    "    if nums.count(i)>1:\n",
    "        print(i)\n",
    "        break"
   ]
  },
  {
   "cell_type": "code",
   "execution_count": 35,
   "id": "1c7e30f4-bb8d-4321-b027-67d4f3538f8f",
   "metadata": {},
   "outputs": [
    {
     "data": {
      "text/plain": [
       "[1, 9, 9, 1, 0, 0, 1, 9, 9]"
      ]
     },
     "execution_count": 35,
     "metadata": {},
     "output_type": "execute_result"
    }
   ],
   "source": [
    "s=\"199100199\"\n",
    "li=[int(digit) for digit in str(s)]\n",
    "for i in range(0,len(li)-2):\n",
    "    for j in range(i+1,len(li)-1):\n",
    "        a=li[i]+li[j]\n",
    "li"
   ]
  },
  {
   "cell_type": "code",
   "execution_count": 41,
   "id": "d75da300-0aa9-47f6-a536-f5ad97ff0a71",
   "metadata": {},
   "outputs": [
    {
     "data": {
      "text/plain": [
       "'bacdefg'"
      ]
     },
     "execution_count": 41,
     "metadata": {},
     "output_type": "execute_result"
    }
   ],
   "source": [
    "s = \"abcdefg\"\n",
    "k = 2\n",
    "li=list(s)\n",
    "\n",
    "a=li[0:k]\n",
    "b=a[::-1]\n",
    "c=li[k:]\n",
    "t=b+c\n",
    "s=''.join(t)\n",
    "s"
   ]
  },
  {
   "cell_type": "code",
   "execution_count": null,
   "id": "1e18e520-4e34-4757-a8fe-f5564dc49310",
   "metadata": {},
   "outputs": [],
   "source": []
  }
 ],
 "metadata": {
  "kernelspec": {
   "display_name": "Python 3 (ipykernel)",
   "language": "python",
   "name": "python3"
  },
  "language_info": {
   "codemirror_mode": {
    "name": "ipython",
    "version": 3
   },
   "file_extension": ".py",
   "mimetype": "text/x-python",
   "name": "python",
   "nbconvert_exporter": "python",
   "pygments_lexer": "ipython3",
   "version": "3.11.7"
  }
 },
 "nbformat": 4,
 "nbformat_minor": 5
}
