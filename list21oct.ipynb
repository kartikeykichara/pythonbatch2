{
 "cells": [
  {
   "cell_type": "raw",
   "id": "b561ee23-826a-44cf-a768-e238dcdb3c54",
   "metadata": {},
   "source": [
    "mylist=[10,20,30]\n",
    "mylist.append(60)\n",
    "mylist"
   ]
  },
  {
   "cell_type": "code",
   "execution_count": 2,
   "id": "371c8b10-93ff-4f49-bbc6-9d89dd1cacf0",
   "metadata": {},
   "outputs": [
    {
     "data": {
      "text/plain": [
       "[10, 20, 30, 60, 'k', 'a', 'r', 't', 'i', 'k', 'e', 'y']"
      ]
     },
     "execution_count": 2,
     "metadata": {},
     "output_type": "execute_result"
    }
   ],
   "source": [
    "#valid parenthesis or not \n",
    "#[] {} ()\n",
    "       "
   ]
  },
  {
   "cell_type": "code",
   "execution_count": 3,
   "id": "1ad5b21b-d34c-4d10-b973-76f0abb580fb",
   "metadata": {},
   "outputs": [
    {
     "data": {
      "text/plain": [
       "'a'"
      ]
     },
     "execution_count": 3,
     "metadata": {},
     "output_type": "execute_result"
    }
   ],
   "source": [
    "mylist.pop(5)"
   ]
  },
  {
   "cell_type": "code",
   "execution_count": 4,
   "id": "d76f2e72-f692-4716-a6bb-d61481bd7c62",
   "metadata": {},
   "outputs": [
    {
     "data": {
      "text/plain": [
       "[10, 40, 20, 30, 60, 'k', 'r', 't', 'i', 'k', 'e', 'y']"
      ]
     },
     "execution_count": 4,
     "metadata": {},
     "output_type": "execute_result"
    }
   ],
   "source": [
    "mylist.insert(1,40)\n",
    "mylist"
   ]
  },
  {
   "cell_type": "code",
   "execution_count": 18,
   "id": "07d7c08b-03e5-46ce-8a36-49e684407d66",
   "metadata": {},
   "outputs": [
    {
     "name": "stdout",
     "output_type": "stream",
     "text": [
      "40 0\n",
      "50 40\n",
      "90 50\n",
      "90 50\n",
      "90 50\n"
     ]
    }
   ],
   "source": [
    "#to find out second maximum of a list\n",
    "list1=[40,50,90,20,90]\n",
    "max=0\n",
    "secondmax=0\n",
    "for i in list1:\n",
    "    if i>max:\n",
    "        secondmax=max\n",
    "        max=i\n",
    "    elif(i>secondmax and i!=max):\n",
    "        secondmax=i\n",
    "    print(max,secondmax)\n",
    "        "
   ]
  },
  {
   "cell_type": "code",
   "execution_count": 11,
   "id": "1af1b42d-2055-4fb9-ba73-fed656cda005",
   "metadata": {},
   "outputs": [
    {
     "name": "stdout",
     "output_type": "stream",
     "text": [
      "8\n",
      "6\n"
     ]
    }
   ],
   "source": [
    "list1=[2,11,11,6,7,8,8,8,6,6,6]\n",
    "for i in range(len(list1)-2):\n",
    "    if list1[i]==list1[i+1] and list1[i+1]==list1[i+2]:\n",
    "        print(list1[i])\n",
    "        "
   ]
  },
  {
   "cell_type": "code",
   "execution_count": 16,
   "id": "925747a8-11d8-454c-9e66-13ab865ec836",
   "metadata": {},
   "outputs": [
    {
     "name": "stdout",
     "output_type": "stream",
     "text": [
      "not\n"
     ]
    }
   ],
   "source": [
    "mylist=[]\n",
    "x=0\n",
    "for char in \"[{}]\":\n",
    "    if char in \"[{(\":\n",
    "        mylist.append(char)\n",
    "    else:\n",
    "        if char==\"}\" and mylist.pop!=\"{\":\n",
    "             x=x+1\n",
    "             break\n",
    "        elif char==\"]\" and mylist.pop!=\"[\":\n",
    "            x=x+1\n",
    "            break\n",
    "        elif char==\")\" and mylist.pop!=\"(\":\n",
    "            x=x+1\n",
    "            break\n",
    "if x==0:\n",
    "    print(\"valid\")\n",
    "else:\n",
    "    print(\"not\")"
   ]
  },
  {
   "cell_type": "code",
   "execution_count": 3,
   "id": "60fb38b8-2564-46b9-9abb-b1efb4aa4a7d",
   "metadata": {},
   "outputs": [
    {
     "name": "stdout",
     "output_type": "stream",
     "text": [
      "8\n"
     ]
    }
   ],
   "source": [
    "l=[2,11,11,6,8,8,8]\n",
    "for i in range(len(l)-2):\n",
    "    if l[i]==l[i+1]and l[i+1]==l[i+2]:\n",
    "        print(l[i])"
   ]
  },
  {
   "cell_type": "code",
   "execution_count": 14,
   "id": "38c05b60-e991-49cb-bb4e-627ed0762ba4",
   "metadata": {},
   "outputs": [
    {
     "name": "stdout",
     "output_type": "stream",
     "text": [
      "97 87 56\n"
     ]
    }
   ],
   "source": [
    "li=[1,2,5,87,56,97,34]\n",
    "max=0\n",
    "second_max=0\n",
    "third_max=0\n",
    "for i in li:\n",
    "    if i> max:\n",
    "        third_max=second_max\n",
    "        second_max=max\n",
    "        max=i\n",
    "    elif i>second_max and i!=max:\n",
    "        second_max=i\n",
    "    elif i>third_max and i!=max and i!=second_max:\n",
    "        third_max=i\n",
    "print(max,second_max,third_max)\n",
    "        "
   ]
  },
  {
   "cell_type": "code",
   "execution_count": 7,
   "id": "b16adf53-9645-446d-a363-eae9299d9e90",
   "metadata": {},
   "outputs": [
    {
     "name": "stdout",
     "output_type": "stream",
     "text": [
      "3 2\n"
     ]
    }
   ],
   "source": [
    "li=[3,2,5,87,56,97,34]\n",
    "small=li[0]\n",
    "second_min=li[0]\n",
    "for i in li:\n",
    "    if i<min:\n",
    "        second_min=min\n",
    "        min=i\n",
    "    elif i<second_min and i!=min:\n",
    "        second_min=i\n",
    "print(small,second_min)"
   ]
  },
  {
   "cell_type": "code",
   "execution_count": 3,
   "id": "2e45e928-045e-482a-b8aa-ed9c7f639af3",
   "metadata": {},
   "outputs": [
    {
     "data": {
      "text/plain": [
       "87"
      ]
     },
     "execution_count": 3,
     "metadata": {},
     "output_type": "execute_result"
    }
   ],
   "source": [
    "li=[3,2,5,87,56,97,34]\n",
    "mid_index=mid=len(li)//2\n",
    "mid=0\n",
    "\n",
    "for i ,element in enumerate(li):\n",
    "    if i ==mid_index:\n",
    "        mid=element\n",
    "mid"
   ]
  },
  {
   "cell_type": "code",
   "execution_count": 5,
   "id": "04ab7c19-07dc-4f15-937c-a841eef358ae",
   "metadata": {},
   "outputs": [
    {
     "name": "stdout",
     "output_type": "stream",
     "text": [
      "string valid\n"
     ]
    }
   ],
   "source": [
    "string='([])'\n",
    "list=[]\n",
    "x=0\n",
    "for i in string:\n",
    "    if i in \"({[\":\n",
    "        list.append(i)\n",
    "    else:\n",
    "        if len(list)==0:\n",
    "            x+=1\n",
    "            break\n",
    "        if i==')' and list.pop()!='(':\n",
    "            break\n",
    "        elif i==']' and list.pop()!='[':\n",
    "            break\n",
    "        elif i=='}' and list.pop()!='{':\n",
    "            break\n",
    "\n",
    "if (x==1):\n",
    "    print('Invalid')\n",
    "elif(len(list))==0:\n",
    "    print('string valid')\n",
    "else:\n",
    "    print('invalid')"
   ]
  },
  {
   "cell_type": "code",
   "execution_count": 9,
   "id": "b08fe446-04a7-4e3f-a4f2-cd249f53ef3f",
   "metadata": {},
   "outputs": [
    {
     "name": "stdout",
     "output_type": "stream",
     "text": [
      "valid\n"
     ]
    }
   ],
   "source": [
    "string=\"[()]\"\n",
    "li=[]\n",
    "x=0\n",
    "for i in string:\n",
    "    if i in \"({[\":\n",
    "        li.append(i)\n",
    "    else:\n",
    "        if len(li)==0:\n",
    "            x+=1\n",
    "            break\n",
    "        elif i==\")\" and li.pop()!=\"(\":\n",
    "            break\n",
    "        elif i==\"]\" and li.pop()!=\"[\":\n",
    "            break\n",
    "        elif i==\"}\" and li.pop()!=\"{\":\n",
    "            break\n",
    "if x==1:\n",
    "    print(\"invalid\")\n",
    "elif len(li)==0:\n",
    "    print(\"valid\")\n",
    "else:\n",
    "    print(\"invalid\")"
   ]
  },
  {
   "cell_type": "code",
   "execution_count": 12,
   "id": "85deba53-ebfb-416a-98de-7ae4477b665a",
   "metadata": {},
   "outputs": [
    {
     "name": "stdout",
     "output_type": "stream",
     "text": [
      "6\n"
     ]
    }
   ],
   "source": [
    "li=[1,2,4,5,6,6,6,6]\n",
    "for i in range(len(li)-3):\n",
    "    if li[i]==li[i+1] and li[i+1]==li[i+2] and li[i+2]==li[i+3]:\n",
    "        print(li[i])"
   ]
  },
  {
   "cell_type": "code",
   "execution_count": 18,
   "id": "1e2ca565-478b-42b0-9027-aa7226fa22e9",
   "metadata": {},
   "outputs": [
    {
     "name": "stdout",
     "output_type": "stream",
     "text": [
      "* \n",
      "  * \n",
      "* * * \n",
      "  *     \n",
      "  *       \n"
     ]
    }
   ],
   "source": [
    "for i in range(1,6):\n",
    "    for j in range(i):\n",
    "        if i==1 or i==3 or j==5 or j==1:\n",
    "            print(\"*\",end=\" \")\n",
    "        else:\n",
    "            print(\" \",end=\" \")\n",
    "    print()"
   ]
  },
  {
   "cell_type": "code",
   "execution_count": null,
   "id": "d0dc24d8-89cf-4c5f-9d21-7f1fa94aebeb",
   "metadata": {},
   "outputs": [],
   "source": []
  }
 ],
 "metadata": {
  "kernelspec": {
   "display_name": "Python 3 (ipykernel)",
   "language": "python",
   "name": "python3"
  },
  "language_info": {
   "codemirror_mode": {
    "name": "ipython",
    "version": 3
   },
   "file_extension": ".py",
   "mimetype": "text/x-python",
   "name": "python",
   "nbconvert_exporter": "python",
   "pygments_lexer": "ipython3",
   "version": "3.11.7"
  }
 },
 "nbformat": 4,
 "nbformat_minor": 5
}
