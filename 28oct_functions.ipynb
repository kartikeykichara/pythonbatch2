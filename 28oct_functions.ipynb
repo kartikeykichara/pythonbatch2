{
 "cells": [
  {
   "cell_type": "code",
   "execution_count": 1,
   "id": "7a7e8e36-7b30-480c-9589-3db62c209801",
   "metadata": {},
   "outputs": [],
   "source": [
    "#function \n",
    "#block of code=>ntask again (execute)\n",
    "#loop and fucntion\n",
    "#repetative\n",
    "#remove code duplicacy\n"
   ]
  },
  {
   "cell_type": "code",
   "execution_count": 3,
   "id": "d1bcd435-4d91-4dad-906f-c9404d6321d4",
   "metadata": {},
   "outputs": [],
   "source": [
    "# def func():\n",
    "#     print(\"hey\")"
   ]
  },
  {
   "cell_type": "code",
   "execution_count": 5,
   "id": "8abe8b57-d55c-4f97-baf4-7c463769c680",
   "metadata": {},
   "outputs": [
    {
     "name": "stdout",
     "output_type": "stream",
     "text": [
      "hey\n",
      "hey\n"
     ]
    }
   ],
   "source": [
    "# func()\n",
    "# func()"
   ]
  },
  {
   "cell_type": "code",
   "execution_count": 2,
   "id": "eeb2b38d-609c-44c6-b7bf-a418c9031de1",
   "metadata": {},
   "outputs": [],
   "source": [
    "def func(n):\n",
    "    if (n%2==0):\n",
    "        return \"even\"\n",
    "    else:\n",
    "        return \"odd\""
   ]
  },
  {
   "cell_type": "code",
   "execution_count": 24,
   "id": "590925d6-d055-402d-97b6-7d35a484859f",
   "metadata": {},
   "outputs": [
    {
     "data": {
      "text/plain": [
       "'even'"
      ]
     },
     "execution_count": 24,
     "metadata": {},
     "output_type": "execute_result"
    }
   ],
   "source": [
    "func(20)"
   ]
  },
  {
   "cell_type": "code",
   "execution_count": null,
   "id": "e2d2ed9d-dfd6-49d8-936e-50c4ed461500",
   "metadata": {},
   "outputs": [],
   "source": []
  }
 ],
 "metadata": {
  "kernelspec": {
   "display_name": "Python 3 (ipykernel)",
   "language": "python",
   "name": "python3"
  },
  "language_info": {
   "codemirror_mode": {
    "name": "ipython",
    "version": 3
   },
   "file_extension": ".py",
   "mimetype": "text/x-python",
   "name": "python",
   "nbconvert_exporter": "python",
   "pygments_lexer": "ipython3",
   "version": "3.11.7"
  }
 },
 "nbformat": 4,
 "nbformat_minor": 5
}
