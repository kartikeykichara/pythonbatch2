{
 "cells": [
  {
   "cell_type": "code",
   "execution_count": 3,
   "id": "bb5eaaa3-b13d-471b-acf7-0373e8926598",
   "metadata": {},
   "outputs": [],
   "source": [
    "x=10\n",
    "y=30\n",
    "def swapnumber(x,y):\n",
    "    c=x\n",
    "    x=y\n",
    "    y=c\n",
    "swapnumber(x,y)\n",
    "print(\"before swappping\",x,y)\n",
    "# swapnumber(x,y)\n",
    "# print(\"after swapping\",x,y)"
   ]
  },
  {
   "cell_type": "code",
   "execution_count": 6,
   "id": "85e9ef4f-2212-4f4c-8902-8570c788d523",
   "metadata": {},
   "outputs": [
    {
     "name": "stdout",
     "output_type": "stream",
     "text": [
      "li [10, 20]\n",
      "after change in function [105, 20]\n",
      "after change outside function [105, 20]\n"
     ]
    }
   ],
   "source": [
    "mylist=[10,20]\n",
    "def func(list1):\n",
    "    print(\"li\",list1)\n",
    "    list1[0]=105\n",
    "    print(\"after change in function\",list1)\n",
    "func(mylist)\n",
    "print(\"after change outside function\",mylist)"
   ]
  },
  {
   "cell_type": "code",
   "execution_count": 7,
   "id": "ca84ebbf-dcc1-4eaa-a4c2-a96f1c16bf2b",
   "metadata": {},
   "outputs": [],
   "source": [
    "#mutabale in change in local then also change in global"
   ]
  },
  {
   "cell_type": "code",
   "execution_count": 8,
   "id": "8e112b50-4a36-4b38-beaf-1401e81db374",
   "metadata": {},
   "outputs": [],
   "source": [
    "#return means\n",
    "\n"
   ]
  },
  {
   "cell_type": "code",
   "execution_count": 13,
   "id": "24a46577-b84d-4bf9-b3d5-3d8b97ead4d2",
   "metadata": {},
   "outputs": [
    {
     "name": "stdout",
     "output_type": "stream",
     "text": [
      "15.0\n",
      "10\n"
     ]
    }
   ],
   "source": [
    "def add(n):\n",
    "    print(n*1.5)\n",
    "    return n*1\n",
    "out=add(10)\n",
    "print(out)"
   ]
  },
  {
   "cell_type": "code",
   "execution_count": 17,
   "id": "51ef7e5e-b2da-4879-925e-38ccb99e09a9",
   "metadata": {},
   "outputs": [
    {
     "name": "stdout",
     "output_type": "stream",
     "text": [
      "out False\n"
     ]
    }
   ],
   "source": [
    "def even(n):\n",
    "    if n%2==0:\n",
    "        return True\n",
    "    else:\n",
    "        return False\n",
    "out=even(41)\n",
    "print(\"out\",out)"
   ]
  },
  {
   "cell_type": "code",
   "execution_count": 23,
   "id": "345a0db5-c682-44b0-9c6a-617c7e7210ad",
   "metadata": {},
   "outputs": [
    {
     "name": "stdout",
     "output_type": "stream",
     "text": [
      "<function fun at 0x000002478638AE80>\n",
      "<function fun at 0x000002478638AE80>\n",
      "hello\n"
     ]
    }
   ],
   "source": [
    "#first class fucntion\n",
    "def fun():\n",
    "    print(\"hello\")\n",
    "# print(fun)\n",
    "# out=fun \n",
    "# print(out)\n",
    "# out()"
   ]
  },
  {
   "cell_type": "code",
   "execution_count": 25,
   "id": "bb63990f-7846-4976-a241-c9f05a6c7ea0",
   "metadata": {},
   "outputs": [
    {
     "name": "stdout",
     "output_type": "stream",
     "text": [
      "hello\n",
      "None\n"
     ]
    }
   ],
   "source": [
    "def func():\n",
    "    print(\"hello\")\n",
    "out=func\n",
    "mylist=[0,out]\n",
    "print(mylist[1]()) "
   ]
  },
  {
   "cell_type": "code",
   "execution_count": null,
   "id": "b3ef8005-12d3-41b1-b0a3-529f7379575d",
   "metadata": {},
   "outputs": [],
   "source": []
  }
 ],
 "metadata": {
  "kernelspec": {
   "display_name": "Python 3 (ipykernel)",
   "language": "python",
   "name": "python3"
  },
  "language_info": {
   "codemirror_mode": {
    "name": "ipython",
    "version": 3
   },
   "file_extension": ".py",
   "mimetype": "text/x-python",
   "name": "python",
   "nbconvert_exporter": "python",
   "pygments_lexer": "ipython3",
   "version": "3.11.7"
  }
 },
 "nbformat": 4,
 "nbformat_minor": 5
}
