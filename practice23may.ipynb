{
 "cells": [
  {
   "cell_type": "code",
   "execution_count": 3,
   "id": "cdba8041-154d-4cc6-b8aa-66985338aaef",
   "metadata": {},
   "outputs": [
    {
     "name": "stdin",
     "output_type": "stream",
     "text": [
      "enter number 5\n",
      "enter number 2\n",
      "enter number 4\n",
      "enter number 3\n"
     ]
    },
    {
     "name": "stdout",
     "output_type": "stream",
     "text": [
      "1.4142135623730951\n"
     ]
    }
   ],
   "source": [
    "a=int(input(\"enter number\"))\n",
    "b=int(input(\"enter number\"))\n",
    "c=int(input(\"enter number\"))\n",
    "d=int(input(\"enter number\"))\n",
    "e=abs(a-c)**2\n",
    "f=abs(b-d)**2\n",
    "g=e+f\n",
    "h=g**0.5\n",
    "print(h)"
   ]
  },
  {
   "cell_type": "code",
   "execution_count": 4,
   "id": "b738a006-860b-4c3e-b63c-025152441e27",
   "metadata": {},
   "outputs": [
    {
     "name": "stdin",
     "output_type": "stream",
     "text": [
      "enter number 5\n",
      "enter number 10\n"
     ]
    },
    {
     "name": "stdout",
     "output_type": "stream",
     "text": [
      "25.0\n"
     ]
    }
   ],
   "source": [
    "a=int(input(\"enter number\"))\n",
    "b=int(input(\"enter number\"))\n",
    "c=0.5*a*b\n",
    "print(c)\n"
   ]
  },
  {
   "cell_type": "code",
   "execution_count": 5,
   "id": "50e1e481-e73e-40f8-bbaf-7f334a08813e",
   "metadata": {},
   "outputs": [
    {
     "name": "stdout",
     "output_type": "stream",
     "text": [
      "[0, 1]\n"
     ]
    }
   ],
   "source": [
    "nums = [2,7,11,15]\n",
    "target = 9\n",
    "for i in range(len(nums)):\n",
    "    for j in range(i+1,len(nums)):\n",
    "        if nums[i]+nums[j]==target:\n",
    "            print([i,j])"
   ]
  },
  {
   "cell_type": "code",
   "execution_count": 12,
   "id": "107edf46-3c95-4632-8dc2-186fec358d37",
   "metadata": {},
   "outputs": [
    {
     "data": {
      "text/plain": [
       "2.0"
      ]
     },
     "execution_count": 12,
     "metadata": {},
     "output_type": "execute_result"
    }
   ],
   "source": [
    "nums1 = [1,3]\n",
    "nums2 = [2]\n",
    "nums3=nums1+nums2\n",
    "nums3.sort()\n",
    "a=0\n",
    "for i in nums3:\n",
    "    a+=i\n",
    "b=a/len(nums3)\n",
    "b"
   ]
  },
  {
   "cell_type": "code",
   "execution_count": 13,
   "id": "54a6deb0-2570-48e1-af79-ced654f7d08a",
   "metadata": {},
   "outputs": [
    {
     "name": "stdin",
     "output_type": "stream",
     "text": [
      "enter number 121\n"
     ]
    },
    {
     "name": "stdout",
     "output_type": "stream",
     "text": [
      "palin\n"
     ]
    }
   ],
   "source": [
    "a=int(input(\"enter number\"))\n",
    "temp=a\n",
    "sum=0\n",
    "while a>0:\n",
    "    rem=a%10\n",
    "    sum=sum*10+rem\n",
    "    a=a//10\n",
    "if sum==temp:\n",
    "    print(\"palin\")\n",
    "else:\n",
    "    print(\"false\")"
   ]
  },
  {
   "cell_type": "code",
   "execution_count": 17,
   "id": "c8808b64-6a7d-4726-978b-2929eb4619b1",
   "metadata": {},
   "outputs": [
    {
     "data": {
      "text/plain": [
       "'MMMCCCLIII'"
      ]
     },
     "execution_count": 17,
     "metadata": {},
     "output_type": "execute_result"
    }
   ],
   "source": [
    "num=3353\n",
    "mydict={ 1000:\"M\",900:\"CM\",500:\"D\",400:\"CD\",100:\"C\",90:\"XC\",50:\"L\",40:\"XL\",10:\"X\",   9:\"IX\",5:\"V\",4:\"IV\",1:\"I\"}\n",
    "s=''\n",
    "for i in mydict:\n",
    "    while num>=i:\n",
    "        s=s+mydict[i]\n",
    "        num=num-i\n",
    "s"
   ]
  },
  {
   "cell_type": "code",
   "execution_count": 20,
   "id": "f57c7273-3f07-4e79-a99f-a30d25038bcf",
   "metadata": {},
   "outputs": [
    {
     "name": "stdout",
     "output_type": "stream",
     "text": [
      "true\n"
     ]
    }
   ],
   "source": [
    "s = \"()[]{}\"\n",
    "li=[]\n",
    "x=0\n",
    "for i in s:\n",
    "    if i in \"({[\":\n",
    "        li.append(i)\n",
    "    else:\n",
    "        if len(li)==0:\n",
    "            x+=1\n",
    "            break\n",
    "        elif i==\"}\" and li.pop()!=\"{\":\n",
    "            x+=1\n",
    "            break\n",
    "        elif i==\")\" and li.pop()!=\"(\":\n",
    "            x+=1\n",
    "            break\n",
    "        elif i==\"]\" and li.pop()!=\"[\":\n",
    "            x+=1\n",
    "            break\n",
    "\n",
    "if x==1:\n",
    "    print(\"false\")\n",
    "elif len(li)==0:\n",
    "    print(\"true\")\n",
    "else:\n",
    "    print(\"false\")\n"
   ]
  },
  {
   "cell_type": "code",
   "execution_count": 21,
   "id": "690c42a6-f40b-49a7-bd83-24712e889b76",
   "metadata": {},
   "outputs": [
    {
     "name": "stdout",
     "output_type": "stream",
     "text": [
      "2\n"
     ]
    }
   ],
   "source": [
    "nums = [1,1,2]\n",
    "i=0\n",
    "for j in range(len(nums)):\n",
    "    if nums[i]!=nums[j]:\n",
    "        nums[i]=nums[j]\n",
    "        i+=1\n",
    "print(i+1)"
   ]
  },
  {
   "cell_type": "code",
   "execution_count": 22,
   "id": "40085365-18bb-4932-ae9a-c52b0cc3b35c",
   "metadata": {},
   "outputs": [
    {
     "name": "stdout",
     "output_type": "stream",
     "text": [
      "2\n"
     ]
    }
   ],
   "source": [
    "nums = [3,2,2,3]\n",
    "val = 3\n",
    "temp=0\n",
    "for i in range(len(nums)):\n",
    "    if nums[i]!=val:\n",
    "        nums[temp]=nums[i]\n",
    "        temp+=1\n",
    "print(temp)"
   ]
  },
  {
   "cell_type": "code",
   "execution_count": null,
   "id": "9481e753-35b3-477a-bf31-a069ea7495b9",
   "metadata": {},
   "outputs": [],
   "source": [
    "nums = [4,5,6,7,0,1,2]\n",
    "target = 0"
   ]
  }
 ],
 "metadata": {
  "kernelspec": {
   "display_name": "Python 3 (ipykernel)",
   "language": "python",
   "name": "python3"
  },
  "language_info": {
   "codemirror_mode": {
    "name": "ipython",
    "version": 3
   },
   "file_extension": ".py",
   "mimetype": "text/x-python",
   "name": "python",
   "nbconvert_exporter": "python",
   "pygments_lexer": "ipython3",
   "version": "3.11.7"
  }
 },
 "nbformat": 4,
 "nbformat_minor": 5
}
