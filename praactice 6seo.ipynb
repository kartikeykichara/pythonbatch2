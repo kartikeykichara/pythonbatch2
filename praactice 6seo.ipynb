{
 "cells": [
  {
   "cell_type": "code",
   "execution_count": 8,
   "id": "c92d2ebe-6ad9-44ee-a3e2-1d3b4d9bb361",
   "metadata": {},
   "outputs": [
    {
     "data": {
      "text/plain": [
       "18"
      ]
     },
     "execution_count": 8,
     "metadata": {},
     "output_type": "execute_result"
    }
   ],
   "source": [
    "li=[1,1,13,5,1]\n",
    "di={}\n",
    "for i in li:\n",
    "    if li.count(i)==1 and i not in di:\n",
    "        di[i]=1\n",
    "sum1=0\n",
    "for j in di:\n",
    "    sum1=sum1+j\n",
    "sum1"
   ]
  },
  {
   "cell_type": "code",
   "execution_count": null,
   "id": "8c952efa-dc0a-4d85-8f7c-6c7c9231da17",
   "metadata": {},
   "outputs": [],
   "source": []
  }
 ],
 "metadata": {
  "kernelspec": {
   "display_name": "Python [conda env:base] *",
   "language": "python",
   "name": "conda-base-py"
  },
  "language_info": {
   "codemirror_mode": {
    "name": "ipython",
    "version": 3
   },
   "file_extension": ".py",
   "mimetype": "text/x-python",
   "name": "python",
   "nbconvert_exporter": "python",
   "pygments_lexer": "ipython3",
   "version": "3.13.5"
  }
 },
 "nbformat": 4,
 "nbformat_minor": 5
}
