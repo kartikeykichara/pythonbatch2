{
 "cells": [
  {
   "cell_type": "markdown",
   "id": "8a11bdca-b13f-4612-b07d-cf29a0e00690",
   "metadata": {},
   "source": [
    "example 2 : Create a bank account class\n"
   ]
  },
  {
   "cell_type": "code",
   "execution_count": 1,
   "id": "21123c0f-d7ca-4c8a-8291-c9b8ec35040d",
   "metadata": {},
   "outputs": [
    {
     "ename": "TypeError",
     "evalue": "BankAccount() takes no arguments",
     "output_type": "error",
     "traceback": [
      "\u001b[1;31m---------------------------------------------------------------------------\u001b[0m",
      "\u001b[1;31mTypeError\u001b[0m                                 Traceback (most recent call last)",
      "Cell \u001b[1;32mIn[1], line 16\u001b[0m\n\u001b[0;32m     14\u001b[0m     \u001b[38;5;28;01mdef\u001b[39;00m \u001b[38;5;21mcheck_balance\u001b[39m(\u001b[38;5;28mself\u001b[39m):\n\u001b[0;32m     15\u001b[0m         \u001b[38;5;28;01mreturn\u001b[39;00m \u001b[38;5;124mf\u001b[39m\u001b[38;5;124m\"\u001b[39m\u001b[38;5;124maccount balamce for \u001b[39m\u001b[38;5;132;01m{\u001b[39;00m\u001b[38;5;28mself\u001b[39m\u001b[38;5;241m.\u001b[39mholder\u001b[38;5;241m.\u001b[39mname\u001b[38;5;132;01m}\u001b[39;00m\u001b[38;5;124m:\u001b[39m\u001b[38;5;132;01m{\u001b[39;00m\u001b[38;5;28mself\u001b[39m\u001b[38;5;241m.\u001b[39mbalance\u001b[38;5;132;01m}\u001b[39;00m\u001b[38;5;124m\"\u001b[39m\n\u001b[1;32m---> 16\u001b[0m account\u001b[38;5;241m=\u001b[39mBankAccount(\u001b[38;5;124m\"\u001b[39m\u001b[38;5;124mkk\u001b[39m\u001b[38;5;124m\"\u001b[39m,\u001b[38;5;241m1000\u001b[39m)\n\u001b[0;32m     17\u001b[0m account\u001b[38;5;241m.\u001b[39mdeposit(\u001b[38;5;241m500\u001b[39m)\n\u001b[0;32m     18\u001b[0m account\u001b[38;5;241m.\u001b[39mwithdraw(\u001b[38;5;241m300\u001b[39m)\n",
      "\u001b[1;31mTypeError\u001b[0m: BankAccount() takes no arguments"
     ]
    }
   ],
   "source": [
    "class BankAccount:\n",
    "    def __init(self,holder_name,balance=0):\n",
    "        self.holder_name=holder_name\n",
    "        self.balance=balance\n",
    "    def deposit(self,amount):\n",
    "        self.balance+=amount\n",
    "        print(f\"{amount} deposited: total balance:{self.balance}\")\n",
    "    def withdraw(self,amount):\n",
    "        if amount<=self.balance:\n",
    "            self.balance-=amount\n",
    "            print(f\"{amount}withdrawn . Remaning balance{self.balance}\")\n",
    "        else:\n",
    "            print(\"insufficient balance\")\n",
    "    def check_balance(self):\n",
    "        return f\"account balamce for {self.holder.name}:{self.balance}\"\n",
    "account=BankAccount(\"kk\",1000)\n",
    "account.deposit(500)\n",
    "account.withdraw(300)\n",
    "print(account.check_balance())"
   ]
  },
  {
   "cell_type": "markdown",
   "id": "478511cd-adb7-4eb8-bad4-2aee78c3bca1",
   "metadata": {},
   "source": [
    "example3 Create a student class"
   ]
  },
  {
   "cell_type": "code",
   "execution_count": 2,
   "id": "2c99598a-41cb-415b-b514-a1e32ceee980",
   "metadata": {},
   "outputs": [
    {
     "name": "stdout",
     "output_type": "stream",
     "text": [
      "name:kk\n",
      "age:21\n",
      "marks:45\n",
      "studnet pass\n"
     ]
    }
   ],
   "source": [
    "class student:\n",
    "    def __init__(self,name,age,marks):\n",
    "        self.name=name\n",
    "        self.age=age\n",
    "        self.marks=marks\n",
    "    def display_detail(self):\n",
    "        print(f\"name:{self.name}\")\n",
    "        print(f\"age:{self.age}\")\n",
    "        print(f\"marks:{self.marks}\")\n",
    "    def check_result(self):\n",
    "        if self.marks>=40:\n",
    "            print(\"studnet pass\")\n",
    "        else:\n",
    "            print(\"student fail\")\n",
    "status=student(\"kk\",21,45)\n",
    "status.display_detail()\n",
    "status.check_result()\n"
   ]
  },
  {
   "cell_type": "code",
   "execution_count": 3,
   "id": "c88e1c33-096a-45fa-b3c5-49071df8d832",
   "metadata": {},
   "outputs": [
    {
     "name": "stdout",
     "output_type": "stream",
     "text": [
      " employee name:rohan\n",
      " employee ID:101\n",
      "employee Salary:15000\n",
      "annual salary:180000\n"
     ]
    }
   ],
   "source": [
    "class Employee:\n",
    "    def __init__(self,name,ID,salary):\n",
    "        self.name=name\n",
    "        self.ID=ID\n",
    "        self.salary=salary\n",
    "    def display_detail(self):\n",
    "        print(f\" employee name:{self.name}\")\n",
    "        print(f\" employee ID:{self.ID}\")\n",
    "        print(f\"employee Salary:{self.salary}\")\n",
    "    def annual_salary(self):\n",
    "        self.salary=self.salary*12\n",
    "        print(f\"annual salary:{self.salary}\")\n",
    "emp=Employee(\"rohan\",101,15000)\n",
    "emp.display_detail()\n",
    "emp.annual_salary()"
   ]
  },
  {
   "cell_type": "code",
   "execution_count": 4,
   "id": "f393f795-16d7-43ac-8e94-bcc4deb9491f",
   "metadata": {},
   "outputs": [
    {
     "name": "stdout",
     "output_type": "stream",
     "text": [
      " book name:Revolution 2020\n",
      " author name :Chetan Bhagat\n",
      "(book not availableFalse\n"
     ]
    }
   ],
   "source": [
    "class Library:\n",
    "    def __init__(self,title,author):\n",
    "        self.title=title\n",
    "        self.author=author\n",
    "        self.is_available=True\n",
    "    def display_detail(self):\n",
    "        print(f\" book name:{self.title}\")\n",
    "        print(f\" author name :{self.author}\")\n",
    "    def borrow(self):\n",
    "        if self.is_available:\n",
    "            self.is_available=False\n",
    "            print(f\"(book not available{self.is_available}\")\n",
    "li=Library(\"Revolution 2020\",\"Chetan Bhagat\")\n",
    "li.display_detail()\n",
    "li.borrow()"
   ]
  },
  {
   "cell_type": "code",
   "execution_count": 5,
   "id": "caa28cfb-7beb-4363-acbf-6198f3a12318",
   "metadata": {},
   "outputs": [
    {
     "name": "stdout",
     "output_type": "stream",
     "text": [
      "The Alchemist by Paulo Coelho is available.\n",
      "The Alchemist by Paulo Coelho is not available.\n",
      "harry potter by J.K. Rowling is available.\n",
      "You have borrowed harry potter by J.K. Rowling.\n",
      "You have returned harry potter by J.K. Rowling.\n"
     ]
    }
   ],
   "source": [
    "class Book:\n",
    "  def __init__(self, title, author, availability=True):\n",
    "    self.title = title\n",
    "    self.author = author\n",
    "    self.availability = availability\n",
    "\n",
    "  def check_availability(self):\n",
    "    if self.availability:\n",
    "      print(f\"{self.title} by {self.author} is available.\")\n",
    "    else:\n",
    "      print(f\"{self.title} by {self.author} is not available.\")\n",
    "\n",
    "  def borrow_book(self):\n",
    "    if self.availability:\n",
    "      self.availability = False\n",
    "      print(f\"You have borrowed {self.title} by {self.author}.\")\n",
    "\n",
    "    else:\n",
    "      print(f\"{self.title} by {self.author} is not available for borrowing.\")\n",
    "  \n",
    "  def return_book(self):\n",
    "    if not self.availability:\n",
    "      self.availability = True\n",
    "      print(f\"You have returned {self.title} by {self.author}.\")\n",
    "\n",
    "book=Book(\"The Alchemist\", \"Paulo Coelho\")\n",
    "book.check_availability()\n",
    "book.availability=False\n",
    "book.check_availability()\n",
    "\n",
    "book1=Book(\"harry potter\", \"J.K. Rowling\")\n",
    "book1.check_availability()\n",
    "book1.borrow_book()\n",
    "book1.return_book()"
   ]
  },
  {
   "cell_type": "code",
   "execution_count": 6,
   "id": "5b78154b-245a-49a1-a113-95994f5708a2",
   "metadata": {},
   "outputs": [
    {
     "name": "stdout",
     "output_type": "stream",
     "text": [
      "emoloyee namekk\n",
      "employee id104\n",
      "employee salary25000\n",
      "annual salary300000\n"
     ]
    }
   ],
   "source": [
    "class employee:\n",
    "    def __init__(self,name,id,salary):\n",
    "        self.name=name\n",
    "        self.id=id\n",
    "        self.salary=salary\n",
    "    def display_detail(self):\n",
    "        print(f\"emoloyee name{self.name}\")\n",
    "        print(f\"employee id{self.id}\")\n",
    "        print(f\"employee salary{self.salary}\")\n",
    "    def annual_salary(self):\n",
    "        self.salary=self.salary*12\n",
    "        print(f\"annual salary{self.salary}\")\n",
    "emp=employee(\"kk\",104,25000)\n",
    "emp.display_detail()\n",
    "emp.annual_salary()"
   ]
  },
  {
   "cell_type": "code",
   "execution_count": 33,
   "id": "71d44ab6-2df9-48e4-981b-5d68bf04e187",
   "metadata": {},
   "outputs": [
    {
     "name": "stdout",
     "output_type": "stream",
     "text": [
      "please deposit minimum balance: your balance is low:4050\n",
      "penalty for low balance:450\n",
      "account balance for - kk:4050\n"
     ]
    }
   ],
   "source": [
    "class BankAccount:\n",
    "    def __init__(self,holder_name,balance):\n",
    "        self.holder_name=holder_name\n",
    "        self.balance=balance\n",
    "    def minimum_balance(self):\n",
    "        if self.balance<5000:\n",
    "            penalty=int(self.balance/100)*10\n",
    "            self.balance-=penalty\n",
    "            print(f\"please deposit minimum balance: your balance is low:{self.balance}\")\n",
    "            print(f\"penalty for low balance:{penalty}\")\n",
    "        else:\n",
    "            print(\"minimum balance is OK\")\n",
    "    def check_balance(self):\n",
    "        return f\"account balance for - {self.holder_name}:{self.balance}\"\n",
    "account=BankAccount(\"kk\",4500)\n",
    "account.minimum_balance()\n",
    "print(account.check_balance())"
   ]
  },
  {
   "cell_type": "code",
   "execution_count": 27,
   "id": "70c27e91-06a9-4d78-a9e9-0c076de85b40",
   "metadata": {},
   "outputs": [
    {
     "name": "stdout",
     "output_type": "stream",
     "text": [
      "the new balance is 10500\n",
      "the remaining balance is 10200\n",
      "the balance for kartikey is 10200\n"
     ]
    }
   ],
   "source": [
    "class bankaccount:\n",
    "    def __init__(self,holder_name,balance):\n",
    "        self.holder_name=holder_name\n",
    "        self.balance=balance\n",
    "    def deposit(self,amount):\n",
    "        self.balance+=amount\n",
    "        print(f\"the new balance is {self.balance}\")\n",
    "    def withdraw(self,amount):\n",
    "        if self.balance>amount:\n",
    "            self.balance-=amount\n",
    "            print(f\"the remaining balance is {self.balance}\")\n",
    "        else:\n",
    "            print(\"insufficient balance\")\n",
    "    def check_balance(self):\n",
    "        print(f\"the balance for {self.holder_name} is {self.balance}\")\n",
    "acc=bankaccount(\"kartikey\",10000)\n",
    "acc.deposit(500)\n",
    "acc.withdraw(300)\n",
    "acc.check_balance()"
   ]
  },
  {
   "cell_type": "code",
   "execution_count": null,
   "id": "759607de-7171-4b4f-8b7d-2e257947752a",
   "metadata": {},
   "outputs": [],
   "source": []
  }
 ],
 "metadata": {
  "kernelspec": {
   "display_name": "Python 3 (ipykernel)",
   "language": "python",
   "name": "python3"
  },
  "language_info": {
   "codemirror_mode": {
    "name": "ipython",
    "version": 3
   },
   "file_extension": ".py",
   "mimetype": "text/x-python",
   "name": "python",
   "nbconvert_exporter": "python",
   "pygments_lexer": "ipython3",
   "version": "3.11.7"
  }
 },
 "nbformat": 4,
 "nbformat_minor": 5
}
