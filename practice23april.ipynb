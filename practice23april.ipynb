{
 "cells": [
  {
   "cell_type": "code",
   "execution_count": 5,
   "id": "af881b59-1f41-4000-9557-e4f270214efd",
   "metadata": {},
   "outputs": [
    {
     "data": {
      "text/plain": [
       "'mlv'"
      ]
     },
     "execution_count": 5,
     "metadata": {},
     "output_type": "execute_result"
    }
   ],
   "source": [
    "class Student:\n",
    "    colleg=\"mlv\"\n",
    "st=Student()\n",
    "st.colleg"
   ]
  },
  {
   "cell_type": "code",
   "execution_count": 13,
   "id": "3e97067b-b0bf-4292-855e-c44c99673aea",
   "metadata": {},
   "outputs": [
    {
     "name": "stdout",
     "output_type": "stream",
     "text": [
      "hello\n"
     ]
    }
   ],
   "source": [
    "class Student:\n",
    "    def info(self):\n",
    "        print(\"hello\")\n",
    "st1=Student()\n",
    "st1.info()"
   ]
  },
  {
   "cell_type": "code",
   "execution_count": 18,
   "id": "376ad0fb-67f7-4ab6-ad10-c899d24d5f21",
   "metadata": {},
   "outputs": [
    {
     "name": "stdout",
     "output_type": "stream",
     "text": [
      " the value of x is: 10\n"
     ]
    }
   ],
   "source": [
    "class Student:\n",
    "    def __init__(self,x):\n",
    "        self.x=x\n",
    "    def info(self):\n",
    "        return (f\" the value of x is: {self.x}\")\n",
    "\n",
    "st2=Student(10)\n",
    "print(st2.info())"
   ]
  },
  {
   "cell_type": "code",
   "execution_count": 19,
   "id": "542fde0c-add6-4c1d-a188-55dff14b953a",
   "metadata": {},
   "outputs": [],
   "source": [
    "class Student:\n",
    "    def __init__(self,name,marks):\n",
    "        self.name=name\n",
    "        self.marks=marks\n",
    "    def details(self):\n",
    "        return f\"the student name is {self.name} and the marks is {self.marks}\"\n"
   ]
  },
  {
   "cell_type": "code",
   "execution_count": 21,
   "id": "90344f9d-f165-47ac-9499-3f43977b4b46",
   "metadata": {},
   "outputs": [
    {
     "name": "stdout",
     "output_type": "stream",
     "text": [
      "the student name is rohan and the marks is 55\n"
     ]
    }
   ],
   "source": [
    "stu=Student(\"rohan\",55)\n",
    "print(stu.details())"
   ]
  },
  {
   "cell_type": "code",
   "execution_count": 31,
   "id": "b0f20bdb-cf38-4faf-ab86-05cf85e3e269",
   "metadata": {},
   "outputs": [
    {
     "name": "stdout",
     "output_type": "stream",
     "text": [
      "the college name is mlv  the student name is IT the rollno of student is Ragahv and the deparment is sohan and the teacher is 33\n"
     ]
    }
   ],
   "source": [
    "class Class:\n",
    "    def __init__(self,name,rollno):\n",
    "        self.name=name\n",
    "        self.rollno=rollno\n",
    "\n",
    "class Department(Class):\n",
    "    def __init__(self,depname,teacher,name,rollno):\n",
    "        super().__init__(name,rollno)\n",
    "        self.depname=depname\n",
    "        self.teacher=teacher\n",
    "\n",
    "class College(Department):\n",
    "    def __init__(self,collegename,name,rollno,depname,teacher):\n",
    "        super().__init__(name,rollno,depname,teacher)\n",
    "        self.collegename=collegename\n",
    "\n",
    "    def details(self):\n",
    "        return f\"the college name is {self.collegename}  the student name is {self.name} the rollno of student is {self.rollno} and the deparment is {self.depname} and the teacher is {self.teacher}\"\n",
    "\n",
    "cl=College(\"mlv\",\"sohan\",33,\"IT\",\"Ragahv\")\n",
    "print(cl.details())"
   ]
  },
  {
   "cell_type": "code",
   "execution_count": 41,
   "id": "abb7ac1f-1009-4371-bb64-1f4ff2ab5855",
   "metadata": {},
   "outputs": [],
   "source": [
    "class Student:\n",
    "    def __init__(self,name,rollno):\n",
    "        self.name=name\n",
    "        self.rollno=rollno\n",
    "\n",
    "class Teacher:\n",
    "    def __init__(self,tename,subject):\n",
    "        self.tename=tename\n",
    "        self.subject=subject\n",
    "\n",
    "class College(Student,Teacher):\n",
    "    def __init__(self,collegename,name,rollno,tename,subject):\n",
    "        Student.__init__(self,name,rollno)\n",
    "        Teacher.__init__(self,tename,subject)\n",
    "        self.collegename=collegename\n",
    "\n",
    "    def details(self):\n",
    "        return f\"the college name is {self.collegename}  the student name is {self.name} the rollno of student is {self.rollno} and the deparment is {self.tename} and the teacher is {self.subject}\""
   ]
  },
  {
   "cell_type": "code",
   "execution_count": 42,
   "id": "2c7d2486-d151-4e5d-8970-639554963660",
   "metadata": {},
   "outputs": [
    {
     "name": "stdout",
     "output_type": "stream",
     "text": [
      "the college name is mlv  the student name is ajay the rollno of student is 55 and the deparment is suhani and the teacher is maths\n"
     ]
    }
   ],
   "source": [
    "clo=College(\"mlv\",\"ajay\",55,\"suhani\",\"maths\")\n",
    "print(clo.details())"
   ]
  },
  {
   "cell_type": "code",
   "execution_count": null,
   "id": "dad792e5-00b0-4ba7-b063-9d6227661760",
   "metadata": {},
   "outputs": [],
   "source": []
  }
 ],
 "metadata": {
  "kernelspec": {
   "display_name": "Python 3 (ipykernel)",
   "language": "python",
   "name": "python3"
  },
  "language_info": {
   "codemirror_mode": {
    "name": "ipython",
    "version": 3
   },
   "file_extension": ".py",
   "mimetype": "text/x-python",
   "name": "python",
   "nbconvert_exporter": "python",
   "pygments_lexer": "ipython3",
   "version": "3.11.7"
  }
 },
 "nbformat": 4,
 "nbformat_minor": 5
}
