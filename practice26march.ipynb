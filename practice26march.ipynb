{
 "cells": [
  {
   "cell_type": "code",
   "execution_count": 26,
   "id": "479310ae-4c92-4337-a560-51ea1c2703cb",
   "metadata": {},
   "outputs": [
    {
     "data": {
      "text/plain": [
       "{'a': 1, 'b': 2, 'c': 3, 'd': 4, 'e': 5}"
      ]
     },
     "execution_count": 26,
     "metadata": {},
     "output_type": "execute_result"
    }
   ],
   "source": [
    "keys=['a','b','c','d','e']\n",
    "values=[1,2,3,4,5]\n",
    "mydict={k:v for (k,v) in zip(keys,values)}\n",
    "mydict"
   ]
  },
  {
   "cell_type": "code",
   "execution_count": 27,
   "id": "f49d88ce-92dc-4186-a5d2-910bec6154a6",
   "metadata": {},
   "outputs": [
    {
     "data": {
      "text/plain": [
       "{1: 1, 2: 4, 3: 9, 4: 16, 5: 25}"
      ]
     },
     "execution_count": 27,
     "metadata": {},
     "output_type": "execute_result"
    }
   ],
   "source": [
    "mydict={x:x**2 for x in [1,2,3,4,5]}\n",
    "mydict"
   ]
  },
  {
   "cell_type": "code",
   "execution_count": 28,
   "id": "eb3d0d0f-88bf-432e-819b-176fca75f8ee",
   "metadata": {},
   "outputs": [
    {
     "data": {
      "text/plain": [
       "{0: 0, 2: 4, 4: 16, 6: 36, 8: 64, 10: 100, 12: 144, 14: 196, 16: 256, 18: 324}"
      ]
     },
     "execution_count": 28,
     "metadata": {},
     "output_type": "execute_result"
    }
   ],
   "source": [
    "mydict={x:x**2 for x in range(0,20) if x%2==0}\n",
    "mydict"
   ]
  },
  {
   "cell_type": "code",
   "execution_count": 29,
   "id": "a7490380-2850-4696-b38a-32b0e635f6a6",
   "metadata": {},
   "outputs": [
    {
     "data": {
      "text/plain": [
       "[0, 1, 2, 3, 4, 5, 6, 7, 8, 9]"
      ]
     },
     "execution_count": 29,
     "metadata": {},
     "output_type": "execute_result"
    }
   ],
   "source": [
    "a=[x for x in range(0,10)]\n",
    "a"
   ]
  },
  {
   "cell_type": "code",
   "execution_count": 30,
   "id": "c6f3cc21-85e4-4fc2-a5ab-3b1f909f93b8",
   "metadata": {},
   "outputs": [
    {
     "data": {
      "text/plain": [
       "[(0, 0),\n",
       " (0, 1),\n",
       " (0, 2),\n",
       " (0, 3),\n",
       " (0, 4),\n",
       " (1, 0),\n",
       " (1, 1),\n",
       " (1, 2),\n",
       " (1, 3),\n",
       " (1, 4),\n",
       " (2, 0),\n",
       " (2, 1),\n",
       " (2, 2),\n",
       " (2, 3),\n",
       " (2, 4),\n",
       " (3, 0),\n",
       " (3, 1),\n",
       " (3, 2),\n",
       " (3, 3),\n",
       " (3, 4),\n",
       " (4, 0),\n",
       " (4, 1),\n",
       " (4, 2),\n",
       " (4, 3),\n",
       " (4, 4)]"
      ]
     },
     "execution_count": 30,
     "metadata": {},
     "output_type": "execute_result"
    }
   ],
   "source": [
    "a=[(x,y) for x in range(5) for y in range(5)]\n",
    "a"
   ]
  },
  {
   "cell_type": "code",
   "execution_count": 31,
   "id": "85a65251-25c9-4893-9a1f-4076296e7aed",
   "metadata": {},
   "outputs": [
    {
     "data": {
      "text/plain": [
       "[1, 4, 9, 16, 25]"
      ]
     },
     "execution_count": 31,
     "metadata": {},
     "output_type": "execute_result"
    }
   ],
   "source": [
    "a=[x**2 for x in [1,2,3,4,5]]\n",
    "a"
   ]
  },
  {
   "cell_type": "code",
   "execution_count": 32,
   "id": "d12187fd-c0a0-456e-b463-24c2859d8d2a",
   "metadata": {},
   "outputs": [
    {
     "ename": "SyntaxError",
     "evalue": "incomplete input (903628479.py, line 4)",
     "output_type": "error",
     "traceback": [
      "\u001b[1;36m  Cell \u001b[1;32mIn[32], line 4\u001b[1;36m\u001b[0m\n\u001b[1;33m    \u001b[0m\n\u001b[1;37m    ^\u001b[0m\n\u001b[1;31mSyntaxError\u001b[0m\u001b[1;31m:\u001b[0m incomplete input\n"
     ]
    }
   ],
   "source": [
    "a=[1,6,3,9,3,8,28]\n",
    "for i in range(0,len(a)):\n",
    "    if a[i]>a[i+1]:\n",
    "        "
   ]
  },
  {
   "cell_type": "code",
   "execution_count": 33,
   "id": "ea4f2493-4f5b-409e-bd4e-b7482bc30058",
   "metadata": {},
   "outputs": [
    {
     "name": "stdout",
     "output_type": "stream",
     "text": [
      "['apple', 'banana', 'mango']\n"
     ]
    }
   ],
   "source": [
    "fruits = [\"apple\", \"banana\", \"cherry\", \"kiwi\", \"mango\"]\n",
    "newlist = []\n",
    "\n",
    "for x in fruits:\n",
    "  if \"a\" in x:\n",
    "    newlist.append(x)\n",
    "\n",
    "print(newlist)"
   ]
  },
  {
   "cell_type": "code",
   "execution_count": 34,
   "id": "65cd03e1-8262-490b-9b7b-821f64dfee1a",
   "metadata": {},
   "outputs": [
    {
     "data": {
      "text/plain": [
       "[28, 8, 9, 3, 3, 6, 1]"
      ]
     },
     "execution_count": 34,
     "metadata": {},
     "output_type": "execute_result"
    }
   ],
   "source": [
    "a=[1,6,3,9,3,8,28]\n",
    "i=0\n",
    "j=len(a)-1\n",
    "while i<j:\n",
    "    if a[i]<a[j]:\n",
    "        a[i],a[j]=a[j],a[i]\n",
    "        i+=1\n",
    "        j-=1\n",
    "    elif a[i]>a[j]:\n",
    "        i+=1\n",
    "    else:\n",
    "        j-=1\n",
    "a"
   ]
  },
  {
   "cell_type": "code",
   "execution_count": 70,
   "id": "bd44052b-1f16-4b02-b176-72a2e76a5f45",
   "metadata": {},
   "outputs": [
    {
     "name": "stdout",
     "output_type": "stream",
     "text": [
      "3 [6, 5, 4, 3, 2, 1]\n"
     ]
    }
   ],
   "source": [
    "a = [3,2,3,1,2,4,5,5,6]\n",
    "b=[]\n",
    "d=4\n",
    "for i in a:\n",
    "    if i not in b:\n",
    "        b.append(i)\n",
    "for j in range(0,len(b)):\n",
    "    for k in range(j+1,len(b)):\n",
    "        if b[j]<b[k]:\n",
    "            b[j],b[k]=b[k],b[j]\n",
    "if d<len(b):\n",
    "    print(b[d-1],b)"
   ]
  },
  {
   "cell_type": "code",
   "execution_count": 36,
   "id": "50be79be-8965-423d-b850-dda6023b934a",
   "metadata": {},
   "outputs": [
    {
     "data": {
      "text/plain": [
       "'sadsad'"
      ]
     },
     "execution_count": 36,
     "metadata": {},
     "output_type": "execute_result"
    }
   ],
   "source": [
    "haystack = \"sadbutsad\"\n",
    "needle = \"sad\"\n",
    "s=\"\"\n",
    "for i in haystack:\n",
    "    for j in needle:\n",
    "        if i==j:\n",
    "            s+=i\n",
    "s"
   ]
  },
  {
   "cell_type": "code",
   "execution_count": 37,
   "id": "ad80f7a4-d191-4b5d-899d-75cbb39e1c8c",
   "metadata": {},
   "outputs": [
    {
     "data": {
      "text/plain": [
       "[1, 2, 2, 3, 5, 6]"
      ]
     },
     "execution_count": 37,
     "metadata": {},
     "output_type": "execute_result"
    }
   ],
   "source": [
    "nums1 = [1,2,3,0,0,0] \n",
    "m = 3\n",
    "nums2 = [2,5,6]\n",
    "n = 3\n",
    "li=[]\n",
    "li1=[]\n",
    "for i in range(0,len(nums1)-m):\n",
    "    li.append(nums1[i])\n",
    "for j in range(0,len(nums2)):\n",
    "    li1.append(nums2[j])\n",
    "li2=li+li1\n",
    "a=li2.sort()\n",
    "a=li2\n",
    "a"
   ]
  },
  {
   "cell_type": "code",
   "execution_count": 38,
   "id": "2412e8d4-b30e-4e55-a02b-a112e945d64a",
   "metadata": {},
   "outputs": [
    {
     "data": {
      "text/plain": [
       "2"
      ]
     },
     "execution_count": 38,
     "metadata": {},
     "output_type": "execute_result"
    }
   ],
   "source": [
    "nums = [1,2,3,1]\n",
    "max=0\n",
    "for i in nums:\n",
    "    if nums[i]>max:\n",
    "        max=nums[i]\n",
    "a=nums.index(max)\n",
    "a"
   ]
  },
  {
   "cell_type": "code",
   "execution_count": 41,
   "id": "c50548a5-ce87-49d1-9ec9-faab94d369da",
   "metadata": {},
   "outputs": [
    {
     "name": "stdout",
     "output_type": "stream",
     "text": [
      "[1, 2]\n"
     ]
    }
   ],
   "source": [
    "numbers = [2,7,11,15]\n",
    "target = 9\n",
    "for i in range(0,len(numbers)):\n",
    "    for j in range(i+1,len(numbers)):\n",
    "        if numbers[i]+numbers[j]==target:\n",
    "            print([i+1,j+1])"
   ]
  },
  {
   "cell_type": "code",
   "execution_count": 63,
   "id": "36776e5f-a689-4d31-85d2-e1080b6b7482",
   "metadata": {},
   "outputs": [
    {
     "data": {
      "text/plain": [
       "[2, 3, 5, 7, 11, 13]"
      ]
     },
     "execution_count": 63,
     "metadata": {},
     "output_type": "execute_result"
    }
   ],
   "source": [
    "\n",
    "li=[]\n",
    "for i in range(2,17):\n",
    "        a=0\n",
    "        for j in range(2,i):\n",
    "            if i%j==0:\n",
    "                a+=1\n",
    "                break\n",
    "        if a==0:\n",
    "               li.append(i)\n",
    "        else:\n",
    "            pass\n",
    "li"
   ]
  },
  {
   "cell_type": "code",
   "execution_count": 69,
   "id": "2a99bbf3-3f8b-4ca6-acc7-410745a25745",
   "metadata": {},
   "outputs": [
    {
     "name": "stdout",
     "output_type": "stream",
     "text": [
      "3\n"
     ]
    },
    {
     "data": {
      "text/plain": [
       "[6, 5, 4, 3, 2, 1]"
      ]
     },
     "execution_count": 69,
     "metadata": {},
     "output_type": "execute_result"
    }
   ],
   "source": [
    "nums = [3,2,3,1,2,4,5,5,6]\n",
    "k = 4\n",
    "li=[]\n",
    "for i in nums:\n",
    "    if i not in li:\n",
    "        li.append(i)\n",
    "li.sort(reverse=True)\n",
    "if k<len(li):\n",
    "    print(li[k-1])\n",
    "li"
   ]
  },
  {
   "cell_type": "code",
   "execution_count": 3,
   "id": "24a6ceaf-0857-48ce-bb9a-7452837fda11",
   "metadata": {},
   "outputs": [
    {
     "data": {
      "text/plain": [
       "{10: 40, 20: 50, 300: 60}"
      ]
     },
     "execution_count": 3,
     "metadata": {},
     "output_type": "execute_result"
    }
   ],
   "source": [
    "\n",
    "l1=[10,20,300]\n",
    "l2=[40,50,60]\n",
    "mydict={l:l1 for (l,l1) in zip(l1,l2)}\n",
    "mydict"
   ]
  },
  {
   "cell_type": "code",
   "execution_count": null,
   "id": "d1f5c8f3-cb6d-42a2-8e4a-d7730fa2c5d2",
   "metadata": {},
   "outputs": [],
   "source": []
  },
  {
   "cell_type": "code",
   "execution_count": null,
   "id": "a607d231-f36f-4d1a-9776-f0ed7fd32f0f",
   "metadata": {},
   "outputs": [],
   "source": []
  },
  {
   "cell_type": "code",
   "execution_count": 16,
   "id": "5a899399-094d-4a27-8b8c-11e042fecab7",
   "metadata": {},
   "outputs": [
    {
     "data": {
      "text/plain": [
       "{10: 40, 20: 50, 300: 60}"
      ]
     },
     "execution_count": 16,
     "metadata": {},
     "output_type": "execute_result"
    }
   ],
   "source": [
    "l1=[10,20,300]\n",
    "l2=[40,50,60]\n",
    "di={}\n",
    "for i,j in zip(l1,l2):\n",
    "    di[i]=j\n",
    "di"
   ]
  },
  {
   "cell_type": "code",
   "execution_count": 18,
   "id": "8876ca16-d8d0-4c83-a4a7-45d735cef375",
   "metadata": {},
   "outputs": [
    {
     "data": {
      "text/plain": [
       "{10: 60, 20: 60, 300: 60}"
      ]
     },
     "execution_count": 18,
     "metadata": {},
     "output_type": "execute_result"
    }
   ],
   "source": [
    "l1=[10,20,300]\n",
    "l2=[40,50,60]\n",
    "di={}\n",
    "for i in l1:\n",
    "    for j in l2:\n",
    "        di[i]=j\n",
    "di"
   ]
  },
  {
   "cell_type": "code",
   "execution_count": 40,
   "id": "87d92629-31be-4ef8-abf8-2bf346f59102",
   "metadata": {},
   "outputs": [
    {
     "data": {
      "text/plain": [
       "{'x': 25, 'y': 49, 'z': 100}"
      ]
     },
     "execution_count": 40,
     "metadata": {},
     "output_type": "execute_result"
    }
   ],
   "source": [
    "a={\"x\":5, \"y\":7, \"z\":10}\n",
    "mydict={}\n",
    "for i in a:\n",
    "    mydict[i]=a[i]**2\n",
    "mydict"
   ]
  },
  {
   "cell_type": "code",
   "execution_count": 22,
   "id": "f00fbb0c-0a21-4dbd-bfa1-ce5425dd631e",
   "metadata": {},
   "outputs": [
    {
     "data": {
      "text/plain": [
       "{1: 1, 2: 8, 3: 27, 4: 64, 5: 125}"
      ]
     },
     "execution_count": 22,
     "metadata": {},
     "output_type": "execute_result"
    }
   ],
   "source": [
    "# create a dictionary as cube of number from 1 to 5\n",
    "di={i:i**3 for i in range(1,5+1)}\n",
    "di"
   ]
  },
  {
   "cell_type": "code",
   "execution_count": 39,
   "id": "ae6255a4-2100-46bb-a5ac-2579089f2a09",
   "metadata": {},
   "outputs": [
    {
     "data": {
      "text/plain": [
       "{'average': 7.333333333333333, 'max': 10}"
      ]
     },
     "execution_count": 39,
     "metadata": {},
     "output_type": "execute_result"
    }
   ],
   "source": [
    "a= {\"x\":5, \"y\":7, \"z\":10}\n",
    "di={}\n",
    "b=0\n",
    "max=0\n",
    "for i in a:\n",
    "    if a[i]>max:\n",
    "        max=a[i]\n",
    "for i in a:\n",
    "    b+=a[i]\n",
    "di['average']=b/len(a)\n",
    "di['max']=max\n",
    "di"
   ]
  },
  {
   "cell_type": "code",
   "execution_count": null,
   "id": "5823ea4f-f2f9-430d-b1cb-dd1411bdd04d",
   "metadata": {},
   "outputs": [],
   "source": [
    "\n",
    "Q3 {10:19,  11:20,  13:NONE}\n",
    "delete the key-value pair where the value is none"
   ]
  },
  {
   "cell_type": "code",
   "execution_count": null,
   "id": "23dd98ee-6a16-44a1-8e9a-992c553232ee",
   "metadata": {},
   "outputs": [],
   "source": []
  }
 ],
 "metadata": {
  "kernelspec": {
   "display_name": "Python 3 (ipykernel)",
   "language": "python",
   "name": "python3"
  },
  "language_info": {
   "codemirror_mode": {
    "name": "ipython",
    "version": 3
   },
   "file_extension": ".py",
   "mimetype": "text/x-python",
   "name": "python",
   "nbconvert_exporter": "python",
   "pygments_lexer": "ipython3",
   "version": "3.11.7"
  }
 },
 "nbformat": 4,
 "nbformat_minor": 5
}
