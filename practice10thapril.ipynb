{
 "cells": [
  {
   "cell_type": "code",
   "execution_count": 8,
   "id": "5d56424d-c6b5-46ae-9a29-e0e341c5d75e",
   "metadata": {},
   "outputs": [
    {
     "data": {
      "text/plain": [
       "2.5"
      ]
     },
     "execution_count": 8,
     "metadata": {},
     "output_type": "execute_result"
    }
   ],
   "source": [
    "nums1 = [1,2]\n",
    "nums2 = [3,4]\n",
    "nums3=nums1+nums2\n",
    "nums3.sort()\n",
    "nums3\n",
    "c=0\n",
    "for i in nums3:\n",
    "    c+=i\n",
    "d=c/len(nums3)\n",
    "d"
   ]
  },
  {
   "cell_type": "code",
   "execution_count": null,
   "id": "73b00e05-0854-4b28-bd8c-e6cbb20f2a20",
   "metadata": {},
   "outputs": [
    {
     "name": "stdout",
     "output_type": "stream",
     "text": [
      "false\n"
     ]
    }
   ],
   "source": [
    "x = -121\n",
    "sum=0\n",
    "temp=x\n",
    "a=temp\n",
    "while x>0:\n",
    "    rem=x%10\n",
    "    sum=sum*10+rem\n",
    "    x=x//10\n",
    "if temp==sum:\n",
    "    print(\"palindrome\")\n",
    "else:\n",
    "    print(\"false\")\n",
    "while temp<0:\n",
    "    rem=temp%10\n",
    "    sum=sum*10+rem\n",
    "    temp=temp//10\n",
    "if a==sum:\n",
    "    print(\"palindrome\")\n",
    "else:\n",
    "    print(\"false\")"
   ]
  },
  {
   "cell_type": "code",
   "execution_count": 2,
   "id": "a7145b85-757b-4e12-ba8f-71f13d8493e4",
   "metadata": {},
   "outputs": [
    {
     "data": {
      "text/plain": [
       "'MMMDCCXLIX'"
      ]
     },
     "execution_count": 2,
     "metadata": {},
     "output_type": "execute_result"
    }
   ],
   "source": [
    "num = 3749\n",
    "mydic={ 1000:\"M\",900:\"CM\",500:\"D\",400:\"CD\",100:\"C\",90:\"XC\",50:\"L\",40:\"XL\",10:\"X\",9:\"IX\",5:\"V\",4:\"IV\",1:\"I\"}\n",
    "s=''\n",
    "for i in mydic:\n",
    "    while num>=i:\n",
    "        s=s+mydic[i]\n",
    "        num=num-i\n",
    "s"
   ]
  },
  {
   "cell_type": "code",
   "execution_count": 3,
   "id": "f002141f-fd98-4e34-8a51-2baa06ea8fc5",
   "metadata": {},
   "outputs": [
    {
     "name": "stdout",
     "output_type": "stream",
     "text": [
      "true\n"
     ]
    }
   ],
   "source": [
    "s='()'\n",
    "li=[]\n",
    "x=0\n",
    "for i in s:\n",
    "    if i in \"{([\":\n",
    "        li.append(i)\n",
    "    else:\n",
    "        if len(li)==0:\n",
    "            x+=1\n",
    "            break\n",
    "        elif i==\")\" and li.pop()!=\"(\":\n",
    "            x+=1\n",
    "            break\n",
    "        elif i==\"]\" and li.pop()!=\"[\":\n",
    "            x+=1\n",
    "            break\n",
    "        elif i==\"}\" and li.pop()!=\"{\":\n",
    "            x+=1\n",
    "            break\n",
    "if x==1:\n",
    "    print(\"false\")\n",
    "elif len(li)==0:\n",
    "    print(\"true\")\n",
    "else:\n",
    "    print(\"false\")\n"
   ]
  },
  {
   "cell_type": "code",
   "execution_count": 6,
   "id": "ebef9f6b-8fde-4164-9ea9-bfe4a84c1fd4",
   "metadata": {},
   "outputs": [
    {
     "name": "stdout",
     "output_type": "stream",
     "text": [
      "2\n"
     ]
    }
   ],
   "source": [
    "nums = [1,3,5,6]\n",
    "target = 5\n",
    "for i in range(len(nums)):\n",
    "    if nums[i]>=target:\n",
    "        print(i)\n",
    "        break"
   ]
  },
  {
   "cell_type": "code",
   "execution_count": 7,
   "id": "b466fbcf-f25f-40a6-ac3c-63d2cabb7af5",
   "metadata": {},
   "outputs": [
    {
     "data": {
      "text/plain": [
       "[[], [1], [2], [1, 2], [3], [1, 3], [2, 3], [1, 2, 3]]"
      ]
     },
     "execution_count": 7,
     "metadata": {},
     "output_type": "execute_result"
    }
   ],
   "source": [
    "nums = [1,2,3]\n",
    "s=[[]]\n",
    "for i in nums:\n",
    "    s+=[j+[i] for j in s]\n",
    "s"
   ]
  },
  {
   "cell_type": "code",
   "execution_count": 12,
   "id": "c540b4d8-a282-4cb3-8cad-8b1936a71788",
   "metadata": {},
   "outputs": [
    {
     "data": {
      "text/plain": [
       "[1, 2, 2, 3, 5, 6]"
      ]
     },
     "execution_count": 12,
     "metadata": {},
     "output_type": "execute_result"
    }
   ],
   "source": [
    "nums1 = [1,2,3,0,0,0]\n",
    "m = 3\n",
    "nums2 = [2,5,6]\n",
    "n = 3\n",
    "nums1=nums1[:m]+nums2[:n]\n",
    "nums1.sort()\n",
    "nums1"
   ]
  },
  {
   "cell_type": "code",
   "execution_count": 16,
   "id": "8072b43c-b98b-4f83-8d50-2e4aad091b10",
   "metadata": {},
   "outputs": [
    {
     "data": {
      "text/plain": [
       "[[1], [1, 1], [1, 2, 1], [1, 3, 3, 1], [1, 4, 6, 4, 1]]"
      ]
     },
     "execution_count": 16,
     "metadata": {},
     "output_type": "execute_result"
    }
   ],
   "source": [
    "n = 5\n",
    "li=[[1]]\n",
    "for i in range(0,n-1):\n",
    "    temp=[0]+li[-1]+[0]\n",
    "    li1=[]\n",
    "    for j in range(len(li)+1):\n",
    "        li1.append(temp[j]+temp[j+1])\n",
    "    li.append(li1)\n",
    "li"
   ]
  },
  {
   "cell_type": "code",
   "execution_count": 2,
   "id": "4788f5f8-5307-4321-a36a-2bf3e3e32d42",
   "metadata": {},
   "outputs": [
    {
     "data": {
      "text/plain": [
       "'nohtyP'"
      ]
     },
     "execution_count": 2,
     "metadata": {},
     "output_type": "execute_result"
    }
   ],
   "source": [
    "s = \"Python\"\n",
    "a=''\n",
    "for i in s:\n",
    "    a=i+a\n",
    "a"
   ]
  },
  {
   "cell_type": "code",
   "execution_count": 7,
   "id": "520f8ca5-f429-4fef-b66b-7db448910774",
   "metadata": {},
   "outputs": [
    {
     "data": {
      "text/plain": [
       "1"
      ]
     },
     "execution_count": 7,
     "metadata": {},
     "output_type": "execute_result"
    }
   ],
   "source": [
    "lst = [1, 3, 2, 1, 3, 1]\n",
    "di={}\n",
    "for i in lst:\n",
    "    if i not in di:\n",
    "        di[i]=1\n",
    "    else:\n",
    "        di[i]=di[i]+1\n",
    "a=max(di,key=di.get)\n",
    "a\n"
   ]
  },
  {
   "cell_type": "code",
   "execution_count": 22,
   "id": "d4377ebd-dcae-47d6-b0b6-efd9869c4fe0",
   "metadata": {},
   "outputs": [
    {
     "name": "stdout",
     "output_type": "stream",
     "text": [
      "1 2 3 4 5 \n",
      "2   2  \n",
      "3  3   \n",
      "4 4    \n",
      "5     \n"
     ]
    }
   ],
   "source": [
    "# 1 2 3 4 5\n",
    "# 2       2\n",
    "# 3     3\n",
    "# 4   4\n",
    "# 5\n",
    "\n",
    "for i in range(1,6):\n",
    "    for j in range(1,6):\n",
    "        if i==1 :\n",
    "            print(j,end=\" \")\n",
    "        elif j==1 or j==6-i:\n",
    "            print(i,end=\" \")\n",
    "        else:\n",
    "            print(\" \",end=\"\")\n",
    "    print()"
   ]
  },
  {
   "cell_type": "code",
   "execution_count": 29,
   "id": "8777b607-107c-42bb-bdad-da4ac07651e2",
   "metadata": {},
   "outputs": [
    {
     "data": {
      "text/plain": [
       "[1, 2, 3, 4, 5]"
      ]
     },
     "execution_count": 29,
     "metadata": {},
     "output_type": "execute_result"
    }
   ],
   "source": [
    "a=[[1, 2], [3, 4], [5]]\n",
    "li=[]\n",
    "for i in a:\n",
    "    for j in i:\n",
    "        li.append(j)\n",
    "li"
   ]
  },
  {
   "cell_type": "code",
   "execution_count": 27,
   "id": "7eb1a8f5-ee18-46e1-b052-beaedbcd68e9",
   "metadata": {},
   "outputs": [
    {
     "data": {
      "text/plain": [
       "'hello'"
      ]
     },
     "execution_count": 27,
     "metadata": {},
     "output_type": "execute_result"
    }
   ],
   "source": [
    "a=\"he@ll#o$!\"\n",
    "s=''\n",
    "for i in a:\n",
    "    if i.isalnum():\n",
    "        s+=i\n",
    "s"
   ]
  },
  {
   "cell_type": "code",
   "execution_count": 28,
   "id": "9b2e361a-c187-4280-b5fc-3a9f0c46dcd1",
   "metadata": {},
   "outputs": [
    {
     "ename": "TypeError",
     "evalue": "unsupported operand type(s) for +: 'dict' and 'dict'",
     "output_type": "error",
     "traceback": [
      "\u001b[1;31m---------------------------------------------------------------------------\u001b[0m",
      "\u001b[1;31mTypeError\u001b[0m                                 Traceback (most recent call last)",
      "Cell \u001b[1;32mIn[28], line 3\u001b[0m\n\u001b[0;32m      1\u001b[0m a\u001b[38;5;241m=\u001b[39m{\u001b[38;5;124m'\u001b[39m\u001b[38;5;124ma\u001b[39m\u001b[38;5;124m'\u001b[39m: \u001b[38;5;241m1\u001b[39m}\n\u001b[0;32m      2\u001b[0m b\u001b[38;5;241m=\u001b[39m{\u001b[38;5;124m'\u001b[39m\u001b[38;5;124mb\u001b[39m\u001b[38;5;124m'\u001b[39m: \u001b[38;5;241m2\u001b[39m}\n\u001b[1;32m----> 3\u001b[0m c\u001b[38;5;241m=\u001b[39ma\u001b[38;5;241m+\u001b[39mb\n\u001b[0;32m      4\u001b[0m c\n",
      "\u001b[1;31mTypeError\u001b[0m: unsupported operand type(s) for +: 'dict' and 'dict'"
     ]
    }
   ],
   "source": [
    "a={'a': 1}\n",
    "b={'b': 2}\n",
    "f"
   ]
  },
  {
   "cell_type": "code",
   "execution_count": null,
   "id": "cfe8efb9-9ae6-4ec6-9ff6-0691181a5327",
   "metadata": {},
   "outputs": [],
   "source": [
    "a= [\"Amy\", \"John\", \"Elena\"]\n",
    "s=\"AEIOUaeiou'\n",
    "di={}\n",
    "for i in a:\n",
    "    di[i]="
   ]
  }
 ],
 "metadata": {
  "kernelspec": {
   "display_name": "Python 3 (ipykernel)",
   "language": "python",
   "name": "python3"
  },
  "language_info": {
   "codemirror_mode": {
    "name": "ipython",
    "version": 3
   },
   "file_extension": ".py",
   "mimetype": "text/x-python",
   "name": "python",
   "nbconvert_exporter": "python",
   "pygments_lexer": "ipython3",
   "version": "3.11.7"
  }
 },
 "nbformat": 4,
 "nbformat_minor": 5
}
