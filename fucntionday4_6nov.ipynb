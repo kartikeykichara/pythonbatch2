{
 "cells": [
  {
   "cell_type": "code",
   "execution_count": 1,
   "id": "6e0e1b8c-5357-478a-befd-c5c1a7ec1713",
   "metadata": {},
   "outputs": [],
   "source": [
    "#high order function\n",
    "#if we can pass a function as a argument to another function\n",
    "#all high order function are first class function"
   ]
  },
  {
   "cell_type": "code",
   "execution_count": 2,
   "id": "28f8c92e-a80a-43f0-afc4-648c2977ed63",
   "metadata": {},
   "outputs": [
    {
     "name": "stdout",
     "output_type": "stream",
     "text": [
      "30\n",
      "40 None\n"
     ]
    }
   ],
   "source": [
    "def func(a,b):\n",
    "    print(a+b)\n",
    "def number(x,y):\n",
    "    print(x,y(10,20))\n",
    "number(40,func)"
   ]
  },
  {
   "cell_type": "code",
   "execution_count": 3,
   "id": "f917a5cd-1ae3-4d30-8aeb-a4bf5ca4c878",
   "metadata": {},
   "outputs": [
    {
     "name": "stdout",
     "output_type": "stream",
     "text": [
      "16\n",
      "4 None\n"
     ]
    }
   ],
   "source": [
    "def square(x):\n",
    "    print(x**2)\n",
    "def cube(n,fnt):\n",
    "    print(n,fnt(4))\n",
    "cube(4,square)"
   ]
  },
  {
   "cell_type": "code",
   "execution_count": 4,
   "id": "0fea3333-bd7d-4721-aee2-32df21419e06",
   "metadata": {},
   "outputs": [
    {
     "data": {
      "text/plain": [
       "30"
      ]
     },
     "execution_count": 4,
     "metadata": {},
     "output_type": "execute_result"
    }
   ],
   "source": [
    "#lambda functions \n",
    "#lambda => annoymous functions\n",
    "#same as normal\n",
    "#code readibility\n",
    "\n",
    "# lambda x: x+10\n",
    "func=lambda x,y:x+y\n",
    "func(10,20)"
   ]
  },
  {
   "cell_type": "code",
   "execution_count": 5,
   "id": "1361d8fc-5666-4dd3-af7e-ac289961023e",
   "metadata": {},
   "outputs": [
    {
     "name": "stdout",
     "output_type": "stream",
     "text": [
      "lambda value 64\n"
     ]
    }
   ],
   "source": [
    "def cube(x):\n",
    "    out=lambda x:x**2\n",
    "    print(\"lambda value\",x*out(x))\n",
    "cube(4)"
   ]
  },
  {
   "cell_type": "code",
   "execution_count": 11,
   "id": "afbc6744-862c-40bf-b2fd-63aa937922fb",
   "metadata": {},
   "outputs": [
    {
     "name": "stdout",
     "output_type": "stream",
     "text": [
      "0 2\n"
     ]
    }
   ],
   "source": [
    "mydictionary={}\n",
    "list1=[10,20,30]\n",
    "a=len(list1)\n",
    "k=40\n",
    "for x in enumerate(list1):\n",
    "    value,key=x\n",
    "    if key not in mydictionary:\n",
    "        mydictionary[key]=value\n",
    "for value,key in enumerate(list1):\n",
    "    if k-key in mydictionary and mydictionary[k-key]!=value:\n",
    "        print(value,mydictionary[k-key])\n",
    "        break"
   ]
  },
  {
   "cell_type": "code",
   "execution_count": 7,
   "id": "aa045989-6c96-4964-a95e-79d4a712c748",
   "metadata": {},
   "outputs": [
    {
     "name": "stdout",
     "output_type": "stream",
     "text": [
      "5\n"
     ]
    }
   ],
   "source": [
    "prices=[7,1,5,3,6,4]\n",
    "profit=0\n",
    "for i in range(0,len(prices)):\n",
    "    for j in range(i+1,len(prices)):\n",
    "            max=prices[j]-prices[i]\n",
    "            if max>profit:\n",
    "                profit=max\n",
    "print(profit)"
   ]
  },
  {
   "cell_type": "code",
   "execution_count": 1,
   "id": "a1348b36-d679-4925-b325-94345848e6fd",
   "metadata": {},
   "outputs": [
    {
     "name": "stdout",
     "output_type": "stream",
     "text": [
      "5\n"
     ]
    }
   ],
   "source": [
    "buy=0\n",
    "sell=1\n",
    "maxi=0\n",
    "mylist=[7,1,5,3,6,4]\n",
    "no_days=len(mylist)\n",
    "while (sell<no_days):\n",
    "    if (mylist[sell]>mylist[buy]):\n",
    "        profit=mylist[sell]-mylist[buy]\n",
    "        maxi=max(maxi,  profit)\n",
    "    else:\n",
    "        buy=sell\n",
    "    sell=sell+1\n",
    "print(maxi)"
   ]
  },
  {
   "cell_type": "code",
   "execution_count": 21,
   "id": "c742516f-6de9-474a-b976-4f5390ec1de2",
   "metadata": {},
   "outputs": [
    {
     "data": {
      "text/plain": [
       "1"
      ]
     },
     "execution_count": 21,
     "metadata": {},
     "output_type": "execute_result"
    }
   ],
   "source": [
    "li1=[2,2,1]\n",
    "li=[]\n",
    "element=1\n",
    "count=0\n",
    "for i in li1:\n",
    "    # if i not in li and count==1:\n",
    "    #     li.append(i)\n",
    "    if i==element:\n",
    "        count+=1\n",
    "count"
   ]
  },
  {
   "cell_type": "code",
   "execution_count": null,
   "id": "734a8592-91c1-4037-b21a-ff3fe2d83c22",
   "metadata": {},
   "outputs": [],
   "source": []
  }
 ],
 "metadata": {
  "kernelspec": {
   "display_name": "Python 3 (ipykernel)",
   "language": "python",
   "name": "python3"
  },
  "language_info": {
   "codemirror_mode": {
    "name": "ipython",
    "version": 3
   },
   "file_extension": ".py",
   "mimetype": "text/x-python",
   "name": "python",
   "nbconvert_exporter": "python",
   "pygments_lexer": "ipython3",
   "version": "3.11.7"
  }
 },
 "nbformat": 4,
 "nbformat_minor": 5
}
